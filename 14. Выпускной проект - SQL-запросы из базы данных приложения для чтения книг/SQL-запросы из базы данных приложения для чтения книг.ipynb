{
 "cells": [
  {
   "cell_type": "markdown",
   "metadata": {},
   "source": [
    "# Проект по SQL"
   ]
  },
  {
   "cell_type": "markdown",
   "metadata": {},
   "source": [
    "## **Описание проекта**"
   ]
  },
  {
   "cell_type": "markdown",
   "metadata": {},
   "source": [
    "Коронавирус застал мир врасплох, изменив привычный порядок вещей. В свободное время жители городов больше не выходят на улицу, не посещают кафе и торговые центры. Зато стало больше времени для книг. Это заметили стартаперы — и бросились создавать приложения для тех, кто любит читать. Наша компания решила быть на волне и купила крупный сервис для чтения книг по подписке. Моя первая задача как аналитика — проанализировать базу данных.\n",
    "\n",
    "**Цели проекта:** проанализировать базу данных. В базе данных информация о книгах, издательствах, авторах, а также пользовательские обзоры книг. Эти данные помогут сформулировать ценностное предложение для нового продукта."
   ]
  },
  {
   "cell_type": "markdown",
   "metadata": {},
   "source": [
    "**Задачи**\n",
    "\n",
    "* Посчитать сколько книг вышло после 1 января 2000 года;\n",
    "* Для каждой книги посчитать количество обзоров и среднюю оценку;\n",
    "* Определить издательство, которое выпустило наибольшее число книг толще 50 страниц, чтобы исключить из анализа брошюры;\n",
    "* Определить автора с самой высокой средней оценкой книг, учитывая только книги с 50 и более оценками;\n",
    "* Посчитайть среднее количество обзоров от пользователей, которые поставили больше 50 оценок."
   ]
  },
  {
   "cell_type": "markdown",
   "metadata": {},
   "source": [
    "## **Описание данных**"
   ]
  },
  {
   "cell_type": "markdown",
   "metadata": {},
   "source": [
    "**Таблица books** - cодержит данные о книгах:\n",
    "* book_id — идентификатор книги;\n",
    "* author_id — идентификатор автора;\n",
    "* title — название книги;\n",
    "* num_pages — количество страниц;\n",
    "* publication_date — дата публикации книги;\n",
    "* publisher_id — идентификатор издателя.\n",
    "\n",
    "**Таблица authors** - cодержит данные об авторах:\n",
    "* author_id — идентификатор автора;\n",
    "* author — имя автора.\n",
    "\n",
    "**Таблица publishers** - cодержит данные об издательствах:\n",
    "\n",
    "* publisher_id — идентификатор издательства;\n",
    "* publisher — название издательства;\n",
    "\n",
    "**Таблица ratings** - cодержит данные о пользовательских оценках книг:\n",
    "* rating_id — идентификатор оценки;\n",
    "* book_id — идентификатор книги;\n",
    "* username — имя пользователя, оставившего оценку;\n",
    "* rating — оценка книги.\n",
    "\n",
    "**Таблица reviews** - содержит данные о пользовательских обзорах на книги:\n",
    "* review_id — идентификатор обзора;\n",
    "* book_id — идентификатор книги;\n",
    "* username — имя пользователя, написавшего обзор;\n",
    "* text — текст обзора."
   ]
  },
  {
   "cell_type": "markdown",
   "metadata": {},
   "source": [
    "## **Подключение к БД и просмотр таблиц**"
   ]
  },
  {
   "cell_type": "code",
   "execution_count": 1,
   "metadata": {},
   "outputs": [],
   "source": [
    "# Импортируем библиотеки\n",
    "import pandas as pd\n",
    "from sqlalchemy import create_engine\n",
    "\n",
    "import warnings\n",
    "warnings.filterwarnings('ignore')\n",
    "\n",
    "# Устанавливаем параметры\n",
    "db_config = {'user': 'praktikum_student', # Имя пользователя\n",
    " 'pwd': 'Sdf4$2;d-d30pp', # Пароль\n",
    " 'host': 'rc1b-wcoijxj3yxfsf3fs.mdb.yandexcloud.net',\n",
    " 'port': 6432, # Порт подключения\n",
    " 'db': 'data-analyst-final-project-db'} # Название базы данных\n",
    "connection_string = 'postgresql://{}:{}@{}:{}/{}'.format(db_config['user'],\n",
    " db_config['pwd'],\n",
    " db_config['host'],\n",
    " db_config['port'],\n",
    " db_config['db'])\n",
    "\n",
    "# Сохраняем коннектор\n",
    "engine = create_engine(connection_string, connect_args={'sslmode':'require'}) "
   ]
  },
  {
   "cell_type": "markdown",
   "metadata": {},
   "source": [
    "**С помощью pd.set_option настроим вывод так, чтобы текст в ячейке отражался полностью, вне зависимости от длины, все числа отображались с двумя знаками после запятой**"
   ]
  },
  {
   "cell_type": "code",
   "execution_count": 2,
   "metadata": {},
   "outputs": [],
   "source": [
    "pd.set_option('display.max_columns', None)\n",
    "pd.set_option('display.max_colwidth', -1)\n",
    "pd.set_option('display.float_format', '{:.2f}'.format) "
   ]
  },
  {
   "cell_type": "markdown",
   "metadata": {},
   "source": [
    "**Таблица books cодержит данные о книгах**"
   ]
  },
  {
   "cell_type": "code",
   "execution_count": 3,
   "metadata": {},
   "outputs": [
    {
     "name": "stdout",
     "output_type": "stream",
     "text": [
      "<class 'pandas.core.frame.DataFrame'>\n",
      "RangeIndex: 1000 entries, 0 to 999\n",
      "Data columns (total 6 columns):\n",
      " #   Column            Non-Null Count  Dtype         \n",
      "---  ------            --------------  -----         \n",
      " 0   book_id           1000 non-null   int64         \n",
      " 1   author_id         1000 non-null   int64         \n",
      " 2   title             1000 non-null   object        \n",
      " 3   num_pages         1000 non-null   int64         \n",
      " 4   publication_date  1000 non-null   datetime64[ns]\n",
      " 5   publisher_id      1000 non-null   int64         \n",
      "dtypes: datetime64[ns](1), int64(4), object(1)\n",
      "memory usage: 47.0+ KB\n"
     ]
    },
    {
     "data": {
      "text/plain": [
       "None"
      ]
     },
     "metadata": {},
     "output_type": "display_data"
    },
    {
     "data": {
      "text/html": [
       "<div>\n",
       "<style scoped>\n",
       "    .dataframe tbody tr th:only-of-type {\n",
       "        vertical-align: middle;\n",
       "    }\n",
       "\n",
       "    .dataframe tbody tr th {\n",
       "        vertical-align: top;\n",
       "    }\n",
       "\n",
       "    .dataframe thead th {\n",
       "        text-align: right;\n",
       "    }\n",
       "</style>\n",
       "<table border=\"1\" class=\"dataframe\">\n",
       "  <thead>\n",
       "    <tr style=\"text-align: right;\">\n",
       "      <th></th>\n",
       "      <th>book_id</th>\n",
       "      <th>author_id</th>\n",
       "      <th>title</th>\n",
       "      <th>num_pages</th>\n",
       "      <th>publication_date</th>\n",
       "      <th>publisher_id</th>\n",
       "    </tr>\n",
       "  </thead>\n",
       "  <tbody>\n",
       "    <tr>\n",
       "      <th>0</th>\n",
       "      <td>1</td>\n",
       "      <td>546</td>\n",
       "      <td>'Salem's Lot</td>\n",
       "      <td>594</td>\n",
       "      <td>2005-11-01</td>\n",
       "      <td>93</td>\n",
       "    </tr>\n",
       "    <tr>\n",
       "      <th>1</th>\n",
       "      <td>2</td>\n",
       "      <td>465</td>\n",
       "      <td>1 000 Places to See Before You Die</td>\n",
       "      <td>992</td>\n",
       "      <td>2003-05-22</td>\n",
       "      <td>336</td>\n",
       "    </tr>\n",
       "    <tr>\n",
       "      <th>2</th>\n",
       "      <td>3</td>\n",
       "      <td>407</td>\n",
       "      <td>13 Little Blue Envelopes (Little Blue Envelope  #1)</td>\n",
       "      <td>322</td>\n",
       "      <td>2010-12-21</td>\n",
       "      <td>135</td>\n",
       "    </tr>\n",
       "    <tr>\n",
       "      <th>3</th>\n",
       "      <td>4</td>\n",
       "      <td>82</td>\n",
       "      <td>1491: New Revelations of the Americas Before Columbus</td>\n",
       "      <td>541</td>\n",
       "      <td>2006-10-10</td>\n",
       "      <td>309</td>\n",
       "    </tr>\n",
       "    <tr>\n",
       "      <th>4</th>\n",
       "      <td>5</td>\n",
       "      <td>125</td>\n",
       "      <td>1776</td>\n",
       "      <td>386</td>\n",
       "      <td>2006-07-04</td>\n",
       "      <td>268</td>\n",
       "    </tr>\n",
       "    <tr>\n",
       "      <th>5</th>\n",
       "      <td>6</td>\n",
       "      <td>257</td>\n",
       "      <td>1st to Die (Women's Murder Club  #1)</td>\n",
       "      <td>424</td>\n",
       "      <td>2005-05-20</td>\n",
       "      <td>116</td>\n",
       "    </tr>\n",
       "    <tr>\n",
       "      <th>6</th>\n",
       "      <td>7</td>\n",
       "      <td>258</td>\n",
       "      <td>2nd Chance (Women's Murder Club  #2)</td>\n",
       "      <td>400</td>\n",
       "      <td>2005-05-20</td>\n",
       "      <td>116</td>\n",
       "    </tr>\n",
       "    <tr>\n",
       "      <th>7</th>\n",
       "      <td>8</td>\n",
       "      <td>260</td>\n",
       "      <td>4th of July (Women's Murder Club  #4)</td>\n",
       "      <td>448</td>\n",
       "      <td>2006-06-01</td>\n",
       "      <td>318</td>\n",
       "    </tr>\n",
       "    <tr>\n",
       "      <th>8</th>\n",
       "      <td>9</td>\n",
       "      <td>563</td>\n",
       "      <td>A Beautiful Mind</td>\n",
       "      <td>461</td>\n",
       "      <td>2002-02-04</td>\n",
       "      <td>104</td>\n",
       "    </tr>\n",
       "    <tr>\n",
       "      <th>9</th>\n",
       "      <td>10</td>\n",
       "      <td>445</td>\n",
       "      <td>A Bend in the Road</td>\n",
       "      <td>341</td>\n",
       "      <td>2005-04-01</td>\n",
       "      <td>116</td>\n",
       "    </tr>\n",
       "  </tbody>\n",
       "</table>\n",
       "</div>"
      ],
      "text/plain": [
       "   book_id  author_id                                                  title  \\\n",
       "0  1        546        'Salem's Lot                                            \n",
       "1  2        465        1 000 Places to See Before You Die                      \n",
       "2  3        407        13 Little Blue Envelopes (Little Blue Envelope  #1)     \n",
       "3  4        82         1491: New Revelations of the Americas Before Columbus   \n",
       "4  5        125        1776                                                    \n",
       "5  6        257        1st to Die (Women's Murder Club  #1)                    \n",
       "6  7        258        2nd Chance (Women's Murder Club  #2)                    \n",
       "7  8        260        4th of July (Women's Murder Club  #4)                   \n",
       "8  9        563        A Beautiful Mind                                        \n",
       "9  10       445        A Bend in the Road                                      \n",
       "\n",
       "   num_pages publication_date  publisher_id  \n",
       "0  594       2005-11-01        93            \n",
       "1  992       2003-05-22        336           \n",
       "2  322       2010-12-21        135           \n",
       "3  541       2006-10-10        309           \n",
       "4  386       2006-07-04        268           \n",
       "5  424       2005-05-20        116           \n",
       "6  400       2005-05-20        116           \n",
       "7  448       2006-06-01        318           \n",
       "8  461       2002-02-04        104           \n",
       "9  341       2005-04-01        116           "
      ]
     },
     "execution_count": 3,
     "metadata": {},
     "output_type": "execute_result"
    }
   ],
   "source": [
    "# Формируем sql-запрос. Выполняем запрос и сохраняем результат, выполнения в DataFrame\n",
    "query1 = ''' SELECT *\n",
    "             FROM books\n",
    "         '''\n",
    "# Sqlalchemy автоматически установит названия колонок, такими же, как у таблицы в БД\n",
    "books = pd.io.sql.read_sql(query1, con = engine)\n",
    "books['publication_date'] = pd.to_datetime(books['publication_date'])\n",
    "\n",
    "# Код для выгрузки данных из таблицы books в файл books.csv\n",
    "#books.to_csv('books.csv')\n",
    "\n",
    "display(books.info()) # получение общей информации\n",
    "books.head(10) # получение первых 10 строк таблицы"
   ]
  },
  {
   "cell_type": "markdown",
   "metadata": {},
   "source": [
    "**Таблица authors cодержит данные об авторах**"
   ]
  },
  {
   "cell_type": "code",
   "execution_count": 4,
   "metadata": {},
   "outputs": [
    {
     "name": "stdout",
     "output_type": "stream",
     "text": [
      "<class 'pandas.core.frame.DataFrame'>\n",
      "RangeIndex: 636 entries, 0 to 635\n",
      "Data columns (total 2 columns):\n",
      " #   Column     Non-Null Count  Dtype \n",
      "---  ------     --------------  ----- \n",
      " 0   author_id  636 non-null    int64 \n",
      " 1   author     636 non-null    object\n",
      "dtypes: int64(1), object(1)\n",
      "memory usage: 10.1+ KB\n"
     ]
    },
    {
     "data": {
      "text/plain": [
       "None"
      ]
     },
     "metadata": {},
     "output_type": "display_data"
    },
    {
     "data": {
      "text/html": [
       "<div>\n",
       "<style scoped>\n",
       "    .dataframe tbody tr th:only-of-type {\n",
       "        vertical-align: middle;\n",
       "    }\n",
       "\n",
       "    .dataframe tbody tr th {\n",
       "        vertical-align: top;\n",
       "    }\n",
       "\n",
       "    .dataframe thead th {\n",
       "        text-align: right;\n",
       "    }\n",
       "</style>\n",
       "<table border=\"1\" class=\"dataframe\">\n",
       "  <thead>\n",
       "    <tr style=\"text-align: right;\">\n",
       "      <th></th>\n",
       "      <th>author_id</th>\n",
       "      <th>author</th>\n",
       "    </tr>\n",
       "  </thead>\n",
       "  <tbody>\n",
       "    <tr>\n",
       "      <th>0</th>\n",
       "      <td>1</td>\n",
       "      <td>A.S. Byatt</td>\n",
       "    </tr>\n",
       "    <tr>\n",
       "      <th>1</th>\n",
       "      <td>2</td>\n",
       "      <td>Aesop/Laura Harris/Laura Gibbs</td>\n",
       "    </tr>\n",
       "    <tr>\n",
       "      <th>2</th>\n",
       "      <td>3</td>\n",
       "      <td>Agatha Christie</td>\n",
       "    </tr>\n",
       "    <tr>\n",
       "      <th>3</th>\n",
       "      <td>4</td>\n",
       "      <td>Alan Brennert</td>\n",
       "    </tr>\n",
       "    <tr>\n",
       "      <th>4</th>\n",
       "      <td>5</td>\n",
       "      <td>Alan Moore/David   Lloyd</td>\n",
       "    </tr>\n",
       "    <tr>\n",
       "      <th>5</th>\n",
       "      <td>6</td>\n",
       "      <td>Alan Paton</td>\n",
       "    </tr>\n",
       "    <tr>\n",
       "      <th>6</th>\n",
       "      <td>7</td>\n",
       "      <td>Albert Camus/Justin O'Brien</td>\n",
       "    </tr>\n",
       "    <tr>\n",
       "      <th>7</th>\n",
       "      <td>8</td>\n",
       "      <td>Aldous Huxley</td>\n",
       "    </tr>\n",
       "    <tr>\n",
       "      <th>8</th>\n",
       "      <td>9</td>\n",
       "      <td>Aldous Huxley/Christopher Hitchens</td>\n",
       "    </tr>\n",
       "    <tr>\n",
       "      <th>9</th>\n",
       "      <td>10</td>\n",
       "      <td>Aleksandr Solzhenitsyn/H.T. Willetts</td>\n",
       "    </tr>\n",
       "  </tbody>\n",
       "</table>\n",
       "</div>"
      ],
      "text/plain": [
       "   author_id                                author\n",
       "0  1          A.S. Byatt                          \n",
       "1  2          Aesop/Laura Harris/Laura Gibbs      \n",
       "2  3          Agatha Christie                     \n",
       "3  4          Alan Brennert                       \n",
       "4  5          Alan Moore/David   Lloyd            \n",
       "5  6          Alan Paton                          \n",
       "6  7          Albert Camus/Justin O'Brien         \n",
       "7  8          Aldous Huxley                       \n",
       "8  9          Aldous Huxley/Christopher Hitchens  \n",
       "9  10         Aleksandr Solzhenitsyn/H.T. Willetts"
      ]
     },
     "execution_count": 4,
     "metadata": {},
     "output_type": "execute_result"
    }
   ],
   "source": [
    "# Формируем sql-запрос. Выполняем запрос и сохраняем результат, выполнения в DataFrame\n",
    "query2 = ''' SELECT *\n",
    "             FROM authors\n",
    "         '''\n",
    "# Sqlalchemy автоматически установит названия колонок, такими же, как у таблицы в БД\n",
    "authors = pd.io.sql.read_sql(query2, con = engine)\n",
    "\n",
    "# Код для выгрузки данных из таблицы authors в файл authors.csv\n",
    "#authors.to_csv('authors.csv')\n",
    "\n",
    "display(authors.info()) # получение общей информации\n",
    "authors.head(10) # получение первых 10 строк таблицы"
   ]
  },
  {
   "cell_type": "markdown",
   "metadata": {},
   "source": [
    "**Таблица publishers cодержит данные об издательствах**"
   ]
  },
  {
   "cell_type": "code",
   "execution_count": 5,
   "metadata": {},
   "outputs": [
    {
     "name": "stdout",
     "output_type": "stream",
     "text": [
      "<class 'pandas.core.frame.DataFrame'>\n",
      "RangeIndex: 340 entries, 0 to 339\n",
      "Data columns (total 2 columns):\n",
      " #   Column        Non-Null Count  Dtype \n",
      "---  ------        --------------  ----- \n",
      " 0   publisher_id  340 non-null    int64 \n",
      " 1   publisher     340 non-null    object\n",
      "dtypes: int64(1), object(1)\n",
      "memory usage: 5.4+ KB\n"
     ]
    },
    {
     "data": {
      "text/plain": [
       "None"
      ]
     },
     "metadata": {},
     "output_type": "display_data"
    },
    {
     "data": {
      "text/html": [
       "<div>\n",
       "<style scoped>\n",
       "    .dataframe tbody tr th:only-of-type {\n",
       "        vertical-align: middle;\n",
       "    }\n",
       "\n",
       "    .dataframe tbody tr th {\n",
       "        vertical-align: top;\n",
       "    }\n",
       "\n",
       "    .dataframe thead th {\n",
       "        text-align: right;\n",
       "    }\n",
       "</style>\n",
       "<table border=\"1\" class=\"dataframe\">\n",
       "  <thead>\n",
       "    <tr style=\"text-align: right;\">\n",
       "      <th></th>\n",
       "      <th>publisher_id</th>\n",
       "      <th>publisher</th>\n",
       "    </tr>\n",
       "  </thead>\n",
       "  <tbody>\n",
       "    <tr>\n",
       "      <th>0</th>\n",
       "      <td>1</td>\n",
       "      <td>Ace</td>\n",
       "    </tr>\n",
       "    <tr>\n",
       "      <th>1</th>\n",
       "      <td>2</td>\n",
       "      <td>Ace Book</td>\n",
       "    </tr>\n",
       "    <tr>\n",
       "      <th>2</th>\n",
       "      <td>3</td>\n",
       "      <td>Ace Books</td>\n",
       "    </tr>\n",
       "    <tr>\n",
       "      <th>3</th>\n",
       "      <td>4</td>\n",
       "      <td>Ace Hardcover</td>\n",
       "    </tr>\n",
       "    <tr>\n",
       "      <th>4</th>\n",
       "      <td>5</td>\n",
       "      <td>Addison Wesley Publishing Company</td>\n",
       "    </tr>\n",
       "    <tr>\n",
       "      <th>5</th>\n",
       "      <td>6</td>\n",
       "      <td>Aladdin</td>\n",
       "    </tr>\n",
       "    <tr>\n",
       "      <th>6</th>\n",
       "      <td>7</td>\n",
       "      <td>Aladdin Paperbacks</td>\n",
       "    </tr>\n",
       "    <tr>\n",
       "      <th>7</th>\n",
       "      <td>8</td>\n",
       "      <td>Albin Michel</td>\n",
       "    </tr>\n",
       "    <tr>\n",
       "      <th>8</th>\n",
       "      <td>9</td>\n",
       "      <td>Alfred A. Knopf</td>\n",
       "    </tr>\n",
       "    <tr>\n",
       "      <th>9</th>\n",
       "      <td>10</td>\n",
       "      <td>Alfred A. Knopf Books for Young Readers</td>\n",
       "    </tr>\n",
       "  </tbody>\n",
       "</table>\n",
       "</div>"
      ],
      "text/plain": [
       "   publisher_id                                publisher\n",
       "0  1             Ace                                    \n",
       "1  2             Ace Book                               \n",
       "2  3             Ace Books                              \n",
       "3  4             Ace Hardcover                          \n",
       "4  5             Addison Wesley Publishing Company      \n",
       "5  6             Aladdin                                \n",
       "6  7             Aladdin Paperbacks                     \n",
       "7  8             Albin Michel                           \n",
       "8  9             Alfred A. Knopf                        \n",
       "9  10            Alfred A. Knopf Books for Young Readers"
      ]
     },
     "execution_count": 5,
     "metadata": {},
     "output_type": "execute_result"
    }
   ],
   "source": [
    "# Формируем sql-запрос. Выполняем запрос и сохраняем результат, выполнения в DataFrame\n",
    "query3 = ''' SELECT *\n",
    "             FROM publishers\n",
    "         '''\n",
    "# Sqlalchemy автоматически установит названия колонок, такими же, как у таблицы в БД\n",
    "publishers = pd.io.sql.read_sql(query3, con = engine)\n",
    "\n",
    "# Код для выгрузки данных из таблицы publishers в файл publishers.csv\n",
    "#publishers.to_csv('publishers.csv')\n",
    "\n",
    "display(publishers.info()) # получение общей информации\n",
    "publishers.head(10) # получение первых 10 строк таблицы"
   ]
  },
  {
   "cell_type": "markdown",
   "metadata": {},
   "source": [
    "**Таблица ratings cодержит данные о пользовательских оценках книг**"
   ]
  },
  {
   "cell_type": "code",
   "execution_count": 6,
   "metadata": {},
   "outputs": [
    {
     "name": "stdout",
     "output_type": "stream",
     "text": [
      "<class 'pandas.core.frame.DataFrame'>\n",
      "RangeIndex: 6456 entries, 0 to 6455\n",
      "Data columns (total 4 columns):\n",
      " #   Column     Non-Null Count  Dtype \n",
      "---  ------     --------------  ----- \n",
      " 0   rating_id  6456 non-null   int64 \n",
      " 1   book_id    6456 non-null   int64 \n",
      " 2   username   6456 non-null   object\n",
      " 3   rating     6456 non-null   int64 \n",
      "dtypes: int64(3), object(1)\n",
      "memory usage: 201.9+ KB\n"
     ]
    },
    {
     "data": {
      "text/plain": [
       "None"
      ]
     },
     "metadata": {},
     "output_type": "display_data"
    },
    {
     "data": {
      "text/html": [
       "<div>\n",
       "<style scoped>\n",
       "    .dataframe tbody tr th:only-of-type {\n",
       "        vertical-align: middle;\n",
       "    }\n",
       "\n",
       "    .dataframe tbody tr th {\n",
       "        vertical-align: top;\n",
       "    }\n",
       "\n",
       "    .dataframe thead th {\n",
       "        text-align: right;\n",
       "    }\n",
       "</style>\n",
       "<table border=\"1\" class=\"dataframe\">\n",
       "  <thead>\n",
       "    <tr style=\"text-align: right;\">\n",
       "      <th></th>\n",
       "      <th>rating_id</th>\n",
       "      <th>book_id</th>\n",
       "      <th>username</th>\n",
       "      <th>rating</th>\n",
       "    </tr>\n",
       "  </thead>\n",
       "  <tbody>\n",
       "    <tr>\n",
       "      <th>0</th>\n",
       "      <td>1</td>\n",
       "      <td>1</td>\n",
       "      <td>ryanfranco</td>\n",
       "      <td>4</td>\n",
       "    </tr>\n",
       "    <tr>\n",
       "      <th>1</th>\n",
       "      <td>2</td>\n",
       "      <td>1</td>\n",
       "      <td>grantpatricia</td>\n",
       "      <td>2</td>\n",
       "    </tr>\n",
       "    <tr>\n",
       "      <th>2</th>\n",
       "      <td>3</td>\n",
       "      <td>1</td>\n",
       "      <td>brandtandrea</td>\n",
       "      <td>5</td>\n",
       "    </tr>\n",
       "    <tr>\n",
       "      <th>3</th>\n",
       "      <td>4</td>\n",
       "      <td>2</td>\n",
       "      <td>lorichen</td>\n",
       "      <td>3</td>\n",
       "    </tr>\n",
       "    <tr>\n",
       "      <th>4</th>\n",
       "      <td>5</td>\n",
       "      <td>2</td>\n",
       "      <td>mariokeller</td>\n",
       "      <td>2</td>\n",
       "    </tr>\n",
       "    <tr>\n",
       "      <th>5</th>\n",
       "      <td>6</td>\n",
       "      <td>3</td>\n",
       "      <td>johnsonamanda</td>\n",
       "      <td>4</td>\n",
       "    </tr>\n",
       "    <tr>\n",
       "      <th>6</th>\n",
       "      <td>7</td>\n",
       "      <td>3</td>\n",
       "      <td>scotttamara</td>\n",
       "      <td>5</td>\n",
       "    </tr>\n",
       "    <tr>\n",
       "      <th>7</th>\n",
       "      <td>8</td>\n",
       "      <td>3</td>\n",
       "      <td>lesliegibbs</td>\n",
       "      <td>5</td>\n",
       "    </tr>\n",
       "    <tr>\n",
       "      <th>8</th>\n",
       "      <td>9</td>\n",
       "      <td>4</td>\n",
       "      <td>abbottjames</td>\n",
       "      <td>5</td>\n",
       "    </tr>\n",
       "    <tr>\n",
       "      <th>9</th>\n",
       "      <td>10</td>\n",
       "      <td>4</td>\n",
       "      <td>valenciaanne</td>\n",
       "      <td>4</td>\n",
       "    </tr>\n",
       "  </tbody>\n",
       "</table>\n",
       "</div>"
      ],
      "text/plain": [
       "   rating_id  book_id       username  rating\n",
       "0  1          1        ryanfranco     4     \n",
       "1  2          1        grantpatricia  2     \n",
       "2  3          1        brandtandrea   5     \n",
       "3  4          2        lorichen       3     \n",
       "4  5          2        mariokeller    2     \n",
       "5  6          3        johnsonamanda  4     \n",
       "6  7          3        scotttamara    5     \n",
       "7  8          3        lesliegibbs    5     \n",
       "8  9          4        abbottjames    5     \n",
       "9  10         4        valenciaanne   4     "
      ]
     },
     "execution_count": 6,
     "metadata": {},
     "output_type": "execute_result"
    }
   ],
   "source": [
    "# Формируем sql-запрос. Выполняем запрос и сохраняем результат, выполнения в DataFrame\n",
    "query4 = ''' SELECT *\n",
    "             FROM ratings\n",
    "         '''\n",
    "# Sqlalchemy автоматически установит названия колонок, такими же, как у таблицы в БД\n",
    "ratings = pd.io.sql.read_sql(query4, con = engine)\n",
    "\n",
    "# Код для выгрузки данных из таблицы ratings в файл ratings.csv\n",
    "#ratings.to_csv('ratings.csv')\n",
    "\n",
    "display(ratings.info()) # получение общей информации\n",
    "ratings.head(10) # получение первых 10 строк таблицы"
   ]
  },
  {
   "cell_type": "markdown",
   "metadata": {},
   "source": [
    "**Таблица reviews cодержит данные о пользовательских обзорах на книги**"
   ]
  },
  {
   "cell_type": "code",
   "execution_count": 7,
   "metadata": {},
   "outputs": [
    {
     "name": "stdout",
     "output_type": "stream",
     "text": [
      "<class 'pandas.core.frame.DataFrame'>\n",
      "RangeIndex: 2793 entries, 0 to 2792\n",
      "Data columns (total 4 columns):\n",
      " #   Column     Non-Null Count  Dtype \n",
      "---  ------     --------------  ----- \n",
      " 0   review_id  2793 non-null   int64 \n",
      " 1   book_id    2793 non-null   int64 \n",
      " 2   username   2793 non-null   object\n",
      " 3   text       2793 non-null   object\n",
      "dtypes: int64(2), object(2)\n",
      "memory usage: 87.4+ KB\n"
     ]
    },
    {
     "data": {
      "text/plain": [
       "None"
      ]
     },
     "metadata": {},
     "output_type": "display_data"
    },
    {
     "data": {
      "text/html": [
       "<div>\n",
       "<style scoped>\n",
       "    .dataframe tbody tr th:only-of-type {\n",
       "        vertical-align: middle;\n",
       "    }\n",
       "\n",
       "    .dataframe tbody tr th {\n",
       "        vertical-align: top;\n",
       "    }\n",
       "\n",
       "    .dataframe thead th {\n",
       "        text-align: right;\n",
       "    }\n",
       "</style>\n",
       "<table border=\"1\" class=\"dataframe\">\n",
       "  <thead>\n",
       "    <tr style=\"text-align: right;\">\n",
       "      <th></th>\n",
       "      <th>review_id</th>\n",
       "      <th>book_id</th>\n",
       "      <th>username</th>\n",
       "      <th>text</th>\n",
       "    </tr>\n",
       "  </thead>\n",
       "  <tbody>\n",
       "    <tr>\n",
       "      <th>0</th>\n",
       "      <td>1</td>\n",
       "      <td>1</td>\n",
       "      <td>brandtandrea</td>\n",
       "      <td>Mention society tell send professor analysis. Over provide race technology continue these.</td>\n",
       "    </tr>\n",
       "    <tr>\n",
       "      <th>1</th>\n",
       "      <td>2</td>\n",
       "      <td>1</td>\n",
       "      <td>ryanfranco</td>\n",
       "      <td>Foot glass pretty audience hit themselves. Among admit investment argue security.</td>\n",
       "    </tr>\n",
       "    <tr>\n",
       "      <th>2</th>\n",
       "      <td>3</td>\n",
       "      <td>2</td>\n",
       "      <td>lorichen</td>\n",
       "      <td>Listen treat keep worry. Miss husband tax but person sport treatment industry. Kitchen decision deep the. Social party body the.</td>\n",
       "    </tr>\n",
       "    <tr>\n",
       "      <th>3</th>\n",
       "      <td>4</td>\n",
       "      <td>3</td>\n",
       "      <td>johnsonamanda</td>\n",
       "      <td>Finally month interesting blue could nature cultural bit. Prepare beat finish grow that smile teach. Dream me play near.</td>\n",
       "    </tr>\n",
       "    <tr>\n",
       "      <th>4</th>\n",
       "      <td>5</td>\n",
       "      <td>3</td>\n",
       "      <td>scotttamara</td>\n",
       "      <td>Nation purpose heavy give wait song will. List dinner another whole positive radio fast. Music staff many green.</td>\n",
       "    </tr>\n",
       "    <tr>\n",
       "      <th>5</th>\n",
       "      <td>6</td>\n",
       "      <td>3</td>\n",
       "      <td>lesliegibbs</td>\n",
       "      <td>Analysis no several cause international.</td>\n",
       "    </tr>\n",
       "    <tr>\n",
       "      <th>6</th>\n",
       "      <td>7</td>\n",
       "      <td>4</td>\n",
       "      <td>valenciaanne</td>\n",
       "      <td>One there cost another. Say type save. With personal where occur direction foot. Half sit role want.</td>\n",
       "    </tr>\n",
       "    <tr>\n",
       "      <th>7</th>\n",
       "      <td>8</td>\n",
       "      <td>4</td>\n",
       "      <td>abbottjames</td>\n",
       "      <td>Within enough mother. There at system full recent play recognize.</td>\n",
       "    </tr>\n",
       "    <tr>\n",
       "      <th>8</th>\n",
       "      <td>9</td>\n",
       "      <td>5</td>\n",
       "      <td>npowers</td>\n",
       "      <td>Thank now focus realize economy focus fly. Item step fine war. Western service history anything.</td>\n",
       "    </tr>\n",
       "    <tr>\n",
       "      <th>9</th>\n",
       "      <td>10</td>\n",
       "      <td>5</td>\n",
       "      <td>staylor</td>\n",
       "      <td>Game push lot reduce where remember. Including song travel hair foot. Director always myself past story chance reason.</td>\n",
       "    </tr>\n",
       "  </tbody>\n",
       "</table>\n",
       "</div>"
      ],
      "text/plain": [
       "   review_id  book_id       username  \\\n",
       "0  1          1        brandtandrea    \n",
       "1  2          1        ryanfranco      \n",
       "2  3          2        lorichen        \n",
       "3  4          3        johnsonamanda   \n",
       "4  5          3        scotttamara     \n",
       "5  6          3        lesliegibbs     \n",
       "6  7          4        valenciaanne    \n",
       "7  8          4        abbottjames     \n",
       "8  9          5        npowers         \n",
       "9  10         5        staylor         \n",
       "\n",
       "                                                                                                                               text  \n",
       "0  Mention society tell send professor analysis. Over provide race technology continue these.                                        \n",
       "1  Foot glass pretty audience hit themselves. Among admit investment argue security.                                                 \n",
       "2  Listen treat keep worry. Miss husband tax but person sport treatment industry. Kitchen decision deep the. Social party body the.  \n",
       "3  Finally month interesting blue could nature cultural bit. Prepare beat finish grow that smile teach. Dream me play near.          \n",
       "4  Nation purpose heavy give wait song will. List dinner another whole positive radio fast. Music staff many green.                  \n",
       "5  Analysis no several cause international.                                                                                          \n",
       "6  One there cost another. Say type save. With personal where occur direction foot. Half sit role want.                              \n",
       "7  Within enough mother. There at system full recent play recognize.                                                                 \n",
       "8  Thank now focus realize economy focus fly. Item step fine war. Western service history anything.                                  \n",
       "9  Game push lot reduce where remember. Including song travel hair foot. Director always myself past story chance reason.            "
      ]
     },
     "execution_count": 7,
     "metadata": {},
     "output_type": "execute_result"
    }
   ],
   "source": [
    "# Формируем sql-запрос. Выполняем запрос и сохраняем результат, выполнения в DataFrame\n",
    "query5 = ''' SELECT *\n",
    "             FROM reviews\n",
    "         '''\n",
    "# Sqlalchemy автоматически установит названия колонок, такими же, как у таблицы в БД\n",
    "reviews = pd.io.sql.read_sql(query5, con = engine)\n",
    "\n",
    "# Код для выгрузки данных из таблицы reviews в файл reviews.csv\n",
    "#reviews.to_csv('reviews.csv')\n",
    "\n",
    "display(reviews.info()) # получение общей информации\n",
    "reviews.head(10) # получение первых 10 строк таблицы"
   ]
  },
  {
   "cell_type": "markdown",
   "metadata": {},
   "source": [
    "**Вывод**\n",
    "* У нас имеется к анализу 1000 книг 636 авторов. \n",
    "* Книги выпущены в 340 издательствах.\n",
    "* Для книг также есть пользовательские оценки (6456 оценок) и отзывы (2793 обзоров). \n",
    "\n",
    "Теперь можно приступать к ответам на вопросы."
   ]
  },
  {
   "cell_type": "markdown",
   "metadata": {},
   "source": [
    "## Ответы на вопросы"
   ]
  },
  {
   "cell_type": "code",
   "execution_count": 8,
   "metadata": {},
   "outputs": [],
   "source": [
    "# Напишем функцию для выполнения запросов.\n",
    "def display(query):\n",
    "    return pd.io.sql.read_sql(query, con = engine)"
   ]
  },
  {
   "cell_type": "markdown",
   "metadata": {},
   "source": [
    "### Посчитаем сколько книг вышло после 1 января 2000 года"
   ]
  },
  {
   "cell_type": "code",
   "execution_count": 9,
   "metadata": {},
   "outputs": [
    {
     "data": {
      "text/html": [
       "<div>\n",
       "<style scoped>\n",
       "    .dataframe tbody tr th:only-of-type {\n",
       "        vertical-align: middle;\n",
       "    }\n",
       "\n",
       "    .dataframe tbody tr th {\n",
       "        vertical-align: top;\n",
       "    }\n",
       "\n",
       "    .dataframe thead th {\n",
       "        text-align: right;\n",
       "    }\n",
       "</style>\n",
       "<table border=\"1\" class=\"dataframe\">\n",
       "  <thead>\n",
       "    <tr style=\"text-align: right;\">\n",
       "      <th></th>\n",
       "      <th>cnt_books</th>\n",
       "    </tr>\n",
       "  </thead>\n",
       "  <tbody>\n",
       "    <tr>\n",
       "      <th>0</th>\n",
       "      <td>819</td>\n",
       "    </tr>\n",
       "  </tbody>\n",
       "</table>\n",
       "</div>"
      ],
      "text/plain": [
       "   cnt_books\n",
       "0  819      "
      ]
     },
     "execution_count": 9,
     "metadata": {},
     "output_type": "execute_result"
    }
   ],
   "source": [
    "cnt_books = '''\n",
    "SELECT\n",
    "    COUNT(*) AS cnt_books\n",
    "FROM\n",
    "    books\n",
    "WHERE\n",
    "    publication_date > '2000-01-01';\n",
    "'''\n",
    "display(cnt_books)"
   ]
  },
  {
   "cell_type": "markdown",
   "metadata": {},
   "source": [
    "819 книг вышло после 1 января 2000 года."
   ]
  },
  {
   "cell_type": "markdown",
   "metadata": {},
   "source": [
    "### Для каждой книги посчитаем количество обзоров и среднюю оценку"
   ]
  },
  {
   "cell_type": "code",
   "execution_count": 10,
   "metadata": {},
   "outputs": [
    {
     "data": {
      "text/html": [
       "<div>\n",
       "<style scoped>\n",
       "    .dataframe tbody tr th:only-of-type {\n",
       "        vertical-align: middle;\n",
       "    }\n",
       "\n",
       "    .dataframe tbody tr th {\n",
       "        vertical-align: top;\n",
       "    }\n",
       "\n",
       "    .dataframe thead th {\n",
       "        text-align: right;\n",
       "    }\n",
       "</style>\n",
       "<table border=\"1\" class=\"dataframe\">\n",
       "  <thead>\n",
       "    <tr style=\"text-align: right;\">\n",
       "      <th></th>\n",
       "      <th>title</th>\n",
       "      <th>id</th>\n",
       "      <th>cnt_reviews</th>\n",
       "      <th>avg_rating</th>\n",
       "    </tr>\n",
       "  </thead>\n",
       "  <tbody>\n",
       "    <tr>\n",
       "      <th>0</th>\n",
       "      <td>'Salem's Lot</td>\n",
       "      <td>1</td>\n",
       "      <td>2</td>\n",
       "      <td>3.67</td>\n",
       "    </tr>\n",
       "    <tr>\n",
       "      <th>1</th>\n",
       "      <td>1 000 Places to See Before You Die</td>\n",
       "      <td>2</td>\n",
       "      <td>1</td>\n",
       "      <td>2.50</td>\n",
       "    </tr>\n",
       "    <tr>\n",
       "      <th>2</th>\n",
       "      <td>13 Little Blue Envelopes (Little Blue Envelope  #1)</td>\n",
       "      <td>3</td>\n",
       "      <td>3</td>\n",
       "      <td>4.67</td>\n",
       "    </tr>\n",
       "    <tr>\n",
       "      <th>3</th>\n",
       "      <td>1491: New Revelations of the Americas Before Columbus</td>\n",
       "      <td>4</td>\n",
       "      <td>2</td>\n",
       "      <td>4.50</td>\n",
       "    </tr>\n",
       "    <tr>\n",
       "      <th>4</th>\n",
       "      <td>1776</td>\n",
       "      <td>5</td>\n",
       "      <td>4</td>\n",
       "      <td>4.00</td>\n",
       "    </tr>\n",
       "    <tr>\n",
       "      <th>...</th>\n",
       "      <td>...</td>\n",
       "      <td>...</td>\n",
       "      <td>...</td>\n",
       "      <td>...</td>\n",
       "    </tr>\n",
       "    <tr>\n",
       "      <th>995</th>\n",
       "      <td>Wyrd Sisters (Discworld  #6; Witches #2)</td>\n",
       "      <td>996</td>\n",
       "      <td>3</td>\n",
       "      <td>3.67</td>\n",
       "    </tr>\n",
       "    <tr>\n",
       "      <th>996</th>\n",
       "      <td>Xenocide (Ender's Saga  #3)</td>\n",
       "      <td>997</td>\n",
       "      <td>3</td>\n",
       "      <td>3.40</td>\n",
       "    </tr>\n",
       "    <tr>\n",
       "      <th>997</th>\n",
       "      <td>Year of Wonders</td>\n",
       "      <td>998</td>\n",
       "      <td>4</td>\n",
       "      <td>3.20</td>\n",
       "    </tr>\n",
       "    <tr>\n",
       "      <th>998</th>\n",
       "      <td>You Suck (A Love Story  #2)</td>\n",
       "      <td>999</td>\n",
       "      <td>2</td>\n",
       "      <td>4.50</td>\n",
       "    </tr>\n",
       "    <tr>\n",
       "      <th>999</th>\n",
       "      <td>Zen and the Art of Motorcycle Maintenance: An Inquiry Into Values (Phaedrus  #1)</td>\n",
       "      <td>1000</td>\n",
       "      <td>4</td>\n",
       "      <td>3.83</td>\n",
       "    </tr>\n",
       "  </tbody>\n",
       "</table>\n",
       "<p>1000 rows × 4 columns</p>\n",
       "</div>"
      ],
      "text/plain": [
       "                                                                                title  \\\n",
       "0    'Salem's Lot                                                                       \n",
       "1    1 000 Places to See Before You Die                                                 \n",
       "2    13 Little Blue Envelopes (Little Blue Envelope  #1)                                \n",
       "3    1491: New Revelations of the Americas Before Columbus                              \n",
       "4    1776                                                                               \n",
       "..    ...                                                                               \n",
       "995  Wyrd Sisters (Discworld  #6; Witches #2)                                           \n",
       "996  Xenocide (Ender's Saga  #3)                                                        \n",
       "997  Year of Wonders                                                                    \n",
       "998  You Suck (A Love Story  #2)                                                        \n",
       "999  Zen and the Art of Motorcycle Maintenance: An Inquiry Into Values (Phaedrus  #1)   \n",
       "\n",
       "       id  cnt_reviews  avg_rating  \n",
       "0    1     2           3.67         \n",
       "1    2     1           2.50         \n",
       "2    3     3           4.67         \n",
       "3    4     2           4.50         \n",
       "4    5     4           4.00         \n",
       "..  ..    ..            ...         \n",
       "995  996   3           3.67         \n",
       "996  997   3           3.40         \n",
       "997  998   4           3.20         \n",
       "998  999   2           4.50         \n",
       "999  1000  4           3.83         \n",
       "\n",
       "[1000 rows x 4 columns]"
      ]
     },
     "execution_count": 10,
     "metadata": {},
     "output_type": "execute_result"
    }
   ],
   "source": [
    "ratings_reviews = '''\n",
    "SELECT \n",
    "    books.title AS title,\n",
    "    books.book_id AS id,\n",
    "    COUNT(DISTINCT reviews.text) AS cnt_reviews,\n",
    "    AVG(ratings.rating) AS avg_rating\n",
    "FROM\n",
    "    books\n",
    "LEFT JOIN reviews ON reviews.book_id = books.book_id\n",
    "LEFT JOIN ratings ON ratings.book_id = books.book_id\n",
    "\n",
    "GROUP BY\n",
    "     books.title,\n",
    "     books.book_id\n",
    "'''\n",
    "\n",
    "display(ratings_reviews)"
   ]
  },
  {
   "cell_type": "markdown",
   "metadata": {},
   "source": [
    "Получили среднюю оценку и количество обзоров. При выводе отсортированной таблицы видим, что максимальное количество обзоров - 7 на книгу Twilight (Twilight #1), рейтинг книги почти 3.7."
   ]
  },
  {
   "cell_type": "markdown",
   "metadata": {},
   "source": [
    "### Определим издательство, которое выпустило наибольшее число книг толще 50 страниц, так мы исключим из анализа брошюры"
   ]
  },
  {
   "cell_type": "code",
   "execution_count": 11,
   "metadata": {},
   "outputs": [
    {
     "data": {
      "text/html": [
       "<div>\n",
       "<style scoped>\n",
       "    .dataframe tbody tr th:only-of-type {\n",
       "        vertical-align: middle;\n",
       "    }\n",
       "\n",
       "    .dataframe tbody tr th {\n",
       "        vertical-align: top;\n",
       "    }\n",
       "\n",
       "    .dataframe thead th {\n",
       "        text-align: right;\n",
       "    }\n",
       "</style>\n",
       "<table border=\"1\" class=\"dataframe\">\n",
       "  <thead>\n",
       "    <tr style=\"text-align: right;\">\n",
       "      <th></th>\n",
       "      <th>name_publisher</th>\n",
       "      <th>cnt_of_published_books</th>\n",
       "    </tr>\n",
       "  </thead>\n",
       "  <tbody>\n",
       "    <tr>\n",
       "      <th>0</th>\n",
       "      <td>Penguin Books</td>\n",
       "      <td>42</td>\n",
       "    </tr>\n",
       "  </tbody>\n",
       "</table>\n",
       "</div>"
      ],
      "text/plain": [
       "  name_publisher  cnt_of_published_books\n",
       "0  Penguin Books  42                    "
      ]
     },
     "execution_count": 11,
     "metadata": {},
     "output_type": "execute_result"
    }
   ],
   "source": [
    "book_publisher = '''\n",
    "SELECT\n",
    "     publishers.publisher AS name_publisher,\n",
    "     COUNT(books.book_id) AS cnt_of_published_books\n",
    "FROM\n",
    "    publishers\n",
    "INNER JOIN books ON books.publisher_id = publishers.publisher_id\n",
    "WHERE\n",
    "    books.num_pages > 50\n",
    "GROUP BY\n",
    "    name_publisher\n",
    "ORDER BY \n",
    "    cnt_of_published_books DESC\n",
    "LIMIT 1\n",
    "'''\n",
    "display(book_publisher)"
   ]
  },
  {
   "cell_type": "markdown",
   "metadata": {},
   "source": [
    "Издательство Penguin Books выпустило больше всего книг объемом толще 50 страниц."
   ]
  },
  {
   "cell_type": "markdown",
   "metadata": {},
   "source": [
    "### Определим автора с самой высокой средней оценкой книг, учитывая только книги с 50 и более оценками"
   ]
  },
  {
   "cell_type": "code",
   "execution_count": 12,
   "metadata": {},
   "outputs": [
    {
     "data": {
      "text/html": [
       "<div>\n",
       "<style scoped>\n",
       "    .dataframe tbody tr th:only-of-type {\n",
       "        vertical-align: middle;\n",
       "    }\n",
       "\n",
       "    .dataframe tbody tr th {\n",
       "        vertical-align: top;\n",
       "    }\n",
       "\n",
       "    .dataframe thead th {\n",
       "        text-align: right;\n",
       "    }\n",
       "</style>\n",
       "<table border=\"1\" class=\"dataframe\">\n",
       "  <thead>\n",
       "    <tr style=\"text-align: right;\">\n",
       "      <th></th>\n",
       "      <th>author</th>\n",
       "      <th>avg_rating</th>\n",
       "    </tr>\n",
       "  </thead>\n",
       "  <tbody>\n",
       "    <tr>\n",
       "      <th>0</th>\n",
       "      <td>J.K. Rowling/Mary GrandPré</td>\n",
       "      <td>4.28</td>\n",
       "    </tr>\n",
       "  </tbody>\n",
       "</table>\n",
       "</div>"
      ],
      "text/plain": [
       "                       author  avg_rating\n",
       "0  J.K. Rowling/Mary GrandPré 4.28       "
      ]
     },
     "execution_count": 12,
     "metadata": {},
     "output_type": "execute_result"
    }
   ],
   "source": [
    "best_author_ever = '''\n",
    "SELECT\n",
    "      SUBQ.author AS author,\n",
    "      AVG(SUBQ.avg_rating) AS avg_rating\n",
    "FROM\n",
    "(SELECT\n",
    "     authors.author AS author,\n",
    "     books.book_id AS id,\n",
    "     AVG(ratings.rating) AS avg_rating,\n",
    "     COUNT(ratings.rating) AS cnt_rating\n",
    "FROM\n",
    "    authors\n",
    "INNER JOIN books ON books.author_id = authors.author_id\n",
    "INNER JOIN ratings ON ratings.book_id = books.book_id\n",
    "GROUP BY\n",
    "    author,\n",
    "    id\n",
    "    HAVING\n",
    "    COUNT(ratings.rating) >= 50) AS SUBQ\n",
    "GROUP BY\n",
    "    author\n",
    "ORDER BY\n",
    "    avg_rating DESC\n",
    "LIMIT 1\n",
    "'''\n",
    "display(best_author_ever)"
   ]
  },
  {
   "cell_type": "markdown",
   "metadata": {},
   "source": [
    "Наивысшая средняя оценка у J.K. Rowling/Mary GrandPré. Средняя оценка книг - 4.28."
   ]
  },
  {
   "cell_type": "markdown",
   "metadata": {},
   "source": [
    "### Посчитаем среднее количество обзоров от пользователей, которые поставили больше 50 оценок"
   ]
  },
  {
   "cell_type": "code",
   "execution_count": 13,
   "metadata": {},
   "outputs": [
    {
     "data": {
      "text/html": [
       "<div>\n",
       "<style scoped>\n",
       "    .dataframe tbody tr th:only-of-type {\n",
       "        vertical-align: middle;\n",
       "    }\n",
       "\n",
       "    .dataframe tbody tr th {\n",
       "        vertical-align: top;\n",
       "    }\n",
       "\n",
       "    .dataframe thead th {\n",
       "        text-align: right;\n",
       "    }\n",
       "</style>\n",
       "<table border=\"1\" class=\"dataframe\">\n",
       "  <thead>\n",
       "    <tr style=\"text-align: right;\">\n",
       "      <th></th>\n",
       "      <th>rounded_avg_review</th>\n",
       "    </tr>\n",
       "  </thead>\n",
       "  <tbody>\n",
       "    <tr>\n",
       "      <th>0</th>\n",
       "      <td>24.00</td>\n",
       "    </tr>\n",
       "  </tbody>\n",
       "</table>\n",
       "</div>"
      ],
      "text/plain": [
       "   rounded_avg_review\n",
       "0 24.00              "
      ]
     },
     "execution_count": 13,
     "metadata": {},
     "output_type": "execute_result"
    }
   ],
   "source": [
    "avg_reviews = '''\n",
    "SELECT \n",
    "    round(avg(count)) AS rounded_avg_review    \n",
    "FROM\n",
    "    (SELECT\n",
    "        COUNT(text)\n",
    "    FROM \n",
    "        reviews\n",
    "    FULL OUTER JOIN (SELECT username, COUNT(rating_id) as cnt FROM ratings GROUP BY username) AS cnt_rating\n",
    "    ON cnt_rating.username = reviews.username where cnt > 50\n",
    "    GROUP BY reviews.username) as count;                                  \n",
    "'''\n",
    "display(avg_reviews)"
   ]
  },
  {
   "cell_type": "markdown",
   "metadata": {},
   "source": [
    "В среднем 24 обзора от пользователей, которые поставили больше 50 оценок."
   ]
  },
  {
   "cell_type": "markdown",
   "metadata": {},
   "source": [
    "## Общий вывод"
   ]
  },
  {
   "cell_type": "markdown",
   "metadata": {},
   "source": [
    "* После 1 января 2000 года было выпущено 819 книг.\n",
    "* Получили количество обзоров и среднюю оценку. Наибольшее количество обзоров было сделано на книгу Twiligh (Twilight #1) - 7, рейтинг книги - 3.7.\n",
    "* Издательство, выпустившее наибольшее число книг толще 50 страниц: Penguin Books, они выпустили 42 книги.\n",
    "* Cамая высокая средняя оценка у J.K. Rowling/Mary GrandPré (составляет 4.28).\n",
    "* Среднее количество обзоров пользователей 24, которые поставили более чем по 50 оценок."
   ]
  }
 ],
 "metadata": {
  "ExecuteTimeLog": [
   {
    "duration": 605,
    "start_time": "2022-05-08T13:06:45.923Z"
   },
   {
    "duration": 8008,
    "start_time": "2022-05-08T13:07:31.883Z"
   },
   {
    "duration": 5,
    "start_time": "2022-05-08T13:11:07.454Z"
   },
   {
    "duration": 5,
    "start_time": "2022-05-08T13:12:52.292Z"
   },
   {
    "duration": 3,
    "start_time": "2022-05-08T13:12:55.140Z"
   },
   {
    "duration": 259,
    "start_time": "2022-05-08T13:13:21.909Z"
   },
   {
    "duration": 82,
    "start_time": "2022-05-08T13:15:08.559Z"
   },
   {
    "duration": 71,
    "start_time": "2022-05-08T13:16:26.572Z"
   },
   {
    "duration": 123,
    "start_time": "2022-05-08T13:16:56.261Z"
   },
   {
    "duration": 117,
    "start_time": "2022-05-08T13:17:21.141Z"
   },
   {
    "duration": 105,
    "start_time": "2022-05-08T13:19:41.743Z"
   },
   {
    "duration": 90,
    "start_time": "2022-05-08T13:20:19.174Z"
   },
   {
    "duration": 79,
    "start_time": "2022-05-08T13:20:43.503Z"
   },
   {
    "duration": 130,
    "start_time": "2022-05-08T13:21:04.949Z"
   },
   {
    "duration": 3,
    "start_time": "2022-05-08T13:25:08.445Z"
   },
   {
    "duration": 69,
    "start_time": "2022-05-08T13:25:24.117Z"
   },
   {
    "duration": 10,
    "start_time": "2022-05-08T13:27:48.564Z"
   },
   {
    "duration": 72,
    "start_time": "2022-05-08T13:28:03.757Z"
   },
   {
    "duration": 76,
    "start_time": "2022-05-08T13:30:08.596Z"
   },
   {
    "duration": 78,
    "start_time": "2022-05-08T13:35:01.987Z"
   },
   {
    "duration": 146,
    "start_time": "2022-05-08T13:38:02.437Z"
   },
   {
    "duration": 295,
    "start_time": "2022-05-08T13:42:50.566Z"
   },
   {
    "duration": 8237,
    "start_time": "2022-05-08T13:42:58.576Z"
   },
   {
    "duration": 3,
    "start_time": "2022-05-08T13:43:06.816Z"
   },
   {
    "duration": 257,
    "start_time": "2022-05-08T13:43:06.822Z"
   },
   {
    "duration": 74,
    "start_time": "2022-05-08T13:43:07.082Z"
   },
   {
    "duration": 73,
    "start_time": "2022-05-08T13:43:07.157Z"
   },
   {
    "duration": 104,
    "start_time": "2022-05-08T13:43:07.232Z"
   },
   {
    "duration": 88,
    "start_time": "2022-05-08T13:43:07.337Z"
   },
   {
    "duration": 3,
    "start_time": "2022-05-08T13:43:07.427Z"
   },
   {
    "duration": 93,
    "start_time": "2022-05-08T13:43:07.431Z"
   },
   {
    "duration": 65,
    "start_time": "2022-05-08T13:43:07.527Z"
   },
   {
    "duration": 69,
    "start_time": "2022-05-08T13:43:07.594Z"
   },
   {
    "duration": 66,
    "start_time": "2022-05-08T13:43:07.664Z"
   },
   {
    "duration": 94,
    "start_time": "2022-05-08T13:51:47.207Z"
   },
   {
    "duration": 103,
    "start_time": "2022-05-08T13:54:25.776Z"
   },
   {
    "duration": 104,
    "start_time": "2022-05-08T13:54:59.585Z"
   },
   {
    "duration": 94,
    "start_time": "2022-05-08T13:55:38.719Z"
   },
   {
    "duration": 110,
    "start_time": "2022-05-08T13:56:58.360Z"
   },
   {
    "duration": 104,
    "start_time": "2022-05-08T13:57:23.376Z"
   },
   {
    "duration": 94,
    "start_time": "2022-05-08T13:58:15.064Z"
   },
   {
    "duration": 7983,
    "start_time": "2022-05-08T13:58:19.479Z"
   },
   {
    "duration": 3,
    "start_time": "2022-05-08T13:58:27.464Z"
   },
   {
    "duration": 268,
    "start_time": "2022-05-08T13:58:27.468Z"
   },
   {
    "duration": 79,
    "start_time": "2022-05-08T13:58:27.738Z"
   },
   {
    "duration": 78,
    "start_time": "2022-05-08T13:58:27.819Z"
   },
   {
    "duration": 109,
    "start_time": "2022-05-08T13:58:27.899Z"
   },
   {
    "duration": 94,
    "start_time": "2022-05-08T13:58:28.010Z"
   },
   {
    "duration": 2,
    "start_time": "2022-05-08T13:58:28.106Z"
   },
   {
    "duration": 70,
    "start_time": "2022-05-08T13:58:28.110Z"
   },
   {
    "duration": 88,
    "start_time": "2022-05-08T13:58:28.183Z"
   },
   {
    "duration": 70,
    "start_time": "2022-05-08T13:58:28.273Z"
   },
   {
    "duration": 74,
    "start_time": "2022-05-08T13:58:28.345Z"
   },
   {
    "duration": 71,
    "start_time": "2022-05-08T13:58:28.421Z"
   },
   {
    "duration": 109,
    "start_time": "2022-05-08T14:04:25.106Z"
   },
   {
    "duration": 111,
    "start_time": "2022-05-08T14:09:02.755Z"
   },
   {
    "duration": 8132,
    "start_time": "2022-05-08T14:09:38.491Z"
   },
   {
    "duration": 4,
    "start_time": "2022-05-08T14:09:46.628Z"
   },
   {
    "duration": 276,
    "start_time": "2022-05-08T14:09:46.635Z"
   },
   {
    "duration": 86,
    "start_time": "2022-05-08T14:09:46.914Z"
   },
   {
    "duration": 77,
    "start_time": "2022-05-08T14:09:47.003Z"
   },
   {
    "duration": 98,
    "start_time": "2022-05-08T14:09:47.082Z"
   },
   {
    "duration": 101,
    "start_time": "2022-05-08T14:09:47.181Z"
   },
   {
    "duration": 3,
    "start_time": "2022-05-08T14:09:47.284Z"
   },
   {
    "duration": 69,
    "start_time": "2022-05-08T14:09:47.289Z"
   },
   {
    "duration": 86,
    "start_time": "2022-05-08T14:09:47.360Z"
   },
   {
    "duration": 70,
    "start_time": "2022-05-08T14:09:47.448Z"
   },
   {
    "duration": 72,
    "start_time": "2022-05-08T14:09:47.520Z"
   },
   {
    "duration": 68,
    "start_time": "2022-05-08T14:09:47.594Z"
   },
   {
    "duration": 69,
    "start_time": "2022-05-08T14:25:38.678Z"
   },
   {
    "duration": 8220,
    "start_time": "2022-05-08T14:27:11.449Z"
   },
   {
    "duration": 3,
    "start_time": "2022-05-08T14:27:19.671Z"
   },
   {
    "duration": 287,
    "start_time": "2022-05-08T14:27:19.675Z"
   },
   {
    "duration": 81,
    "start_time": "2022-05-08T14:27:19.964Z"
   },
   {
    "duration": 79,
    "start_time": "2022-05-08T14:27:20.047Z"
   },
   {
    "duration": 110,
    "start_time": "2022-05-08T14:27:20.128Z"
   },
   {
    "duration": 96,
    "start_time": "2022-05-08T14:27:20.239Z"
   },
   {
    "duration": 3,
    "start_time": "2022-05-08T14:27:20.337Z"
   },
   {
    "duration": 96,
    "start_time": "2022-05-08T14:27:20.341Z"
   },
   {
    "duration": 93,
    "start_time": "2022-05-08T14:27:20.440Z"
   },
   {
    "duration": 71,
    "start_time": "2022-05-08T14:27:20.535Z"
   },
   {
    "duration": 74,
    "start_time": "2022-05-08T14:27:20.608Z"
   },
   {
    "duration": 71,
    "start_time": "2022-05-08T14:27:20.684Z"
   },
   {
    "duration": 20760,
    "start_time": "2022-05-08T17:11:31.451Z"
   },
   {
    "duration": 3,
    "start_time": "2022-05-08T17:11:52.213Z"
   },
   {
    "duration": 63,
    "start_time": "2022-05-08T17:11:52.218Z"
   },
   {
    "duration": 22,
    "start_time": "2022-05-08T17:11:52.283Z"
   },
   {
    "duration": 20,
    "start_time": "2022-05-08T17:11:52.307Z"
   },
   {
    "duration": 35,
    "start_time": "2022-05-08T17:11:52.329Z"
   },
   {
    "duration": 29,
    "start_time": "2022-05-08T17:11:52.366Z"
   },
   {
    "duration": 2,
    "start_time": "2022-05-08T17:11:52.397Z"
   },
   {
    "duration": 32,
    "start_time": "2022-05-08T17:11:52.401Z"
   },
   {
    "duration": 34,
    "start_time": "2022-05-08T17:11:52.435Z"
   },
   {
    "duration": 13,
    "start_time": "2022-05-08T17:11:52.470Z"
   },
   {
    "duration": 16,
    "start_time": "2022-05-08T17:11:52.484Z"
   },
   {
    "duration": 12,
    "start_time": "2022-05-08T17:11:52.501Z"
   },
   {
    "duration": 14,
    "start_time": "2022-05-08T17:18:54.084Z"
   },
   {
    "duration": 17,
    "start_time": "2022-05-08T17:19:08.530Z"
   },
   {
    "duration": 18,
    "start_time": "2022-05-08T17:21:25.911Z"
   },
   {
    "duration": 17,
    "start_time": "2022-05-08T17:21:31.412Z"
   },
   {
    "duration": 6287,
    "start_time": "2022-06-27T09:23:19.350Z"
   },
   {
    "duration": 4,
    "start_time": "2022-06-27T09:23:25.639Z"
   },
   {
    "duration": 316,
    "start_time": "2022-06-27T09:23:25.644Z"
   },
   {
    "duration": 84,
    "start_time": "2022-06-27T09:23:25.962Z"
   },
   {
    "duration": 81,
    "start_time": "2022-06-27T09:23:26.048Z"
   },
   {
    "duration": 104,
    "start_time": "2022-06-27T09:23:26.131Z"
   },
   {
    "duration": 98,
    "start_time": "2022-06-27T09:23:26.237Z"
   },
   {
    "duration": 2,
    "start_time": "2022-06-27T09:23:26.337Z"
   },
   {
    "duration": 85,
    "start_time": "2022-06-27T09:23:26.340Z"
   },
   {
    "duration": 101,
    "start_time": "2022-06-27T09:23:26.428Z"
   },
   {
    "duration": 76,
    "start_time": "2022-06-27T09:23:26.531Z"
   },
   {
    "duration": 78,
    "start_time": "2022-06-27T09:23:26.609Z"
   },
   {
    "duration": 76,
    "start_time": "2022-06-27T09:23:26.688Z"
   }
  ],
  "kernelspec": {
   "display_name": "Python 3 (ipykernel)",
   "language": "python",
   "name": "python3"
  },
  "language_info": {
   "codemirror_mode": {
    "name": "ipython",
    "version": 3
   },
   "file_extension": ".py",
   "mimetype": "text/x-python",
   "name": "python",
   "nbconvert_exporter": "python",
   "pygments_lexer": "ipython3",
   "version": "3.9.5"
  },
  "toc": {
   "base_numbering": 1,
   "nav_menu": {},
   "number_sections": true,
   "sideBar": true,
   "skip_h1_title": true,
   "title_cell": "Содержание",
   "title_sidebar": "Contents",
   "toc_cell": true,
   "toc_position": {},
   "toc_section_display": true,
   "toc_window_display": true
  }
 },
 "nbformat": 4,
 "nbformat_minor": 2
}
