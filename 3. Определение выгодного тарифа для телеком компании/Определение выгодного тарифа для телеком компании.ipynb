{
 "cells": [
  {
   "cell_type": "markdown",
   "metadata": {},
   "source": [
    "## Описание проекта\n",
    "**Определение перспективного тарифа для телеком компании**\n",
    "\n",
    "Компания «Мегалайн» — федеральный оператор сотовой связи, который предлагает клиентам два тарифных плана: «Смарт» и «Ультра». \n",
    "Коммерческий департамент хочет скорректировать рекламный бюджет, поэтому необходимо понять какой тариф приносит больше денег.\n",
    "\n",
    "В нашем распоряжении данные 500 пользователей «Мегалайна»: кто они, откуда, каким тарифом пользуются, сколько звонков и сообщений каждый отправил за 2018 год. Проанализируем поведение клиентов и сделаем вывод — какой тариф лучше."
   ]
  },
  {
   "cell_type": "markdown",
   "metadata": {},
   "source": [
    "**Описание тарифов**\n",
    "\n",
    "**Тариф «Смарт»**\n",
    "1. Ежемесячная плата: 550 рублей\n",
    "2. Включено 500 минут разговора, 50 сообщений и 15 Гб интернет-трафика\n",
    "3. Стоимость услуг сверх тарифного пакета: \n",
    "* минута разговора: 3 рубля («Мегалайн» всегда округляет вверх значения минут и мегабайтов. Если пользователь проговорил всего 1 секунду, в тарифе засчитывается целая минута); \n",
    "* сообщение: 3 рубля;\n",
    "* 1 Гб интернет-трафика: 200 рублей.\n",
    "\n",
    "**Тариф «Ультра»**\n",
    "1. Ежемесячная плата: 1950 рублей\n",
    "2. Включено 3000 минут разговора, 1000 сообщений и 30 Гб интернет-трафика\n",
    "3. Стоимость услуг сверх тарифного пакета: \n",
    "* минута разговора: 1 рубль; \n",
    "* сообщение: 1 рубль; \n",
    "* 1 Гб интернет-трафика: 150 рублей."
   ]
  },
  {
   "cell_type": "markdown",
   "metadata": {},
   "source": [
    "**Описание данных**\n",
    "\n",
    "\n",
    "**Таблица users (информация о пользователях):**\n",
    "* user_id — уникальный идентификатор пользователя\n",
    "* first_name — имя пользователя\n",
    "* last_name — фамилия пользователя\n",
    "* age — возраст пользователя (годы)\n",
    "* reg_date — дата подключения тарифа (день, месяц, год)\n",
    "* churn_date — дата прекращения пользования тарифом (если значение пропущено, то тариф ещё действовал на момент выгрузки данных)\n",
    "* city — город проживания пользователя\n",
    "* tarif — название тарифного плана\n",
    "\n",
    "**Таблица calls (информация о звонках):**\n",
    "* id — уникальный номер звонка\n",
    "* call_date — дата звонка\n",
    "* duration — длительность звонка в минутах\n",
    "* user_id — идентификатор пользователя, сделавшего звонок\n",
    "\n",
    "**Таблица messages (информация о сообщениях):**\n",
    "* id — уникальный номер сообщения\n",
    "* message_date — дата сообщения\n",
    "* user_id — идентификатор пользователя, отправившего сообщение\n",
    "\n",
    "**Таблица internet (информация об интернет-сессиях):**\n",
    "* id — уникальный номер сессии\n",
    "* mb_used — объём потраченного за сессию интернет-трафика (в мегабайтах)\n",
    "* session_date — дата интернет-сессии\n",
    "* user_id — идентификатор пользователя\n",
    "\n",
    "**Таблица tariffs (информация о тарифах):**\n",
    "* tariff_name — название тарифа\n",
    "* rub_monthly_fee — ежемесячная абонентская плата в рублях\n",
    "* minutes_included — количество минут разговора в месяц, включённых в абонентскую плату\n",
    "* messages_included — количество сообщений в месяц, включённых в абонентскую плату\n",
    "* mb_per_month_included — объём интернет-трафика, включённого в абонентскую плату (в мегабайтах)\n",
    "* rub_per_minute — стоимость минуты разговора сверх тарифного пакета (например, если в тарифе 100 минут разговора в месяц, то со 101 минуты будет взиматься плата)\n",
    "* rub_per_message — стоимость отправки сообщения сверх тарифного пакета\n",
    "* rub_per_gb — стоимость дополнительного гигабайта интернет-трафика сверх тарифного пакета (1 гигабайт = 1024 мегабайта)"
   ]
  },
  {
   "cell_type": "markdown",
   "metadata": {},
   "source": [
    "## Изучение общей информации"
   ]
  },
  {
   "cell_type": "markdown",
   "metadata": {},
   "source": [
    "**Импортируем библиотеки**"
   ]
  },
  {
   "cell_type": "code",
   "execution_count": 1,
   "metadata": {},
   "outputs": [],
   "source": [
    "import pandas as pd\n",
    "import seaborn as sns\n",
    "import math\n",
    "sns.set(color_codes=True)\n",
    "import matplotlib.pyplot as plt\n",
    "import numpy as np\n",
    "import scipy.stats as st\n",
    "from functools import reduce\n",
    "idx = pd.IndexSlice\n",
    "from scipy import stats as st"
   ]
  },
  {
   "cell_type": "markdown",
   "metadata": {},
   "source": [
    "**Получим общую информацию о наших данных**"
   ]
  },
  {
   "cell_type": "code",
   "execution_count": 2,
   "metadata": {},
   "outputs": [
    {
     "name": "stdout",
     "output_type": "stream",
     "text": [
      "<class 'pandas.core.frame.DataFrame'>\n",
      "RangeIndex: 500 entries, 0 to 499\n",
      "Data columns (total 8 columns):\n",
      " #   Column      Non-Null Count  Dtype \n",
      "---  ------      --------------  ----- \n",
      " 0   user_id     500 non-null    int64 \n",
      " 1   age         500 non-null    int64 \n",
      " 2   churn_date  38 non-null     object\n",
      " 3   city        500 non-null    object\n",
      " 4   first_name  500 non-null    object\n",
      " 5   last_name   500 non-null    object\n",
      " 6   reg_date    500 non-null    object\n",
      " 7   tariff      500 non-null    object\n",
      "dtypes: int64(2), object(6)\n",
      "memory usage: 31.4+ KB\n",
      "None\n",
      "\n",
      "<class 'pandas.core.frame.DataFrame'>\n",
      "RangeIndex: 2 entries, 0 to 1\n",
      "Data columns (total 8 columns):\n",
      " #   Column                 Non-Null Count  Dtype \n",
      "---  ------                 --------------  ----- \n",
      " 0   messages_included      2 non-null      int64 \n",
      " 1   mb_per_month_included  2 non-null      int64 \n",
      " 2   minutes_included       2 non-null      int64 \n",
      " 3   rub_monthly_fee        2 non-null      int64 \n",
      " 4   rub_per_gb             2 non-null      int64 \n",
      " 5   rub_per_message        2 non-null      int64 \n",
      " 6   rub_per_minute         2 non-null      int64 \n",
      " 7   tariff_name            2 non-null      object\n",
      "dtypes: int64(7), object(1)\n",
      "memory usage: 256.0+ bytes\n",
      "None\n",
      "\n",
      "<class 'pandas.core.frame.DataFrame'>\n",
      "RangeIndex: 123036 entries, 0 to 123035\n",
      "Data columns (total 3 columns):\n",
      " #   Column        Non-Null Count   Dtype \n",
      "---  ------        --------------   ----- \n",
      " 0   id            123036 non-null  object\n",
      " 1   message_date  123036 non-null  object\n",
      " 2   user_id       123036 non-null  int64 \n",
      "dtypes: int64(1), object(2)\n",
      "memory usage: 2.8+ MB\n",
      "None\n",
      "\n",
      "<class 'pandas.core.frame.DataFrame'>\n",
      "RangeIndex: 149396 entries, 0 to 149395\n",
      "Data columns (total 5 columns):\n",
      " #   Column        Non-Null Count   Dtype  \n",
      "---  ------        --------------   -----  \n",
      " 0   Unnamed: 0    149396 non-null  int64  \n",
      " 1   id            149396 non-null  object \n",
      " 2   mb_used       149396 non-null  float64\n",
      " 3   session_date  149396 non-null  object \n",
      " 4   user_id       149396 non-null  int64  \n",
      "dtypes: float64(1), int64(2), object(2)\n",
      "memory usage: 5.7+ MB\n",
      "None\n",
      "\n",
      "<class 'pandas.core.frame.DataFrame'>\n",
      "RangeIndex: 202607 entries, 0 to 202606\n",
      "Data columns (total 4 columns):\n",
      " #   Column     Non-Null Count   Dtype  \n",
      "---  ------     --------------   -----  \n",
      " 0   id         202607 non-null  object \n",
      " 1   call_date  202607 non-null  object \n",
      " 2   duration   202607 non-null  float64\n",
      " 3   user_id    202607 non-null  int64  \n",
      "dtypes: float64(1), int64(1), object(2)\n",
      "memory usage: 6.2+ MB\n",
      "None\n",
      "\n"
     ]
    }
   ],
   "source": [
    "users = pd.read_csv('/datasets/users.csv')\n",
    "tariffs = pd.read_csv('/datasets/tariffs.csv')\n",
    "messages = pd.read_csv('/datasets/messages.csv')\n",
    "internet = pd.read_csv('/datasets/internet.csv')\n",
    "calls = pd.read_csv('/datasets/calls.csv')\n",
    "\n",
    "for data in [users, tariffs, messages, internet, calls]: print(data.info(), end='\\n\\n')"
   ]
  },
  {
   "cell_type": "markdown",
   "metadata": {},
   "source": [
    "**Вывод**\n",
    "\n",
    "Следующие колонки (признаки) необходимо привести к типу DateTime:\n",
    "* дата прекращения пользования тарифом (churn_date);\n",
    "* дата подключения тарифа (reg_date);\n",
    "* дата сообщения (message_date);\n",
    "* дата интернет-сессии (session_date);\n",
    "* дата звонка (call_date).\n",
    "\n",
    "В большинстве признаков пропусков, которые нужно заполнить нет."
   ]
  },
  {
   "cell_type": "markdown",
   "metadata": {},
   "source": [
    "**Проверим данные на наличие дубликатов**"
   ]
  },
  {
   "cell_type": "code",
   "execution_count": 3,
   "metadata": {},
   "outputs": [
    {
     "name": "stdout",
     "output_type": "stream",
     "text": [
      "Количество дубликатов: 0\n",
      "Количество дубликатов: 0\n",
      "Количество дубликатов: 0\n",
      "Количество дубликатов: 0\n",
      "Количество дубликатов: 0\n"
     ]
    }
   ],
   "source": [
    "for data in [calls, internet, messages, users, tariffs]: \n",
    "    print('Количество дубликатов: {}'.format(data.duplicated().sum()))"
   ]
  },
  {
   "cell_type": "markdown",
   "metadata": {},
   "source": [
    "В наших данных дубликатов нет"
   ]
  },
  {
   "cell_type": "markdown",
   "metadata": {},
   "source": [
    "**Вывод**\n",
    "1. Следующие колонки (признаки) необходимо привести к типу DateTime:\n",
    "* дата прекращения пользования тарифом (churn_date);\n",
    "* дата подключения тарифа (reg_date);\n",
    "* дата сообщения (message_date);\n",
    "* дата интернет-сессии (session_date);\n",
    "* дата звонка (call_date).\n",
    "2. К типу данных int64:\n",
    "* длительность звонка в минутах (duration);\n",
    "* объем потраченного за сессию интернет-трафика (mb_used).\n",
    "3. В наших данных дубликатов нет.\n",
    "4. В большинстве признаков пропусков, которые нужно заполнить нет. Посмотрим на значения, когда объединим таблицы."
   ]
  },
  {
   "cell_type": "markdown",
   "metadata": {},
   "source": [
    "## Предобработка данных"
   ]
  },
  {
   "cell_type": "markdown",
   "metadata": {},
   "source": [
    "**Округлим минуты в большую сторону у тарифов, а нулевые значения заменим на 1**"
   ]
  },
  {
   "cell_type": "code",
   "execution_count": 4,
   "metadata": {},
   "outputs": [],
   "source": [
    "calls['duration'] = np.ceil(calls['duration'])\n",
    "calls.loc[calls['duration'] == 0, 'duration'] = 1\n",
    "internet.loc[internet['mb_used'] == 0, 'mb_used'] = 1"
   ]
  },
  {
   "cell_type": "markdown",
   "metadata": {},
   "source": [
    "**Поменяем тип данных**"
   ]
  },
  {
   "cell_type": "code",
   "execution_count": 5,
   "metadata": {},
   "outputs": [],
   "source": [
    "def to_datetime(df, columns):\n",
    "    for col in columns:\n",
    "        df[col] = pd.to_datetime(df[col], format='%Y-%m-%d')\n",
    "\n",
    "# Даты\n",
    "to_datetime(users, ['reg_date', 'churn_date'])\n",
    "to_datetime(calls, ['call_date'])\n",
    "to_datetime(messages, ['message_date'])\n",
    "to_datetime(internet, ['session_date'])\n",
    "\n",
    "# Минуты\n",
    "calls['duration'] = calls['duration'].astype('int64')"
   ]
  },
  {
   "cell_type": "markdown",
   "metadata": {},
   "source": [
    "**Посчитаем для каждого пользователя:**\n",
    "* количество сделанных звонков и израсходованных минут разговора по месяцам;\n",
    "* количество отправленных сообщений по месяцам;\n",
    "* объем израсходованного интернет-трафика по месяцам;"
   ]
  },
  {
   "cell_type": "code",
   "execution_count": 6,
   "metadata": {},
   "outputs": [
    {
     "data": {
      "text/html": [
       "<div>\n",
       "<style scoped>\n",
       "    .dataframe tbody tr th:only-of-type {\n",
       "        vertical-align: middle;\n",
       "    }\n",
       "\n",
       "    .dataframe tbody tr th {\n",
       "        vertical-align: top;\n",
       "    }\n",
       "\n",
       "    .dataframe thead th {\n",
       "        text-align: right;\n",
       "    }\n",
       "</style>\n",
       "<table border=\"1\" class=\"dataframe\">\n",
       "  <thead>\n",
       "    <tr style=\"text-align: right;\">\n",
       "      <th></th>\n",
       "      <th>user_id</th>\n",
       "      <th>month</th>\n",
       "      <th>calls</th>\n",
       "      <th>duration</th>\n",
       "      <th>messages</th>\n",
       "      <th>mb_used</th>\n",
       "      <th>gb_used</th>\n",
       "      <th>tariff</th>\n",
       "      <th>city</th>\n",
       "    </tr>\n",
       "  </thead>\n",
       "  <tbody>\n",
       "    <tr>\n",
       "      <th>2546</th>\n",
       "      <td>1401</td>\n",
       "      <td>11.0</td>\n",
       "      <td>41.0</td>\n",
       "      <td>354.0</td>\n",
       "      <td>56.0</td>\n",
       "      <td>11241.61</td>\n",
       "      <td>11264.0</td>\n",
       "      <td>smart</td>\n",
       "      <td>Москва</td>\n",
       "    </tr>\n",
       "    <tr>\n",
       "      <th>2819</th>\n",
       "      <td>1441</td>\n",
       "      <td>11.0</td>\n",
       "      <td>11.0</td>\n",
       "      <td>82.0</td>\n",
       "      <td>28.0</td>\n",
       "      <td>25066.30</td>\n",
       "      <td>25600.0</td>\n",
       "      <td>smart</td>\n",
       "      <td>Самара</td>\n",
       "    </tr>\n",
       "    <tr>\n",
       "      <th>3044</th>\n",
       "      <td>1477</td>\n",
       "      <td>8.0</td>\n",
       "      <td>101.0</td>\n",
       "      <td>813.0</td>\n",
       "      <td>63.0</td>\n",
       "      <td>19968.72</td>\n",
       "      <td>20480.0</td>\n",
       "      <td>smart</td>\n",
       "      <td>Набережные Челны</td>\n",
       "    </tr>\n",
       "    <tr>\n",
       "      <th>1709</th>\n",
       "      <td>1274</td>\n",
       "      <td>9.0</td>\n",
       "      <td>54.0</td>\n",
       "      <td>448.0</td>\n",
       "      <td>66.0</td>\n",
       "      <td>22402.55</td>\n",
       "      <td>22528.0</td>\n",
       "      <td>smart</td>\n",
       "      <td>Волгоград</td>\n",
       "    </tr>\n",
       "    <tr>\n",
       "      <th>198</th>\n",
       "      <td>1031</td>\n",
       "      <td>11.0</td>\n",
       "      <td>86.0</td>\n",
       "      <td>682.0</td>\n",
       "      <td>25.0</td>\n",
       "      <td>11296.07</td>\n",
       "      <td>12288.0</td>\n",
       "      <td>smart</td>\n",
       "      <td>Москва</td>\n",
       "    </tr>\n",
       "  </tbody>\n",
       "</table>\n",
       "</div>"
      ],
      "text/plain": [
       "      user_id  month  calls  duration  messages   mb_used  gb_used tariff  \\\n",
       "2546     1401   11.0   41.0     354.0      56.0  11241.61  11264.0  smart   \n",
       "2819     1441   11.0   11.0      82.0      28.0  25066.30  25600.0  smart   \n",
       "3044     1477    8.0  101.0     813.0      63.0  19968.72  20480.0  smart   \n",
       "1709     1274    9.0   54.0     448.0      66.0  22402.55  22528.0  smart   \n",
       "198      1031   11.0   86.0     682.0      25.0  11296.07  12288.0  smart   \n",
       "\n",
       "                  city  \n",
       "2546            Москва  \n",
       "2819            Самара  \n",
       "3044  Набережные Челны  \n",
       "1709         Волгоград  \n",
       "198             Москва  "
      ]
     },
     "execution_count": 6,
     "metadata": {},
     "output_type": "execute_result"
    }
   ],
   "source": [
    "# Таблица по звонкам\n",
    "calls['month'] = pd.DatetimeIndex(calls['call_date']).month\n",
    "calls_grouped = calls.pivot_table(values='duration', \n",
    "                                index=['user_id','month'], \n",
    "                                aggfunc=['count', 'sum']).rename(columns={'duration': 'total_calls'})\n",
    "\n",
    "# Таблица по сообщениям\n",
    "messages['month'] = pd.DatetimeIndex(messages['message_date']).month\n",
    "messages_grouped = messages.pivot_table(values='id', \n",
    "                                        index=['user_id', 'month'],\n",
    "                                        aggfunc='count')\n",
    "\n",
    "# Таблица по интернет-трафику\n",
    "internet['month'] = pd.DatetimeIndex(internet['session_date']).month \n",
    "internet_grouped = internet.pivot_table(values='mb_used',\n",
    "                                        index=['user_id', 'month'], \n",
    "                                        aggfunc='sum') \n",
    "internet_grouped['gb_used'] = internet_grouped['mb_used'].apply(lambda x: math.ceil(x / 1024) * 1024)\n",
    "\n",
    "# Создадим временный DataFrame c таблицей calls_grouped\n",
    "tempdata = pd.DataFrame(calls_grouped.to_records())\n",
    "\n",
    "# Создадим grouped_data датафрейм для рассчетов и перенесем в него столбцы, столбцы переименуем\n",
    "grouped_data = pd.DataFrame()\n",
    "grouped_data['user_id'] = tempdata['user_id']\n",
    "grouped_data['month']   = tempdata['month']\n",
    "grouped_data['calls']   = tempdata.iloc[:, 2]\n",
    "grouped_data['duration'] = tempdata.iloc[:, 3]\n",
    "\n",
    "# Создадим временный DataFrame с таблицей messages_grouped, переименуем столбец id  в messages, соединим его с grouped_data\n",
    "tempdata = pd.DataFrame(messages_grouped.to_records()).rename(columns={'id': 'messages'})\n",
    "grouped_data = grouped_data.merge(tempdata, on=['user_id', 'month'], how='outer')\n",
    "\n",
    "# Создадим временный датафрейм с таблицей internet_grouped и соединим его с grouped_data\n",
    "tempdata = pd.DataFrame(internet_grouped.to_records())\n",
    "grouped_data = grouped_data.merge(tempdata, on=['user_id', 'month'], how='outer')\n",
    "\n",
    "# Создадим датафрейм tariff_grouped и перенесем в него столбцы из таблицы users, чтобы соединить с grouped_data\n",
    "tariff_grouped = pd.DataFrame()\n",
    "tariff_grouped[['user_id','tariff','city']] = users[['user_id','tariff','city']]\n",
    "grouped_data = grouped_data.merge(tariff_grouped, on='user_id', how='outer')\n",
    "grouped_data.sample(5)"
   ]
  },
  {
   "cell_type": "markdown",
   "metadata": {},
   "source": [
    "**Пропущенные значения заменим на нули**"
   ]
  },
  {
   "cell_type": "code",
   "execution_count": 7,
   "metadata": {},
   "outputs": [
    {
     "data": {
      "text/plain": [
       "user_id     0\n",
       "month       0\n",
       "calls       0\n",
       "duration    0\n",
       "messages    0\n",
       "mb_used     0\n",
       "gb_used     0\n",
       "tariff      0\n",
       "city        0\n",
       "dtype: int64"
      ]
     },
     "execution_count": 7,
     "metadata": {},
     "output_type": "execute_result"
    }
   ],
   "source": [
    "grouped_data = grouped_data.fillna(0)\n",
    "grouped_data.isnull().sum()"
   ]
  },
  {
   "cell_type": "markdown",
   "metadata": {},
   "source": [
    "**Запишем функцию подсчета помесячной выручки с каждого пользователя**"
   ]
  },
  {
   "cell_type": "code",
   "execution_count": 8,
   "metadata": {},
   "outputs": [
    {
     "data": {
      "text/html": [
       "<div>\n",
       "<style scoped>\n",
       "    .dataframe tbody tr th:only-of-type {\n",
       "        vertical-align: middle;\n",
       "    }\n",
       "\n",
       "    .dataframe tbody tr th {\n",
       "        vertical-align: top;\n",
       "    }\n",
       "\n",
       "    .dataframe thead th {\n",
       "        text-align: right;\n",
       "    }\n",
       "</style>\n",
       "<table border=\"1\" class=\"dataframe\">\n",
       "  <thead>\n",
       "    <tr style=\"text-align: right;\">\n",
       "      <th></th>\n",
       "      <th>user_id</th>\n",
       "      <th>month</th>\n",
       "      <th>calls</th>\n",
       "      <th>duration</th>\n",
       "      <th>messages</th>\n",
       "      <th>mb_used</th>\n",
       "      <th>gb_used</th>\n",
       "      <th>tariff</th>\n",
       "      <th>city</th>\n",
       "      <th>revenue</th>\n",
       "    </tr>\n",
       "  </thead>\n",
       "  <tbody>\n",
       "    <tr>\n",
       "      <th>319</th>\n",
       "      <td>1051</td>\n",
       "      <td>9.0</td>\n",
       "      <td>55.0</td>\n",
       "      <td>322.0</td>\n",
       "      <td>6.0</td>\n",
       "      <td>14294.08</td>\n",
       "      <td>14336.0</td>\n",
       "      <td>smart</td>\n",
       "      <td>Москва</td>\n",
       "      <td>550.0000</td>\n",
       "    </tr>\n",
       "    <tr>\n",
       "      <th>1954</th>\n",
       "      <td>1312</td>\n",
       "      <td>8.0</td>\n",
       "      <td>72.0</td>\n",
       "      <td>547.0</td>\n",
       "      <td>38.0</td>\n",
       "      <td>19907.15</td>\n",
       "      <td>20480.0</td>\n",
       "      <td>smart</td>\n",
       "      <td>Санкт-Петербург</td>\n",
       "      <td>1690.9360</td>\n",
       "    </tr>\n",
       "    <tr>\n",
       "      <th>2746</th>\n",
       "      <td>1430</td>\n",
       "      <td>11.0</td>\n",
       "      <td>46.0</td>\n",
       "      <td>319.0</td>\n",
       "      <td>39.0</td>\n",
       "      <td>19378.91</td>\n",
       "      <td>19456.0</td>\n",
       "      <td>ultra</td>\n",
       "      <td>Тверь</td>\n",
       "      <td>1950.0000</td>\n",
       "    </tr>\n",
       "    <tr>\n",
       "      <th>3006</th>\n",
       "      <td>1472</td>\n",
       "      <td>2.0</td>\n",
       "      <td>56.0</td>\n",
       "      <td>469.0</td>\n",
       "      <td>80.0</td>\n",
       "      <td>19156.83</td>\n",
       "      <td>19456.0</td>\n",
       "      <td>smart</td>\n",
       "      <td>Ярославль</td>\n",
       "      <td>1439.9488</td>\n",
       "    </tr>\n",
       "    <tr>\n",
       "      <th>40</th>\n",
       "      <td>1005</td>\n",
       "      <td>11.0</td>\n",
       "      <td>75.0</td>\n",
       "      <td>562.0</td>\n",
       "      <td>51.0</td>\n",
       "      <td>12668.95</td>\n",
       "      <td>13312.0</td>\n",
       "      <td>smart</td>\n",
       "      <td>Набережные Челны</td>\n",
       "      <td>739.0000</td>\n",
       "    </tr>\n",
       "  </tbody>\n",
       "</table>\n",
       "</div>"
      ],
      "text/plain": [
       "      user_id  month  calls  duration  messages   mb_used  gb_used tariff  \\\n",
       "319      1051    9.0   55.0     322.0       6.0  14294.08  14336.0  smart   \n",
       "1954     1312    8.0   72.0     547.0      38.0  19907.15  20480.0  smart   \n",
       "2746     1430   11.0   46.0     319.0      39.0  19378.91  19456.0  ultra   \n",
       "3006     1472    2.0   56.0     469.0      80.0  19156.83  19456.0  smart   \n",
       "40       1005   11.0   75.0     562.0      51.0  12668.95  13312.0  smart   \n",
       "\n",
       "                  city    revenue  \n",
       "319             Москва   550.0000  \n",
       "1954   Санкт-Петербург  1690.9360  \n",
       "2746             Тверь  1950.0000  \n",
       "3006         Ярославль  1439.9488  \n",
       "40    Набережные Челны   739.0000  "
      ]
     },
     "execution_count": 8,
     "metadata": {},
     "output_type": "execute_result"
    }
   ],
   "source": [
    "#Просто пропишем значения для расчетов\n",
    "# Для тарифа «Смарт»\n",
    "smart_megabytes_included = 15360 # включено 15360 мегабайт интернет-трафика\n",
    "smart_messages_included = 50 # включено 50 сообщений\n",
    "smart_minutes_included = 500 # включено 500 минут разговора\n",
    "smart_monthly_price = 550 # ежемесячная плата 550 рублей\n",
    "smart_price_for_megabyte = 0.1953 # цена за мегабайт сверх пакета\n",
    "smart_price_for_message = 3 # цена за сообщение сверх пакета\n",
    "smart_price_for_minute = 3 # цена за минуту разговора сверх пакета\n",
    "\n",
    "# Для тарифа «Ультра»\n",
    "ultra_megabytes_included = 30720 # включено 30720 мегабайт интернет-трафика\n",
    "ultra_messages_included = 1000 # включено 1000 сообщений\n",
    "ultra_minutes_included = 3000 # включено 3000 минут разговора\n",
    "ultra_monthly_price = 1950 # ежемесячная плата 1950 рублей\n",
    "ultra_price_for_megabyte = 0.1464 # цена за мегабайт сверх пакета\n",
    "ultra_price_for_message = 1 # цена за сообщение сверх пакета\n",
    "ultra_price_for_minute = 1 # цена за минуту разговора сверх пакета\n",
    "\n",
    "# Функция подсчета выручки с каждого пользователя в месяц\n",
    "def det_revenue(row):\n",
    "    # Объявим переменные из столбцов нашей таблицы\n",
    "    mb_used = row['gb_used']\n",
    "    tariff = row['tariff']\n",
    "    minutes = row['duration']\n",
    "    messages = row['messages']\n",
    "    total_megabytes = 0\n",
    "    total_messages = 0 \n",
    "    total_minutes = 0\n",
    "    \n",
    "    # Если тариф «Смарт», то будут использоваться эти расчеты:\n",
    "    if tariff == 'smart':\n",
    "        if mb_used > smart_megabytes_included:\n",
    "            total_megabytes = (mb_used - smart_megabytes_included) * smart_price_for_megabyte\n",
    "        if minutes > smart_minutes_included:\n",
    "            total_minutes = (minutes - smart_minutes_included) * smart_price_for_minute\n",
    "        if messages > smart_messages_included:\n",
    "            total_messages = (messages - smart_messages_included) * smart_price_for_message\n",
    "        \n",
    "        return total_megabytes + total_minutes + total_messages + smart_monthly_price\n",
    "    \n",
    "    # Если тариф «Ультра», то эти:\n",
    "    if tariff == 'ultra':\n",
    "        if mb_used > ultra_megabytes_included:\n",
    "            total_megabytes = (mb_used - ultra_megabytes_included) * ultra_price_for_megabyte\n",
    "        if minutes > ultra_minutes_included:\n",
    "            total_minutes = (minutes - ultra_minutes_included) * ultra_price_for_minute\n",
    "        if messages > ultra_messages_included:\n",
    "            total_messages = (messages - ultra_messages_included) * ultra_price_for_message\n",
    "        return total_megabytes + total_minutes + total_messages + ultra_monthly_price\n",
    "\n",
    "# Вызовем функцию det_revenue с помощью метода apply и передадим все столбцы через axis = 1\n",
    "grouped_data['revenue'] = grouped_data.apply(det_revenue, axis=1)\n",
    "grouped_data.sample(5)"
   ]
  },
  {
   "cell_type": "markdown",
   "metadata": {},
   "source": [
    "**Вывод**\n",
    "\n",
    "Посчитали для каждого пользователя:\n",
    "* количество сделанных звонков и израсходованных минут разговора по месяцам;\n",
    "* количество отправленных сообщений по месяцам;\n",
    "* объем израсходованного интернет-трафика по месяцам;\n",
    "* помесячную выручку с каждого пользователя."
   ]
  },
  {
   "cell_type": "markdown",
   "metadata": {},
   "source": [
    "## Анализ данных"
   ]
  },
  {
   "cell_type": "markdown",
   "metadata": {},
   "source": [
    "**Передадим переменным smart_tariff и ultra_tariff данные из таблицы**"
   ]
  },
  {
   "cell_type": "code",
   "execution_count": 9,
   "metadata": {},
   "outputs": [],
   "source": [
    "smart_tariff = grouped_data[grouped_data['tariff']=='smart']\n",
    "ultra_tariff = grouped_data[grouped_data['tariff']=='ultra']"
   ]
  },
  {
   "cell_type": "markdown",
   "metadata": {},
   "source": [
    "**Посчитаем сколько минут разговора, сообщений и какой объем мегабайт требуется пользователям тарифа «Смарт» в месяц**"
   ]
  },
  {
   "cell_type": "code",
   "execution_count": 10,
   "metadata": {},
   "outputs": [
    {
     "data": {
      "text/html": [
       "<div>\n",
       "<style scoped>\n",
       "    .dataframe tbody tr th:only-of-type {\n",
       "        vertical-align: middle;\n",
       "    }\n",
       "\n",
       "    .dataframe tbody tr th {\n",
       "        vertical-align: top;\n",
       "    }\n",
       "\n",
       "    .dataframe thead th {\n",
       "        text-align: right;\n",
       "    }\n",
       "</style>\n",
       "<table border=\"1\" class=\"dataframe\">\n",
       "  <thead>\n",
       "    <tr style=\"text-align: right;\">\n",
       "      <th></th>\n",
       "      <th>month</th>\n",
       "      <th>duration</th>\n",
       "      <th>mb_used</th>\n",
       "      <th>messages</th>\n",
       "      <th>revenue</th>\n",
       "    </tr>\n",
       "  </thead>\n",
       "  <tbody>\n",
       "    <tr>\n",
       "      <th>1</th>\n",
       "      <td>1.0</td>\n",
       "      <td>7128.0</td>\n",
       "      <td>289607.40</td>\n",
       "      <td>620.0</td>\n",
       "      <td>24593.6416</td>\n",
       "    </tr>\n",
       "    <tr>\n",
       "      <th>2</th>\n",
       "      <td>2.0</td>\n",
       "      <td>17766.0</td>\n",
       "      <td>672974.15</td>\n",
       "      <td>1397.0</td>\n",
       "      <td>48432.1552</td>\n",
       "    </tr>\n",
       "    <tr>\n",
       "      <th>3</th>\n",
       "      <td>3.0</td>\n",
       "      <td>30841.0</td>\n",
       "      <td>1163586.25</td>\n",
       "      <td>2453.0</td>\n",
       "      <td>90747.5552</td>\n",
       "    </tr>\n",
       "    <tr>\n",
       "      <th>4</th>\n",
       "      <td>4.0</td>\n",
       "      <td>42224.0</td>\n",
       "      <td>1508503.23</td>\n",
       "      <td>3443.0</td>\n",
       "      <td>109183.6960</td>\n",
       "    </tr>\n",
       "    <tr>\n",
       "      <th>5</th>\n",
       "      <td>5.0</td>\n",
       "      <td>56175.0</td>\n",
       "      <td>2229595.99</td>\n",
       "      <td>4762.0</td>\n",
       "      <td>170889.0336</td>\n",
       "    </tr>\n",
       "    <tr>\n",
       "      <th>6</th>\n",
       "      <td>6.0</td>\n",
       "      <td>66699.0</td>\n",
       "      <td>2591581.27</td>\n",
       "      <td>5478.0</td>\n",
       "      <td>199954.2272</td>\n",
       "    </tr>\n",
       "    <tr>\n",
       "      <th>7</th>\n",
       "      <td>7.0</td>\n",
       "      <td>84277.0</td>\n",
       "      <td>3165958.22</td>\n",
       "      <td>6784.0</td>\n",
       "      <td>249733.8576</td>\n",
       "    </tr>\n",
       "    <tr>\n",
       "      <th>8</th>\n",
       "      <td>8.0</td>\n",
       "      <td>101800.0</td>\n",
       "      <td>3905408.22</td>\n",
       "      <td>7905.0</td>\n",
       "      <td>314929.4896</td>\n",
       "    </tr>\n",
       "    <tr>\n",
       "      <th>9</th>\n",
       "      <td>9.0</td>\n",
       "      <td>114421.0</td>\n",
       "      <td>4241033.49</td>\n",
       "      <td>8746.0</td>\n",
       "      <td>329760.7712</td>\n",
       "    </tr>\n",
       "    <tr>\n",
       "      <th>10</th>\n",
       "      <td>10.0</td>\n",
       "      <td>128859.0</td>\n",
       "      <td>4929031.13</td>\n",
       "      <td>9927.0</td>\n",
       "      <td>407104.4688</td>\n",
       "    </tr>\n",
       "    <tr>\n",
       "      <th>11</th>\n",
       "      <td>11.0</td>\n",
       "      <td>141448.0</td>\n",
       "      <td>5341704.14</td>\n",
       "      <td>10768.0</td>\n",
       "      <td>431357.9440</td>\n",
       "    </tr>\n",
       "    <tr>\n",
       "      <th>12</th>\n",
       "      <td>12.0</td>\n",
       "      <td>165608.0</td>\n",
       "      <td>6107334.11</td>\n",
       "      <td>12130.0</td>\n",
       "      <td>540017.6560</td>\n",
       "    </tr>\n",
       "  </tbody>\n",
       "</table>\n",
       "</div>"
      ],
      "text/plain": [
       "    month  duration     mb_used  messages      revenue\n",
       "1     1.0    7128.0   289607.40     620.0   24593.6416\n",
       "2     2.0   17766.0   672974.15    1397.0   48432.1552\n",
       "3     3.0   30841.0  1163586.25    2453.0   90747.5552\n",
       "4     4.0   42224.0  1508503.23    3443.0  109183.6960\n",
       "5     5.0   56175.0  2229595.99    4762.0  170889.0336\n",
       "6     6.0   66699.0  2591581.27    5478.0  199954.2272\n",
       "7     7.0   84277.0  3165958.22    6784.0  249733.8576\n",
       "8     8.0  101800.0  3905408.22    7905.0  314929.4896\n",
       "9     9.0  114421.0  4241033.49    8746.0  329760.7712\n",
       "10   10.0  128859.0  4929031.13    9927.0  407104.4688\n",
       "11   11.0  141448.0  5341704.14   10768.0  431357.9440\n",
       "12   12.0  165608.0  6107334.11   12130.0  540017.6560"
      ]
     },
     "execution_count": 10,
     "metadata": {},
     "output_type": "execute_result"
    }
   ],
   "source": [
    "smart_pivot = smart_tariff.pivot_table(index='month', values=['duration','messages','mb_used','revenue'], aggfunc='sum')\n",
    "smart_stat = pd.DataFrame(smart_pivot.to_records())\n",
    "smart_stat.drop(0)"
   ]
  },
  {
   "cell_type": "markdown",
   "metadata": {},
   "source": [
    "**Посчитаем среднее количество, дисперсию и стандартное отклонение для тарифа «Смарт»**"
   ]
  },
  {
   "cell_type": "code",
   "execution_count": 11,
   "metadata": {},
   "outputs": [
    {
     "data": {
      "text/html": [
       "<style  type=\"text/css\" >\n",
       "</style><table id=\"T_64224_\" ><thead>    <tr>        <th class=\"blank level0\" ></th>        <th class=\"col_heading level0 col0\" >duration</th>        <th class=\"col_heading level0 col1\" >messages</th>        <th class=\"col_heading level0 col2\" >mb_used</th>        <th class=\"col_heading level0 col3\" >revenue</th>    </tr></thead><tbody>\n",
       "                <tr>\n",
       "                        <th id=\"T_64224_level0_row0\" class=\"row_heading level0 row0\" >mean</th>\n",
       "                        <td id=\"T_64224_row0_col0\" class=\"data row0 col0\" >429</td>\n",
       "                        <td id=\"T_64224_row0_col1\" class=\"data row0 col1\" >33</td>\n",
       "                        <td id=\"T_64224_row0_col2\" class=\"data row0 col2\" >16209</td>\n",
       "                        <td id=\"T_64224_row0_col3\" class=\"data row0 col3\" >1308</td>\n",
       "            </tr>\n",
       "            <tr>\n",
       "                        <th id=\"T_64224_level0_row1\" class=\"row_heading level0 row1\" >median</th>\n",
       "                        <td id=\"T_64224_row1_col0\" class=\"data row1 col0\" >434</td>\n",
       "                        <td id=\"T_64224_row1_col1\" class=\"data row1 col1\" >28</td>\n",
       "                        <td id=\"T_64224_row1_col2\" class=\"data row1 col2\" >16514</td>\n",
       "                        <td id=\"T_64224_row1_col3\" class=\"data row1 col3\" >1067</td>\n",
       "            </tr>\n",
       "            <tr>\n",
       "                        <th id=\"T_64224_level0_row2\" class=\"row_heading level0 row2\" >var</th>\n",
       "                        <td id=\"T_64224_row2_col0\" class=\"data row2 col0\" >38040</td>\n",
       "                        <td id=\"T_64224_row2_col1\" class=\"data row2 col1\" >797</td>\n",
       "                        <td id=\"T_64224_row2_col2\" class=\"data row2 col2\" >34590995</td>\n",
       "                        <td id=\"T_64224_row2_col3\" class=\"data row2 col3\" >685808</td>\n",
       "            </tr>\n",
       "            <tr>\n",
       "                        <th id=\"T_64224_level0_row3\" class=\"row_heading level0 row3\" >std</th>\n",
       "                        <td id=\"T_64224_row3_col0\" class=\"data row3 col0\" >195</td>\n",
       "                        <td id=\"T_64224_row3_col1\" class=\"data row3 col1\" >28</td>\n",
       "                        <td id=\"T_64224_row3_col2\" class=\"data row3 col2\" >5881</td>\n",
       "                        <td id=\"T_64224_row3_col3\" class=\"data row3 col3\" >828</td>\n",
       "            </tr>\n",
       "    </tbody></table>"
      ],
      "text/plain": [
       "<pandas.io.formats.style.Styler at 0x7f03abde98e0>"
      ]
     },
     "execution_count": 11,
     "metadata": {},
     "output_type": "execute_result"
    }
   ],
   "source": [
    "smart_tariff[['duration','messages','mb_used','revenue']].agg(['mean','median','var','std']).style.format('{:.0f}')"
   ]
  },
  {
   "cell_type": "markdown",
   "metadata": {},
   "source": [
    "**Посчитаем сколько минут разговора, сообщений и какой объем мегабайт требуется пользователям тарифа «Ультра» в месяц**"
   ]
  },
  {
   "cell_type": "code",
   "execution_count": 12,
   "metadata": {},
   "outputs": [
    {
     "data": {
      "text/html": [
       "<div>\n",
       "<style scoped>\n",
       "    .dataframe tbody tr th:only-of-type {\n",
       "        vertical-align: middle;\n",
       "    }\n",
       "\n",
       "    .dataframe tbody tr th {\n",
       "        vertical-align: top;\n",
       "    }\n",
       "\n",
       "    .dataframe thead th {\n",
       "        text-align: right;\n",
       "    }\n",
       "</style>\n",
       "<table border=\"1\" class=\"dataframe\">\n",
       "  <thead>\n",
       "    <tr style=\"text-align: right;\">\n",
       "      <th></th>\n",
       "      <th>month</th>\n",
       "      <th>duration</th>\n",
       "      <th>mb_used</th>\n",
       "      <th>messages</th>\n",
       "      <th>revenue</th>\n",
       "    </tr>\n",
       "  </thead>\n",
       "  <tbody>\n",
       "    <tr>\n",
       "      <th>1</th>\n",
       "      <td>1.0</td>\n",
       "      <td>3968.0</td>\n",
       "      <td>118276.13</td>\n",
       "      <td>304.0</td>\n",
       "      <td>17550.0000</td>\n",
       "    </tr>\n",
       "    <tr>\n",
       "      <th>2</th>\n",
       "      <td>2.0</td>\n",
       "      <td>7312.0</td>\n",
       "      <td>282655.50</td>\n",
       "      <td>527.0</td>\n",
       "      <td>47399.6544</td>\n",
       "    </tr>\n",
       "    <tr>\n",
       "      <th>3</th>\n",
       "      <td>3.0</td>\n",
       "      <td>18614.0</td>\n",
       "      <td>648872.36</td>\n",
       "      <td>1195.0</td>\n",
       "      <td>74548.6176</td>\n",
       "    </tr>\n",
       "    <tr>\n",
       "      <th>4</th>\n",
       "      <td>4.0</td>\n",
       "      <td>25854.0</td>\n",
       "      <td>925627.39</td>\n",
       "      <td>1736.0</td>\n",
       "      <td>110098.3584</td>\n",
       "    </tr>\n",
       "    <tr>\n",
       "      <th>5</th>\n",
       "      <td>5.0</td>\n",
       "      <td>35166.0</td>\n",
       "      <td>1297465.25</td>\n",
       "      <td>2536.0</td>\n",
       "      <td>137995.7664</td>\n",
       "    </tr>\n",
       "    <tr>\n",
       "      <th>6</th>\n",
       "      <td>6.0</td>\n",
       "      <td>41364.0</td>\n",
       "      <td>1589836.90</td>\n",
       "      <td>3505.0</td>\n",
       "      <td>171445.5936</td>\n",
       "    </tr>\n",
       "    <tr>\n",
       "      <th>7</th>\n",
       "      <td>7.0</td>\n",
       "      <td>50987.0</td>\n",
       "      <td>1865280.53</td>\n",
       "      <td>4536.0</td>\n",
       "      <td>192741.1872</td>\n",
       "    </tr>\n",
       "    <tr>\n",
       "      <th>8</th>\n",
       "      <td>8.0</td>\n",
       "      <td>56129.0</td>\n",
       "      <td>2094831.85</td>\n",
       "      <td>5183.0</td>\n",
       "      <td>222891.7920</td>\n",
       "    </tr>\n",
       "    <tr>\n",
       "      <th>9</th>\n",
       "      <td>9.0</td>\n",
       "      <td>63669.0</td>\n",
       "      <td>2208702.87</td>\n",
       "      <td>6013.0</td>\n",
       "      <td>232795.0752</td>\n",
       "    </tr>\n",
       "    <tr>\n",
       "      <th>10</th>\n",
       "      <td>10.0</td>\n",
       "      <td>70458.0</td>\n",
       "      <td>2465781.49</td>\n",
       "      <td>7187.0</td>\n",
       "      <td>254091.7920</td>\n",
       "    </tr>\n",
       "    <tr>\n",
       "      <th>11</th>\n",
       "      <td>11.0</td>\n",
       "      <td>74478.0</td>\n",
       "      <td>2651675.87</td>\n",
       "      <td>7476.0</td>\n",
       "      <td>280339.0272</td>\n",
       "    </tr>\n",
       "    <tr>\n",
       "      <th>12</th>\n",
       "      <td>12.0</td>\n",
       "      <td>84669.0</td>\n",
       "      <td>3029541.99</td>\n",
       "      <td>8425.0</td>\n",
       "      <td>297284.8800</td>\n",
       "    </tr>\n",
       "  </tbody>\n",
       "</table>\n",
       "</div>"
      ],
      "text/plain": [
       "    month  duration     mb_used  messages      revenue\n",
       "1     1.0    3968.0   118276.13     304.0   17550.0000\n",
       "2     2.0    7312.0   282655.50     527.0   47399.6544\n",
       "3     3.0   18614.0   648872.36    1195.0   74548.6176\n",
       "4     4.0   25854.0   925627.39    1736.0  110098.3584\n",
       "5     5.0   35166.0  1297465.25    2536.0  137995.7664\n",
       "6     6.0   41364.0  1589836.90    3505.0  171445.5936\n",
       "7     7.0   50987.0  1865280.53    4536.0  192741.1872\n",
       "8     8.0   56129.0  2094831.85    5183.0  222891.7920\n",
       "9     9.0   63669.0  2208702.87    6013.0  232795.0752\n",
       "10   10.0   70458.0  2465781.49    7187.0  254091.7920\n",
       "11   11.0   74478.0  2651675.87    7476.0  280339.0272\n",
       "12   12.0   84669.0  3029541.99    8425.0  297284.8800"
      ]
     },
     "execution_count": 12,
     "metadata": {},
     "output_type": "execute_result"
    }
   ],
   "source": [
    "ultra_pivot = ultra_tariff.pivot_table(index='month', values=['duration', 'messages', 'mb_used', 'revenue'], aggfunc='sum')\n",
    "ultra_stat = pd.DataFrame(ultra_pivot.to_records())\n",
    "ultra_stat.drop(0)"
   ]
  },
  {
   "cell_type": "markdown",
   "metadata": {},
   "source": [
    "**Посчитаем среднее количество, дисперсию и стандартное отклонение для тарифа «Ультра»**"
   ]
  },
  {
   "cell_type": "code",
   "execution_count": 13,
   "metadata": {},
   "outputs": [
    {
     "data": {
      "text/html": [
       "<style  type=\"text/css\" >\n",
       "</style><table id=\"T_9a468_\" ><thead>    <tr>        <th class=\"blank level0\" ></th>        <th class=\"col_heading level0 col0\" >duration</th>        <th class=\"col_heading level0 col1\" >messages</th>        <th class=\"col_heading level0 col2\" >mb_used</th>        <th class=\"col_heading level0 col3\" >revenue</th>    </tr></thead><tbody>\n",
       "                <tr>\n",
       "                        <th id=\"T_9a468_level0_row0\" class=\"row_heading level0 row0\" >mean</th>\n",
       "                        <td id=\"T_9a468_row0_col0\" class=\"data row0 col0\" >540</td>\n",
       "                        <td id=\"T_9a468_row0_col1\" class=\"data row0 col1\" >49</td>\n",
       "                        <td id=\"T_9a468_row0_col2\" class=\"data row0 col2\" >19451</td>\n",
       "                        <td id=\"T_9a468_row0_col3\" class=\"data row0 col3\" >2070</td>\n",
       "            </tr>\n",
       "            <tr>\n",
       "                        <th id=\"T_9a468_level0_row1\" class=\"row_heading level0 row1\" >median</th>\n",
       "                        <td id=\"T_9a468_row1_col0\" class=\"data row1 col0\" >532</td>\n",
       "                        <td id=\"T_9a468_row1_col1\" class=\"data row1 col1\" >38</td>\n",
       "                        <td id=\"T_9a468_row1_col2\" class=\"data row1 col2\" >19305</td>\n",
       "                        <td id=\"T_9a468_row1_col3\" class=\"data row1 col3\" >1950</td>\n",
       "            </tr>\n",
       "            <tr>\n",
       "                        <th id=\"T_9a468_level0_row2\" class=\"row_heading level0 row2\" >var</th>\n",
       "                        <td id=\"T_9a468_row2_col0\" class=\"data row2 col0\" >106295</td>\n",
       "                        <td id=\"T_9a468_row2_col1\" class=\"data row2 col1\" >2285</td>\n",
       "                        <td id=\"T_9a468_row2_col2\" class=\"data row2 col2\" >102048129</td>\n",
       "                        <td id=\"T_9a468_row2_col3\" class=\"data row2 col3\" >141622</td>\n",
       "            </tr>\n",
       "            <tr>\n",
       "                        <th id=\"T_9a468_level0_row3\" class=\"row_heading level0 row3\" >std</th>\n",
       "                        <td id=\"T_9a468_row3_col0\" class=\"data row3 col0\" >326</td>\n",
       "                        <td id=\"T_9a468_row3_col1\" class=\"data row3 col1\" >48</td>\n",
       "                        <td id=\"T_9a468_row3_col2\" class=\"data row3 col2\" >10102</td>\n",
       "                        <td id=\"T_9a468_row3_col3\" class=\"data row3 col3\" >376</td>\n",
       "            </tr>\n",
       "    </tbody></table>"
      ],
      "text/plain": [
       "<pandas.io.formats.style.Styler at 0x7f0431c4baf0>"
      ]
     },
     "execution_count": 13,
     "metadata": {},
     "output_type": "execute_result"
    }
   ],
   "source": [
    "ultra_tariff[['duration','messages','mb_used','revenue']].agg(['mean','median','var','std']).style.format('{:.0f}')"
   ]
  },
  {
   "cell_type": "markdown",
   "metadata": {},
   "source": [
    "**Напишем функцию для построения гистограмм**"
   ]
  },
  {
   "cell_type": "code",
   "execution_count": 14,
   "metadata": {},
   "outputs": [],
   "source": [
    "def histogram_drawing(column, title):\n",
    "    sns.set_style('darkgrid')\n",
    "    plt.figure(figsize=(12,6))\n",
    "    plt.title(title, fontsize=15)\n",
    "    sns.distplot(smart_tariff[column], label='Тариф «Смарт»', kde=False)\n",
    "    sns.distplot(ultra_tariff[column], label='Тариф «Ультра»', kde=False)\n",
    "    plt.axvline(np.mean(smart_tariff[column]),color='red', linestyle='--', label='Smart среднее')\n",
    "    plt.axvline(np.mean(ultra_tariff[column]),color='red', linestyle='-', label='Ultra среднее')\n",
    "    plt.legend()"
   ]
  },
  {
   "cell_type": "markdown",
   "metadata": {},
   "source": [
    "**Построим гистограммы распределения по интернет-трафику, длительности разговора и числу сообщений для тарифов «Смарт» и «Ультра»**"
   ]
  },
  {
   "cell_type": "code",
   "execution_count": 15,
   "metadata": {},
   "outputs": [
    {
     "name": "stderr",
     "output_type": "stream",
     "text": [
      "/opt/conda/lib/python3.9/site-packages/seaborn/distributions.py:2557: FutureWarning: `distplot` is a deprecated function and will be removed in a future version. Please adapt your code to use either `displot` (a figure-level function with similar flexibility) or `histplot` (an axes-level function for histograms).\n",
      "  warnings.warn(msg, FutureWarning)\n"
     ]
    },
    {
     "data": {
      "image/png": "[encoded data removed]",
      "text/plain": [
       "<Figure size 864x432 with 1 Axes>"
      ]
     },
     "metadata": {},
     "output_type": "display_data"
    },
    {
     "data": {
      "image/png": "[encoded data removed]",
      "text/plain": [
       "<Figure size 864x432 with 1 Axes>"
      ]
     },
     "metadata": {},
     "output_type": "display_data"
    },
    {
     "data": {
      "image/png": "[encoded data removed]",
      "text/plain": [
       "<Figure size 864x432 with 1 Axes>"
      ]
     },
     "metadata": {},
     "output_type": "display_data"
    }
   ],
   "source": [
    "histogram_drawing('mb_used', 'Распределение по интернет-трафику для тарифов «Смарт» и «Ультра»')\n",
    "histogram_drawing('duration','Распределение по длительности разговора для тарифов «Смарт» и «Ультра»')\n",
    "histogram_drawing('messages','Распределение по числу сообщений для тарифов «Смарт» и «Ультра»')"
   ]
  },
  {
   "cell_type": "markdown",
   "metadata": {},
   "source": [
    "**Вывод**\n",
    "\n",
    "* Пользователи тарифа «Ультра» скачивают в среднем 19451 мегабайт, когда пользователи тарифа «Смарт» скачивают в среднем 16209 мегабайт;\n",
    "* У пользователей тарифа «Ультра» в среднем длительность разговора 540 минут, когда длительность разговора пользователей тарифа «Смарт» в среднем равна 429 минут;\n",
    "* Пользователи тарифа «Ультра» отправляют 49 сообщений, когда пользователи тарифа «Смарт» в среднем отправляют 33 сообщения.\n",
    "* При этом длительность разговора, число сообщений и объем потраченного интернет-трафика по тарифу «Ультра» также имеет большую дисперсию, медианы и среднее отклонение по сравнению с тарифом «Смарт»."
   ]
  },
  {
   "cell_type": "markdown",
   "metadata": {},
   "source": [
    "## Проверка гипотез"
   ]
  },
  {
   "cell_type": "markdown",
   "metadata": {},
   "source": [
    "**1. Первая гипотеза**\n",
    "\n",
    "Для проверки гипотез принимаем нулевую гипотезу:\n",
    "* H0  — средняя выручка пользователей тарифов «Ультра» и «Смарт» одинакова.\n",
    "\n",
    "Альтернативная гипотеза:\n",
    "* H1  — средняя выручка пользователей тарифов «Ультра» и «Смарт» различаются.\n",
    "\n",
    "Критический уровень статистической значимости зададим равный 5%."
   ]
  },
  {
   "cell_type": "code",
   "execution_count": 16,
   "metadata": {},
   "outputs": [
    {
     "name": "stdout",
     "output_type": "stream",
     "text": [
      "p-значение: 2.758456601732254e-237\n",
      "Отвергаем нулевую гипотезу\n"
     ]
    }
   ],
   "source": [
    "ultra = grouped_data.query('tariff == \"ultra\"')['revenue']\n",
    "smart = grouped_data.query('tariff == \"smart\"')['revenue']\n",
    "\n",
    "alpha = 0.05  # Критический уровень статистической значимости\n",
    "             # если p-value окажется меньше него - отвергнем гипотезу\n",
    "\n",
    "results = st.ttest_ind(ultra, smart, equal_var=False)\n",
    "\n",
    "print('p-значение:', results.pvalue)\n",
    "\n",
    "\n",
    "if (results.pvalue < alpha):\n",
    "    print(\"Отвергаем нулевую гипотезу\")\n",
    "else:\n",
    "    print(\"Не получилось отвергнуть нулевую гипотезу\")"
   ]
  },
  {
   "cell_type": "markdown",
   "metadata": {},
   "source": [
    "Мы отвергаем нулевую гипотезу. Значения средней выручки тарифов «Ультра» и «Смарт» различаются."
   ]
  },
  {
   "cell_type": "markdown",
   "metadata": {},
   "source": [
    "**2. Вторая гипотеза**\n",
    "\n",
    "Для проверки гипотез принимаем нулевую гипотезу:\n",
    "* H0  — средняя выручка пользователей из Москвы не отличается от выручки пользователей из других регионов.\n",
    "\n",
    "Альтернативная гипотеза:\n",
    "* H1  — средняя выручка пользователей из Москвы отличается от выручки пользователей из других регионов. \n",
    "\n",
    "Критический уровень статистической значимости зададим равный 5%."
   ]
  },
  {
   "cell_type": "code",
   "execution_count": 17,
   "metadata": {},
   "outputs": [
    {
     "name": "stdout",
     "output_type": "stream",
     "text": [
      "p-значение: 0.5453953599097974\n",
      "Не получилось отвергнуть нулевую гипотезу\n"
     ]
    }
   ],
   "source": [
    "moscow = grouped_data.query('city == \"Москва\"')['revenue']\n",
    "regions = grouped_data.query('city != \"Москва\"')['revenue']\n",
    "\n",
    "alpha = 0.05  # Критический уровень статистической значимости,\n",
    "             # если p-value окажется меньше него - отвергнем гипотезу\n",
    "\n",
    "results = st.ttest_ind(moscow, regions, equal_var=False)\n",
    "\n",
    "print('p-значение:', results.pvalue)\n",
    "\n",
    "if (results.pvalue < alpha):\n",
    "    print(\"Отвергаем нулевую гипотезу\")\n",
    "else:\n",
    "    print(\"Не получилось отвергнуть нулевую гипотезу\")"
   ]
  },
  {
   "cell_type": "markdown",
   "metadata": {},
   "source": [
    "Мы не можем отвергнуть нулевую гипотезу, поэтому принимаем, что средняя выручка пользователей из Москвы не отличается от пользователей из других регионов."
   ]
  },
  {
   "cell_type": "markdown",
   "metadata": {},
   "source": [
    "**Вывод**\n",
    "\n",
    "В результате проверки гипотез мы получили средующее:\n",
    "* значения средней выручки тарифов «Ультра» и «Смарт» различаются;\n",
    "* средняя выручка пользователей из Москвы не отличается от пользователей из других регионов."
   ]
  },
  {
   "cell_type": "markdown",
   "metadata": {},
   "source": [
    "## Общий вывод"
   ]
  },
  {
   "cell_type": "markdown",
   "metadata": {},
   "source": [
    "**По результатам анализа наших данных мы получили следующее:**\n",
    "\n",
    "* В результате проверки гипотез мы убедились, что средняя выручка пользователей тарифов «Смарт» и «Ультра» различается.\n",
    "* Убедились, что средняя выручка пользователей из Москвы не отличается от пользователей из других регионов.\n",
    "* По результатам статистического анализа доходы от тарифа «Ультра» больше, чем от тарифа «Смарт», поэтому рекламный бюджет выгоднее всего перераспределить в пользу тарифа «Ультра». "
   ]
  }
 ],
 "metadata": {
  "ExecuteTimeLog": [
   {
    "duration": 144,
    "start_time": "2021-08-19T10:25:00.061Z"
   },
   {
    "duration": 1660,
    "start_time": "2021-08-19T10:29:29.210Z"
   },
   {
    "duration": 2926,
    "start_time": "2021-08-19T10:31:07.581Z"
   },
   {
    "duration": 643,
    "start_time": "2021-08-19T10:31:42.198Z"
   },
   {
    "duration": 900,
    "start_time": "2021-08-19T10:32:38.716Z"
   },
   {
    "duration": 168,
    "start_time": "2021-08-19T10:33:33.778Z"
   },
   {
    "duration": 859,
    "start_time": "2021-08-19T10:41:32.605Z"
   },
   {
    "duration": 151,
    "start_time": "2021-08-19T10:42:51.462Z"
   },
   {
    "duration": 60,
    "start_time": "2021-08-19T10:43:02.470Z"
   },
   {
    "duration": 130,
    "start_time": "2021-08-19T10:43:42.477Z"
   },
   {
    "duration": 93,
    "start_time": "2021-08-19T10:44:47.276Z"
   },
   {
    "duration": 119,
    "start_time": "2021-08-19T10:45:07.588Z"
   },
   {
    "duration": 129,
    "start_time": "2021-08-19T10:45:39.901Z"
   },
   {
    "duration": 70,
    "start_time": "2021-08-19T10:45:43.735Z"
   },
   {
    "duration": 426,
    "start_time": "2021-08-19T10:46:11.741Z"
   },
   {
    "duration": 118,
    "start_time": "2021-08-19T10:46:36.934Z"
   },
   {
    "duration": 126,
    "start_time": "2021-08-19T10:46:47.853Z"
   },
   {
    "duration": 117,
    "start_time": "2021-08-19T10:46:54.741Z"
   },
   {
    "duration": 1508,
    "start_time": "2021-08-19T10:47:11.197Z"
   },
   {
    "duration": 597,
    "start_time": "2021-08-19T10:47:12.708Z"
   },
   {
    "duration": 129,
    "start_time": "2021-08-19T10:47:13.308Z"
   },
   {
    "duration": 891,
    "start_time": "2021-08-19T10:47:13.440Z"
   },
   {
    "duration": 79,
    "start_time": "2021-08-19T10:47:51.787Z"
   },
   {
    "duration": 41,
    "start_time": "2021-08-19T10:48:19.604Z"
   },
   {
    "duration": 31,
    "start_time": "2021-08-19T10:48:25.481Z"
   },
   {
    "duration": 21,
    "start_time": "2021-08-19T10:48:47.344Z"
   },
   {
    "duration": 21,
    "start_time": "2021-08-19T10:48:50.625Z"
   },
   {
    "duration": 1626,
    "start_time": "2021-08-19T10:49:27.460Z"
   },
   {
    "duration": 674,
    "start_time": "2021-08-19T10:49:29.089Z"
   },
   {
    "duration": 983,
    "start_time": "2021-08-19T10:49:29.767Z"
   },
   {
    "duration": 56,
    "start_time": "2021-08-19T10:49:30.754Z"
   },
   {
    "duration": 30,
    "start_time": "2021-08-19T10:49:30.812Z"
   },
   {
    "duration": 19,
    "start_time": "2021-08-19T10:49:30.844Z"
   },
   {
    "duration": 42,
    "start_time": "2021-08-19T10:49:30.887Z"
   },
   {
    "duration": 1497,
    "start_time": "2021-08-19T10:51:40.704Z"
   },
   {
    "duration": 583,
    "start_time": "2021-08-19T10:51:42.204Z"
   },
   {
    "duration": 130,
    "start_time": "2021-08-19T10:51:42.791Z"
   },
   {
    "duration": -1281,
    "start_time": "2021-08-19T10:51:44.205Z"
   },
   {
    "duration": -1298,
    "start_time": "2021-08-19T10:51:44.223Z"
   },
   {
    "duration": -1296,
    "start_time": "2021-08-19T10:51:44.223Z"
   },
   {
    "duration": -1309,
    "start_time": "2021-08-19T10:51:44.237Z"
   },
   {
    "duration": -1312,
    "start_time": "2021-08-19T10:51:44.241Z"
   },
   {
    "duration": -1310,
    "start_time": "2021-08-19T10:51:44.241Z"
   },
   {
    "duration": -1309,
    "start_time": "2021-08-19T10:51:44.241Z"
   },
   {
    "duration": -1323,
    "start_time": "2021-08-19T10:51:44.257Z"
   },
   {
    "duration": -1325,
    "start_time": "2021-08-19T10:51:44.260Z"
   },
   {
    "duration": 1784,
    "start_time": "2021-08-19T10:52:24.006Z"
   },
   {
    "duration": 630,
    "start_time": "2021-08-19T10:52:25.793Z"
   },
   {
    "duration": 853,
    "start_time": "2021-08-19T10:52:26.427Z"
   },
   {
    "duration": 40,
    "start_time": "2021-08-19T10:52:27.287Z"
   },
   {
    "duration": 31,
    "start_time": "2021-08-19T10:52:27.329Z"
   },
   {
    "duration": 22,
    "start_time": "2021-08-19T10:52:27.386Z"
   },
   {
    "duration": 29,
    "start_time": "2021-08-19T10:52:27.411Z"
   },
   {
    "duration": 312,
    "start_time": "2021-08-19T10:56:01.835Z"
   },
   {
    "duration": 168,
    "start_time": "2021-08-19T10:56:57.313Z"
   },
   {
    "duration": 134,
    "start_time": "2021-08-19T10:57:11.241Z"
   },
   {
    "duration": 313,
    "start_time": "2021-08-19T10:58:31.164Z"
   },
   {
    "duration": 608,
    "start_time": "2021-08-19T11:30:02.200Z"
   },
   {
    "duration": 605,
    "start_time": "2021-08-19T11:30:28.930Z"
   },
   {
    "duration": 1462,
    "start_time": "2021-08-20T08:06:18.711Z"
   },
   {
    "duration": 621,
    "start_time": "2021-08-20T08:06:21.841Z"
   },
   {
    "duration": 295,
    "start_time": "2021-08-20T08:06:26.802Z"
   },
   {
    "duration": 76,
    "start_time": "2021-08-20T08:06:30.186Z"
   },
   {
    "duration": 16,
    "start_time": "2021-08-20T08:07:49.441Z"
   },
   {
    "duration": 1738,
    "start_time": "2021-08-20T08:08:09.665Z"
   },
   {
    "duration": 876,
    "start_time": "2021-08-20T08:08:11.407Z"
   },
   {
    "duration": 320,
    "start_time": "2021-08-20T08:08:12.289Z"
   },
   {
    "duration": 16,
    "start_time": "2021-08-20T08:08:12.612Z"
   },
   {
    "duration": 118,
    "start_time": "2021-08-20T08:08:12.630Z"
   },
   {
    "duration": 21,
    "start_time": "2021-08-20T08:08:12.750Z"
   },
   {
    "duration": 13,
    "start_time": "2021-08-20T08:08:41.648Z"
   },
   {
    "duration": 1900,
    "start_time": "2021-08-20T08:08:48.436Z"
   },
   {
    "duration": 814,
    "start_time": "2021-08-20T08:08:50.340Z"
   },
   {
    "duration": 419,
    "start_time": "2021-08-20T08:08:51.166Z"
   },
   {
    "duration": 23,
    "start_time": "2021-08-20T08:08:51.589Z"
   },
   {
    "duration": 160,
    "start_time": "2021-08-20T08:08:51.616Z"
   },
   {
    "duration": 17,
    "start_time": "2021-08-20T08:08:51.779Z"
   },
   {
    "duration": 1449,
    "start_time": "2021-08-20T08:09:32.639Z"
   },
   {
    "duration": 599,
    "start_time": "2021-08-20T08:09:34.091Z"
   },
   {
    "duration": 305,
    "start_time": "2021-08-20T08:09:34.694Z"
   },
   {
    "duration": 21,
    "start_time": "2021-08-20T08:09:35.001Z"
   },
   {
    "duration": 96,
    "start_time": "2021-08-20T08:09:35.025Z"
   },
   {
    "duration": 22,
    "start_time": "2021-08-20T08:09:35.123Z"
   },
   {
    "duration": 98,
    "start_time": "2021-08-20T08:10:11.181Z"
   },
   {
    "duration": 19,
    "start_time": "2021-08-20T08:10:20.589Z"
   },
   {
    "duration": 12,
    "start_time": "2021-08-20T08:13:16.289Z"
   },
   {
    "duration": 378,
    "start_time": "2021-08-20T08:13:18.317Z"
   },
   {
    "duration": 277,
    "start_time": "2021-08-20T08:13:24.814Z"
   },
   {
    "duration": 12,
    "start_time": "2021-08-20T08:13:33.456Z"
   },
   {
    "duration": 556,
    "start_time": "2021-08-20T08:16:29.386Z"
   },
   {
    "duration": 565,
    "start_time": "2021-08-20T08:17:22.792Z"
   },
   {
    "duration": 26,
    "start_time": "2021-08-20T08:17:35.400Z"
   },
   {
    "duration": 36,
    "start_time": "2021-08-20T08:18:14.967Z"
   },
   {
    "duration": 1566,
    "start_time": "2021-08-20T08:18:24.920Z"
   },
   {
    "duration": 787,
    "start_time": "2021-08-20T08:18:26.489Z"
   },
   {
    "duration": 415,
    "start_time": "2021-08-20T08:18:27.280Z"
   },
   {
    "duration": 118,
    "start_time": "2021-08-20T08:18:27.698Z"
   },
   {
    "duration": 24,
    "start_time": "2021-08-20T08:18:27.819Z"
   },
   {
    "duration": 23,
    "start_time": "2021-08-20T08:18:27.845Z"
   },
   {
    "duration": 11,
    "start_time": "2021-08-20T08:18:27.871Z"
   },
   {
    "duration": 10,
    "start_time": "2021-08-20T08:18:37.554Z"
   },
   {
    "duration": 1330,
    "start_time": "2021-08-20T19:57:05.895Z"
   },
   {
    "duration": 597,
    "start_time": "2021-08-20T19:57:07.228Z"
   },
   {
    "duration": 303,
    "start_time": "2021-08-20T19:57:07.829Z"
   },
   {
    "duration": 12,
    "start_time": "2021-08-20T19:57:08.135Z"
   },
   {
    "duration": 116,
    "start_time": "2021-08-20T19:57:08.150Z"
   },
   {
    "duration": 625,
    "start_time": "2021-08-20T19:57:08.268Z"
   },
   {
    "duration": 11,
    "start_time": "2021-08-20T20:00:42.946Z"
   },
   {
    "duration": 4,
    "start_time": "2021-08-20T20:09:37.466Z"
   },
   {
    "duration": 1121,
    "start_time": "2021-08-22T16:09:57.029Z"
   },
   {
    "duration": 428,
    "start_time": "2021-08-22T16:09:59.177Z"
   },
   {
    "duration": 198,
    "start_time": "2021-08-22T16:10:03.153Z"
   },
   {
    "duration": 351,
    "start_time": "2021-08-22T16:10:14.296Z"
   },
   {
    "duration": 17,
    "start_time": "2021-08-22T16:10:32.643Z"
   },
   {
    "duration": 10,
    "start_time": "2021-08-22T16:11:05.273Z"
   },
   {
    "duration": 12,
    "start_time": "2021-08-22T16:11:15.400Z"
   },
   {
    "duration": 16,
    "start_time": "2021-08-22T16:12:35.976Z"
   },
   {
    "duration": 4,
    "start_time": "2021-08-22T16:12:55.754Z"
   },
   {
    "duration": 9,
    "start_time": "2021-08-22T16:13:11.810Z"
   },
   {
    "duration": 268,
    "start_time": "2021-08-22T16:14:29.840Z"
   },
   {
    "duration": 4,
    "start_time": "2021-08-22T16:15:14.577Z"
   },
   {
    "duration": 434,
    "start_time": "2021-08-22T16:15:17.019Z"
   },
   {
    "duration": 178,
    "start_time": "2021-08-22T16:15:21.297Z"
   },
   {
    "duration": 14,
    "start_time": "2021-08-22T16:15:24.113Z"
   },
   {
    "duration": 5,
    "start_time": "2021-08-22T16:15:26.504Z"
   },
   {
    "duration": 9,
    "start_time": "2021-08-22T16:15:27.137Z"
   },
   {
    "duration": 15,
    "start_time": "2021-08-22T16:15:28.321Z"
   },
   {
    "duration": 5,
    "start_time": "2021-08-22T16:15:28.913Z"
   },
   {
    "duration": 9,
    "start_time": "2021-08-22T16:15:30.241Z"
   },
   {
    "duration": 324,
    "start_time": "2021-08-22T16:15:35.224Z"
   },
   {
    "duration": 261,
    "start_time": "2021-08-22T16:16:04.265Z"
   },
   {
    "duration": 61,
    "start_time": "2021-08-22T16:16:56.297Z"
   },
   {
    "duration": 38,
    "start_time": "2021-08-22T16:16:58.298Z"
   },
   {
    "duration": 12,
    "start_time": "2021-08-22T16:17:12.354Z"
   },
   {
    "duration": 15,
    "start_time": "2021-08-22T16:17:37.961Z"
   },
   {
    "duration": 16,
    "start_time": "2021-08-22T16:17:59.523Z"
   },
   {
    "duration": 12,
    "start_time": "2021-08-22T16:18:17.585Z"
   },
   {
    "duration": 9,
    "start_time": "2021-08-22T16:19:01.129Z"
   },
   {
    "duration": 14,
    "start_time": "2021-08-22T16:19:12.688Z"
   },
   {
    "duration": 17,
    "start_time": "2021-08-22T16:20:01.300Z"
   },
   {
    "duration": 18,
    "start_time": "2021-08-22T16:20:32.624Z"
   },
   {
    "duration": 11,
    "start_time": "2021-08-22T16:20:47.424Z"
   },
   {
    "duration": 11,
    "start_time": "2021-08-22T16:21:10.937Z"
   },
   {
    "duration": 275,
    "start_time": "2021-08-22T16:21:39.875Z"
   },
   {
    "duration": 260,
    "start_time": "2021-08-22T16:21:46.898Z"
   },
   {
    "duration": 4,
    "start_time": "2021-08-22T16:22:03.072Z"
   },
   {
    "duration": 10,
    "start_time": "2021-08-22T16:22:19.403Z"
   },
   {
    "duration": 9,
    "start_time": "2021-08-22T16:22:42.747Z"
   },
   {
    "duration": 12,
    "start_time": "2021-08-22T16:23:08.618Z"
   },
   {
    "duration": 5,
    "start_time": "2021-08-22T16:24:04.841Z"
   },
   {
    "duration": 627,
    "start_time": "2021-08-22T16:24:20.169Z"
   },
   {
    "duration": 5,
    "start_time": "2021-08-22T16:25:36.944Z"
   },
   {
    "duration": 7131,
    "start_time": "2021-08-22T16:26:15.165Z"
   },
   {
    "duration": 4,
    "start_time": "2021-08-22T16:28:56.066Z"
   },
   {
    "duration": 431,
    "start_time": "2021-08-22T16:28:59.194Z"
   },
   {
    "duration": 170,
    "start_time": "2021-08-22T16:29:04.154Z"
   },
   {
    "duration": 13,
    "start_time": "2021-08-22T16:29:06.122Z"
   },
   {
    "duration": 5,
    "start_time": "2021-08-22T16:29:10.053Z"
   },
   {
    "duration": 9,
    "start_time": "2021-08-22T16:29:12.649Z"
   },
   {
    "duration": 14,
    "start_time": "2021-08-22T16:29:18.336Z"
   },
   {
    "duration": 4,
    "start_time": "2021-08-22T16:29:19.730Z"
   },
   {
    "duration": 8,
    "start_time": "2021-08-22T16:29:21.330Z"
   },
   {
    "duration": 60,
    "start_time": "2021-08-22T16:29:22.345Z"
   },
   {
    "duration": 33,
    "start_time": "2021-08-22T16:29:23.545Z"
   },
   {
    "duration": 11,
    "start_time": "2021-08-22T16:29:24.564Z"
   },
   {
    "duration": 15,
    "start_time": "2021-08-22T16:29:25.538Z"
   },
   {
    "duration": 16,
    "start_time": "2021-08-22T16:29:26.729Z"
   },
   {
    "duration": 11,
    "start_time": "2021-08-22T16:29:27.482Z"
   },
   {
    "duration": 9,
    "start_time": "2021-08-22T16:29:28.370Z"
   },
   {
    "duration": 17,
    "start_time": "2021-08-22T16:29:29.371Z"
   },
   {
    "duration": 16,
    "start_time": "2021-08-22T16:29:30.602Z"
   },
   {
    "duration": 19,
    "start_time": "2021-08-22T16:29:31.273Z"
   },
   {
    "duration": 12,
    "start_time": "2021-08-22T16:29:32.122Z"
   },
   {
    "duration": 10,
    "start_time": "2021-08-22T16:29:32.912Z"
   },
   {
    "duration": 4,
    "start_time": "2021-08-22T16:29:33.688Z"
   },
   {
    "duration": 10,
    "start_time": "2021-08-22T16:29:34.513Z"
   },
   {
    "duration": 9,
    "start_time": "2021-08-22T16:29:35.129Z"
   },
   {
    "duration": 12,
    "start_time": "2021-08-22T16:29:36.140Z"
   },
   {
    "duration": 4,
    "start_time": "2021-08-22T16:29:37.828Z"
   },
   {
    "duration": 6827,
    "start_time": "2021-08-22T16:29:39.193Z"
   },
   {
    "duration": 6,
    "start_time": "2021-08-22T16:33:48.935Z"
   },
   {
    "duration": 4,
    "start_time": "2021-08-22T16:34:50.654Z"
   },
   {
    "duration": 424,
    "start_time": "2021-08-22T16:34:53.096Z"
   },
   {
    "duration": 178,
    "start_time": "2021-08-22T16:34:56.857Z"
   },
   {
    "duration": 67,
    "start_time": "2021-08-22T16:35:07.320Z"
   },
   {
    "duration": 8,
    "start_time": "2021-08-22T16:35:10.519Z"
   },
   {
    "duration": 22,
    "start_time": "2021-08-22T16:35:46.279Z"
   },
   {
    "duration": 9,
    "start_time": "2021-08-22T16:35:47.103Z"
   },
   {
    "duration": 16,
    "start_time": "2021-08-22T16:35:48.615Z"
   },
   {
    "duration": 10,
    "start_time": "2021-08-22T16:35:48.983Z"
   },
   {
    "duration": 435,
    "start_time": "2021-08-22T16:35:54.215Z"
   },
   {
    "duration": 6431,
    "start_time": "2021-08-22T16:36:29.473Z"
   },
   {
    "duration": 4,
    "start_time": "2021-08-22T16:36:47.994Z"
   },
   {
    "duration": 386,
    "start_time": "2021-08-22T16:36:49.425Z"
   },
   {
    "duration": 148,
    "start_time": "2021-08-22T16:36:53.272Z"
   },
   {
    "duration": 65,
    "start_time": "2021-08-22T16:36:55.002Z"
   },
   {
    "duration": 7,
    "start_time": "2021-08-22T16:36:57.328Z"
   },
   {
    "duration": 21,
    "start_time": "2021-08-22T16:36:59.336Z"
   },
   {
    "duration": 10,
    "start_time": "2021-08-22T16:37:02.791Z"
   },
   {
    "duration": 16,
    "start_time": "2021-08-22T16:37:05.657Z"
   },
   {
    "duration": 9,
    "start_time": "2021-08-22T16:37:07.216Z"
   },
   {
    "duration": 6302,
    "start_time": "2021-08-22T16:37:08.362Z"
   },
   {
    "duration": 109,
    "start_time": "2021-08-22T16:38:25.475Z"
   },
   {
    "duration": 73,
    "start_time": "2021-08-22T16:38:34.338Z"
   },
   {
    "duration": 84,
    "start_time": "2021-08-22T16:38:52.344Z"
   },
   {
    "duration": 23,
    "start_time": "2021-08-22T16:39:17.048Z"
   },
   {
    "duration": 20,
    "start_time": "2021-08-22T16:39:38.697Z"
   },
   {
    "duration": 1888,
    "start_time": "2021-08-22T16:39:46.857Z"
   },
   {
    "duration": 6798,
    "start_time": "2021-08-22T16:39:52.794Z"
   },
   {
    "duration": 1066,
    "start_time": "2021-08-22T16:40:43.681Z"
   },
   {
    "duration": 423,
    "start_time": "2021-08-22T16:40:44.749Z"
   },
   {
    "duration": 201,
    "start_time": "2021-08-22T16:40:45.174Z"
   },
   {
    "duration": 103,
    "start_time": "2021-08-22T16:40:45.377Z"
   },
   {
    "duration": 8,
    "start_time": "2021-08-22T16:40:45.482Z"
   },
   {
    "duration": 23,
    "start_time": "2021-08-22T16:40:45.492Z"
   },
   {
    "duration": 25,
    "start_time": "2021-08-22T16:40:45.516Z"
   },
   {
    "duration": 16,
    "start_time": "2021-08-22T16:40:45.543Z"
   },
   {
    "duration": 9,
    "start_time": "2021-08-22T16:40:45.560Z"
   },
   {
    "duration": 137,
    "start_time": "2021-08-22T16:40:45.571Z"
   },
   {
    "duration": 84,
    "start_time": "2021-08-22T16:40:45.710Z"
   },
   {
    "duration": 94,
    "start_time": "2021-08-22T16:40:45.796Z"
   },
   {
    "duration": 23,
    "start_time": "2021-08-22T16:40:45.892Z"
   },
   {
    "duration": 32,
    "start_time": "2021-08-22T16:40:45.916Z"
   },
   {
    "duration": 1835,
    "start_time": "2021-08-22T16:40:45.949Z"
   },
   {
    "duration": 6559,
    "start_time": "2021-08-22T16:40:47.786Z"
   },
   {
    "duration": 7351,
    "start_time": "2021-08-22T16:42:35.395Z"
   },
   {
    "duration": 5,
    "start_time": "2021-08-22T16:44:09.104Z"
   },
   {
    "duration": 314,
    "start_time": "2021-08-22T16:44:24.035Z"
   },
   {
    "duration": 7238,
    "start_time": "2021-08-22T16:45:46.020Z"
   },
   {
    "duration": 15,
    "start_time": "2021-08-22T16:47:33.491Z"
   },
   {
    "duration": 1057,
    "start_time": "2021-08-22T16:47:40.585Z"
   },
   {
    "duration": 430,
    "start_time": "2021-08-22T16:47:41.644Z"
   },
   {
    "duration": 196,
    "start_time": "2021-08-22T16:47:42.076Z"
   },
   {
    "duration": 72,
    "start_time": "2021-08-22T16:47:42.274Z"
   },
   {
    "duration": 6,
    "start_time": "2021-08-22T16:47:42.348Z"
   },
   {
    "duration": 22,
    "start_time": "2021-08-22T16:47:42.356Z"
   },
   {
    "duration": 12,
    "start_time": "2021-08-22T16:47:42.379Z"
   },
   {
    "duration": 16,
    "start_time": "2021-08-22T16:47:42.394Z"
   },
   {
    "duration": 34,
    "start_time": "2021-08-22T16:47:42.412Z"
   },
   {
    "duration": 14,
    "start_time": "2021-08-22T16:47:42.447Z"
   },
   {
    "duration": 137,
    "start_time": "2021-08-22T16:47:42.462Z"
   },
   {
    "duration": 85,
    "start_time": "2021-08-22T16:47:42.601Z"
   },
   {
    "duration": 94,
    "start_time": "2021-08-22T16:47:42.687Z"
   },
   {
    "duration": 24,
    "start_time": "2021-08-22T16:47:42.783Z"
   },
   {
    "duration": 32,
    "start_time": "2021-08-22T16:47:42.809Z"
   },
   {
    "duration": 1741,
    "start_time": "2021-08-22T16:47:42.843Z"
   },
   {
    "duration": 5,
    "start_time": "2021-08-22T16:47:44.586Z"
   },
   {
    "duration": 7692,
    "start_time": "2021-08-22T16:47:44.592Z"
   },
   {
    "duration": 1132,
    "start_time": "2021-08-22T16:50:25.610Z"
   },
   {
    "duration": 423,
    "start_time": "2021-08-22T16:50:26.744Z"
   },
   {
    "duration": 203,
    "start_time": "2021-08-22T16:50:27.171Z"
   },
   {
    "duration": 75,
    "start_time": "2021-08-22T16:50:27.376Z"
   },
   {
    "duration": 6,
    "start_time": "2021-08-22T16:50:27.453Z"
   },
   {
    "duration": 22,
    "start_time": "2021-08-22T16:50:27.461Z"
   },
   {
    "duration": 13,
    "start_time": "2021-08-22T16:50:27.486Z"
   },
   {
    "duration": 21,
    "start_time": "2021-08-22T16:50:27.500Z"
   },
   {
    "duration": 25,
    "start_time": "2021-08-22T16:50:27.522Z"
   },
   {
    "duration": 312,
    "start_time": "2021-08-22T16:50:27.548Z"
   },
   {
    "duration": 19,
    "start_time": "2021-08-22T16:50:27.862Z"
   },
   {
    "duration": 8448,
    "start_time": "2021-08-22T16:50:27.882Z"
   },
   {
    "duration": 1092,
    "start_time": "2021-08-22T16:52:54.251Z"
   },
   {
    "duration": 433,
    "start_time": "2021-08-22T16:52:55.345Z"
   },
   {
    "duration": 197,
    "start_time": "2021-08-22T16:52:55.780Z"
   },
   {
    "duration": 75,
    "start_time": "2021-08-22T16:52:55.979Z"
   },
   {
    "duration": 6,
    "start_time": "2021-08-22T16:52:56.056Z"
   },
   {
    "duration": 543,
    "start_time": "2021-08-22T16:52:56.064Z"
   },
   {
    "duration": 15,
    "start_time": "2021-08-22T16:52:56.609Z"
   },
   {
    "duration": 527,
    "start_time": "2021-08-22T16:52:56.626Z"
   },
   {
    "duration": 9,
    "start_time": "2021-08-22T16:52:57.155Z"
   },
   {
    "duration": 317,
    "start_time": "2021-08-22T16:52:57.165Z"
   },
   {
    "duration": 8628,
    "start_time": "2021-08-22T16:52:57.483Z"
   },
   {
    "duration": 121,
    "start_time": "2021-08-22T17:11:49.465Z"
   },
   {
    "duration": 1118,
    "start_time": "2021-08-22T17:22:27.734Z"
   },
   {
    "duration": 426,
    "start_time": "2021-08-22T17:22:28.854Z"
   },
   {
    "duration": 200,
    "start_time": "2021-08-22T17:22:29.284Z"
   },
   {
    "duration": 74,
    "start_time": "2021-08-22T17:22:29.486Z"
   },
   {
    "duration": 341,
    "start_time": "2021-08-22T17:22:29.562Z"
   },
   {
    "duration": 220,
    "start_time": "2021-08-22T17:22:29.685Z"
   },
   {
    "duration": 186,
    "start_time": "2021-08-22T17:22:29.720Z"
   },
   {
    "duration": 126,
    "start_time": "2021-08-22T17:22:29.781Z"
   },
   {
    "duration": 82,
    "start_time": "2021-08-22T17:22:29.826Z"
   },
   {
    "duration": 50,
    "start_time": "2021-08-22T17:22:29.859Z"
   },
   {
    "duration": 30,
    "start_time": "2021-08-22T17:22:29.879Z"
   },
   {
    "duration": -6,
    "start_time": "2021-08-22T17:22:29.916Z"
   },
   {
    "duration": -34,
    "start_time": "2021-08-22T17:22:29.945Z"
   },
   {
    "duration": -43,
    "start_time": "2021-08-22T17:22:29.955Z"
   },
   {
    "duration": -48,
    "start_time": "2021-08-22T17:22:29.960Z"
   },
   {
    "duration": -50,
    "start_time": "2021-08-22T17:22:29.964Z"
   },
   {
    "duration": -54,
    "start_time": "2021-08-22T17:22:29.968Z"
   },
   {
    "duration": -57,
    "start_time": "2021-08-22T17:22:29.972Z"
   },
   {
    "duration": -62,
    "start_time": "2021-08-22T17:22:29.978Z"
   },
   {
    "duration": -64,
    "start_time": "2021-08-22T17:22:29.981Z"
   },
   {
    "duration": -69,
    "start_time": "2021-08-22T17:22:29.986Z"
   },
   {
    "duration": -72,
    "start_time": "2021-08-22T17:22:29.990Z"
   },
   {
    "duration": -76,
    "start_time": "2021-08-22T17:22:29.995Z"
   },
   {
    "duration": -82,
    "start_time": "2021-08-22T17:22:30.001Z"
   },
   {
    "duration": -86,
    "start_time": "2021-08-22T17:22:30.006Z"
   },
   {
    "duration": -92,
    "start_time": "2021-08-22T17:22:30.013Z"
   },
   {
    "duration": -94,
    "start_time": "2021-08-22T17:22:30.016Z"
   },
   {
    "duration": -97,
    "start_time": "2021-08-22T17:22:30.020Z"
   },
   {
    "duration": -101,
    "start_time": "2021-08-22T17:22:30.025Z"
   },
   {
    "duration": -105,
    "start_time": "2021-08-22T17:22:30.030Z"
   },
   {
    "duration": 1094,
    "start_time": "2021-08-22T17:25:12.140Z"
   },
   {
    "duration": 452,
    "start_time": "2021-08-22T17:25:13.236Z"
   },
   {
    "duration": 201,
    "start_time": "2021-08-22T17:25:13.690Z"
   },
   {
    "duration": 73,
    "start_time": "2021-08-22T17:25:13.893Z"
   },
   {
    "duration": 9,
    "start_time": "2021-08-22T17:25:13.968Z"
   },
   {
    "duration": 17,
    "start_time": "2021-08-22T17:25:13.979Z"
   },
   {
    "duration": 27,
    "start_time": "2021-08-22T17:25:13.998Z"
   },
   {
    "duration": 13,
    "start_time": "2021-08-22T17:25:14.028Z"
   },
   {
    "duration": 16,
    "start_time": "2021-08-22T17:25:14.043Z"
   },
   {
    "duration": 277,
    "start_time": "2021-08-22T17:25:14.061Z"
   },
   {
    "duration": 18,
    "start_time": "2021-08-22T17:25:14.340Z"
   },
   {
    "duration": 22,
    "start_time": "2021-08-22T17:25:14.360Z"
   },
   {
    "duration": 13,
    "start_time": "2021-08-22T17:25:14.384Z"
   },
   {
    "duration": 42,
    "start_time": "2021-08-22T17:25:14.399Z"
   },
   {
    "duration": 18,
    "start_time": "2021-08-22T17:25:14.443Z"
   },
   {
    "duration": 13,
    "start_time": "2021-08-22T17:25:14.463Z"
   },
   {
    "duration": 16,
    "start_time": "2021-08-22T17:25:14.478Z"
   },
   {
    "duration": 28,
    "start_time": "2021-08-22T17:25:14.495Z"
   },
   {
    "duration": 29,
    "start_time": "2021-08-22T17:25:14.525Z"
   },
   {
    "duration": 24,
    "start_time": "2021-08-22T17:25:14.555Z"
   },
   {
    "duration": 12,
    "start_time": "2021-08-22T17:25:14.581Z"
   },
   {
    "duration": 21,
    "start_time": "2021-08-22T17:25:14.595Z"
   },
   {
    "duration": 9,
    "start_time": "2021-08-22T17:25:14.620Z"
   },
   {
    "duration": 16,
    "start_time": "2021-08-22T17:25:14.641Z"
   },
   {
    "duration": 16,
    "start_time": "2021-08-22T17:25:14.659Z"
   },
   {
    "duration": 24,
    "start_time": "2021-08-22T17:25:14.677Z"
   },
   {
    "duration": 20,
    "start_time": "2021-08-22T17:25:14.702Z"
   },
   {
    "duration": 6847,
    "start_time": "2021-08-22T17:25:14.723Z"
   },
   {
    "duration": 192,
    "start_time": "2021-08-22T17:25:21.379Z"
   },
   {
    "duration": 184,
    "start_time": "2021-08-22T17:25:21.388Z"
   },
   {
    "duration": 4,
    "start_time": "2021-08-22T17:31:17.974Z"
   },
   {
    "duration": 13,
    "start_time": "2021-08-22T17:32:22.403Z"
   },
   {
    "duration": 4,
    "start_time": "2021-08-22T17:32:38.461Z"
   },
   {
    "duration": 417,
    "start_time": "2021-08-22T17:32:40.684Z"
   },
   {
    "duration": 161,
    "start_time": "2021-08-22T17:32:44.597Z"
   },
   {
    "duration": 63,
    "start_time": "2021-08-22T17:32:46.836Z"
   },
   {
    "duration": 4,
    "start_time": "2021-08-22T17:32:49.803Z"
   },
   {
    "duration": 14,
    "start_time": "2021-08-22T17:32:51.538Z"
   },
   {
    "duration": 1132,
    "start_time": "2021-08-22T17:33:00.217Z"
   },
   {
    "duration": 435,
    "start_time": "2021-08-22T17:33:01.351Z"
   },
   {
    "duration": 206,
    "start_time": "2021-08-22T17:33:01.788Z"
   },
   {
    "duration": 74,
    "start_time": "2021-08-22T17:33:01.996Z"
   },
   {
    "duration": 4,
    "start_time": "2021-08-22T17:33:02.071Z"
   },
   {
    "duration": 13,
    "start_time": "2021-08-22T17:33:36.220Z"
   },
   {
    "duration": 20,
    "start_time": "2021-08-22T17:34:02.387Z"
   },
   {
    "duration": 1081,
    "start_time": "2021-08-22T17:35:02.968Z"
   },
   {
    "duration": 428,
    "start_time": "2021-08-22T17:35:04.051Z"
   },
   {
    "duration": 202,
    "start_time": "2021-08-22T17:35:04.482Z"
   },
   {
    "duration": 4,
    "start_time": "2021-08-22T17:35:04.686Z"
   },
   {
    "duration": 20,
    "start_time": "2021-08-22T17:35:04.691Z"
   },
   {
    "duration": 8,
    "start_time": "2021-08-22T17:35:04.712Z"
   },
   {
    "duration": 11,
    "start_time": "2021-08-22T17:35:04.740Z"
   },
   {
    "duration": 67,
    "start_time": "2021-08-22T17:35:04.753Z"
   },
   {
    "duration": 3,
    "start_time": "2021-08-22T17:35:38.103Z"
   },
   {
    "duration": 75,
    "start_time": "2021-08-22T17:36:17.472Z"
   },
   {
    "duration": 344,
    "start_time": "2021-08-22T17:36:47.468Z"
   },
   {
    "duration": 45,
    "start_time": "2021-08-22T17:36:57.986Z"
   },
   {
    "duration": 44,
    "start_time": "2021-08-22T17:37:29.962Z"
   },
   {
    "duration": 6,
    "start_time": "2021-08-22T17:37:56.856Z"
   },
   {
    "duration": 14,
    "start_time": "2021-08-22T17:38:20.007Z"
   },
   {
    "duration": 6,
    "start_time": "2021-08-22T17:38:32.640Z"
   },
   {
    "duration": 17,
    "start_time": "2021-08-22T17:38:46.512Z"
   },
   {
    "duration": 5,
    "start_time": "2021-08-22T17:39:46.376Z"
   },
   {
    "duration": 116,
    "start_time": "2021-08-22T17:40:07.168Z"
   },
   {
    "duration": 17,
    "start_time": "2021-08-22T17:40:33.616Z"
   },
   {
    "duration": 12,
    "start_time": "2021-08-22T17:40:49.879Z"
   },
   {
    "duration": 12,
    "start_time": "2021-08-22T17:41:09.066Z"
   },
   {
    "duration": 14,
    "start_time": "2021-08-22T17:42:02.650Z"
   },
   {
    "duration": 394,
    "start_time": "2021-08-22T17:42:33.492Z"
   },
   {
    "duration": 5,
    "start_time": "2021-08-22T17:43:14.643Z"
   },
   {
    "duration": 6,
    "start_time": "2021-08-22T17:43:29.691Z"
   },
   {
    "duration": 6,
    "start_time": "2021-08-22T17:43:43.530Z"
   },
   {
    "duration": 7,
    "start_time": "2021-08-22T17:43:56.108Z"
   },
   {
    "duration": 7,
    "start_time": "2021-08-22T17:44:13.419Z"
   },
   {
    "duration": 376,
    "start_time": "2021-08-22T17:44:26.812Z"
   },
   {
    "duration": 4,
    "start_time": "2021-08-22T17:44:41.059Z"
   },
   {
    "duration": 6,
    "start_time": "2021-08-22T17:44:54.068Z"
   },
   {
    "duration": 6,
    "start_time": "2021-08-22T17:45:04.187Z"
   },
   {
    "duration": 7,
    "start_time": "2021-08-22T17:45:12.860Z"
   },
   {
    "duration": 10,
    "start_time": "2021-08-22T17:45:26.156Z"
   },
   {
    "duration": 454,
    "start_time": "2021-08-22T17:45:43.051Z"
   },
   {
    "duration": 5,
    "start_time": "2021-08-22T17:45:53.635Z"
   },
   {
    "duration": 6,
    "start_time": "2021-08-22T17:46:01.714Z"
   },
   {
    "duration": 9,
    "start_time": "2021-08-22T17:46:15.971Z"
   },
   {
    "duration": 13,
    "start_time": "2021-08-22T17:46:27.843Z"
   },
   {
    "duration": 13,
    "start_time": "2021-08-22T17:46:39.755Z"
   },
   {
    "duration": 5,
    "start_time": "2021-08-22T17:46:57.851Z"
   },
   {
    "duration": 10,
    "start_time": "2021-08-22T17:47:10.675Z"
   },
   {
    "duration": 7,
    "start_time": "2021-08-22T17:47:30.436Z"
   },
   {
    "duration": 7,
    "start_time": "2021-08-22T17:47:37.978Z"
   },
   {
    "duration": 7,
    "start_time": "2021-08-22T17:47:49.179Z"
   },
   {
    "duration": 1105,
    "start_time": "2021-08-22T17:48:25.745Z"
   },
   {
    "duration": 430,
    "start_time": "2021-08-22T17:48:26.852Z"
   },
   {
    "duration": 200,
    "start_time": "2021-08-22T17:48:27.284Z"
   },
   {
    "duration": 3,
    "start_time": "2021-08-22T17:48:27.486Z"
   },
   {
    "duration": 24,
    "start_time": "2021-08-22T17:48:27.491Z"
   },
   {
    "duration": 8,
    "start_time": "2021-08-22T17:48:27.517Z"
   },
   {
    "duration": 24,
    "start_time": "2021-08-22T17:48:27.527Z"
   },
   {
    "duration": 66,
    "start_time": "2021-08-22T17:48:27.553Z"
   },
   {
    "duration": 3,
    "start_time": "2021-08-22T17:48:27.621Z"
   },
   {
    "duration": 92,
    "start_time": "2021-08-22T17:48:27.625Z"
   },
   {
    "duration": 56,
    "start_time": "2021-08-22T17:48:27.718Z"
   },
   {
    "duration": 43,
    "start_time": "2021-08-22T17:48:27.776Z"
   },
   {
    "duration": 19,
    "start_time": "2021-08-22T17:48:27.821Z"
   },
   {
    "duration": 13,
    "start_time": "2021-08-22T17:48:27.843Z"
   },
   {
    "duration": 7,
    "start_time": "2021-08-22T17:48:27.857Z"
   },
   {
    "duration": 20,
    "start_time": "2021-08-22T17:48:27.866Z"
   },
   {
    "duration": 5,
    "start_time": "2021-08-22T17:48:27.888Z"
   },
   {
    "duration": 139,
    "start_time": "2021-08-22T17:48:27.895Z"
   },
   {
    "duration": 19,
    "start_time": "2021-08-22T17:48:28.035Z"
   },
   {
    "duration": 11,
    "start_time": "2021-08-22T17:48:28.057Z"
   },
   {
    "duration": 13,
    "start_time": "2021-08-22T17:48:28.070Z"
   },
   {
    "duration": 12,
    "start_time": "2021-08-22T17:48:28.085Z"
   },
   {
    "duration": 42,
    "start_time": "2021-08-22T17:48:28.101Z"
   },
   {
    "duration": 8,
    "start_time": "2021-08-22T17:48:28.145Z"
   },
   {
    "duration": 412,
    "start_time": "2021-08-22T17:48:28.155Z"
   },
   {
    "duration": 5,
    "start_time": "2021-08-22T17:48:28.569Z"
   },
   {
    "duration": 7,
    "start_time": "2021-08-22T17:48:28.576Z"
   },
   {
    "duration": 10,
    "start_time": "2021-08-22T17:48:28.585Z"
   },
   {
    "duration": 17,
    "start_time": "2021-08-22T17:48:28.597Z"
   },
   {
    "duration": 26,
    "start_time": "2021-08-22T17:48:28.616Z"
   },
   {
    "duration": 399,
    "start_time": "2021-08-22T17:48:28.644Z"
   },
   {
    "duration": 5,
    "start_time": "2021-08-22T17:48:29.045Z"
   },
   {
    "duration": 8,
    "start_time": "2021-08-22T17:48:29.052Z"
   },
   {
    "duration": 11,
    "start_time": "2021-08-22T17:48:29.062Z"
   },
   {
    "duration": 18,
    "start_time": "2021-08-22T17:48:29.075Z"
   },
   {
    "duration": 8,
    "start_time": "2021-08-22T17:48:29.095Z"
   },
   {
    "duration": 466,
    "start_time": "2021-08-22T17:48:29.105Z"
   },
   {
    "duration": 5,
    "start_time": "2021-08-22T17:48:29.573Z"
   },
   {
    "duration": 7,
    "start_time": "2021-08-22T17:48:29.580Z"
   },
   {
    "duration": 10,
    "start_time": "2021-08-22T17:48:29.589Z"
   },
   {
    "duration": 15,
    "start_time": "2021-08-22T17:48:29.601Z"
   },
   {
    "duration": 13,
    "start_time": "2021-08-22T17:48:29.641Z"
   },
   {
    "duration": 6,
    "start_time": "2021-08-22T17:48:29.656Z"
   },
   {
    "duration": 11,
    "start_time": "2021-08-22T17:48:29.664Z"
   },
   {
    "duration": 6,
    "start_time": "2021-08-22T17:48:29.677Z"
   },
   {
    "duration": 9,
    "start_time": "2021-08-22T17:48:29.684Z"
   },
   {
    "duration": 10,
    "start_time": "2021-08-22T17:48:29.694Z"
   },
   {
    "duration": 1149,
    "start_time": "2021-08-22T18:13:49.003Z"
   },
   {
    "duration": 490,
    "start_time": "2021-08-22T18:13:50.154Z"
   },
   {
    "duration": 66,
    "start_time": "2021-08-22T18:13:50.646Z"
   },
   {
    "duration": 4,
    "start_time": "2021-08-22T18:13:50.714Z"
   },
   {
    "duration": 36,
    "start_time": "2021-08-22T18:13:50.720Z"
   },
   {
    "duration": 9,
    "start_time": "2021-08-22T18:13:50.758Z"
   },
   {
    "duration": 16,
    "start_time": "2021-08-22T18:13:50.768Z"
   },
   {
    "duration": 82,
    "start_time": "2021-08-22T18:13:50.786Z"
   },
   {
    "duration": 3,
    "start_time": "2021-08-22T18:13:50.870Z"
   },
   {
    "duration": 74,
    "start_time": "2021-08-22T18:13:50.874Z"
   },
   {
    "duration": 342,
    "start_time": "2021-08-22T18:13:50.950Z"
   },
   {
    "duration": 219,
    "start_time": "2021-08-22T18:13:51.075Z"
   },
   {
    "duration": 214,
    "start_time": "2021-08-22T18:13:51.081Z"
   },
   {
    "duration": 209,
    "start_time": "2021-08-22T18:13:51.087Z"
   },
   {
    "duration": 202,
    "start_time": "2021-08-22T18:13:51.095Z"
   },
   {
    "duration": 199,
    "start_time": "2021-08-22T18:13:51.099Z"
   },
   {
    "duration": 195,
    "start_time": "2021-08-22T18:13:51.104Z"
   },
   {
    "duration": 190,
    "start_time": "2021-08-22T18:13:51.110Z"
   },
   {
    "duration": 186,
    "start_time": "2021-08-22T18:13:51.115Z"
   },
   {
    "duration": 182,
    "start_time": "2021-08-22T18:13:51.120Z"
   },
   {
    "duration": 177,
    "start_time": "2021-08-22T18:13:51.126Z"
   },
   {
    "duration": 174,
    "start_time": "2021-08-22T18:13:51.130Z"
   },
   {
    "duration": 168,
    "start_time": "2021-08-22T18:13:51.137Z"
   },
   {
    "duration": 163,
    "start_time": "2021-08-22T18:13:51.143Z"
   },
   {
    "duration": 160,
    "start_time": "2021-08-22T18:13:51.147Z"
   },
   {
    "duration": 145,
    "start_time": "2021-08-22T18:13:51.163Z"
   },
   {
    "duration": 139,
    "start_time": "2021-08-22T18:13:51.169Z"
   },
   {
    "duration": 136,
    "start_time": "2021-08-22T18:13:51.173Z"
   },
   {
    "duration": 130,
    "start_time": "2021-08-22T18:13:51.180Z"
   },
   {
    "duration": 126,
    "start_time": "2021-08-22T18:13:51.185Z"
   },
   {
    "duration": 121,
    "start_time": "2021-08-22T18:13:51.191Z"
   },
   {
    "duration": 117,
    "start_time": "2021-08-22T18:13:51.196Z"
   },
   {
    "duration": 113,
    "start_time": "2021-08-22T18:13:51.201Z"
   },
   {
    "duration": 108,
    "start_time": "2021-08-22T18:13:51.207Z"
   },
   {
    "duration": 101,
    "start_time": "2021-08-22T18:13:51.215Z"
   },
   {
    "duration": 96,
    "start_time": "2021-08-22T18:13:51.221Z"
   },
   {
    "duration": 91,
    "start_time": "2021-08-22T18:13:51.227Z"
   },
   {
    "duration": 86,
    "start_time": "2021-08-22T18:13:51.232Z"
   },
   {
    "duration": 82,
    "start_time": "2021-08-22T18:13:51.237Z"
   },
   {
    "duration": 78,
    "start_time": "2021-08-22T18:13:51.242Z"
   },
   {
    "duration": 74,
    "start_time": "2021-08-22T18:13:51.247Z"
   },
   {
    "duration": 70,
    "start_time": "2021-08-22T18:13:51.252Z"
   },
   {
    "duration": 66,
    "start_time": "2021-08-22T18:13:51.257Z"
   },
   {
    "duration": 48,
    "start_time": "2021-08-22T18:13:51.275Z"
   },
   {
    "duration": 42,
    "start_time": "2021-08-22T18:13:51.282Z"
   },
   {
    "duration": 38,
    "start_time": "2021-08-22T18:13:51.287Z"
   },
   {
    "duration": 32,
    "start_time": "2021-08-22T18:13:51.294Z"
   },
   {
    "duration": 1111,
    "start_time": "2021-08-22T18:15:50.501Z"
   },
   {
    "duration": 430,
    "start_time": "2021-08-22T18:15:51.614Z"
   },
   {
    "duration": 195,
    "start_time": "2021-08-22T18:15:52.046Z"
   },
   {
    "duration": 4,
    "start_time": "2021-08-22T18:15:52.242Z"
   },
   {
    "duration": 20,
    "start_time": "2021-08-22T18:15:52.247Z"
   },
   {
    "duration": 8,
    "start_time": "2021-08-22T18:15:52.269Z"
   },
   {
    "duration": 12,
    "start_time": "2021-08-22T18:15:52.279Z"
   },
   {
    "duration": 91,
    "start_time": "2021-08-22T18:15:52.293Z"
   },
   {
    "duration": 3,
    "start_time": "2021-08-22T18:15:52.386Z"
   },
   {
    "duration": 85,
    "start_time": "2021-08-22T18:15:52.390Z"
   },
   {
    "duration": 44,
    "start_time": "2021-08-22T18:15:52.476Z"
   },
   {
    "duration": 51,
    "start_time": "2021-08-22T18:15:52.521Z"
   },
   {
    "duration": 5,
    "start_time": "2021-08-22T18:15:52.574Z"
   },
   {
    "duration": 30,
    "start_time": "2021-08-22T18:15:52.581Z"
   },
   {
    "duration": 14,
    "start_time": "2021-08-22T18:15:52.612Z"
   },
   {
    "duration": 22,
    "start_time": "2021-08-22T18:15:52.628Z"
   },
   {
    "duration": 5,
    "start_time": "2021-08-22T18:15:52.651Z"
   },
   {
    "duration": 130,
    "start_time": "2021-08-22T18:15:52.658Z"
   },
   {
    "duration": 17,
    "start_time": "2021-08-22T18:15:52.790Z"
   },
   {
    "duration": 11,
    "start_time": "2021-08-22T18:15:52.809Z"
   },
   {
    "duration": 26,
    "start_time": "2021-08-22T18:15:52.822Z"
   },
   {
    "duration": 12,
    "start_time": "2021-08-22T18:15:52.850Z"
   },
   {
    "duration": 19,
    "start_time": "2021-08-22T18:15:52.865Z"
   },
   {
    "duration": 15,
    "start_time": "2021-08-22T18:15:52.886Z"
   },
   {
    "duration": 408,
    "start_time": "2021-08-22T18:15:52.903Z"
   },
   {
    "duration": 4,
    "start_time": "2021-08-22T18:15:53.313Z"
   },
   {
    "duration": 22,
    "start_time": "2021-08-22T18:15:53.319Z"
   },
   {
    "duration": 9,
    "start_time": "2021-08-22T18:15:53.343Z"
   },
   {
    "duration": 8,
    "start_time": "2021-08-22T18:15:53.354Z"
   },
   {
    "duration": 7,
    "start_time": "2021-08-22T18:15:53.364Z"
   },
   {
    "duration": 394,
    "start_time": "2021-08-22T18:15:53.372Z"
   },
   {
    "duration": 4,
    "start_time": "2021-08-22T18:15:53.768Z"
   },
   {
    "duration": 8,
    "start_time": "2021-08-22T18:15:53.774Z"
   },
   {
    "duration": 8,
    "start_time": "2021-08-22T18:15:53.784Z"
   },
   {
    "duration": 11,
    "start_time": "2021-08-22T18:15:53.794Z"
   },
   {
    "duration": 14,
    "start_time": "2021-08-22T18:15:53.806Z"
   },
   {
    "duration": 485,
    "start_time": "2021-08-22T18:15:53.821Z"
   },
   {
    "duration": 5,
    "start_time": "2021-08-22T18:15:54.308Z"
   },
   {
    "duration": 9,
    "start_time": "2021-08-22T18:15:54.314Z"
   },
   {
    "duration": 20,
    "start_time": "2021-08-22T18:15:54.324Z"
   },
   {
    "duration": 14,
    "start_time": "2021-08-22T18:15:54.346Z"
   },
   {
    "duration": 14,
    "start_time": "2021-08-22T18:15:54.362Z"
   },
   {
    "duration": 5,
    "start_time": "2021-08-22T18:15:54.377Z"
   },
   {
    "duration": 10,
    "start_time": "2021-08-22T18:15:54.384Z"
   },
   {
    "duration": 6,
    "start_time": "2021-08-22T18:15:54.396Z"
   },
   {
    "duration": 38,
    "start_time": "2021-08-22T18:15:54.404Z"
   },
   {
    "duration": 8,
    "start_time": "2021-08-22T18:15:54.444Z"
   },
   {
    "duration": 1126,
    "start_time": "2021-08-23T07:27:16.121Z"
   },
   {
    "duration": 434,
    "start_time": "2021-08-23T07:27:19.564Z"
   },
   {
    "duration": 194,
    "start_time": "2021-08-23T07:27:23.570Z"
   },
   {
    "duration": 42,
    "start_time": "2021-08-23T07:27:25.780Z"
   },
   {
    "duration": 65,
    "start_time": "2021-08-23T07:36:19.652Z"
   },
   {
    "duration": 16,
    "start_time": "2021-08-23T07:36:22.698Z"
   },
   {
    "duration": 352,
    "start_time": "2021-08-23T07:36:46.581Z"
   },
   {
    "duration": 1118,
    "start_time": "2021-08-23T07:38:09.033Z"
   },
   {
    "duration": 458,
    "start_time": "2021-08-23T07:38:10.153Z"
   },
   {
    "duration": 213,
    "start_time": "2021-08-23T07:38:10.614Z"
   },
   {
    "duration": 53,
    "start_time": "2021-08-23T07:38:10.829Z"
   },
   {
    "duration": 83,
    "start_time": "2021-08-23T07:38:10.884Z"
   },
   {
    "duration": 12,
    "start_time": "2021-08-23T07:38:10.969Z"
   },
   {
    "duration": 342,
    "start_time": "2021-08-23T07:38:37.954Z"
   },
   {
    "duration": 13,
    "start_time": "2021-08-23T07:46:47.464Z"
   },
   {
    "duration": 93,
    "start_time": "2021-08-23T07:47:55.105Z"
   },
   {
    "duration": 80,
    "start_time": "2021-08-23T07:48:16.226Z"
   },
   {
    "duration": 44,
    "start_time": "2021-08-23T07:48:55.307Z"
   },
   {
    "duration": 42,
    "start_time": "2021-08-23T07:49:42.259Z"
   },
   {
    "duration": 38,
    "start_time": "2021-08-23T07:49:59.331Z"
   },
   {
    "duration": 1114,
    "start_time": "2021-08-23T07:54:54.665Z"
   },
   {
    "duration": 464,
    "start_time": "2021-08-23T07:54:55.781Z"
   },
   {
    "duration": 272,
    "start_time": "2021-08-23T07:54:56.248Z"
   },
   {
    "duration": 67,
    "start_time": "2021-08-23T07:54:56.523Z"
   },
   {
    "duration": 101,
    "start_time": "2021-08-23T07:54:56.592Z"
   },
   {
    "duration": 13,
    "start_time": "2021-08-23T07:54:56.694Z"
   },
   {
    "duration": 100,
    "start_time": "2021-08-23T07:54:56.709Z"
   },
   {
    "duration": 57,
    "start_time": "2021-08-23T07:54:56.811Z"
   },
   {
    "duration": 44,
    "start_time": "2021-08-23T07:54:56.870Z"
   },
   {
    "duration": 349,
    "start_time": "2021-08-23T07:57:07.726Z"
   },
   {
    "duration": 1056,
    "start_time": "2021-08-23T08:33:56.294Z"
   },
   {
    "duration": 436,
    "start_time": "2021-08-23T08:33:57.352Z"
   },
   {
    "duration": 205,
    "start_time": "2021-08-23T08:33:57.790Z"
   },
   {
    "duration": 54,
    "start_time": "2021-08-23T08:33:57.996Z"
   },
   {
    "duration": 65,
    "start_time": "2021-08-23T08:33:58.052Z"
   },
   {
    "duration": 25,
    "start_time": "2021-08-23T08:33:58.119Z"
   },
   {
    "duration": 48,
    "start_time": "2021-08-23T08:33:58.145Z"
   },
   {
    "duration": 318,
    "start_time": "2021-08-23T08:34:34.731Z"
   },
   {
    "duration": 8750,
    "start_time": "2021-08-23T08:34:53.084Z"
   },
   {
    "duration": 1050,
    "start_time": "2021-08-23T08:36:21.595Z"
   },
   {
    "duration": 429,
    "start_time": "2021-08-23T08:36:22.647Z"
   },
   {
    "duration": 203,
    "start_time": "2021-08-23T08:36:23.079Z"
   },
   {
    "duration": 39,
    "start_time": "2021-08-23T08:36:23.284Z"
   },
   {
    "duration": 75,
    "start_time": "2021-08-23T08:36:23.325Z"
   },
   {
    "duration": 11,
    "start_time": "2021-08-23T08:36:23.402Z"
   },
   {
    "duration": 61,
    "start_time": "2021-08-23T08:36:23.415Z"
   },
   {
    "duration": 332,
    "start_time": "2021-08-23T08:36:23.478Z"
   },
   {
    "duration": 19,
    "start_time": "2021-08-23T08:36:23.811Z"
   },
   {
    "duration": 5,
    "start_time": "2021-08-23T08:38:41.500Z"
   },
   {
    "duration": 1891,
    "start_time": "2021-08-23T08:40:54.788Z"
   },
   {
    "duration": 531,
    "start_time": "2021-08-23T08:43:43.588Z"
   },
   {
    "duration": 6,
    "start_time": "2021-08-23T08:45:03.087Z"
   },
   {
    "duration": 26,
    "start_time": "2021-08-23T08:45:36.402Z"
   },
   {
    "duration": 6,
    "start_time": "2021-08-23T08:45:38.019Z"
   },
   {
    "duration": 21,
    "start_time": "2021-08-23T08:46:13.056Z"
   },
   {
    "duration": 6,
    "start_time": "2021-08-23T08:46:14.737Z"
   },
   {
    "duration": 20,
    "start_time": "2021-08-23T08:46:17.377Z"
   },
   {
    "duration": 6,
    "start_time": "2021-08-23T08:46:19.168Z"
   },
   {
    "duration": 516,
    "start_time": "2021-08-23T08:51:02.247Z"
   },
   {
    "duration": 1131,
    "start_time": "2021-08-23T08:51:11.540Z"
   },
   {
    "duration": 452,
    "start_time": "2021-08-23T08:51:12.673Z"
   },
   {
    "duration": 213,
    "start_time": "2021-08-23T08:51:13.128Z"
   },
   {
    "duration": 44,
    "start_time": "2021-08-23T08:51:13.342Z"
   },
   {
    "duration": 87,
    "start_time": "2021-08-23T08:51:13.387Z"
   },
   {
    "duration": 13,
    "start_time": "2021-08-23T08:51:13.477Z"
   },
   {
    "duration": 64,
    "start_time": "2021-08-23T08:51:13.491Z"
   },
   {
    "duration": 342,
    "start_time": "2021-08-23T08:51:13.558Z"
   },
   {
    "duration": 24,
    "start_time": "2021-08-23T08:51:13.902Z"
   },
   {
    "duration": 6,
    "start_time": "2021-08-23T08:51:13.940Z"
   },
   {
    "duration": 637,
    "start_time": "2021-08-23T08:51:13.948Z"
   },
   {
    "duration": 1826,
    "start_time": "2021-08-23T08:51:14.587Z"
   },
   {
    "duration": 543,
    "start_time": "2021-08-23T08:51:16.415Z"
   },
   {
    "duration": 7429,
    "start_time": "2021-08-23T08:53:47.040Z"
   },
   {
    "duration": 1257,
    "start_time": "2021-08-23T08:53:57.003Z"
   },
   {
    "duration": 448,
    "start_time": "2021-08-23T08:53:58.262Z"
   },
   {
    "duration": 236,
    "start_time": "2021-08-23T08:53:58.711Z"
   },
   {
    "duration": 54,
    "start_time": "2021-08-23T08:53:58.949Z"
   },
   {
    "duration": 87,
    "start_time": "2021-08-23T08:53:59.006Z"
   },
   {
    "duration": 12,
    "start_time": "2021-08-23T08:53:59.094Z"
   },
   {
    "duration": 60,
    "start_time": "2021-08-23T08:53:59.108Z"
   },
   {
    "duration": 315,
    "start_time": "2021-08-23T08:53:59.170Z"
   },
   {
    "duration": 20,
    "start_time": "2021-08-23T08:53:59.488Z"
   },
   {
    "duration": 518,
    "start_time": "2021-08-23T08:53:59.510Z"
   },
   {
    "duration": 10,
    "start_time": "2021-08-23T08:54:00.031Z"
   },
   {
    "duration": 1791,
    "start_time": "2021-08-23T08:54:00.043Z"
   },
   {
    "duration": 534,
    "start_time": "2021-08-23T08:54:01.836Z"
   },
   {
    "duration": 13,
    "start_time": "2021-08-23T08:54:11.796Z"
   },
   {
    "duration": 526,
    "start_time": "2021-08-23T08:57:27.994Z"
   },
   {
    "duration": 1094,
    "start_time": "2021-08-23T09:01:22.067Z"
   },
   {
    "duration": 429,
    "start_time": "2021-08-23T09:01:23.162Z"
   },
   {
    "duration": 207,
    "start_time": "2021-08-23T09:01:23.593Z"
   },
   {
    "duration": 84,
    "start_time": "2021-08-23T09:01:23.802Z"
   },
   {
    "duration": 13,
    "start_time": "2021-08-23T09:01:23.887Z"
   },
   {
    "duration": 58,
    "start_time": "2021-08-23T09:01:23.901Z"
   },
   {
    "duration": 334,
    "start_time": "2021-08-23T09:01:23.960Z"
   },
   {
    "duration": 23,
    "start_time": "2021-08-23T09:01:24.296Z"
   },
   {
    "duration": 604,
    "start_time": "2021-08-23T09:01:24.321Z"
   },
   {
    "duration": 8,
    "start_time": "2021-08-23T09:01:24.927Z"
   },
   {
    "duration": 1777,
    "start_time": "2021-08-23T09:01:24.936Z"
   },
   {
    "duration": 538,
    "start_time": "2021-08-23T09:01:26.715Z"
   },
   {
    "duration": 91,
    "start_time": "2021-08-23T09:04:37.081Z"
   },
   {
    "duration": 403,
    "start_time": "2021-08-23T09:05:53.684Z"
   },
   {
    "duration": 1052,
    "start_time": "2021-08-23T09:08:08.698Z"
   },
   {
    "duration": 506,
    "start_time": "2021-08-23T09:08:09.752Z"
   },
   {
    "duration": 212,
    "start_time": "2021-08-23T09:08:10.261Z"
   },
   {
    "duration": 77,
    "start_time": "2021-08-23T09:08:10.475Z"
   },
   {
    "duration": 12,
    "start_time": "2021-08-23T09:08:10.553Z"
   },
   {
    "duration": 49,
    "start_time": "2021-08-23T09:08:10.567Z"
   },
   {
    "duration": 351,
    "start_time": "2021-08-23T09:08:10.618Z"
   },
   {
    "duration": 21,
    "start_time": "2021-08-23T09:08:10.971Z"
   },
   {
    "duration": 516,
    "start_time": "2021-08-23T09:08:10.993Z"
   },
   {
    "duration": 8,
    "start_time": "2021-08-23T09:08:11.511Z"
   },
   {
    "duration": 1742,
    "start_time": "2021-08-23T09:08:11.521Z"
   },
   {
    "duration": 551,
    "start_time": "2021-08-23T09:08:13.265Z"
   },
   {
    "duration": 5,
    "start_time": "2021-08-23T09:08:13.818Z"
   },
   {
    "duration": 444,
    "start_time": "2021-08-23T09:08:13.824Z"
   },
   {
    "duration": 871,
    "start_time": "2021-08-23T09:08:13.399Z"
   },
   {
    "duration": 270,
    "start_time": "2021-08-23T09:09:09.885Z"
   },
   {
    "duration": 17,
    "start_time": "2021-08-23T09:09:28.108Z"
   },
   {
    "duration": 16,
    "start_time": "2021-08-23T09:09:31.707Z"
   },
   {
    "duration": 17,
    "start_time": "2021-08-23T09:10:08.240Z"
   },
   {
    "duration": 1276,
    "start_time": "2021-08-23T09:10:45.178Z"
   },
   {
    "duration": 431,
    "start_time": "2021-08-23T09:10:46.456Z"
   },
   {
    "duration": 197,
    "start_time": "2021-08-23T09:10:46.889Z"
   },
   {
    "duration": 77,
    "start_time": "2021-08-23T09:10:47.088Z"
   },
   {
    "duration": 12,
    "start_time": "2021-08-23T09:10:47.167Z"
   },
   {
    "duration": 47,
    "start_time": "2021-08-23T09:10:47.180Z"
   },
   {
    "duration": 331,
    "start_time": "2021-08-23T09:10:47.229Z"
   },
   {
    "duration": 21,
    "start_time": "2021-08-23T09:10:47.562Z"
   },
   {
    "duration": 523,
    "start_time": "2021-08-23T09:10:47.585Z"
   },
   {
    "duration": 9,
    "start_time": "2021-08-23T09:10:48.110Z"
   },
   {
    "duration": 1744,
    "start_time": "2021-08-23T09:10:48.120Z"
   },
   {
    "duration": 535,
    "start_time": "2021-08-23T09:10:49.866Z"
   },
   {
    "duration": 5,
    "start_time": "2021-08-23T09:10:50.403Z"
   },
   {
    "duration": 32,
    "start_time": "2021-08-23T09:10:50.410Z"
   },
   {
    "duration": 17,
    "start_time": "2021-08-23T09:10:50.443Z"
   },
   {
    "duration": 1085,
    "start_time": "2021-08-23T09:11:46.371Z"
   },
   {
    "duration": 427,
    "start_time": "2021-08-23T09:11:47.457Z"
   },
   {
    "duration": 196,
    "start_time": "2021-08-23T09:11:47.886Z"
   },
   {
    "duration": 79,
    "start_time": "2021-08-23T09:11:48.084Z"
   },
   {
    "duration": 12,
    "start_time": "2021-08-23T09:11:48.164Z"
   },
   {
    "duration": 48,
    "start_time": "2021-08-23T09:11:48.178Z"
   },
   {
    "duration": 359,
    "start_time": "2021-08-23T09:11:48.227Z"
   },
   {
    "duration": 21,
    "start_time": "2021-08-23T09:11:48.588Z"
   },
   {
    "duration": 703,
    "start_time": "2021-08-23T09:11:48.610Z"
   },
   {
    "duration": 9,
    "start_time": "2021-08-23T09:11:49.315Z"
   },
   {
    "duration": 1787,
    "start_time": "2021-08-23T09:11:49.325Z"
   },
   {
    "duration": 554,
    "start_time": "2021-08-23T09:11:51.114Z"
   },
   {
    "duration": 5,
    "start_time": "2021-08-23T09:11:51.670Z"
   },
   {
    "duration": 23,
    "start_time": "2021-08-23T09:11:51.676Z"
   },
   {
    "duration": 16,
    "start_time": "2021-08-23T09:11:51.701Z"
   },
   {
    "duration": 1077,
    "start_time": "2021-08-23T09:12:26.065Z"
   },
   {
    "duration": 430,
    "start_time": "2021-08-23T09:12:27.144Z"
   },
   {
    "duration": 199,
    "start_time": "2021-08-23T09:12:27.576Z"
   },
   {
    "duration": 77,
    "start_time": "2021-08-23T09:12:27.777Z"
   },
   {
    "duration": 12,
    "start_time": "2021-08-23T09:12:27.856Z"
   },
   {
    "duration": 48,
    "start_time": "2021-08-23T09:12:27.870Z"
   },
   {
    "duration": 328,
    "start_time": "2021-08-23T09:12:27.920Z"
   },
   {
    "duration": 22,
    "start_time": "2021-08-23T09:12:28.250Z"
   },
   {
    "duration": 513,
    "start_time": "2021-08-23T09:12:28.274Z"
   },
   {
    "duration": 9,
    "start_time": "2021-08-23T09:12:28.788Z"
   },
   {
    "duration": 1867,
    "start_time": "2021-08-23T09:12:28.799Z"
   },
   {
    "duration": 540,
    "start_time": "2021-08-23T09:12:30.668Z"
   },
   {
    "duration": 5,
    "start_time": "2021-08-23T09:12:31.210Z"
   },
   {
    "duration": 30,
    "start_time": "2021-08-23T09:12:31.217Z"
   },
   {
    "duration": 16,
    "start_time": "2021-08-23T09:12:31.249Z"
   },
   {
    "duration": 358,
    "start_time": "2021-08-23T09:14:54.553Z"
   },
   {
    "duration": 13,
    "start_time": "2021-08-23T09:15:22.562Z"
   },
   {
    "duration": 13,
    "start_time": "2021-08-23T09:17:38.892Z"
   },
   {
    "duration": 5,
    "start_time": "2021-08-23T09:18:07.727Z"
   },
   {
    "duration": 569,
    "start_time": "2021-08-23T09:18:20.442Z"
   },
   {
    "duration": 583,
    "start_time": "2021-08-23T09:18:57.751Z"
   },
   {
    "duration": 464,
    "start_time": "2021-08-23T09:24:26.158Z"
   },
   {
    "duration": 540,
    "start_time": "2021-08-23T09:27:00.486Z"
   },
   {
    "duration": 1078,
    "start_time": "2021-08-23T09:29:55.405Z"
   },
   {
    "duration": 458,
    "start_time": "2021-08-23T09:29:56.485Z"
   },
   {
    "duration": 221,
    "start_time": "2021-08-23T09:29:56.948Z"
   },
   {
    "duration": 81,
    "start_time": "2021-08-23T09:29:57.171Z"
   },
   {
    "duration": 13,
    "start_time": "2021-08-23T09:29:57.256Z"
   },
   {
    "duration": 50,
    "start_time": "2021-08-23T09:29:57.271Z"
   },
   {
    "duration": 349,
    "start_time": "2021-08-23T09:29:57.323Z"
   },
   {
    "duration": 19,
    "start_time": "2021-08-23T09:29:57.675Z"
   },
   {
    "duration": 516,
    "start_time": "2021-08-23T09:29:57.696Z"
   },
   {
    "duration": 9,
    "start_time": "2021-08-23T09:29:58.214Z"
   },
   {
    "duration": 1868,
    "start_time": "2021-08-23T09:29:58.224Z"
   },
   {
    "duration": 585,
    "start_time": "2021-08-23T09:30:00.093Z"
   },
   {
    "duration": 6,
    "start_time": "2021-08-23T09:30:00.679Z"
   },
   {
    "duration": 69,
    "start_time": "2021-08-23T09:30:00.687Z"
   },
   {
    "duration": 21,
    "start_time": "2021-08-23T09:30:00.758Z"
   },
   {
    "duration": 36,
    "start_time": "2021-08-23T09:30:00.780Z"
   },
   {
    "duration": 18,
    "start_time": "2021-08-23T09:30:00.817Z"
   },
   {
    "duration": 7,
    "start_time": "2021-08-23T09:30:00.837Z"
   },
   {
    "duration": 571,
    "start_time": "2021-08-23T09:30:00.845Z"
   },
   {
    "duration": 654,
    "start_time": "2021-08-23T09:30:01.418Z"
   },
   {
    "duration": 490,
    "start_time": "2021-08-23T09:30:02.074Z"
   },
   {
    "duration": 10,
    "start_time": "2021-08-23T09:30:46.569Z"
   },
   {
    "duration": 447,
    "start_time": "2021-08-23T09:31:31.690Z"
   },
   {
    "duration": 716,
    "start_time": "2021-08-23T09:33:31.318Z"
   },
   {
    "duration": 814,
    "start_time": "2021-08-23T09:34:30.558Z"
   },
   {
    "duration": 162,
    "start_time": "2021-08-23T09:34:48.423Z"
   },
   {
    "duration": 170,
    "start_time": "2021-08-23T09:34:51.405Z"
   },
   {
    "duration": 174,
    "start_time": "2021-08-23T09:34:58.020Z"
   },
   {
    "duration": 1214,
    "start_time": "2021-08-23T09:35:10.086Z"
   },
   {
    "duration": 445,
    "start_time": "2021-08-23T09:35:11.302Z"
   },
   {
    "duration": 229,
    "start_time": "2021-08-23T09:35:11.749Z"
   },
   {
    "duration": 113,
    "start_time": "2021-08-23T09:35:11.981Z"
   },
   {
    "duration": 16,
    "start_time": "2021-08-23T09:35:12.096Z"
   },
   {
    "duration": 62,
    "start_time": "2021-08-23T09:35:12.114Z"
   },
   {
    "duration": 409,
    "start_time": "2021-08-23T09:35:12.178Z"
   },
   {
    "duration": 26,
    "start_time": "2021-08-23T09:35:12.590Z"
   },
   {
    "duration": 510,
    "start_time": "2021-08-23T09:35:12.618Z"
   },
   {
    "duration": 8,
    "start_time": "2021-08-23T09:35:13.130Z"
   },
   {
    "duration": 1878,
    "start_time": "2021-08-23T09:35:13.139Z"
   },
   {
    "duration": 580,
    "start_time": "2021-08-23T09:35:15.019Z"
   },
   {
    "duration": 5,
    "start_time": "2021-08-23T09:35:15.600Z"
   },
   {
    "duration": 23,
    "start_time": "2021-08-23T09:35:15.607Z"
   },
   {
    "duration": 15,
    "start_time": "2021-08-23T09:35:15.632Z"
   },
   {
    "duration": 25,
    "start_time": "2021-08-23T09:35:15.650Z"
   },
   {
    "duration": 12,
    "start_time": "2021-08-23T09:35:15.677Z"
   },
   {
    "duration": 4,
    "start_time": "2021-08-23T09:35:15.690Z"
   },
   {
    "duration": 715,
    "start_time": "2021-08-23T09:35:15.696Z"
   },
   {
    "duration": 736,
    "start_time": "2021-08-23T09:35:16.413Z"
   },
   {
    "duration": 479,
    "start_time": "2021-08-23T09:35:17.151Z"
   },
   {
    "duration": 4,
    "start_time": "2021-08-23T09:35:41.658Z"
   },
   {
    "duration": 550,
    "start_time": "2021-08-23T09:35:47.793Z"
   },
   {
    "duration": 1175,
    "start_time": "2021-08-23T09:36:14.531Z"
   },
   {
    "duration": 432,
    "start_time": "2021-08-23T09:36:15.708Z"
   },
   {
    "duration": 209,
    "start_time": "2021-08-23T09:36:16.144Z"
   },
   {
    "duration": 67,
    "start_time": "2021-08-23T09:36:16.354Z"
   },
   {
    "duration": 21,
    "start_time": "2021-08-23T09:36:16.422Z"
   },
   {
    "duration": 50,
    "start_time": "2021-08-23T09:36:16.445Z"
   },
   {
    "duration": 325,
    "start_time": "2021-08-23T09:36:16.498Z"
   },
   {
    "duration": 33,
    "start_time": "2021-08-23T09:36:16.825Z"
   },
   {
    "duration": 534,
    "start_time": "2021-08-23T09:36:16.860Z"
   },
   {
    "duration": 9,
    "start_time": "2021-08-23T09:36:17.397Z"
   },
   {
    "duration": 1863,
    "start_time": "2021-08-23T09:36:17.408Z"
   },
   {
    "duration": 549,
    "start_time": "2021-08-23T09:36:19.273Z"
   },
   {
    "duration": 6,
    "start_time": "2021-08-23T09:36:19.823Z"
   },
   {
    "duration": 27,
    "start_time": "2021-08-23T09:36:19.830Z"
   },
   {
    "duration": 12,
    "start_time": "2021-08-23T09:36:19.859Z"
   },
   {
    "duration": 17,
    "start_time": "2021-08-23T09:36:19.873Z"
   },
   {
    "duration": 10,
    "start_time": "2021-08-23T09:36:19.891Z"
   },
   {
    "duration": 41,
    "start_time": "2021-08-23T09:36:19.902Z"
   },
   {
    "duration": 624,
    "start_time": "2021-08-23T09:36:19.944Z"
   },
   {
    "duration": 625,
    "start_time": "2021-08-23T09:36:20.570Z"
   },
   {
    "duration": 510,
    "start_time": "2021-08-23T09:36:21.197Z"
   },
   {
    "duration": 87,
    "start_time": "2021-08-23T09:38:32.260Z"
   },
   {
    "duration": 85,
    "start_time": "2021-08-23T09:38:45.693Z"
   },
   {
    "duration": 1244,
    "start_time": "2021-08-23T09:39:10.622Z"
   },
   {
    "duration": 473,
    "start_time": "2021-08-23T09:39:11.870Z"
   },
   {
    "duration": 202,
    "start_time": "2021-08-23T09:39:12.345Z"
   },
   {
    "duration": 67,
    "start_time": "2021-08-23T09:39:12.548Z"
   },
   {
    "duration": 29,
    "start_time": "2021-08-23T09:39:12.617Z"
   },
   {
    "duration": 48,
    "start_time": "2021-08-23T09:39:12.647Z"
   },
   {
    "duration": 342,
    "start_time": "2021-08-23T09:39:12.696Z"
   },
   {
    "duration": 32,
    "start_time": "2021-08-23T09:39:13.042Z"
   },
   {
    "duration": 571,
    "start_time": "2021-08-23T09:39:13.076Z"
   },
   {
    "duration": 8,
    "start_time": "2021-08-23T09:39:13.649Z"
   },
   {
    "duration": 1918,
    "start_time": "2021-08-23T09:39:13.659Z"
   },
   {
    "duration": 551,
    "start_time": "2021-08-23T09:39:15.579Z"
   },
   {
    "duration": 12,
    "start_time": "2021-08-23T09:39:16.131Z"
   },
   {
    "duration": 25,
    "start_time": "2021-08-23T09:39:16.145Z"
   },
   {
    "duration": 18,
    "start_time": "2021-08-23T09:39:16.172Z"
   },
   {
    "duration": 19,
    "start_time": "2021-08-23T09:39:16.192Z"
   },
   {
    "duration": 30,
    "start_time": "2021-08-23T09:39:16.213Z"
   },
   {
    "duration": 93,
    "start_time": "2021-08-23T09:39:16.245Z"
   },
   {
    "duration": 794,
    "start_time": "2021-08-23T09:39:15.546Z"
   },
   {
    "duration": 786,
    "start_time": "2021-08-23T09:39:15.555Z"
   },
   {
    "duration": 780,
    "start_time": "2021-08-23T09:39:15.562Z"
   },
   {
    "duration": 7,
    "start_time": "2021-08-23T09:39:53.939Z"
   },
   {
    "duration": 864,
    "start_time": "2021-08-23T09:39:56.387Z"
   },
   {
    "duration": 6,
    "start_time": "2021-08-23T09:40:18.667Z"
   },
   {
    "duration": 914,
    "start_time": "2021-08-23T09:40:20.857Z"
   },
   {
    "duration": 7,
    "start_time": "2021-08-23T09:40:47.333Z"
   },
   {
    "duration": 848,
    "start_time": "2021-08-23T09:40:49.072Z"
   },
   {
    "duration": 6,
    "start_time": "2021-08-23T09:41:06.835Z"
   },
   {
    "duration": 785,
    "start_time": "2021-08-23T09:41:09.121Z"
   },
   {
    "duration": 4,
    "start_time": "2021-08-23T09:41:41.667Z"
   },
   {
    "duration": 544,
    "start_time": "2021-08-23T09:41:47.306Z"
   },
   {
    "duration": 5,
    "start_time": "2021-08-23T09:42:16.290Z"
   },
   {
    "duration": 591,
    "start_time": "2021-08-23T09:42:17.840Z"
   },
   {
    "duration": 5,
    "start_time": "2021-08-23T09:42:35.227Z"
   },
   {
    "duration": 1089,
    "start_time": "2021-08-23T09:42:36.810Z"
   },
   {
    "duration": 4,
    "start_time": "2021-08-23T09:42:47.619Z"
   },
   {
    "duration": 4,
    "start_time": "2021-08-23T09:42:59.732Z"
   },
   {
    "duration": 963,
    "start_time": "2021-08-23T09:43:02.118Z"
   },
   {
    "duration": 4,
    "start_time": "2021-08-23T09:43:11.620Z"
   },
   {
    "duration": 1199,
    "start_time": "2021-08-23T09:43:13.420Z"
   },
   {
    "duration": 4,
    "start_time": "2021-08-23T09:43:23.427Z"
   },
   {
    "duration": 592,
    "start_time": "2021-08-23T09:43:25.163Z"
   },
   {
    "duration": 4,
    "start_time": "2021-08-23T09:43:42.236Z"
   },
   {
    "duration": 556,
    "start_time": "2021-08-23T09:43:44.202Z"
   },
   {
    "duration": 4,
    "start_time": "2021-08-23T09:44:07.459Z"
   },
   {
    "duration": 489,
    "start_time": "2021-08-23T09:44:08.866Z"
   },
   {
    "duration": 4,
    "start_time": "2021-08-23T09:44:18.301Z"
   },
   {
    "duration": 523,
    "start_time": "2021-08-23T09:44:19.531Z"
   },
   {
    "duration": 5,
    "start_time": "2021-08-23T09:44:25.115Z"
   },
   {
    "duration": 527,
    "start_time": "2021-08-23T09:44:26.218Z"
   },
   {
    "duration": 5,
    "start_time": "2021-08-23T09:44:45.379Z"
   },
   {
    "duration": 600,
    "start_time": "2021-08-23T09:44:46.891Z"
   },
   {
    "duration": 521,
    "start_time": "2021-08-23T09:44:48.251Z"
   },
   {
    "duration": 497,
    "start_time": "2021-08-23T09:44:48.933Z"
   },
   {
    "duration": 6502,
    "start_time": "2021-08-23T09:46:13.963Z"
   },
   {
    "duration": 11,
    "start_time": "2021-08-23T09:47:02.167Z"
   },
   {
    "duration": 312,
    "start_time": "2021-08-23T09:47:49.810Z"
   },
   {
    "duration": 208,
    "start_time": "2021-08-23T09:48:13.290Z"
   },
   {
    "duration": 967,
    "start_time": "2021-08-23T09:48:16.131Z"
   },
   {
    "duration": 1288,
    "start_time": "2021-08-23T09:50:43.217Z"
   },
   {
    "duration": 433,
    "start_time": "2021-08-23T09:50:44.507Z"
   },
   {
    "duration": 210,
    "start_time": "2021-08-23T09:50:44.942Z"
   },
   {
    "duration": 63,
    "start_time": "2021-08-23T09:50:45.154Z"
   },
   {
    "duration": 25,
    "start_time": "2021-08-23T09:50:45.219Z"
   },
   {
    "duration": 47,
    "start_time": "2021-08-23T09:50:45.246Z"
   },
   {
    "duration": 359,
    "start_time": "2021-08-23T09:50:45.295Z"
   },
   {
    "duration": 34,
    "start_time": "2021-08-23T09:50:45.657Z"
   },
   {
    "duration": 589,
    "start_time": "2021-08-23T09:50:45.694Z"
   },
   {
    "duration": 9,
    "start_time": "2021-08-23T09:50:46.285Z"
   },
   {
    "duration": 1795,
    "start_time": "2021-08-23T09:50:46.296Z"
   },
   {
    "duration": 531,
    "start_time": "2021-08-23T09:50:48.093Z"
   },
   {
    "duration": 5,
    "start_time": "2021-08-23T09:50:48.626Z"
   },
   {
    "duration": 24,
    "start_time": "2021-08-23T09:50:48.632Z"
   },
   {
    "duration": 13,
    "start_time": "2021-08-23T09:50:48.658Z"
   },
   {
    "duration": 17,
    "start_time": "2021-08-23T09:50:48.673Z"
   },
   {
    "duration": 12,
    "start_time": "2021-08-23T09:50:48.692Z"
   },
   {
    "duration": 35,
    "start_time": "2021-08-23T09:50:48.706Z"
   },
   {
    "duration": 564,
    "start_time": "2021-08-23T09:50:48.743Z"
   },
   {
    "duration": 613,
    "start_time": "2021-08-23T09:50:49.309Z"
   },
   {
    "duration": 501,
    "start_time": "2021-08-23T09:50:49.924Z"
   },
   {
    "duration": 205,
    "start_time": "2021-08-23T09:50:50.427Z"
   },
   {
    "duration": 1012,
    "start_time": "2021-08-23T09:50:50.635Z"
   },
   {
    "duration": 32,
    "start_time": "2021-08-23T09:50:51.649Z"
   },
   {
    "duration": 8,
    "start_time": "2021-08-23T09:50:51.683Z"
   },
   {
    "duration": 1068,
    "start_time": "2021-08-23T09:53:34.986Z"
   },
   {
    "duration": 427,
    "start_time": "2021-08-23T09:53:36.056Z"
   },
   {
    "duration": 191,
    "start_time": "2021-08-23T09:53:36.485Z"
   },
   {
    "duration": 79,
    "start_time": "2021-08-23T09:53:36.678Z"
   },
   {
    "duration": 12,
    "start_time": "2021-08-23T09:53:36.758Z"
   },
   {
    "duration": 48,
    "start_time": "2021-08-23T09:53:36.771Z"
   },
   {
    "duration": 336,
    "start_time": "2021-08-23T09:53:36.821Z"
   },
   {
    "duration": 21,
    "start_time": "2021-08-23T09:53:37.159Z"
   },
   {
    "duration": 631,
    "start_time": "2021-08-23T09:53:37.182Z"
   },
   {
    "duration": 8,
    "start_time": "2021-08-23T09:53:37.815Z"
   },
   {
    "duration": 1764,
    "start_time": "2021-08-23T09:53:37.825Z"
   },
   {
    "duration": 533,
    "start_time": "2021-08-23T09:53:39.591Z"
   },
   {
    "duration": 4,
    "start_time": "2021-08-23T09:53:40.126Z"
   },
   {
    "duration": 882,
    "start_time": "2021-08-23T09:53:40.140Z"
   },
   {
    "duration": 840,
    "start_time": "2021-08-23T09:53:40.184Z"
   },
   {
    "duration": 833,
    "start_time": "2021-08-23T09:53:40.192Z"
   },
   {
    "duration": 827,
    "start_time": "2021-08-23T09:53:40.199Z"
   },
   {
    "duration": 821,
    "start_time": "2021-08-23T09:53:40.206Z"
   },
   {
    "duration": 1117,
    "start_time": "2021-08-23T10:00:20.145Z"
   },
   {
    "duration": 450,
    "start_time": "2021-08-23T10:00:21.264Z"
   },
   {
    "duration": 205,
    "start_time": "2021-08-23T10:00:21.716Z"
   },
   {
    "duration": 79,
    "start_time": "2021-08-23T10:00:21.923Z"
   },
   {
    "duration": 12,
    "start_time": "2021-08-23T10:00:22.004Z"
   },
   {
    "duration": 60,
    "start_time": "2021-08-23T10:00:22.017Z"
   },
   {
    "duration": 333,
    "start_time": "2021-08-23T10:00:22.079Z"
   },
   {
    "duration": 30,
    "start_time": "2021-08-23T10:00:22.415Z"
   },
   {
    "duration": 510,
    "start_time": "2021-08-23T10:00:22.447Z"
   },
   {
    "duration": 8,
    "start_time": "2021-08-23T10:00:22.959Z"
   },
   {
    "duration": 1747,
    "start_time": "2021-08-23T10:00:22.968Z"
   },
   {
    "duration": 524,
    "start_time": "2021-08-23T10:00:24.717Z"
   },
   {
    "duration": 5,
    "start_time": "2021-08-23T10:00:25.243Z"
   },
   {
    "duration": 368,
    "start_time": "2021-08-23T10:00:25.250Z"
   },
   {
    "duration": 855,
    "start_time": "2021-08-23T10:00:24.765Z"
   },
   {
    "duration": 833,
    "start_time": "2021-08-23T10:00:24.789Z"
   },
   {
    "duration": 826,
    "start_time": "2021-08-23T10:00:24.797Z"
   },
   {
    "duration": 817,
    "start_time": "2021-08-23T10:00:24.807Z"
   },
   {
    "duration": 811,
    "start_time": "2021-08-23T10:00:24.814Z"
   },
   {
    "duration": 804,
    "start_time": "2021-08-23T10:00:24.822Z"
   },
   {
    "duration": 798,
    "start_time": "2021-08-23T10:00:24.829Z"
   },
   {
    "duration": 790,
    "start_time": "2021-08-23T10:00:24.837Z"
   },
   {
    "duration": 784,
    "start_time": "2021-08-23T10:00:24.844Z"
   },
   {
    "duration": 776,
    "start_time": "2021-08-23T10:00:24.853Z"
   },
   {
    "duration": 770,
    "start_time": "2021-08-23T10:00:24.860Z"
   },
   {
    "duration": 1105,
    "start_time": "2021-08-23T10:01:32.343Z"
   },
   {
    "duration": 451,
    "start_time": "2021-08-23T10:01:33.450Z"
   },
   {
    "duration": 216,
    "start_time": "2021-08-23T10:01:33.905Z"
   },
   {
    "duration": 77,
    "start_time": "2021-08-23T10:01:34.123Z"
   },
   {
    "duration": 12,
    "start_time": "2021-08-23T10:01:34.202Z"
   },
   {
    "duration": 61,
    "start_time": "2021-08-23T10:01:34.215Z"
   },
   {
    "duration": 339,
    "start_time": "2021-08-23T10:01:34.279Z"
   },
   {
    "duration": 27,
    "start_time": "2021-08-23T10:01:34.620Z"
   },
   {
    "duration": 493,
    "start_time": "2021-08-23T10:01:34.649Z"
   },
   {
    "duration": 8,
    "start_time": "2021-08-23T10:01:35.144Z"
   },
   {
    "duration": 1791,
    "start_time": "2021-08-23T10:01:35.154Z"
   },
   {
    "duration": 522,
    "start_time": "2021-08-23T10:01:36.947Z"
   },
   {
    "duration": 5,
    "start_time": "2021-08-23T10:01:37.471Z"
   },
   {
    "duration": 405,
    "start_time": "2021-08-23T10:01:37.477Z"
   },
   {
    "duration": 847,
    "start_time": "2021-08-23T10:01:37.037Z"
   },
   {
    "duration": 838,
    "start_time": "2021-08-23T10:01:37.047Z"
   },
   {
    "duration": 831,
    "start_time": "2021-08-23T10:01:37.055Z"
   },
   {
    "duration": 820,
    "start_time": "2021-08-23T10:01:37.067Z"
   },
   {
    "duration": 810,
    "start_time": "2021-08-23T10:01:37.078Z"
   },
   {
    "duration": 804,
    "start_time": "2021-08-23T10:01:37.085Z"
   },
   {
    "duration": 797,
    "start_time": "2021-08-23T10:01:37.093Z"
   },
   {
    "duration": 787,
    "start_time": "2021-08-23T10:01:37.104Z"
   },
   {
    "duration": 768,
    "start_time": "2021-08-23T10:01:37.124Z"
   },
   {
    "duration": 760,
    "start_time": "2021-08-23T10:01:37.133Z"
   },
   {
    "duration": 754,
    "start_time": "2021-08-23T10:01:37.140Z"
   },
   {
    "duration": 1052,
    "start_time": "2021-08-23T10:15:52.299Z"
   },
   {
    "duration": 435,
    "start_time": "2021-08-23T10:15:53.353Z"
   },
   {
    "duration": 207,
    "start_time": "2021-08-23T10:15:53.792Z"
   },
   {
    "duration": 88,
    "start_time": "2021-08-23T10:15:54.001Z"
   },
   {
    "duration": 12,
    "start_time": "2021-08-23T10:15:54.090Z"
   },
   {
    "duration": 61,
    "start_time": "2021-08-23T10:15:54.104Z"
   },
   {
    "duration": 336,
    "start_time": "2021-08-23T10:15:54.168Z"
   },
   {
    "duration": 19,
    "start_time": "2021-08-23T10:15:54.506Z"
   },
   {
    "duration": 519,
    "start_time": "2021-08-23T10:15:54.526Z"
   },
   {
    "duration": 8,
    "start_time": "2021-08-23T10:15:55.047Z"
   },
   {
    "duration": 1958,
    "start_time": "2021-08-23T10:15:55.056Z"
   },
   {
    "duration": 533,
    "start_time": "2021-08-23T10:15:57.015Z"
   },
   {
    "duration": 191,
    "start_time": "2021-08-23T10:15:57.550Z"
   },
   {
    "duration": 26,
    "start_time": "2021-08-23T10:15:57.743Z"
   },
   {
    "duration": 11,
    "start_time": "2021-08-23T10:15:57.771Z"
   },
   {
    "duration": 886,
    "start_time": "2021-08-23T10:15:57.783Z"
   },
   {
    "duration": 865,
    "start_time": "2021-08-23T10:15:57.806Z"
   },
   {
    "duration": 859,
    "start_time": "2021-08-23T10:15:57.813Z"
   },
   {
    "duration": 854,
    "start_time": "2021-08-23T10:15:57.819Z"
   },
   {
    "duration": 849,
    "start_time": "2021-08-23T10:15:57.825Z"
   },
   {
    "duration": 845,
    "start_time": "2021-08-23T10:15:57.830Z"
   },
   {
    "duration": 839,
    "start_time": "2021-08-23T10:15:57.837Z"
   },
   {
    "duration": 826,
    "start_time": "2021-08-23T10:15:57.850Z"
   },
   {
    "duration": 821,
    "start_time": "2021-08-23T10:15:57.856Z"
   },
   {
    "duration": 511,
    "start_time": "2021-08-23T10:17:14.614Z"
   },
   {
    "duration": 279,
    "start_time": "2021-08-23T10:19:39.703Z"
   },
   {
    "duration": 322,
    "start_time": "2021-08-23T10:21:53.516Z"
   },
   {
    "duration": 6,
    "start_time": "2021-08-23T10:22:12.946Z"
   },
   {
    "duration": 5,
    "start_time": "2021-08-23T10:22:20.748Z"
   },
   {
    "duration": 720,
    "start_time": "2021-08-23T10:22:23.460Z"
   },
   {
    "duration": 618,
    "start_time": "2021-08-23T10:23:41.108Z"
   },
   {
    "duration": 515,
    "start_time": "2021-08-23T10:23:43.484Z"
   },
   {
    "duration": 199,
    "start_time": "2021-08-23T10:23:44.932Z"
   },
   {
    "duration": 1112,
    "start_time": "2021-08-23T10:23:48.214Z"
   },
   {
    "duration": 207,
    "start_time": "2021-08-23T10:24:13.581Z"
   },
   {
    "duration": 1172,
    "start_time": "2021-08-23T10:24:45.619Z"
   },
   {
    "duration": 493,
    "start_time": "2021-08-23T10:24:46.793Z"
   },
   {
    "duration": 229,
    "start_time": "2021-08-23T10:24:47.288Z"
   },
   {
    "duration": 87,
    "start_time": "2021-08-23T10:24:47.518Z"
   },
   {
    "duration": 12,
    "start_time": "2021-08-23T10:24:47.607Z"
   },
   {
    "duration": 67,
    "start_time": "2021-08-23T10:24:47.621Z"
   },
   {
    "duration": 343,
    "start_time": "2021-08-23T10:24:47.689Z"
   },
   {
    "duration": 29,
    "start_time": "2021-08-23T10:24:48.034Z"
   },
   {
    "duration": 535,
    "start_time": "2021-08-23T10:24:48.065Z"
   },
   {
    "duration": 10,
    "start_time": "2021-08-23T10:24:48.602Z"
   },
   {
    "duration": 1938,
    "start_time": "2021-08-23T10:24:48.614Z"
   },
   {
    "duration": 626,
    "start_time": "2021-08-23T10:24:50.554Z"
   },
   {
    "duration": 5,
    "start_time": "2021-08-23T10:24:51.182Z"
   },
   {
    "duration": 18,
    "start_time": "2021-08-23T10:24:51.189Z"
   },
   {
    "duration": 651,
    "start_time": "2021-08-23T10:24:51.209Z"
   },
   {
    "duration": 701,
    "start_time": "2021-08-23T10:24:51.866Z"
   },
   {
    "duration": 494,
    "start_time": "2021-08-23T10:24:52.569Z"
   },
   {
    "duration": 213,
    "start_time": "2021-08-23T10:24:53.064Z"
   },
   {
    "duration": 211,
    "start_time": "2021-08-23T10:24:53.279Z"
   },
   {
    "duration": 1103,
    "start_time": "2021-08-23T10:24:53.492Z"
   },
   {
    "duration": 374,
    "start_time": "2021-08-23T10:24:54.598Z"
   },
   {
    "duration": 836,
    "start_time": "2021-08-23T10:24:54.138Z"
   },
   {
    "duration": 828,
    "start_time": "2021-08-23T10:24:54.147Z"
   },
   {
    "duration": 824,
    "start_time": "2021-08-23T10:24:54.152Z"
   },
   {
    "duration": 12,
    "start_time": "2021-08-23T10:25:33.128Z"
   },
   {
    "duration": 13,
    "start_time": "2021-08-23T10:25:42.823Z"
   },
   {
    "duration": 1066,
    "start_time": "2021-08-23T10:25:56.895Z"
   },
   {
    "duration": 449,
    "start_time": "2021-08-23T10:25:57.963Z"
   },
   {
    "duration": 216,
    "start_time": "2021-08-23T10:25:58.414Z"
   },
   {
    "duration": 76,
    "start_time": "2021-08-23T10:25:58.632Z"
   },
   {
    "duration": 13,
    "start_time": "2021-08-23T10:25:58.710Z"
   },
   {
    "duration": 62,
    "start_time": "2021-08-23T10:25:58.725Z"
   },
   {
    "duration": 343,
    "start_time": "2021-08-23T10:25:58.788Z"
   },
   {
    "duration": 26,
    "start_time": "2021-08-23T10:25:59.133Z"
   },
   {
    "duration": 502,
    "start_time": "2021-08-23T10:25:59.161Z"
   },
   {
    "duration": 9,
    "start_time": "2021-08-23T10:25:59.665Z"
   },
   {
    "duration": 1796,
    "start_time": "2021-08-23T10:25:59.676Z"
   },
   {
    "duration": 540,
    "start_time": "2021-08-23T10:26:01.474Z"
   },
   {
    "duration": 6,
    "start_time": "2021-08-23T10:26:02.016Z"
   },
   {
    "duration": 18,
    "start_time": "2021-08-23T10:26:02.023Z"
   },
   {
    "duration": 563,
    "start_time": "2021-08-23T10:26:02.043Z"
   },
   {
    "duration": 622,
    "start_time": "2021-08-23T10:26:02.608Z"
   },
   {
    "duration": 483,
    "start_time": "2021-08-23T10:26:03.231Z"
   },
   {
    "duration": 197,
    "start_time": "2021-08-23T10:26:03.716Z"
   },
   {
    "duration": 197,
    "start_time": "2021-08-23T10:26:03.915Z"
   },
   {
    "duration": 980,
    "start_time": "2021-08-23T10:26:04.114Z"
   },
   {
    "duration": 11,
    "start_time": "2021-08-23T10:26:05.096Z"
   },
   {
    "duration": 25,
    "start_time": "2021-08-23T10:26:05.108Z"
   },
   {
    "duration": 1850,
    "start_time": "2021-08-23T10:26:05.140Z"
   },
   {
    "duration": 14,
    "start_time": "2021-08-23T10:26:06.991Z"
   },
   {
    "duration": 1084,
    "start_time": "2021-08-23T10:28:41.273Z"
   },
   {
    "duration": 450,
    "start_time": "2021-08-23T10:28:42.358Z"
   },
   {
    "duration": 214,
    "start_time": "2021-08-23T10:28:42.810Z"
   },
   {
    "duration": 80,
    "start_time": "2021-08-23T10:28:43.026Z"
   },
   {
    "duration": 11,
    "start_time": "2021-08-23T10:28:43.108Z"
   },
   {
    "duration": 60,
    "start_time": "2021-08-23T10:28:43.121Z"
   },
   {
    "duration": 341,
    "start_time": "2021-08-23T10:28:43.183Z"
   },
   {
    "duration": 30,
    "start_time": "2021-08-23T10:28:43.527Z"
   },
   {
    "duration": 526,
    "start_time": "2021-08-23T10:28:43.559Z"
   },
   {
    "duration": 1840,
    "start_time": "2021-08-23T10:28:44.087Z"
   },
   {
    "duration": 546,
    "start_time": "2021-08-23T10:28:45.928Z"
   },
   {
    "duration": 6,
    "start_time": "2021-08-23T10:28:46.476Z"
   },
   {
    "duration": 20,
    "start_time": "2021-08-23T10:28:46.484Z"
   },
   {
    "duration": 600,
    "start_time": "2021-08-23T10:28:46.506Z"
   },
   {
    "duration": 620,
    "start_time": "2021-08-23T10:28:47.108Z"
   },
   {
    "duration": 508,
    "start_time": "2021-08-23T10:28:47.730Z"
   },
   {
    "duration": 211,
    "start_time": "2021-08-23T10:28:48.240Z"
   },
   {
    "duration": 222,
    "start_time": "2021-08-23T10:28:48.453Z"
   },
   {
    "duration": 1018,
    "start_time": "2021-08-23T10:28:48.677Z"
   },
   {
    "duration": 10,
    "start_time": "2021-08-23T10:28:49.696Z"
   },
   {
    "duration": 16,
    "start_time": "2021-08-23T10:28:49.708Z"
   },
   {
    "duration": 1897,
    "start_time": "2021-08-23T10:28:49.726Z"
   },
   {
    "duration": 27,
    "start_time": "2021-08-23T10:28:51.625Z"
   },
   {
    "duration": 8,
    "start_time": "2021-08-23T10:29:09.429Z"
   },
   {
    "duration": 451,
    "start_time": "2021-08-23T10:34:30.031Z"
   },
   {
    "duration": 36,
    "start_time": "2021-08-23T10:34:41.186Z"
   },
   {
    "duration": 21,
    "start_time": "2021-08-23T12:42:48.382Z"
   },
   {
    "duration": 28,
    "start_time": "2021-08-23T12:44:13.659Z"
   },
   {
    "duration": 1106,
    "start_time": "2021-08-23T12:44:47.873Z"
   },
   {
    "duration": 441,
    "start_time": "2021-08-23T12:44:48.981Z"
   },
   {
    "duration": 194,
    "start_time": "2021-08-23T12:44:49.425Z"
   },
   {
    "duration": 75,
    "start_time": "2021-08-23T12:44:49.620Z"
   },
   {
    "duration": 12,
    "start_time": "2021-08-23T12:44:49.697Z"
   },
   {
    "duration": 64,
    "start_time": "2021-08-23T12:44:49.710Z"
   },
   {
    "duration": 339,
    "start_time": "2021-08-23T12:44:49.775Z"
   },
   {
    "duration": 29,
    "start_time": "2021-08-23T12:44:50.116Z"
   },
   {
    "duration": 596,
    "start_time": "2021-08-23T12:44:50.147Z"
   },
   {
    "duration": 9,
    "start_time": "2021-08-23T12:44:50.745Z"
   },
   {
    "duration": 1775,
    "start_time": "2021-08-23T12:44:50.756Z"
   },
   {
    "duration": 539,
    "start_time": "2021-08-23T12:44:52.532Z"
   },
   {
    "duration": 481,
    "start_time": "2021-08-23T12:44:53.074Z"
   },
   {
    "duration": 841,
    "start_time": "2021-08-23T12:44:52.716Z"
   },
   {
    "duration": 834,
    "start_time": "2021-08-23T12:44:52.724Z"
   },
   {
    "duration": 811,
    "start_time": "2021-08-23T12:44:52.747Z"
   },
   {
    "duration": 801,
    "start_time": "2021-08-23T12:44:52.758Z"
   },
   {
    "duration": 793,
    "start_time": "2021-08-23T12:44:52.767Z"
   },
   {
    "duration": 785,
    "start_time": "2021-08-23T12:44:52.776Z"
   },
   {
    "duration": 777,
    "start_time": "2021-08-23T12:44:52.785Z"
   },
   {
    "duration": 768,
    "start_time": "2021-08-23T12:44:52.795Z"
   },
   {
    "duration": 761,
    "start_time": "2021-08-23T12:44:52.803Z"
   },
   {
    "duration": 193,
    "start_time": "2021-08-23T12:45:29.532Z"
   },
   {
    "duration": 27,
    "start_time": "2021-08-23T12:45:31.595Z"
   },
   {
    "duration": 217,
    "start_time": "2021-08-23T12:45:50.825Z"
   },
   {
    "duration": 209,
    "start_time": "2021-08-23T12:45:59.879Z"
   },
   {
    "duration": 1098,
    "start_time": "2021-08-23T12:47:10.681Z"
   },
   {
    "duration": 464,
    "start_time": "2021-08-23T12:47:11.781Z"
   },
   {
    "duration": 221,
    "start_time": "2021-08-23T12:47:12.247Z"
   },
   {
    "duration": 81,
    "start_time": "2021-08-23T12:47:12.470Z"
   },
   {
    "duration": 12,
    "start_time": "2021-08-23T12:47:12.553Z"
   },
   {
    "duration": 51,
    "start_time": "2021-08-23T12:47:12.567Z"
   },
   {
    "duration": 372,
    "start_time": "2021-08-23T12:47:12.620Z"
   },
   {
    "duration": 22,
    "start_time": "2021-08-23T12:47:12.994Z"
   },
   {
    "duration": 643,
    "start_time": "2021-08-23T12:47:13.019Z"
   },
   {
    "duration": 10,
    "start_time": "2021-08-23T12:47:13.664Z"
   },
   {
    "duration": 1899,
    "start_time": "2021-08-23T12:47:13.676Z"
   },
   {
    "duration": 536,
    "start_time": "2021-08-23T12:47:15.577Z"
   },
   {
    "duration": 203,
    "start_time": "2021-08-23T12:47:16.115Z"
   },
   {
    "duration": 32,
    "start_time": "2021-08-23T12:47:16.319Z"
   },
   {
    "duration": 5,
    "start_time": "2021-08-23T12:47:16.353Z"
   },
   {
    "duration": 17,
    "start_time": "2021-08-23T12:47:16.359Z"
   },
   {
    "duration": 624,
    "start_time": "2021-08-23T12:47:16.378Z"
   },
   {
    "duration": 622,
    "start_time": "2021-08-23T12:47:17.004Z"
   },
   {
    "duration": 488,
    "start_time": "2021-08-23T12:47:17.628Z"
   },
   {
    "duration": 11,
    "start_time": "2021-08-23T12:47:18.118Z"
   },
   {
    "duration": 19,
    "start_time": "2021-08-23T12:47:18.140Z"
   },
   {
    "duration": 1941,
    "start_time": "2021-08-23T12:47:18.161Z"
   },
   {
    "duration": 13,
    "start_time": "2021-08-23T12:47:20.105Z"
   },
   {
    "duration": 11,
    "start_time": "2021-08-23T12:50:29.949Z"
   },
   {
    "duration": 424,
    "start_time": "2021-08-23T13:03:54.188Z"
   },
   {
    "duration": 425,
    "start_time": "2021-08-23T13:04:39.346Z"
   },
   {
    "duration": 431,
    "start_time": "2021-08-23T13:04:44.861Z"
   },
   {
    "duration": 498,
    "start_time": "2021-08-23T13:07:33.709Z"
   },
   {
    "duration": 1478,
    "start_time": "2021-08-23T13:10:02.071Z"
   },
   {
    "duration": 453,
    "start_time": "2021-08-23T13:10:03.552Z"
   },
   {
    "duration": 212,
    "start_time": "2021-08-23T13:10:04.007Z"
   },
   {
    "duration": 78,
    "start_time": "2021-08-23T13:10:04.221Z"
   },
   {
    "duration": 13,
    "start_time": "2021-08-23T13:10:04.300Z"
   },
   {
    "duration": 62,
    "start_time": "2021-08-23T13:10:04.315Z"
   },
   {
    "duration": 346,
    "start_time": "2021-08-23T13:10:04.379Z"
   },
   {
    "duration": 30,
    "start_time": "2021-08-23T13:10:04.728Z"
   },
   {
    "duration": 592,
    "start_time": "2021-08-23T13:10:04.761Z"
   },
   {
    "duration": 9,
    "start_time": "2021-08-23T13:10:05.355Z"
   },
   {
    "duration": 1807,
    "start_time": "2021-08-23T13:10:05.366Z"
   },
   {
    "duration": 557,
    "start_time": "2021-08-23T13:10:07.175Z"
   },
   {
    "duration": 208,
    "start_time": "2021-08-23T13:10:07.733Z"
   },
   {
    "duration": 29,
    "start_time": "2021-08-23T13:10:07.943Z"
   },
   {
    "duration": 9,
    "start_time": "2021-08-23T13:10:07.974Z"
   },
   {
    "duration": 13,
    "start_time": "2021-08-23T13:10:07.985Z"
   },
   {
    "duration": 616,
    "start_time": "2021-08-23T13:10:08.000Z"
   },
   {
    "duration": 709,
    "start_time": "2021-08-23T13:10:08.618Z"
   },
   {
    "duration": 514,
    "start_time": "2021-08-23T13:10:09.329Z"
   },
   {
    "duration": 62091,
    "start_time": "2021-08-23T13:10:09.845Z"
   },
   {
    "duration": 10,
    "start_time": "2021-08-23T13:11:11.940Z"
   },
   {
    "duration": 17,
    "start_time": "2021-08-23T13:11:11.952Z"
   },
   {
    "duration": 1851,
    "start_time": "2021-08-23T13:11:11.971Z"
   },
   {
    "duration": 24,
    "start_time": "2021-08-23T13:11:13.825Z"
   },
   {
    "duration": 1200,
    "start_time": "2021-08-23T13:11:40.457Z"
   },
   {
    "duration": 440,
    "start_time": "2021-08-23T13:11:41.659Z"
   },
   {
    "duration": 216,
    "start_time": "2021-08-23T13:11:42.102Z"
   },
   {
    "duration": 84,
    "start_time": "2021-08-23T13:11:42.320Z"
   },
   {
    "duration": 13,
    "start_time": "2021-08-23T13:11:42.405Z"
   },
   {
    "duration": 65,
    "start_time": "2021-08-23T13:11:42.419Z"
   },
   {
    "duration": 338,
    "start_time": "2021-08-23T13:11:42.485Z"
   },
   {
    "duration": 29,
    "start_time": "2021-08-23T13:11:42.826Z"
   },
   {
    "duration": 565,
    "start_time": "2021-08-23T13:11:42.857Z"
   },
   {
    "duration": 1813,
    "start_time": "2021-08-23T13:11:43.424Z"
   },
   {
    "duration": 557,
    "start_time": "2021-08-23T13:11:45.240Z"
   },
   {
    "duration": 212,
    "start_time": "2021-08-23T13:11:45.798Z"
   },
   {
    "duration": 36,
    "start_time": "2021-08-23T13:11:46.012Z"
   },
   {
    "duration": 5,
    "start_time": "2021-08-23T13:11:46.050Z"
   },
   {
    "duration": 6,
    "start_time": "2021-08-23T13:11:46.056Z"
   },
   {
    "duration": 629,
    "start_time": "2021-08-23T13:11:46.064Z"
   },
   {
    "duration": 659,
    "start_time": "2021-08-23T13:11:46.695Z"
   },
   {
    "duration": 476,
    "start_time": "2021-08-23T13:11:47.356Z"
   },
   {
    "duration": 1195,
    "start_time": "2021-08-23T13:12:23.954Z"
   },
   {
    "duration": 440,
    "start_time": "2021-08-23T13:12:25.151Z"
   },
   {
    "duration": 226,
    "start_time": "2021-08-23T13:12:25.593Z"
   },
   {
    "duration": 84,
    "start_time": "2021-08-23T13:12:25.821Z"
   },
   {
    "duration": 34,
    "start_time": "2021-08-23T13:12:25.907Z"
   },
   {
    "duration": 51,
    "start_time": "2021-08-23T13:12:25.943Z"
   },
   {
    "duration": 351,
    "start_time": "2021-08-23T13:12:25.995Z"
   },
   {
    "duration": 23,
    "start_time": "2021-08-23T13:12:26.349Z"
   },
   {
    "duration": 618,
    "start_time": "2021-08-23T13:12:26.375Z"
   },
   {
    "duration": 1884,
    "start_time": "2021-08-23T13:12:26.995Z"
   },
   {
    "duration": 625,
    "start_time": "2021-08-23T13:12:28.881Z"
   },
   {
    "duration": 222,
    "start_time": "2021-08-23T13:12:29.508Z"
   },
   {
    "duration": 33,
    "start_time": "2021-08-23T13:12:29.731Z"
   },
   {
    "duration": 7,
    "start_time": "2021-08-23T13:12:29.766Z"
   },
   {
    "duration": 26,
    "start_time": "2021-08-23T13:12:29.775Z"
   },
   {
    "duration": 608,
    "start_time": "2021-08-23T13:12:29.803Z"
   },
   {
    "duration": 641,
    "start_time": "2021-08-23T13:12:30.413Z"
   },
   {
    "duration": 479,
    "start_time": "2021-08-23T13:12:31.056Z"
   },
   {
    "duration": 64602,
    "start_time": "2021-08-23T13:12:31.540Z"
   },
   {
    "duration": 11,
    "start_time": "2021-08-23T13:13:36.144Z"
   },
   {
    "duration": 18,
    "start_time": "2021-08-23T13:13:36.157Z"
   },
   {
    "duration": 1838,
    "start_time": "2021-08-23T13:13:36.176Z"
   },
   {
    "duration": 25,
    "start_time": "2021-08-23T13:13:38.017Z"
   },
   {
    "duration": 1150,
    "start_time": "2021-08-23T13:14:16.247Z"
   },
   {
    "duration": 487,
    "start_time": "2021-08-23T13:14:17.398Z"
   },
   {
    "duration": 298,
    "start_time": "2021-08-23T13:14:17.890Z"
   },
   {
    "duration": 111,
    "start_time": "2021-08-23T13:14:18.190Z"
   },
   {
    "duration": 15,
    "start_time": "2021-08-23T13:14:18.304Z"
   },
   {
    "duration": 68,
    "start_time": "2021-08-23T13:14:18.321Z"
   },
   {
    "duration": 455,
    "start_time": "2021-08-23T13:14:18.393Z"
   },
   {
    "duration": 32,
    "start_time": "2021-08-23T13:14:18.850Z"
   },
   {
    "duration": 2973,
    "start_time": "2021-08-23T13:14:18.884Z"
   },
   {
    "duration": 1052,
    "start_time": "2021-08-23T13:14:21.859Z"
   },
   {
    "duration": 329,
    "start_time": "2021-08-23T13:14:22.913Z"
   },
   {
    "duration": 44,
    "start_time": "2021-08-23T13:14:23.244Z"
   },
   {
    "duration": 7,
    "start_time": "2021-08-23T13:14:23.290Z"
   },
   {
    "duration": 8,
    "start_time": "2021-08-23T13:14:23.299Z"
   },
   {
    "duration": 810,
    "start_time": "2021-08-23T13:14:23.309Z"
   },
   {
    "duration": 822,
    "start_time": "2021-08-23T13:14:24.122Z"
   },
   {
    "duration": 495,
    "start_time": "2021-08-23T13:14:24.947Z"
   },
   {
    "duration": 1149,
    "start_time": "2021-08-23T13:15:28.708Z"
   },
   {
    "duration": 449,
    "start_time": "2021-08-23T13:15:29.859Z"
   },
   {
    "duration": 333,
    "start_time": "2021-08-23T13:15:30.311Z"
   },
   {
    "duration": 68,
    "start_time": "2021-08-23T13:15:30.646Z"
   },
   {
    "duration": 26,
    "start_time": "2021-08-23T13:15:30.715Z"
   },
   {
    "duration": 56,
    "start_time": "2021-08-23T13:15:30.743Z"
   },
   {
    "duration": 339,
    "start_time": "2021-08-23T13:15:30.801Z"
   },
   {
    "duration": 22,
    "start_time": "2021-08-23T13:15:31.144Z"
   },
   {
    "duration": 1856,
    "start_time": "2021-08-23T13:15:31.168Z"
   },
   {
    "duration": 556,
    "start_time": "2021-08-23T13:15:33.026Z"
   },
   {
    "duration": 200,
    "start_time": "2021-08-23T13:15:33.583Z"
   },
   {
    "duration": 27,
    "start_time": "2021-08-23T13:15:33.785Z"
   },
   {
    "duration": 5,
    "start_time": "2021-08-23T13:15:33.813Z"
   },
   {
    "duration": 23,
    "start_time": "2021-08-23T13:15:33.819Z"
   },
   {
    "duration": 722,
    "start_time": "2021-08-23T13:15:33.844Z"
   },
   {
    "duration": 542,
    "start_time": "2021-08-23T13:15:34.567Z"
   },
   {
    "duration": 501,
    "start_time": "2021-08-23T13:15:35.111Z"
   },
   {
    "duration": 1170,
    "start_time": "2021-08-23T13:16:00.964Z"
   },
   {
    "duration": 452,
    "start_time": "2021-08-23T13:16:02.139Z"
   },
   {
    "duration": 223,
    "start_time": "2021-08-23T13:16:02.593Z"
   },
   {
    "duration": 78,
    "start_time": "2021-08-23T13:16:02.818Z"
   },
   {
    "duration": 13,
    "start_time": "2021-08-23T13:16:02.897Z"
   },
   {
    "duration": 65,
    "start_time": "2021-08-23T13:16:02.911Z"
   },
   {
    "duration": 345,
    "start_time": "2021-08-23T13:16:02.977Z"
   },
   {
    "duration": 30,
    "start_time": "2021-08-23T13:16:03.325Z"
   },
   {
    "duration": 1928,
    "start_time": "2021-08-23T13:16:03.357Z"
   },
   {
    "duration": 525,
    "start_time": "2021-08-23T13:16:05.287Z"
   },
   {
    "duration": 199,
    "start_time": "2021-08-23T13:16:05.813Z"
   },
   {
    "duration": 38,
    "start_time": "2021-08-23T13:16:06.013Z"
   },
   {
    "duration": 5,
    "start_time": "2021-08-23T13:16:06.053Z"
   },
   {
    "duration": 5,
    "start_time": "2021-08-23T13:16:06.060Z"
   },
   {
    "duration": 519,
    "start_time": "2021-08-23T13:16:06.066Z"
   },
   {
    "duration": 574,
    "start_time": "2021-08-23T13:16:06.587Z"
   },
   {
    "duration": 463,
    "start_time": "2021-08-23T13:16:07.163Z"
   },
   {
    "duration": 61645,
    "start_time": "2021-08-23T13:16:07.627Z"
   },
   {
    "duration": 12,
    "start_time": "2021-08-23T13:17:09.273Z"
   },
   {
    "duration": 20,
    "start_time": "2021-08-23T13:17:09.287Z"
   },
   {
    "duration": 1897,
    "start_time": "2021-08-23T13:17:09.309Z"
   },
   {
    "duration": 14,
    "start_time": "2021-08-23T13:17:11.208Z"
   },
   {
    "duration": 290,
    "start_time": "2021-08-23T13:19:38.169Z"
   },
   {
    "duration": 870,
    "start_time": "2021-08-23T13:20:37.561Z"
   },
   {
    "duration": 1148,
    "start_time": "2021-08-23T13:20:42.211Z"
   },
   {
    "duration": 438,
    "start_time": "2021-08-23T13:20:43.361Z"
   },
   {
    "duration": 219,
    "start_time": "2021-08-23T13:20:43.803Z"
   },
   {
    "duration": 75,
    "start_time": "2021-08-23T13:20:44.024Z"
   },
   {
    "duration": 12,
    "start_time": "2021-08-23T13:20:44.100Z"
   },
   {
    "duration": 62,
    "start_time": "2021-08-23T13:20:44.113Z"
   },
   {
    "duration": 341,
    "start_time": "2021-08-23T13:20:44.178Z"
   },
   {
    "duration": 29,
    "start_time": "2021-08-23T13:20:44.521Z"
   },
   {
    "duration": 1876,
    "start_time": "2021-08-23T13:20:44.552Z"
   },
   {
    "duration": 551,
    "start_time": "2021-08-23T13:20:46.429Z"
   },
   {
    "duration": 197,
    "start_time": "2021-08-23T13:20:46.982Z"
   },
   {
    "duration": 27,
    "start_time": "2021-08-23T13:20:47.180Z"
   },
   {
    "duration": 4,
    "start_time": "2021-08-23T13:20:47.209Z"
   },
   {
    "duration": 41,
    "start_time": "2021-08-23T13:20:47.215Z"
   },
   {
    "duration": 524,
    "start_time": "2021-08-23T13:20:47.258Z"
   },
   {
    "duration": 571,
    "start_time": "2021-08-23T13:20:47.784Z"
   },
   {
    "duration": 470,
    "start_time": "2021-08-23T13:20:48.356Z"
   },
   {
    "duration": 63961,
    "start_time": "2021-08-23T13:20:48.829Z"
   },
   {
    "duration": 11,
    "start_time": "2021-08-23T13:21:52.791Z"
   },
   {
    "duration": 29,
    "start_time": "2021-08-23T13:21:52.803Z"
   },
   {
    "duration": 1946,
    "start_time": "2021-08-23T13:21:52.841Z"
   },
   {
    "duration": 18,
    "start_time": "2021-08-23T13:21:54.790Z"
   },
   {
    "duration": 476,
    "start_time": "2021-08-23T13:34:21.073Z"
   },
   {
    "duration": 17,
    "start_time": "2021-08-23T13:34:47.893Z"
   },
   {
    "duration": 13,
    "start_time": "2021-08-23T13:36:17.720Z"
   },
   {
    "duration": 417,
    "start_time": "2021-08-23T13:37:05.048Z"
   },
   {
    "duration": 18,
    "start_time": "2021-08-23T13:37:22.403Z"
   },
   {
    "duration": 446,
    "start_time": "2021-08-23T13:39:09.480Z"
   },
   {
    "duration": 11,
    "start_time": "2021-08-23T13:39:22.658Z"
   },
   {
    "duration": 1198,
    "start_time": "2021-08-23T13:41:31.911Z"
   },
   {
    "duration": 436,
    "start_time": "2021-08-23T13:41:33.110Z"
   },
   {
    "duration": 211,
    "start_time": "2021-08-23T13:41:33.548Z"
   },
   {
    "duration": 66,
    "start_time": "2021-08-23T13:41:33.761Z"
   },
   {
    "duration": 21,
    "start_time": "2021-08-23T13:41:33.828Z"
   },
   {
    "duration": 51,
    "start_time": "2021-08-23T13:41:33.851Z"
   },
   {
    "duration": 344,
    "start_time": "2021-08-23T13:41:33.903Z"
   },
   {
    "duration": 19,
    "start_time": "2021-08-23T13:41:34.250Z"
   },
   {
    "duration": 1775,
    "start_time": "2021-08-23T13:41:34.271Z"
   },
   {
    "duration": 525,
    "start_time": "2021-08-23T13:41:36.047Z"
   },
   {
    "duration": 5,
    "start_time": "2021-08-23T13:41:36.574Z"
   },
   {
    "duration": 31,
    "start_time": "2021-08-23T13:41:36.580Z"
   },
   {
    "duration": 32,
    "start_time": "2021-08-23T13:41:36.612Z"
   },
   {
    "duration": 35,
    "start_time": "2021-08-23T13:41:36.645Z"
   },
   {
    "duration": 18,
    "start_time": "2021-08-23T13:41:36.681Z"
   },
   {
    "duration": 20,
    "start_time": "2021-08-23T13:41:36.701Z"
   },
   {
    "duration": 535,
    "start_time": "2021-08-23T13:41:36.722Z"
   },
   {
    "duration": 519,
    "start_time": "2021-08-23T13:41:37.259Z"
   },
   {
    "duration": 480,
    "start_time": "2021-08-23T13:41:37.780Z"
   },
   {
    "duration": 11,
    "start_time": "2021-08-23T13:41:38.262Z"
   },
   {
    "duration": 94,
    "start_time": "2021-08-23T13:41:38.275Z"
   },
   {
    "duration": 1856,
    "start_time": "2021-08-23T13:41:38.370Z"
   },
   {
    "duration": 18,
    "start_time": "2021-08-23T13:41:40.229Z"
   },
   {
    "duration": 1178,
    "start_time": "2021-08-23T13:42:18.972Z"
   },
   {
    "duration": 448,
    "start_time": "2021-08-23T13:42:20.153Z"
   },
   {
    "duration": 222,
    "start_time": "2021-08-23T13:42:20.603Z"
   },
   {
    "duration": 79,
    "start_time": "2021-08-23T13:42:20.827Z"
   },
   {
    "duration": 13,
    "start_time": "2021-08-23T13:42:20.907Z"
   },
   {
    "duration": 65,
    "start_time": "2021-08-23T13:42:20.921Z"
   },
   {
    "duration": 354,
    "start_time": "2021-08-23T13:42:20.987Z"
   },
   {
    "duration": 23,
    "start_time": "2021-08-23T13:42:21.345Z"
   },
   {
    "duration": 1812,
    "start_time": "2021-08-23T13:42:21.371Z"
   },
   {
    "duration": 557,
    "start_time": "2021-08-23T13:42:23.184Z"
   },
   {
    "duration": 7,
    "start_time": "2021-08-23T13:42:23.743Z"
   },
   {
    "duration": 20,
    "start_time": "2021-08-23T13:42:23.751Z"
   },
   {
    "duration": 11,
    "start_time": "2021-08-23T13:42:23.772Z"
   },
   {
    "duration": 15,
    "start_time": "2021-08-23T13:42:23.785Z"
   },
   {
    "duration": 47,
    "start_time": "2021-08-23T13:42:23.802Z"
   },
   {
    "duration": 7,
    "start_time": "2021-08-23T13:42:23.851Z"
   },
   {
    "duration": 566,
    "start_time": "2021-08-23T13:42:23.859Z"
   },
   {
    "duration": 548,
    "start_time": "2021-08-23T13:42:24.427Z"
   },
   {
    "duration": 481,
    "start_time": "2021-08-23T13:42:24.977Z"
   },
   {
    "duration": 11,
    "start_time": "2021-08-23T13:42:25.460Z"
   },
   {
    "duration": 95,
    "start_time": "2021-08-23T13:42:25.473Z"
   },
   {
    "duration": 1843,
    "start_time": "2021-08-23T13:42:25.570Z"
   },
   {
    "duration": 30,
    "start_time": "2021-08-23T13:42:27.416Z"
   },
   {
    "duration": 3,
    "start_time": "2021-08-23T13:45:25.233Z"
   },
   {
    "duration": 390,
    "start_time": "2021-08-23T13:45:27.247Z"
   },
   {
    "duration": 415,
    "start_time": "2021-08-23T13:45:38.150Z"
   },
   {
    "duration": 343,
    "start_time": "2021-08-23T13:45:42.006Z"
   },
   {
    "duration": 463,
    "start_time": "2021-08-23T13:47:20.023Z"
   },
   {
    "duration": 642,
    "start_time": "2021-08-23T13:47:56.816Z"
   },
   {
    "duration": 796,
    "start_time": "2021-08-23T13:48:04.374Z"
   },
   {
    "duration": 1426,
    "start_time": "2021-08-23T13:48:59.865Z"
   },
   {
    "duration": 876,
    "start_time": "2021-08-23T13:49:25.561Z"
   },
   {
    "duration": 1020,
    "start_time": "2021-08-23T13:50:07.822Z"
   },
   {
    "duration": 1751,
    "start_time": "2021-08-23T13:50:36.254Z"
   },
   {
    "duration": 10222,
    "start_time": "2021-08-23T13:50:54.865Z"
   },
   {
    "duration": 876,
    "start_time": "2021-08-23T13:53:30.193Z"
   },
   {
    "duration": 726,
    "start_time": "2021-08-23T13:53:41.246Z"
   },
   {
    "duration": 1211,
    "start_time": "2021-08-23T13:54:28.728Z"
   },
   {
    "duration": 503,
    "start_time": "2021-08-23T13:54:29.941Z"
   },
   {
    "duration": 256,
    "start_time": "2021-08-23T13:54:30.447Z"
   },
   {
    "duration": 86,
    "start_time": "2021-08-23T13:54:30.705Z"
   },
   {
    "duration": 12,
    "start_time": "2021-08-23T13:54:30.793Z"
   },
   {
    "duration": 74,
    "start_time": "2021-08-23T13:54:30.806Z"
   },
   {
    "duration": 355,
    "start_time": "2021-08-23T13:54:30.882Z"
   },
   {
    "duration": 28,
    "start_time": "2021-08-23T13:54:31.239Z"
   },
   {
    "duration": 1992,
    "start_time": "2021-08-23T13:54:31.269Z"
   },
   {
    "duration": 621,
    "start_time": "2021-08-23T13:54:33.262Z"
   },
   {
    "duration": 5,
    "start_time": "2021-08-23T13:54:33.885Z"
   },
   {
    "duration": 28,
    "start_time": "2021-08-23T13:54:33.892Z"
   },
   {
    "duration": 25,
    "start_time": "2021-08-23T13:54:33.922Z"
   },
   {
    "duration": 26,
    "start_time": "2021-08-23T13:54:33.950Z"
   },
   {
    "duration": 30,
    "start_time": "2021-08-23T13:54:33.978Z"
   },
   {
    "duration": 19,
    "start_time": "2021-08-23T13:54:34.010Z"
   },
   {
    "duration": 452,
    "start_time": "2021-08-23T13:54:34.031Z"
   },
   {
    "duration": 464,
    "start_time": "2021-08-23T13:54:34.484Z"
   },
   {
    "duration": 394,
    "start_time": "2021-08-23T13:54:34.950Z"
   },
   {
    "duration": 14,
    "start_time": "2021-08-23T13:54:35.346Z"
   },
   {
    "duration": 102,
    "start_time": "2021-08-23T13:54:35.362Z"
   },
   {
    "duration": 1976,
    "start_time": "2021-08-23T13:54:35.465Z"
   },
   {
    "duration": 18,
    "start_time": "2021-08-23T13:54:37.445Z"
   },
   {
    "duration": 1195,
    "start_time": "2021-08-23T13:57:54.372Z"
   },
   {
    "duration": 446,
    "start_time": "2021-08-23T13:57:55.569Z"
   },
   {
    "duration": 228,
    "start_time": "2021-08-23T13:57:56.017Z"
   },
   {
    "duration": 68,
    "start_time": "2021-08-23T13:57:56.247Z"
   },
   {
    "duration": 25,
    "start_time": "2021-08-23T13:57:56.316Z"
   },
   {
    "duration": 48,
    "start_time": "2021-08-23T13:57:56.342Z"
   },
   {
    "duration": 820,
    "start_time": "2021-08-23T13:57:56.392Z"
   },
   {
    "duration": 866,
    "start_time": "2021-08-23T13:57:56.348Z"
   },
   {
    "duration": 830,
    "start_time": "2021-08-23T13:57:56.385Z"
   },
   {
    "duration": 820,
    "start_time": "2021-08-23T13:57:56.396Z"
   },
   {
    "duration": 808,
    "start_time": "2021-08-23T13:57:56.409Z"
   },
   {
    "duration": 801,
    "start_time": "2021-08-23T13:57:56.417Z"
   },
   {
    "duration": 789,
    "start_time": "2021-08-23T13:57:56.430Z"
   },
   {
    "duration": 778,
    "start_time": "2021-08-23T13:57:56.442Z"
   },
   {
    "duration": 771,
    "start_time": "2021-08-23T13:57:56.450Z"
   },
   {
    "duration": 766,
    "start_time": "2021-08-23T13:57:56.456Z"
   },
   {
    "duration": 758,
    "start_time": "2021-08-23T13:57:56.465Z"
   },
   {
    "duration": 752,
    "start_time": "2021-08-23T13:57:56.472Z"
   },
   {
    "duration": 743,
    "start_time": "2021-08-23T13:57:56.482Z"
   },
   {
    "duration": 704,
    "start_time": "2021-08-23T13:57:56.522Z"
   },
   {
    "duration": 695,
    "start_time": "2021-08-23T13:57:56.532Z"
   },
   {
    "duration": 680,
    "start_time": "2021-08-23T13:57:56.548Z"
   },
   {
    "duration": 672,
    "start_time": "2021-08-23T13:57:56.557Z"
   },
   {
    "duration": 1229,
    "start_time": "2021-08-23T13:58:46.118Z"
   },
   {
    "duration": 441,
    "start_time": "2021-08-23T13:58:47.350Z"
   },
   {
    "duration": 218,
    "start_time": "2021-08-23T13:58:47.794Z"
   },
   {
    "duration": 86,
    "start_time": "2021-08-23T13:58:48.014Z"
   },
   {
    "duration": 14,
    "start_time": "2021-08-23T13:58:48.102Z"
   },
   {
    "duration": 67,
    "start_time": "2021-08-23T13:58:48.118Z"
   },
   {
    "duration": 333,
    "start_time": "2021-08-23T13:58:48.187Z"
   },
   {
    "duration": 34,
    "start_time": "2021-08-23T13:58:48.523Z"
   },
   {
    "duration": 1889,
    "start_time": "2021-08-23T13:58:48.559Z"
   },
   {
    "duration": 572,
    "start_time": "2021-08-23T13:58:50.450Z"
   },
   {
    "duration": 17,
    "start_time": "2021-08-23T13:58:51.024Z"
   },
   {
    "duration": 23,
    "start_time": "2021-08-23T13:58:51.042Z"
   },
   {
    "duration": 25,
    "start_time": "2021-08-23T13:58:51.067Z"
   },
   {
    "duration": 19,
    "start_time": "2021-08-23T13:58:51.093Z"
   },
   {
    "duration": 30,
    "start_time": "2021-08-23T13:58:51.114Z"
   },
   {
    "duration": 4,
    "start_time": "2021-08-23T13:58:51.146Z"
   },
   {
    "duration": 422,
    "start_time": "2021-08-23T13:58:51.151Z"
   },
   {
    "duration": 424,
    "start_time": "2021-08-23T13:58:51.575Z"
   },
   {
    "duration": 368,
    "start_time": "2021-08-23T13:58:52.001Z"
   },
   {
    "duration": 12,
    "start_time": "2021-08-23T13:58:52.371Z"
   },
   {
    "duration": 95,
    "start_time": "2021-08-23T13:58:52.385Z"
   },
   {
    "duration": 1883,
    "start_time": "2021-08-23T13:58:52.482Z"
   },
   {
    "duration": 13,
    "start_time": "2021-08-23T13:58:54.368Z"
   },
   {
    "duration": 1079,
    "start_time": "2021-08-23T14:24:22.277Z"
   },
   {
    "duration": 431,
    "start_time": "2021-08-23T14:24:23.358Z"
   },
   {
    "duration": 205,
    "start_time": "2021-08-23T14:24:23.791Z"
   },
   {
    "duration": 79,
    "start_time": "2021-08-23T14:24:23.997Z"
   },
   {
    "duration": 11,
    "start_time": "2021-08-23T14:24:24.078Z"
   },
   {
    "duration": 58,
    "start_time": "2021-08-23T14:24:24.091Z"
   },
   {
    "duration": 338,
    "start_time": "2021-08-23T14:24:24.151Z"
   },
   {
    "duration": 21,
    "start_time": "2021-08-23T14:24:24.491Z"
   },
   {
    "duration": 1834,
    "start_time": "2021-08-23T14:24:24.514Z"
   },
   {
    "duration": 535,
    "start_time": "2021-08-23T14:24:26.350Z"
   },
   {
    "duration": 5,
    "start_time": "2021-08-23T14:24:26.886Z"
   },
   {
    "duration": 18,
    "start_time": "2021-08-23T14:24:26.893Z"
   },
   {
    "duration": 29,
    "start_time": "2021-08-23T14:24:26.913Z"
   },
   {
    "duration": 16,
    "start_time": "2021-08-23T14:24:26.943Z"
   },
   {
    "duration": 14,
    "start_time": "2021-08-23T14:24:26.960Z"
   },
   {
    "duration": 4,
    "start_time": "2021-08-23T14:24:26.976Z"
   },
   {
    "duration": 670,
    "start_time": "2021-08-23T14:24:26.982Z"
   },
   {
    "duration": 527,
    "start_time": "2021-08-23T14:24:27.653Z"
   },
   {
    "duration": 484,
    "start_time": "2021-08-23T14:24:28.182Z"
   },
   {
    "duration": 11,
    "start_time": "2021-08-23T14:24:28.668Z"
   },
   {
    "duration": 91,
    "start_time": "2021-08-23T14:24:28.681Z"
   },
   {
    "duration": 1878,
    "start_time": "2021-08-23T14:24:28.774Z"
   },
   {
    "duration": 13,
    "start_time": "2021-08-23T14:24:30.654Z"
   },
   {
    "duration": 1795,
    "start_time": "2021-08-23T14:58:44.409Z"
   },
   {
    "duration": 1852,
    "start_time": "2021-08-23T14:58:53.296Z"
   },
   {
    "duration": 12,
    "start_time": "2021-08-23T15:12:43.159Z"
   },
   {
    "duration": 1173,
    "start_time": "2021-08-23T15:24:47.272Z"
   },
   {
    "duration": 440,
    "start_time": "2021-08-23T15:24:48.446Z"
   },
   {
    "duration": 245,
    "start_time": "2021-08-23T15:24:48.888Z"
   },
   {
    "duration": 107,
    "start_time": "2021-08-23T15:24:49.135Z"
   },
   {
    "duration": 12,
    "start_time": "2021-08-23T15:24:49.244Z"
   },
   {
    "duration": 46,
    "start_time": "2021-08-23T15:24:49.258Z"
   },
   {
    "duration": 341,
    "start_time": "2021-08-23T15:24:49.306Z"
   },
   {
    "duration": 19,
    "start_time": "2021-08-23T15:24:49.649Z"
   },
   {
    "duration": 1860,
    "start_time": "2021-08-23T15:24:49.669Z"
   },
   {
    "duration": 661,
    "start_time": "2021-08-23T15:24:51.531Z"
   },
   {
    "duration": 5,
    "start_time": "2021-08-23T15:24:52.193Z"
   },
   {
    "duration": 22,
    "start_time": "2021-08-23T15:24:52.199Z"
   },
   {
    "duration": 19,
    "start_time": "2021-08-23T15:24:52.223Z"
   },
   {
    "duration": 16,
    "start_time": "2021-08-23T15:24:52.243Z"
   },
   {
    "duration": 10,
    "start_time": "2021-08-23T15:24:52.260Z"
   },
   {
    "duration": 6,
    "start_time": "2021-08-23T15:24:52.272Z"
   },
   {
    "duration": 565,
    "start_time": "2021-08-23T15:24:52.280Z"
   },
   {
    "duration": 552,
    "start_time": "2021-08-23T15:24:52.847Z"
   },
   {
    "duration": 544,
    "start_time": "2021-08-23T15:24:53.401Z"
   },
   {
    "duration": 10,
    "start_time": "2021-08-23T15:24:53.947Z"
   },
   {
    "duration": 1874,
    "start_time": "2021-08-23T15:24:53.958Z"
   },
   {
    "duration": 1127,
    "start_time": "2021-08-23T15:25:12.528Z"
   },
   {
    "duration": 443,
    "start_time": "2021-08-23T15:25:13.657Z"
   },
   {
    "duration": 196,
    "start_time": "2021-08-23T15:25:14.102Z"
   },
   {
    "duration": 79,
    "start_time": "2021-08-23T15:25:14.300Z"
   },
   {
    "duration": 11,
    "start_time": "2021-08-23T15:25:14.381Z"
   },
   {
    "duration": 56,
    "start_time": "2021-08-23T15:25:14.394Z"
   },
   {
    "duration": 330,
    "start_time": "2021-08-23T15:25:14.452Z"
   },
   {
    "duration": 19,
    "start_time": "2021-08-23T15:25:14.785Z"
   },
   {
    "duration": 1772,
    "start_time": "2021-08-23T15:25:14.806Z"
   },
   {
    "duration": 560,
    "start_time": "2021-08-23T15:25:16.580Z"
   },
   {
    "duration": 5,
    "start_time": "2021-08-23T15:25:17.142Z"
   },
   {
    "duration": 18,
    "start_time": "2021-08-23T15:25:17.149Z"
   },
   {
    "duration": 11,
    "start_time": "2021-08-23T15:25:17.168Z"
   },
   {
    "duration": 15,
    "start_time": "2021-08-23T15:25:17.181Z"
   },
   {
    "duration": 44,
    "start_time": "2021-08-23T15:25:17.199Z"
   },
   {
    "duration": 4,
    "start_time": "2021-08-23T15:25:17.245Z"
   },
   {
    "duration": 533,
    "start_time": "2021-08-23T15:25:17.250Z"
   },
   {
    "duration": 539,
    "start_time": "2021-08-23T15:25:17.784Z"
   },
   {
    "duration": 492,
    "start_time": "2021-08-23T15:25:18.324Z"
   },
   {
    "duration": 11,
    "start_time": "2021-08-23T15:25:18.817Z"
   },
   {
    "duration": 1893,
    "start_time": "2021-08-23T15:25:18.830Z"
   },
   {
    "duration": 1165,
    "start_time": "2021-08-23T15:37:17.057Z"
   },
   {
    "duration": 451,
    "start_time": "2021-08-23T15:37:18.224Z"
   },
   {
    "duration": 207,
    "start_time": "2021-08-23T15:37:18.677Z"
   },
   {
    "duration": 88,
    "start_time": "2021-08-23T15:37:18.886Z"
   },
   {
    "duration": 14,
    "start_time": "2021-08-23T15:37:18.976Z"
   },
   {
    "duration": 62,
    "start_time": "2021-08-23T15:37:18.991Z"
   },
   {
    "duration": 347,
    "start_time": "2021-08-23T15:37:19.055Z"
   },
   {
    "duration": 22,
    "start_time": "2021-08-23T15:37:19.404Z"
   },
   {
    "duration": 1877,
    "start_time": "2021-08-23T15:37:19.428Z"
   },
   {
    "duration": 585,
    "start_time": "2021-08-23T15:37:21.307Z"
   },
   {
    "duration": 5,
    "start_time": "2021-08-23T15:37:21.894Z"
   },
   {
    "duration": 20,
    "start_time": "2021-08-23T15:37:21.900Z"
   },
   {
    "duration": 11,
    "start_time": "2021-08-23T15:37:21.922Z"
   },
   {
    "duration": 23,
    "start_time": "2021-08-23T15:37:21.940Z"
   },
   {
    "duration": 29,
    "start_time": "2021-08-23T15:37:21.964Z"
   },
   {
    "duration": 14,
    "start_time": "2021-08-23T15:37:21.995Z"
   },
   {
    "duration": 614,
    "start_time": "2021-08-23T15:37:22.011Z"
   },
   {
    "duration": 560,
    "start_time": "2021-08-23T15:37:22.627Z"
   },
   {
    "duration": 522,
    "start_time": "2021-08-23T15:37:23.189Z"
   },
   {
    "duration": 10,
    "start_time": "2021-08-23T15:37:23.712Z"
   },
   {
    "duration": 1929,
    "start_time": "2021-08-23T15:37:23.724Z"
   },
   {
    "duration": 1124,
    "start_time": "2021-08-23T15:38:58.937Z"
   },
   {
    "duration": 462,
    "start_time": "2021-08-23T15:39:00.063Z"
   },
   {
    "duration": 264,
    "start_time": "2021-08-23T15:39:00.528Z"
   },
   {
    "duration": 111,
    "start_time": "2021-08-23T15:39:00.795Z"
   },
   {
    "duration": 17,
    "start_time": "2021-08-23T15:39:00.908Z"
   },
   {
    "duration": 66,
    "start_time": "2021-08-23T15:39:00.927Z"
   },
   {
    "duration": 349,
    "start_time": "2021-08-23T15:39:00.994Z"
   },
   {
    "duration": 22,
    "start_time": "2021-08-23T15:39:01.345Z"
   },
   {
    "duration": 2135,
    "start_time": "2021-08-23T15:39:01.369Z"
   },
   {
    "duration": 546,
    "start_time": "2021-08-23T15:39:03.506Z"
   },
   {
    "duration": 5,
    "start_time": "2021-08-23T15:39:04.054Z"
   },
   {
    "duration": 18,
    "start_time": "2021-08-23T15:39:04.061Z"
   },
   {
    "duration": 11,
    "start_time": "2021-08-23T15:39:04.081Z"
   },
   {
    "duration": 20,
    "start_time": "2021-08-23T15:39:04.094Z"
   },
   {
    "duration": 34,
    "start_time": "2021-08-23T15:39:04.116Z"
   },
   {
    "duration": 5,
    "start_time": "2021-08-23T15:39:04.152Z"
   },
   {
    "duration": 559,
    "start_time": "2021-08-23T15:39:04.158Z"
   },
   {
    "duration": 582,
    "start_time": "2021-08-23T15:39:04.718Z"
   },
   {
    "duration": 573,
    "start_time": "2021-08-23T15:39:05.302Z"
   },
   {
    "duration": 15,
    "start_time": "2021-08-23T15:39:05.877Z"
   },
   {
    "duration": 2038,
    "start_time": "2021-08-23T15:39:05.894Z"
   },
   {
    "duration": 286,
    "start_time": "2021-08-23T15:40:16.936Z"
   },
   {
    "duration": 267,
    "start_time": "2021-08-23T15:40:26.383Z"
   },
   {
    "duration": 262,
    "start_time": "2021-08-23T15:40:33.584Z"
   },
   {
    "duration": 1087,
    "start_time": "2021-08-23T15:41:02.277Z"
   },
   {
    "duration": 445,
    "start_time": "2021-08-23T15:41:03.368Z"
   },
   {
    "duration": 216,
    "start_time": "2021-08-23T15:41:03.815Z"
   },
   {
    "duration": 72,
    "start_time": "2021-08-23T15:41:04.032Z"
   },
   {
    "duration": 12,
    "start_time": "2021-08-23T15:41:04.106Z"
   },
   {
    "duration": 66,
    "start_time": "2021-08-23T15:41:04.120Z"
   },
   {
    "duration": 344,
    "start_time": "2021-08-23T15:41:04.188Z"
   },
   {
    "duration": 26,
    "start_time": "2021-08-23T15:41:04.535Z"
   },
   {
    "duration": 1802,
    "start_time": "2021-08-23T15:41:04.563Z"
   },
   {
    "duration": 555,
    "start_time": "2021-08-23T15:41:06.366Z"
   },
   {
    "duration": 6,
    "start_time": "2021-08-23T15:41:06.922Z"
   },
   {
    "duration": 27,
    "start_time": "2021-08-23T15:41:06.929Z"
   },
   {
    "duration": 12,
    "start_time": "2021-08-23T15:41:06.957Z"
   },
   {
    "duration": 16,
    "start_time": "2021-08-23T15:41:06.970Z"
   },
   {
    "duration": 14,
    "start_time": "2021-08-23T15:41:06.987Z"
   },
   {
    "duration": 5,
    "start_time": "2021-08-23T15:41:07.003Z"
   },
   {
    "duration": 660,
    "start_time": "2021-08-23T15:41:07.009Z"
   },
   {
    "duration": 552,
    "start_time": "2021-08-23T15:41:07.671Z"
   },
   {
    "duration": 524,
    "start_time": "2021-08-23T15:41:08.225Z"
   },
   {
    "duration": 11,
    "start_time": "2021-08-23T15:41:08.751Z"
   },
   {
    "duration": 1905,
    "start_time": "2021-08-23T15:41:08.764Z"
   },
   {
    "duration": 1160,
    "start_time": "2021-08-23T15:45:04.404Z"
   },
   {
    "duration": 455,
    "start_time": "2021-08-23T15:45:05.566Z"
   },
   {
    "duration": 223,
    "start_time": "2021-08-23T15:45:06.023Z"
   },
   {
    "duration": 70,
    "start_time": "2021-08-23T15:45:06.248Z"
   },
   {
    "duration": 30,
    "start_time": "2021-08-23T15:45:06.320Z"
   },
   {
    "duration": 52,
    "start_time": "2021-08-23T15:45:06.352Z"
   },
   {
    "duration": 354,
    "start_time": "2021-08-23T15:45:06.406Z"
   },
   {
    "duration": 20,
    "start_time": "2021-08-23T15:45:06.763Z"
   },
   {
    "duration": 1842,
    "start_time": "2021-08-23T15:45:06.785Z"
   },
   {
    "duration": 580,
    "start_time": "2021-08-23T15:45:08.629Z"
   },
   {
    "duration": 5,
    "start_time": "2021-08-23T15:45:09.211Z"
   },
   {
    "duration": 31,
    "start_time": "2021-08-23T15:45:09.217Z"
   },
   {
    "duration": 12,
    "start_time": "2021-08-23T15:45:09.250Z"
   },
   {
    "duration": 19,
    "start_time": "2021-08-23T15:45:09.264Z"
   },
   {
    "duration": 12,
    "start_time": "2021-08-23T15:45:09.285Z"
   },
   {
    "duration": 8,
    "start_time": "2021-08-23T15:45:09.299Z"
   },
   {
    "duration": 563,
    "start_time": "2021-08-23T15:45:09.309Z"
   },
   {
    "duration": 578,
    "start_time": "2021-08-23T15:45:09.874Z"
   },
   {
    "duration": 508,
    "start_time": "2021-08-23T15:45:10.453Z"
   },
   {
    "duration": 12,
    "start_time": "2021-08-23T15:45:10.963Z"
   },
   {
    "duration": 1928,
    "start_time": "2021-08-23T15:45:10.976Z"
   },
   {
    "duration": 1092,
    "start_time": "2021-08-23T15:49:07.062Z"
   },
   {
    "duration": 446,
    "start_time": "2021-08-23T15:49:08.156Z"
   },
   {
    "duration": 214,
    "start_time": "2021-08-23T15:49:08.605Z"
   },
   {
    "duration": 78,
    "start_time": "2021-08-23T15:49:08.821Z"
   },
   {
    "duration": 13,
    "start_time": "2021-08-23T15:49:08.901Z"
   },
   {
    "duration": 62,
    "start_time": "2021-08-23T15:49:08.916Z"
   },
   {
    "duration": 338,
    "start_time": "2021-08-23T15:49:08.982Z"
   },
   {
    "duration": 31,
    "start_time": "2021-08-23T15:49:09.322Z"
   },
   {
    "duration": 1892,
    "start_time": "2021-08-23T15:49:09.355Z"
   },
   {
    "duration": 620,
    "start_time": "2021-08-23T15:49:11.248Z"
   },
   {
    "duration": 5,
    "start_time": "2021-08-23T15:49:11.869Z"
   },
   {
    "duration": 27,
    "start_time": "2021-08-23T15:49:11.876Z"
   },
   {
    "duration": 11,
    "start_time": "2021-08-23T15:49:11.904Z"
   },
   {
    "duration": 30,
    "start_time": "2021-08-23T15:49:11.917Z"
   },
   {
    "duration": 12,
    "start_time": "2021-08-23T15:49:11.949Z"
   },
   {
    "duration": 5,
    "start_time": "2021-08-23T15:49:11.963Z"
   },
   {
    "duration": 605,
    "start_time": "2021-08-23T15:49:11.969Z"
   },
   {
    "duration": 566,
    "start_time": "2021-08-23T15:49:12.576Z"
   },
   {
    "duration": 500,
    "start_time": "2021-08-23T15:49:13.144Z"
   },
   {
    "duration": 11,
    "start_time": "2021-08-23T15:49:13.645Z"
   },
   {
    "duration": 1933,
    "start_time": "2021-08-23T15:49:13.658Z"
   },
   {
    "duration": 1106,
    "start_time": "2021-08-24T10:34:27.088Z"
   },
   {
    "duration": 461,
    "start_time": "2021-08-24T10:34:28.196Z"
   },
   {
    "duration": 208,
    "start_time": "2021-08-24T10:34:28.660Z"
   },
   {
    "duration": 83,
    "start_time": "2021-08-24T10:34:28.871Z"
   },
   {
    "duration": 14,
    "start_time": "2021-08-24T10:34:28.955Z"
   },
   {
    "duration": 51,
    "start_time": "2021-08-24T10:34:28.985Z"
   },
   {
    "duration": 334,
    "start_time": "2021-08-24T10:34:29.037Z"
   },
   {
    "duration": 28,
    "start_time": "2021-08-24T10:34:29.374Z"
   },
   {
    "duration": 1896,
    "start_time": "2021-08-24T10:34:29.404Z"
   },
   {
    "duration": 560,
    "start_time": "2021-08-24T10:34:31.302Z"
   },
   {
    "duration": 6,
    "start_time": "2021-08-24T10:34:31.864Z"
   },
   {
    "duration": 33,
    "start_time": "2021-08-24T10:34:31.872Z"
   },
   {
    "duration": 21,
    "start_time": "2021-08-24T10:34:31.907Z"
   },
   {
    "duration": 26,
    "start_time": "2021-08-24T10:34:31.930Z"
   },
   {
    "duration": 25,
    "start_time": "2021-08-24T10:34:31.958Z"
   },
   {
    "duration": 15,
    "start_time": "2021-08-24T10:34:31.984Z"
   },
   {
    "duration": 565,
    "start_time": "2021-08-24T10:34:32.000Z"
   },
   {
    "duration": 601,
    "start_time": "2021-08-24T10:34:32.567Z"
   },
   {
    "duration": 536,
    "start_time": "2021-08-24T10:34:33.170Z"
   },
   {
    "duration": 12,
    "start_time": "2021-08-24T10:34:33.708Z"
   },
   {
    "duration": 1891,
    "start_time": "2021-08-24T10:34:33.722Z"
   },
   {
    "duration": 17,
    "start_time": "2021-08-24T11:45:25.026Z"
   },
   {
    "duration": 4,
    "start_time": "2021-08-24T11:45:35.355Z"
   },
   {
    "duration": 4,
    "start_time": "2021-08-24T11:46:32.137Z"
   },
   {
    "duration": 20,
    "start_time": "2021-08-24T11:48:52.350Z"
   },
   {
    "duration": 7,
    "start_time": "2021-08-24T11:51:55.531Z"
   },
   {
    "duration": 18,
    "start_time": "2021-08-24T11:53:06.490Z"
   },
   {
    "duration": 15,
    "start_time": "2021-08-24T11:54:30.626Z"
   },
   {
    "duration": 548,
    "start_time": "2021-08-24T11:54:56.393Z"
   },
   {
    "duration": 18,
    "start_time": "2021-08-24T11:55:06.227Z"
   },
   {
    "duration": 21,
    "start_time": "2021-08-24T11:56:43.037Z"
   },
   {
    "duration": 1422,
    "start_time": "2021-08-24T12:34:11.994Z"
   },
   {
    "duration": 617,
    "start_time": "2021-08-24T12:34:13.419Z"
   },
   {
    "duration": 303,
    "start_time": "2021-08-24T12:34:14.039Z"
   },
   {
    "duration": 22,
    "start_time": "2021-08-24T12:34:14.345Z"
   },
   {
    "duration": 111,
    "start_time": "2021-08-24T12:34:14.370Z"
   },
   {
    "duration": 81,
    "start_time": "2021-08-24T12:34:14.484Z"
   },
   {
    "duration": 490,
    "start_time": "2021-08-24T12:34:14.567Z"
   },
   {
    "duration": 31,
    "start_time": "2021-08-24T12:34:15.061Z"
   },
   {
    "duration": 10,
    "start_time": "2021-08-24T12:34:15.095Z"
   },
   {
    "duration": 591,
    "start_time": "2021-08-24T12:34:15.108Z"
   },
   {
    "duration": 7,
    "start_time": "2021-08-24T12:34:15.701Z"
   },
   {
    "duration": 644,
    "start_time": "2021-08-24T12:34:15.710Z"
   },
   {
    "duration": 1268,
    "start_time": "2021-08-24T12:34:15.089Z"
   },
   {
    "duration": 1262,
    "start_time": "2021-08-24T12:34:15.096Z"
   },
   {
    "duration": 1254,
    "start_time": "2021-08-24T12:34:15.106Z"
   },
   {
    "duration": 1248,
    "start_time": "2021-08-24T12:34:15.113Z"
   },
   {
    "duration": 1241,
    "start_time": "2021-08-24T12:34:15.121Z"
   },
   {
    "duration": 1234,
    "start_time": "2021-08-24T12:34:15.130Z"
   },
   {
    "duration": 1226,
    "start_time": "2021-08-24T12:34:15.139Z"
   },
   {
    "duration": 1220,
    "start_time": "2021-08-24T12:34:15.146Z"
   },
   {
    "duration": 1214,
    "start_time": "2021-08-24T12:34:15.154Z"
   },
   {
    "duration": 1646,
    "start_time": "2021-08-24T12:35:18.977Z"
   },
   {
    "duration": 608,
    "start_time": "2021-08-24T12:35:20.626Z"
   },
   {
    "duration": 306,
    "start_time": "2021-08-24T12:35:21.238Z"
   },
   {
    "duration": 23,
    "start_time": "2021-08-24T12:35:21.547Z"
   },
   {
    "duration": 122,
    "start_time": "2021-08-24T12:35:21.573Z"
   },
   {
    "duration": 79,
    "start_time": "2021-08-24T12:35:21.697Z"
   },
   {
    "duration": 479,
    "start_time": "2021-08-24T12:35:21.778Z"
   },
   {
    "duration": 32,
    "start_time": "2021-08-24T12:35:22.261Z"
   },
   {
    "duration": 3362,
    "start_time": "2021-08-24T12:35:22.296Z"
   },
   {
    "duration": 1195,
    "start_time": "2021-08-24T12:35:25.661Z"
   },
   {
    "duration": 7,
    "start_time": "2021-08-24T12:35:26.858Z"
   },
   {
    "duration": 29,
    "start_time": "2021-08-24T12:35:26.867Z"
   },
   {
    "duration": 18,
    "start_time": "2021-08-24T12:35:26.899Z"
   },
   {
    "duration": 59,
    "start_time": "2021-08-24T12:35:26.920Z"
   },
   {
    "duration": 18,
    "start_time": "2021-08-24T12:35:26.982Z"
   },
   {
    "duration": 6,
    "start_time": "2021-08-24T12:35:27.002Z"
   },
   {
    "duration": 880,
    "start_time": "2021-08-24T12:35:27.011Z"
   },
   {
    "duration": 883,
    "start_time": "2021-08-24T12:35:27.894Z"
   },
   {
    "duration": 809,
    "start_time": "2021-08-24T12:35:28.780Z"
   },
   {
    "duration": 16,
    "start_time": "2021-08-24T12:35:29.592Z"
   },
   {
    "duration": 3463,
    "start_time": "2021-08-24T12:35:29.611Z"
   },
   {
    "duration": 1475,
    "start_time": "2021-08-24T12:44:19.446Z"
   },
   {
    "duration": 608,
    "start_time": "2021-08-24T12:44:20.925Z"
   },
   {
    "duration": 277,
    "start_time": "2021-08-24T12:44:21.539Z"
   },
   {
    "duration": 15,
    "start_time": "2021-08-24T12:44:21.818Z"
   },
   {
    "duration": 108,
    "start_time": "2021-08-24T12:44:21.835Z"
   },
   {
    "duration": 78,
    "start_time": "2021-08-24T12:44:21.945Z"
   },
   {
    "duration": 512,
    "start_time": "2021-08-24T12:44:22.026Z"
   },
   {
    "duration": 39,
    "start_time": "2021-08-24T12:44:22.541Z"
   },
   {
    "duration": 3108,
    "start_time": "2021-08-24T12:44:22.582Z"
   },
   {
    "duration": 12,
    "start_time": "2021-08-24T12:44:25.692Z"
   },
   {
    "duration": 10792,
    "start_time": "2021-08-24T12:44:25.706Z"
   },
   {
    "duration": 1190,
    "start_time": "2021-08-24T12:44:35.311Z"
   },
   {
    "duration": 1178,
    "start_time": "2021-08-24T12:44:35.325Z"
   },
   {
    "duration": 1165,
    "start_time": "2021-08-24T12:44:35.340Z"
   },
   {
    "duration": 1092,
    "start_time": "2021-08-24T12:44:35.414Z"
   },
   {
    "duration": 1082,
    "start_time": "2021-08-24T12:44:35.426Z"
   },
   {
    "duration": 1070,
    "start_time": "2021-08-24T12:44:35.439Z"
   },
   {
    "duration": 1064,
    "start_time": "2021-08-24T12:44:35.447Z"
   },
   {
    "duration": 1053,
    "start_time": "2021-08-24T12:44:35.459Z"
   },
   {
    "duration": 1047,
    "start_time": "2021-08-24T12:44:35.467Z"
   },
   {
    "duration": 1038,
    "start_time": "2021-08-24T12:44:35.477Z"
   },
   {
    "duration": 1034,
    "start_time": "2021-08-24T12:44:35.483Z"
   },
   {
    "duration": 1437,
    "start_time": "2021-08-24T12:46:56.912Z"
   },
   {
    "duration": 586,
    "start_time": "2021-08-24T12:46:58.353Z"
   },
   {
    "duration": 283,
    "start_time": "2021-08-24T12:46:58.954Z"
   },
   {
    "duration": 23,
    "start_time": "2021-08-24T12:46:59.240Z"
   },
   {
    "duration": 107,
    "start_time": "2021-08-24T12:46:59.265Z"
   },
   {
    "duration": 81,
    "start_time": "2021-08-24T12:46:59.375Z"
   },
   {
    "duration": 485,
    "start_time": "2021-08-24T12:46:59.458Z"
   },
   {
    "duration": 38,
    "start_time": "2021-08-24T12:46:59.946Z"
   },
   {
    "duration": 3228,
    "start_time": "2021-08-24T12:46:59.987Z"
   },
   {
    "duration": 13,
    "start_time": "2021-08-24T12:47:03.217Z"
   },
   {
    "duration": 11073,
    "start_time": "2021-08-24T12:47:03.232Z"
   },
   {
    "duration": 1250,
    "start_time": "2021-08-24T12:47:13.058Z"
   },
   {
    "duration": 1240,
    "start_time": "2021-08-24T12:47:13.070Z"
   },
   {
    "duration": 1231,
    "start_time": "2021-08-24T12:47:13.080Z"
   },
   {
    "duration": 1224,
    "start_time": "2021-08-24T12:47:13.089Z"
   },
   {
    "duration": 1216,
    "start_time": "2021-08-24T12:47:13.099Z"
   },
   {
    "duration": 1209,
    "start_time": "2021-08-24T12:47:13.107Z"
   },
   {
    "duration": 1202,
    "start_time": "2021-08-24T12:47:13.116Z"
   },
   {
    "duration": 1195,
    "start_time": "2021-08-24T12:47:13.124Z"
   },
   {
    "duration": 1189,
    "start_time": "2021-08-24T12:47:13.132Z"
   },
   {
    "duration": 1168,
    "start_time": "2021-08-24T12:47:13.154Z"
   },
   {
    "duration": 1160,
    "start_time": "2021-08-24T12:47:13.163Z"
   },
   {
    "duration": 23,
    "start_time": "2021-08-24T12:48:50.038Z"
   },
   {
    "duration": 29,
    "start_time": "2021-08-24T12:48:55.249Z"
   },
   {
    "duration": 421,
    "start_time": "2021-08-24T12:49:20.379Z"
   },
   {
    "duration": 13,
    "start_time": "2021-08-24T12:49:30.382Z"
   },
   {
    "duration": 27,
    "start_time": "2021-08-24T12:49:40.552Z"
   },
   {
    "duration": 477,
    "start_time": "2021-08-24T12:50:03.383Z"
   },
   {
    "duration": 1461,
    "start_time": "2021-08-24T12:50:17.369Z"
   },
   {
    "duration": 661,
    "start_time": "2021-08-24T12:50:18.834Z"
   },
   {
    "duration": 302,
    "start_time": "2021-08-24T12:50:19.498Z"
   },
   {
    "duration": 18,
    "start_time": "2021-08-24T12:50:19.803Z"
   },
   {
    "duration": 116,
    "start_time": "2021-08-24T12:50:19.824Z"
   },
   {
    "duration": 81,
    "start_time": "2021-08-24T12:50:19.945Z"
   },
   {
    "duration": 494,
    "start_time": "2021-08-24T12:50:20.029Z"
   },
   {
    "duration": 46,
    "start_time": "2021-08-24T12:50:20.526Z"
   },
   {
    "duration": 4148,
    "start_time": "2021-08-24T12:50:20.575Z"
   },
   {
    "duration": 1098,
    "start_time": "2021-08-24T12:50:24.725Z"
   },
   {
    "duration": 7,
    "start_time": "2021-08-24T12:50:25.825Z"
   },
   {
    "duration": 42,
    "start_time": "2021-08-24T12:50:25.834Z"
   },
   {
    "duration": 18,
    "start_time": "2021-08-24T12:50:25.879Z"
   },
   {
    "duration": 58,
    "start_time": "2021-08-24T12:50:25.900Z"
   },
   {
    "duration": 19,
    "start_time": "2021-08-24T12:50:25.960Z"
   },
   {
    "duration": 6,
    "start_time": "2021-08-24T12:50:25.981Z"
   },
   {
    "duration": 859,
    "start_time": "2021-08-24T12:50:25.989Z"
   },
   {
    "duration": 910,
    "start_time": "2021-08-24T12:50:26.856Z"
   },
   {
    "duration": 845,
    "start_time": "2021-08-24T12:50:27.769Z"
   },
   {
    "duration": 17,
    "start_time": "2021-08-24T12:50:28.616Z"
   },
   {
    "duration": 3223,
    "start_time": "2021-08-24T12:50:28.635Z"
   },
   {
    "duration": 1659,
    "start_time": "2021-08-24T13:20:14.866Z"
   },
   {
    "duration": 629,
    "start_time": "2021-08-24T13:20:16.528Z"
   },
   {
    "duration": 312,
    "start_time": "2021-08-24T13:20:17.160Z"
   },
   {
    "duration": 1605,
    "start_time": "2021-08-24T13:20:42.616Z"
   },
   {
    "duration": 633,
    "start_time": "2021-08-24T13:20:44.224Z"
   },
   {
    "duration": 302,
    "start_time": "2021-08-24T13:20:44.860Z"
   },
   {
    "duration": 14004,
    "start_time": "2021-08-24T13:20:45.165Z"
   },
   {
    "duration": 1241,
    "start_time": "2021-08-24T13:20:57.931Z"
   },
   {
    "duration": 1231,
    "start_time": "2021-08-24T13:20:57.942Z"
   },
   {
    "duration": 1222,
    "start_time": "2021-08-24T13:20:57.953Z"
   },
   {
    "duration": 1215,
    "start_time": "2021-08-24T13:20:57.961Z"
   },
   {
    "duration": 1207,
    "start_time": "2021-08-24T13:20:57.971Z"
   },
   {
    "duration": 1201,
    "start_time": "2021-08-24T13:20:57.978Z"
   },
   {
    "duration": 1188,
    "start_time": "2021-08-24T13:20:57.992Z"
   },
   {
    "duration": 1183,
    "start_time": "2021-08-24T13:20:57.999Z"
   },
   {
    "duration": 1164,
    "start_time": "2021-08-24T13:20:58.020Z"
   },
   {
    "duration": 1157,
    "start_time": "2021-08-24T13:20:58.028Z"
   },
   {
    "duration": 1147,
    "start_time": "2021-08-24T13:20:58.039Z"
   },
   {
    "duration": 1140,
    "start_time": "2021-08-24T13:20:58.048Z"
   },
   {
    "duration": 1132,
    "start_time": "2021-08-24T13:20:58.057Z"
   },
   {
    "duration": 1125,
    "start_time": "2021-08-24T13:20:58.065Z"
   },
   {
    "duration": 1117,
    "start_time": "2021-08-24T13:20:58.074Z"
   },
   {
    "duration": 1110,
    "start_time": "2021-08-24T13:20:58.083Z"
   },
   {
    "duration": 1101,
    "start_time": "2021-08-24T13:20:58.093Z"
   },
   {
    "duration": 1502,
    "start_time": "2021-08-24T13:21:49.722Z"
   },
   {
    "duration": 597,
    "start_time": "2021-08-24T13:21:51.226Z"
   },
   {
    "duration": 293,
    "start_time": "2021-08-24T13:21:51.826Z"
   },
   {
    "duration": 19,
    "start_time": "2021-08-24T13:21:52.123Z"
   },
   {
    "duration": 167,
    "start_time": "2021-08-24T13:21:52.157Z"
   },
   {
    "duration": 77,
    "start_time": "2021-08-24T13:21:52.326Z"
   },
   {
    "duration": 491,
    "start_time": "2021-08-24T13:21:52.406Z"
   },
   {
    "duration": 34,
    "start_time": "2021-08-24T13:21:52.901Z"
   },
   {
    "duration": 3093,
    "start_time": "2021-08-24T13:21:52.937Z"
   },
   {
    "duration": 1135,
    "start_time": "2021-08-24T13:21:56.033Z"
   },
   {
    "duration": 9,
    "start_time": "2021-08-24T13:21:57.171Z"
   },
   {
    "duration": 41,
    "start_time": "2021-08-24T13:21:57.183Z"
   },
   {
    "duration": 47,
    "start_time": "2021-08-24T13:21:57.227Z"
   },
   {
    "duration": 38,
    "start_time": "2021-08-24T13:21:57.277Z"
   },
   {
    "duration": 50,
    "start_time": "2021-08-24T13:21:57.318Z"
   },
   {
    "duration": 7,
    "start_time": "2021-08-24T13:21:57.370Z"
   },
   {
    "duration": 855,
    "start_time": "2021-08-24T13:21:57.379Z"
   },
   {
    "duration": 851,
    "start_time": "2021-08-24T13:21:58.237Z"
   },
   {
    "duration": 774,
    "start_time": "2021-08-24T13:21:59.090Z"
   },
   {
    "duration": 17,
    "start_time": "2021-08-24T13:21:59.867Z"
   },
   {
    "duration": 3296,
    "start_time": "2021-08-24T13:21:59.886Z"
   },
   {
    "duration": 1477,
    "start_time": "2021-08-24T13:24:37.318Z"
   },
   {
    "duration": 622,
    "start_time": "2021-08-24T13:24:38.798Z"
   },
   {
    "duration": 301,
    "start_time": "2021-08-24T13:24:39.424Z"
   },
   {
    "duration": 525,
    "start_time": "2021-08-24T13:24:39.727Z"
   },
   {
    "duration": 1265,
    "start_time": "2021-08-24T13:24:38.990Z"
   },
   {
    "duration": 1240,
    "start_time": "2021-08-24T13:24:39.016Z"
   },
   {
    "duration": 1227,
    "start_time": "2021-08-24T13:24:39.030Z"
   },
   {
    "duration": 1219,
    "start_time": "2021-08-24T13:24:39.040Z"
   },
   {
    "duration": 1208,
    "start_time": "2021-08-24T13:24:39.052Z"
   },
   {
    "duration": 1200,
    "start_time": "2021-08-24T13:24:39.062Z"
   },
   {
    "duration": 1189,
    "start_time": "2021-08-24T13:24:39.074Z"
   },
   {
    "duration": 1180,
    "start_time": "2021-08-24T13:24:39.084Z"
   },
   {
    "duration": 1171,
    "start_time": "2021-08-24T13:24:39.094Z"
   },
   {
    "duration": 1163,
    "start_time": "2021-08-24T13:24:39.104Z"
   },
   {
    "duration": 1136,
    "start_time": "2021-08-24T13:24:39.132Z"
   },
   {
    "duration": 1127,
    "start_time": "2021-08-24T13:24:39.142Z"
   },
   {
    "duration": 1117,
    "start_time": "2021-08-24T13:24:39.154Z"
   },
   {
    "duration": 1109,
    "start_time": "2021-08-24T13:24:39.163Z"
   },
   {
    "duration": 1097,
    "start_time": "2021-08-24T13:24:39.177Z"
   },
   {
    "duration": 1087,
    "start_time": "2021-08-24T13:24:39.188Z"
   },
   {
    "duration": 1076,
    "start_time": "2021-08-24T13:24:39.200Z"
   },
   {
    "duration": 1502,
    "start_time": "2021-08-24T13:25:41.921Z"
   },
   {
    "duration": 603,
    "start_time": "2021-08-24T13:25:43.426Z"
   },
   {
    "duration": 297,
    "start_time": "2021-08-24T13:25:44.032Z"
   },
   {
    "duration": 28,
    "start_time": "2021-08-24T13:25:44.332Z"
   },
   {
    "duration": 103,
    "start_time": "2021-08-24T13:25:44.362Z"
   },
   {
    "duration": 68,
    "start_time": "2021-08-24T13:25:44.468Z"
   },
   {
    "duration": 497,
    "start_time": "2021-08-24T13:25:44.539Z"
   },
   {
    "duration": 41,
    "start_time": "2021-08-24T13:25:45.040Z"
   },
   {
    "duration": 3132,
    "start_time": "2021-08-24T13:25:45.084Z"
   },
   {
    "duration": 1120,
    "start_time": "2021-08-24T13:25:48.219Z"
   },
   {
    "duration": 15,
    "start_time": "2021-08-24T13:25:49.342Z"
   },
   {
    "duration": 31,
    "start_time": "2021-08-24T13:25:49.359Z"
   },
   {
    "duration": 16,
    "start_time": "2021-08-24T13:25:49.392Z"
   },
   {
    "duration": 56,
    "start_time": "2021-08-24T13:25:49.410Z"
   },
   {
    "duration": 19,
    "start_time": "2021-08-24T13:25:49.469Z"
   },
   {
    "duration": 6,
    "start_time": "2021-08-24T13:25:49.490Z"
   },
   {
    "duration": 864,
    "start_time": "2021-08-24T13:25:49.499Z"
   },
   {
    "duration": 896,
    "start_time": "2021-08-24T13:25:50.365Z"
   },
   {
    "duration": 746,
    "start_time": "2021-08-24T13:25:51.264Z"
   },
   {
    "duration": 16,
    "start_time": "2021-08-24T13:25:52.012Z"
   },
   {
    "duration": 3229,
    "start_time": "2021-08-24T13:25:52.031Z"
   },
   {
    "duration": 1549,
    "start_time": "2021-08-24T13:31:13.052Z"
   },
   {
    "duration": 602,
    "start_time": "2021-08-24T13:31:14.604Z"
   },
   {
    "duration": 293,
    "start_time": "2021-08-24T13:31:15.209Z"
   },
   {
    "duration": 15,
    "start_time": "2021-08-24T13:31:15.505Z"
   },
   {
    "duration": 114,
    "start_time": "2021-08-24T13:31:15.522Z"
   },
   {
    "duration": 78,
    "start_time": "2021-08-24T13:31:15.639Z"
   },
   {
    "duration": 487,
    "start_time": "2021-08-24T13:31:15.720Z"
   },
   {
    "duration": 55,
    "start_time": "2021-08-24T13:31:16.211Z"
   },
   {
    "duration": 555,
    "start_time": "2021-08-24T13:31:16.269Z"
   },
   {
    "duration": 1267,
    "start_time": "2021-08-24T13:31:15.559Z"
   },
   {
    "duration": 1258,
    "start_time": "2021-08-24T13:31:15.570Z"
   },
   {
    "duration": 1252,
    "start_time": "2021-08-24T13:31:15.577Z"
   },
   {
    "duration": 1248,
    "start_time": "2021-08-24T13:31:15.583Z"
   },
   {
    "duration": 1239,
    "start_time": "2021-08-24T13:31:15.593Z"
   },
   {
    "duration": 1233,
    "start_time": "2021-08-24T13:31:15.601Z"
   },
   {
    "duration": 1227,
    "start_time": "2021-08-24T13:31:15.608Z"
   },
   {
    "duration": 1221,
    "start_time": "2021-08-24T13:31:15.616Z"
   },
   {
    "duration": 1215,
    "start_time": "2021-08-24T13:31:15.624Z"
   },
   {
    "duration": 1206,
    "start_time": "2021-08-24T13:31:15.634Z"
   },
   {
    "duration": 1188,
    "start_time": "2021-08-24T13:31:15.654Z"
   },
   {
    "duration": 1179,
    "start_time": "2021-08-24T13:31:15.664Z"
   },
   {
    "duration": 1558,
    "start_time": "2021-08-24T13:36:02.285Z"
   },
   {
    "duration": 639,
    "start_time": "2021-08-24T13:36:03.847Z"
   },
   {
    "duration": 325,
    "start_time": "2021-08-24T13:36:04.489Z"
   },
   {
    "duration": 16,
    "start_time": "2021-08-24T13:36:04.817Z"
   },
   {
    "duration": 125,
    "start_time": "2021-08-24T13:36:04.836Z"
   },
   {
    "duration": 72,
    "start_time": "2021-08-24T13:36:04.964Z"
   },
   {
    "duration": 503,
    "start_time": "2021-08-24T13:36:05.039Z"
   },
   {
    "duration": 43,
    "start_time": "2021-08-24T13:36:05.546Z"
   },
   {
    "duration": 541,
    "start_time": "2021-08-24T13:36:05.592Z"
   },
   {
    "duration": 1266,
    "start_time": "2021-08-24T13:36:04.870Z"
   },
   {
    "duration": 1244,
    "start_time": "2021-08-24T13:36:04.893Z"
   },
   {
    "duration": 1232,
    "start_time": "2021-08-24T13:36:04.906Z"
   },
   {
    "duration": 1222,
    "start_time": "2021-08-24T13:36:04.918Z"
   },
   {
    "duration": 1208,
    "start_time": "2021-08-24T13:36:04.933Z"
   },
   {
    "duration": 1198,
    "start_time": "2021-08-24T13:36:04.944Z"
   },
   {
    "duration": 1168,
    "start_time": "2021-08-24T13:36:04.975Z"
   },
   {
    "duration": 1159,
    "start_time": "2021-08-24T13:36:04.986Z"
   },
   {
    "duration": 1149,
    "start_time": "2021-08-24T13:36:04.997Z"
   },
   {
    "duration": 1141,
    "start_time": "2021-08-24T13:36:05.006Z"
   },
   {
    "duration": 1133,
    "start_time": "2021-08-24T13:36:05.015Z"
   },
   {
    "duration": 1124,
    "start_time": "2021-08-24T13:36:05.025Z"
   },
   {
    "duration": 1519,
    "start_time": "2021-08-24T13:54:53.340Z"
   },
   {
    "duration": 610,
    "start_time": "2021-08-24T13:54:54.862Z"
   },
   {
    "duration": 311,
    "start_time": "2021-08-24T13:54:55.475Z"
   },
   {
    "duration": 18,
    "start_time": "2021-08-24T13:54:55.789Z"
   },
   {
    "duration": 147,
    "start_time": "2021-08-24T13:54:55.809Z"
   },
   {
    "duration": 66,
    "start_time": "2021-08-24T13:54:55.959Z"
   },
   {
    "duration": 495,
    "start_time": "2021-08-24T13:54:56.028Z"
   },
   {
    "duration": 51,
    "start_time": "2021-08-24T13:54:56.528Z"
   },
   {
    "duration": 507,
    "start_time": "2021-08-24T13:54:56.582Z"
   },
   {
    "duration": 1275,
    "start_time": "2021-08-24T13:54:55.817Z"
   },
   {
    "duration": 1271,
    "start_time": "2021-08-24T13:54:55.822Z"
   },
   {
    "duration": 1264,
    "start_time": "2021-08-24T13:54:55.831Z"
   },
   {
    "duration": 1259,
    "start_time": "2021-08-24T13:54:55.837Z"
   },
   {
    "duration": 1251,
    "start_time": "2021-08-24T13:54:55.847Z"
   },
   {
    "duration": 1247,
    "start_time": "2021-08-24T13:54:55.852Z"
   },
   {
    "duration": 1238,
    "start_time": "2021-08-24T13:54:55.863Z"
   },
   {
    "duration": 1233,
    "start_time": "2021-08-24T13:54:55.870Z"
   },
   {
    "duration": 1227,
    "start_time": "2021-08-24T13:54:55.877Z"
   },
   {
    "duration": 1222,
    "start_time": "2021-08-24T13:54:55.884Z"
   },
   {
    "duration": 1216,
    "start_time": "2021-08-24T13:54:55.892Z"
   },
   {
    "duration": 1209,
    "start_time": "2021-08-24T13:54:55.900Z"
   },
   {
    "duration": 1436,
    "start_time": "2021-08-24T13:56:26.192Z"
   },
   {
    "duration": 600,
    "start_time": "2021-08-24T13:56:27.631Z"
   },
   {
    "duration": 305,
    "start_time": "2021-08-24T13:56:28.235Z"
   },
   {
    "duration": 13,
    "start_time": "2021-08-24T13:56:28.543Z"
   },
   {
    "duration": 19,
    "start_time": "2021-08-24T13:56:28.559Z"
   },
   {
    "duration": 118,
    "start_time": "2021-08-24T13:56:28.580Z"
   },
   {
    "duration": 76,
    "start_time": "2021-08-24T13:56:28.701Z"
   },
   {
    "duration": 488,
    "start_time": "2021-08-24T13:56:28.780Z"
   },
   {
    "duration": 36,
    "start_time": "2021-08-24T13:56:29.271Z"
   },
   {
    "duration": 501,
    "start_time": "2021-08-24T13:56:29.310Z"
   },
   {
    "duration": 1282,
    "start_time": "2021-08-24T13:56:28.532Z"
   },
   {
    "duration": 1278,
    "start_time": "2021-08-24T13:56:28.538Z"
   },
   {
    "duration": 1272,
    "start_time": "2021-08-24T13:56:28.545Z"
   },
   {
    "duration": 1269,
    "start_time": "2021-08-24T13:56:28.550Z"
   },
   {
    "duration": 1264,
    "start_time": "2021-08-24T13:56:28.556Z"
   },
   {
    "duration": 1260,
    "start_time": "2021-08-24T13:56:28.562Z"
   },
   {
    "duration": 1255,
    "start_time": "2021-08-24T13:56:28.568Z"
   },
   {
    "duration": 1251,
    "start_time": "2021-08-24T13:56:28.573Z"
   },
   {
    "duration": 1246,
    "start_time": "2021-08-24T13:56:28.579Z"
   },
   {
    "duration": 1243,
    "start_time": "2021-08-24T13:56:28.584Z"
   },
   {
    "duration": 1238,
    "start_time": "2021-08-24T13:56:28.590Z"
   },
   {
    "duration": 1234,
    "start_time": "2021-08-24T13:56:28.595Z"
   },
   {
    "duration": 377,
    "start_time": "2021-08-24T13:57:06.306Z"
   },
   {
    "duration": 455,
    "start_time": "2021-08-24T14:01:48.992Z"
   },
   {
    "duration": 1485,
    "start_time": "2021-08-24T14:05:10.951Z"
   },
   {
    "duration": 609,
    "start_time": "2021-08-24T14:05:12.438Z"
   },
   {
    "duration": 306,
    "start_time": "2021-08-24T14:05:13.058Z"
   },
   {
    "duration": 5,
    "start_time": "2021-08-24T14:05:13.366Z"
   },
   {
    "duration": 30,
    "start_time": "2021-08-24T14:05:13.373Z"
   },
   {
    "duration": 120,
    "start_time": "2021-08-24T14:05:13.405Z"
   },
   {
    "duration": 76,
    "start_time": "2021-08-24T14:05:13.529Z"
   },
   {
    "duration": 494,
    "start_time": "2021-08-24T14:05:13.608Z"
   },
   {
    "duration": 32,
    "start_time": "2021-08-24T14:05:14.104Z"
   },
   {
    "duration": 3197,
    "start_time": "2021-08-24T14:05:14.138Z"
   },
   {
    "duration": 1120,
    "start_time": "2021-08-24T14:05:17.337Z"
   },
   {
    "duration": 6,
    "start_time": "2021-08-24T14:05:18.459Z"
   },
   {
    "duration": 27,
    "start_time": "2021-08-24T14:05:18.468Z"
   },
   {
    "duration": 16,
    "start_time": "2021-08-24T14:05:18.497Z"
   },
   {
    "duration": 60,
    "start_time": "2021-08-24T14:05:18.515Z"
   },
   {
    "duration": 16,
    "start_time": "2021-08-24T14:05:18.578Z"
   },
   {
    "duration": 7,
    "start_time": "2021-08-24T14:05:18.597Z"
   },
   {
    "duration": 852,
    "start_time": "2021-08-24T14:05:18.606Z"
   },
   {
    "duration": 908,
    "start_time": "2021-08-24T14:05:19.461Z"
   },
   {
    "duration": 958,
    "start_time": "2021-08-24T14:05:20.372Z"
   },
   {
    "duration": 28,
    "start_time": "2021-08-24T14:05:21.332Z"
   },
   {
    "duration": 3252,
    "start_time": "2021-08-24T14:05:21.364Z"
   },
   {
    "duration": 942,
    "start_time": "2021-08-24T14:05:41.858Z"
   },
   {
    "duration": 24,
    "start_time": "2021-08-24T14:06:34.657Z"
   },
   {
    "duration": 1454,
    "start_time": "2021-08-24T14:06:53.870Z"
   },
   {
    "duration": 633,
    "start_time": "2021-08-24T14:06:55.327Z"
   },
   {
    "duration": 293,
    "start_time": "2021-08-24T14:06:55.963Z"
   },
   {
    "duration": 5,
    "start_time": "2021-08-24T14:06:56.259Z"
   },
   {
    "duration": 18,
    "start_time": "2021-08-24T14:06:56.266Z"
   },
   {
    "duration": 122,
    "start_time": "2021-08-24T14:06:56.286Z"
   },
   {
    "duration": 83,
    "start_time": "2021-08-24T14:06:56.410Z"
   },
   {
    "duration": 494,
    "start_time": "2021-08-24T14:06:56.496Z"
   },
   {
    "duration": 32,
    "start_time": "2021-08-24T14:06:56.994Z"
   },
   {
    "duration": 3192,
    "start_time": "2021-08-24T14:06:57.029Z"
   },
   {
    "duration": 1093,
    "start_time": "2021-08-24T14:07:00.223Z"
   },
   {
    "duration": 8,
    "start_time": "2021-08-24T14:07:01.318Z"
   },
   {
    "duration": 44,
    "start_time": "2021-08-24T14:07:01.328Z"
   },
   {
    "duration": 767,
    "start_time": "2021-08-24T14:07:01.374Z"
   },
   {
    "duration": 37,
    "start_time": "2021-08-24T14:07:02.144Z"
   },
   {
    "duration": 45,
    "start_time": "2021-08-24T14:07:02.184Z"
   },
   {
    "duration": 9,
    "start_time": "2021-08-24T14:07:02.232Z"
   },
   {
    "duration": 951,
    "start_time": "2021-08-24T14:07:02.257Z"
   },
   {
    "duration": 958,
    "start_time": "2021-08-24T14:07:03.210Z"
   },
   {
    "duration": 756,
    "start_time": "2021-08-24T14:07:04.170Z"
   },
   {
    "duration": 29,
    "start_time": "2021-08-24T14:07:04.929Z"
   },
   {
    "duration": 3330,
    "start_time": "2021-08-24T14:07:04.961Z"
   },
   {
    "duration": 1448,
    "start_time": "2021-08-24T14:12:32.677Z"
   },
   {
    "duration": 629,
    "start_time": "2021-08-24T14:12:34.127Z"
   },
   {
    "duration": 306,
    "start_time": "2021-08-24T14:12:34.760Z"
   },
   {
    "duration": 6,
    "start_time": "2021-08-24T14:12:35.069Z"
   },
   {
    "duration": 24,
    "start_time": "2021-08-24T14:12:35.078Z"
   },
   {
    "duration": 118,
    "start_time": "2021-08-24T14:12:35.105Z"
   },
   {
    "duration": 80,
    "start_time": "2021-08-24T14:12:35.225Z"
   },
   {
    "duration": 513,
    "start_time": "2021-08-24T14:12:35.309Z"
   },
   {
    "duration": 47,
    "start_time": "2021-08-24T14:12:35.825Z"
   },
   {
    "duration": 513,
    "start_time": "2021-08-24T14:12:35.874Z"
   },
   {
    "duration": 1244,
    "start_time": "2021-08-24T14:12:35.146Z"
   },
   {
    "duration": 1210,
    "start_time": "2021-08-24T14:12:35.182Z"
   },
   {
    "duration": 1185,
    "start_time": "2021-08-24T14:12:35.208Z"
   },
   {
    "duration": 1127,
    "start_time": "2021-08-24T14:12:35.268Z"
   },
   {
    "duration": 1110,
    "start_time": "2021-08-24T14:12:35.286Z"
   },
   {
    "duration": 1102,
    "start_time": "2021-08-24T14:12:35.296Z"
   },
   {
    "duration": 1093,
    "start_time": "2021-08-24T14:12:35.306Z"
   },
   {
    "duration": 1086,
    "start_time": "2021-08-24T14:12:35.315Z"
   },
   {
    "duration": 1082,
    "start_time": "2021-08-24T14:12:35.321Z"
   },
   {
    "duration": 1077,
    "start_time": "2021-08-24T14:12:35.327Z"
   },
   {
    "duration": 1072,
    "start_time": "2021-08-24T14:12:35.333Z"
   },
   {
    "duration": 1067,
    "start_time": "2021-08-24T14:12:35.340Z"
   },
   {
    "duration": 1505,
    "start_time": "2021-08-24T14:18:52.635Z"
   },
   {
    "duration": 609,
    "start_time": "2021-08-24T14:18:54.143Z"
   },
   {
    "duration": 301,
    "start_time": "2021-08-24T14:18:54.755Z"
   },
   {
    "duration": 5,
    "start_time": "2021-08-24T14:18:55.058Z"
   },
   {
    "duration": 29,
    "start_time": "2021-08-24T14:18:55.065Z"
   },
   {
    "duration": 113,
    "start_time": "2021-08-24T14:18:55.096Z"
   },
   {
    "duration": 82,
    "start_time": "2021-08-24T14:18:55.212Z"
   },
   {
    "duration": 511,
    "start_time": "2021-08-24T14:18:55.298Z"
   },
   {
    "duration": 52,
    "start_time": "2021-08-24T14:18:55.812Z"
   },
   {
    "duration": 3123,
    "start_time": "2021-08-24T14:18:55.867Z"
   },
   {
    "duration": 1109,
    "start_time": "2021-08-24T14:18:58.993Z"
   },
   {
    "duration": 7,
    "start_time": "2021-08-24T14:19:00.105Z"
   },
   {
    "duration": 51,
    "start_time": "2021-08-24T14:19:00.115Z"
   },
   {
    "duration": 743,
    "start_time": "2021-08-24T14:19:00.168Z"
   },
   {
    "duration": 48,
    "start_time": "2021-08-24T14:19:00.914Z"
   },
   {
    "duration": 61,
    "start_time": "2021-08-24T14:19:00.965Z"
   },
   {
    "duration": 25,
    "start_time": "2021-08-24T14:19:01.028Z"
   },
   {
    "duration": 959,
    "start_time": "2021-08-24T14:19:01.056Z"
   },
   {
    "duration": 985,
    "start_time": "2021-08-24T14:19:02.018Z"
   },
   {
    "duration": 786,
    "start_time": "2021-08-24T14:19:03.005Z"
   },
   {
    "duration": 17,
    "start_time": "2021-08-24T14:19:03.793Z"
   },
   {
    "duration": 3290,
    "start_time": "2021-08-24T14:19:03.812Z"
   },
   {
    "duration": 1449,
    "start_time": "2021-08-24T15:31:22.672Z"
   },
   {
    "duration": 664,
    "start_time": "2021-08-24T15:31:24.124Z"
   },
   {
    "duration": 318,
    "start_time": "2021-08-24T15:31:24.792Z"
   },
   {
    "duration": 16,
    "start_time": "2021-08-24T15:31:25.112Z"
   },
   {
    "duration": 115,
    "start_time": "2021-08-24T15:31:25.130Z"
   },
   {
    "duration": 75,
    "start_time": "2021-08-24T15:31:25.248Z"
   },
   {
    "duration": 1101,
    "start_time": "2021-08-24T15:31:25.325Z"
   },
   {
    "duration": -13,
    "start_time": "2021-08-24T15:31:26.442Z"
   },
   {
    "duration": -12,
    "start_time": "2021-08-24T15:31:26.442Z"
   },
   {
    "duration": -35,
    "start_time": "2021-08-24T15:31:26.466Z"
   },
   {
    "duration": -39,
    "start_time": "2021-08-24T15:31:26.472Z"
   },
   {
    "duration": -40,
    "start_time": "2021-08-24T15:31:26.475Z"
   },
   {
    "duration": -50,
    "start_time": "2021-08-24T15:31:26.486Z"
   },
   {
    "duration": -53,
    "start_time": "2021-08-24T15:31:26.491Z"
   },
   {
    "duration": -58,
    "start_time": "2021-08-24T15:31:26.497Z"
   },
   {
    "duration": -61,
    "start_time": "2021-08-24T15:31:26.502Z"
   },
   {
    "duration": -65,
    "start_time": "2021-08-24T15:31:26.508Z"
   },
   {
    "duration": -70,
    "start_time": "2021-08-24T15:31:26.514Z"
   },
   {
    "duration": -75,
    "start_time": "2021-08-24T15:31:26.520Z"
   },
   {
    "duration": -78,
    "start_time": "2021-08-24T15:31:26.525Z"
   },
   {
    "duration": 1460,
    "start_time": "2021-08-24T15:35:59.699Z"
   },
   {
    "duration": 704,
    "start_time": "2021-08-24T15:36:01.161Z"
   },
   {
    "duration": 388,
    "start_time": "2021-08-24T15:36:01.868Z"
   },
   {
    "duration": 16,
    "start_time": "2021-08-24T15:36:02.259Z"
   },
   {
    "duration": 122,
    "start_time": "2021-08-24T15:36:02.277Z"
   },
   {
    "duration": 79,
    "start_time": "2021-08-24T15:36:02.401Z"
   },
   {
    "duration": 1093,
    "start_time": "2021-08-24T15:36:02.483Z"
   },
   {
    "duration": 3,
    "start_time": "2021-08-24T15:36:03.576Z"
   },
   {
    "duration": -12,
    "start_time": "2021-08-24T15:36:03.593Z"
   },
   {
    "duration": -17,
    "start_time": "2021-08-24T15:36:03.600Z"
   },
   {
    "duration": -22,
    "start_time": "2021-08-24T15:36:03.606Z"
   },
   {
    "duration": -28,
    "start_time": "2021-08-24T15:36:03.613Z"
   },
   {
    "duration": -35,
    "start_time": "2021-08-24T15:36:03.622Z"
   },
   {
    "duration": -47,
    "start_time": "2021-08-24T15:36:03.635Z"
   },
   {
    "duration": -61,
    "start_time": "2021-08-24T15:36:03.651Z"
   },
   {
    "duration": -66,
    "start_time": "2021-08-24T15:36:03.657Z"
   },
   {
    "duration": -71,
    "start_time": "2021-08-24T15:36:03.664Z"
   },
   {
    "duration": -78,
    "start_time": "2021-08-24T15:36:03.672Z"
   },
   {
    "duration": -85,
    "start_time": "2021-08-24T15:36:03.680Z"
   },
   {
    "duration": -90,
    "start_time": "2021-08-24T15:36:03.687Z"
   },
   {
    "duration": -95,
    "start_time": "2021-08-24T15:36:03.693Z"
   },
   {
    "duration": 1486,
    "start_time": "2021-08-24T15:47:42.560Z"
   },
   {
    "duration": 641,
    "start_time": "2021-08-24T15:47:44.049Z"
   },
   {
    "duration": 298,
    "start_time": "2021-08-24T15:47:44.693Z"
   },
   {
    "duration": 16,
    "start_time": "2021-08-24T15:47:44.993Z"
   },
   {
    "duration": 120,
    "start_time": "2021-08-24T15:47:45.012Z"
   },
   {
    "duration": 75,
    "start_time": "2021-08-24T15:47:45.135Z"
   },
   {
    "duration": 529,
    "start_time": "2021-08-24T15:47:45.213Z"
   },
   {
    "duration": 40,
    "start_time": "2021-08-24T15:47:45.744Z"
   },
   {
    "duration": 3338,
    "start_time": "2021-08-24T15:47:45.787Z"
   },
   {
    "duration": 1170,
    "start_time": "2021-08-24T15:47:49.127Z"
   },
   {
    "duration": 7,
    "start_time": "2021-08-24T15:47:50.300Z"
   },
   {
    "duration": 48,
    "start_time": "2021-08-24T15:47:50.309Z"
   },
   {
    "duration": 712,
    "start_time": "2021-08-24T15:47:50.360Z"
   },
   {
    "duration": 29,
    "start_time": "2021-08-24T15:47:51.075Z"
   },
   {
    "duration": 23,
    "start_time": "2021-08-24T15:47:51.106Z"
   },
   {
    "duration": 26,
    "start_time": "2021-08-24T15:47:51.132Z"
   },
   {
    "duration": 939,
    "start_time": "2021-08-24T15:47:51.160Z"
   },
   {
    "duration": 1004,
    "start_time": "2021-08-24T15:47:52.103Z"
   },
   {
    "duration": 780,
    "start_time": "2021-08-24T15:47:53.110Z"
   },
   {
    "duration": 17,
    "start_time": "2021-08-24T15:47:53.893Z"
   },
   {
    "duration": 3386,
    "start_time": "2021-08-24T15:47:53.913Z"
   },
   {
    "duration": 1500,
    "start_time": "2021-08-24T15:48:08.347Z"
   },
   {
    "duration": 712,
    "start_time": "2021-08-24T15:48:09.850Z"
   },
   {
    "duration": 316,
    "start_time": "2021-08-24T15:48:10.565Z"
   },
   {
    "duration": 14,
    "start_time": "2021-08-24T15:48:10.884Z"
   },
   {
    "duration": 155,
    "start_time": "2021-08-24T15:48:10.901Z"
   },
   {
    "duration": 68,
    "start_time": "2021-08-24T15:48:11.059Z"
   },
   {
    "duration": 524,
    "start_time": "2021-08-24T15:48:11.129Z"
   },
   {
    "duration": 33,
    "start_time": "2021-08-24T15:48:11.657Z"
   },
   {
    "duration": 11902,
    "start_time": "2021-08-24T15:48:11.694Z"
   },
   {
    "duration": -36,
    "start_time": "2021-08-24T15:48:23.635Z"
   },
   {
    "duration": -62,
    "start_time": "2021-08-24T15:48:23.662Z"
   },
   {
    "duration": -65,
    "start_time": "2021-08-24T15:48:23.667Z"
   },
   {
    "duration": -74,
    "start_time": "2021-08-24T15:48:23.677Z"
   },
   {
    "duration": -79,
    "start_time": "2021-08-24T15:48:23.683Z"
   },
   {
    "duration": -84,
    "start_time": "2021-08-24T15:48:23.690Z"
   },
   {
    "duration": -92,
    "start_time": "2021-08-24T15:48:23.699Z"
   },
   {
    "duration": -99,
    "start_time": "2021-08-24T15:48:23.708Z"
   },
   {
    "duration": -119,
    "start_time": "2021-08-24T15:48:23.729Z"
   },
   {
    "duration": -126,
    "start_time": "2021-08-24T15:48:23.737Z"
   },
   {
    "duration": -131,
    "start_time": "2021-08-24T15:48:23.743Z"
   },
   {
    "duration": 444,
    "start_time": "2021-08-24T15:53:37.116Z"
   },
   {
    "duration": 1521,
    "start_time": "2021-08-24T15:55:35.909Z"
   },
   {
    "duration": 605,
    "start_time": "2021-08-24T15:55:37.433Z"
   },
   {
    "duration": 300,
    "start_time": "2021-08-24T15:55:38.055Z"
   },
   {
    "duration": 15,
    "start_time": "2021-08-24T15:55:38.358Z"
   },
   {
    "duration": 113,
    "start_time": "2021-08-24T15:55:38.376Z"
   },
   {
    "duration": 83,
    "start_time": "2021-08-24T15:55:38.491Z"
   },
   {
    "duration": 514,
    "start_time": "2021-08-24T15:55:38.578Z"
   },
   {
    "duration": 42,
    "start_time": "2021-08-24T15:55:39.095Z"
   },
   {
    "duration": 12835,
    "start_time": "2021-08-24T15:55:39.157Z"
   },
   {
    "duration": -51,
    "start_time": "2021-08-24T15:55:52.046Z"
   },
   {
    "duration": -57,
    "start_time": "2021-08-24T15:55:52.053Z"
   },
   {
    "duration": -62,
    "start_time": "2021-08-24T15:55:52.060Z"
   },
   {
    "duration": -68,
    "start_time": "2021-08-24T15:55:52.067Z"
   },
   {
    "duration": -73,
    "start_time": "2021-08-24T15:55:52.074Z"
   },
   {
    "duration": -77,
    "start_time": "2021-08-24T15:55:52.080Z"
   },
   {
    "duration": -82,
    "start_time": "2021-08-24T15:55:52.087Z"
   },
   {
    "duration": -87,
    "start_time": "2021-08-24T15:55:52.093Z"
   },
   {
    "duration": -92,
    "start_time": "2021-08-24T15:55:52.099Z"
   },
   {
    "duration": -96,
    "start_time": "2021-08-24T15:55:52.105Z"
   },
   {
    "duration": -100,
    "start_time": "2021-08-24T15:55:52.111Z"
   },
   {
    "duration": 1531,
    "start_time": "2021-08-24T16:04:59.020Z"
   },
   {
    "duration": 706,
    "start_time": "2021-08-24T16:05:00.554Z"
   },
   {
    "duration": 334,
    "start_time": "2021-08-24T16:05:01.263Z"
   },
   {
    "duration": 15,
    "start_time": "2021-08-24T16:05:01.600Z"
   },
   {
    "duration": 119,
    "start_time": "2021-08-24T16:05:01.617Z"
   },
   {
    "duration": 74,
    "start_time": "2021-08-24T16:05:01.739Z"
   },
   {
    "duration": 508,
    "start_time": "2021-08-24T16:05:01.815Z"
   },
   {
    "duration": 47,
    "start_time": "2021-08-24T16:05:02.327Z"
   },
   {
    "duration": 11934,
    "start_time": "2021-08-24T16:05:02.377Z"
   },
   {
    "duration": -42,
    "start_time": "2021-08-24T16:05:14.355Z"
   },
   {
    "duration": -50,
    "start_time": "2021-08-24T16:05:14.365Z"
   },
   {
    "duration": -60,
    "start_time": "2021-08-24T16:05:14.376Z"
   },
   {
    "duration": -68,
    "start_time": "2021-08-24T16:05:14.386Z"
   },
   {
    "duration": -118,
    "start_time": "2021-08-24T16:05:14.437Z"
   },
   {
    "duration": -133,
    "start_time": "2021-08-24T16:05:14.453Z"
   },
   {
    "duration": -144,
    "start_time": "2021-08-24T16:05:14.465Z"
   },
   {
    "duration": -150,
    "start_time": "2021-08-24T16:05:14.473Z"
   },
   {
    "duration": -161,
    "start_time": "2021-08-24T16:05:14.485Z"
   },
   {
    "duration": -174,
    "start_time": "2021-08-24T16:05:14.500Z"
   },
   {
    "duration": -192,
    "start_time": "2021-08-24T16:05:14.519Z"
   },
   {
    "duration": 1431,
    "start_time": "2021-08-24T16:09:30.408Z"
   },
   {
    "duration": 694,
    "start_time": "2021-08-24T16:09:31.842Z"
   },
   {
    "duration": 316,
    "start_time": "2021-08-24T16:09:32.539Z"
   },
   {
    "duration": 17,
    "start_time": "2021-08-24T16:09:32.858Z"
   },
   {
    "duration": 121,
    "start_time": "2021-08-24T16:09:32.878Z"
   },
   {
    "duration": 79,
    "start_time": "2021-08-24T16:09:33.002Z"
   },
   {
    "duration": 516,
    "start_time": "2021-08-24T16:09:33.083Z"
   },
   {
    "duration": 9311,
    "start_time": "2021-08-24T16:09:33.603Z"
   },
   {
    "duration": -20,
    "start_time": "2021-08-24T16:09:42.937Z"
   },
   {
    "duration": -28,
    "start_time": "2021-08-24T16:09:42.947Z"
   },
   {
    "duration": -36,
    "start_time": "2021-08-24T16:09:42.956Z"
   },
   {
    "duration": -43,
    "start_time": "2021-08-24T16:09:42.964Z"
   },
   {
    "duration": -52,
    "start_time": "2021-08-24T16:09:42.975Z"
   },
   {
    "duration": -58,
    "start_time": "2021-08-24T16:09:42.982Z"
   },
   {
    "duration": -65,
    "start_time": "2021-08-24T16:09:42.990Z"
   },
   {
    "duration": -71,
    "start_time": "2021-08-24T16:09:42.998Z"
   },
   {
    "duration": -79,
    "start_time": "2021-08-24T16:09:43.007Z"
   },
   {
    "duration": -86,
    "start_time": "2021-08-24T16:09:43.015Z"
   },
   {
    "duration": -110,
    "start_time": "2021-08-24T16:09:43.041Z"
   },
   {
    "duration": -127,
    "start_time": "2021-08-24T16:09:43.059Z"
   },
   {
    "duration": 1472,
    "start_time": "2021-08-24T16:14:27.545Z"
   },
   {
    "duration": 617,
    "start_time": "2021-08-24T16:14:29.020Z"
   },
   {
    "duration": 309,
    "start_time": "2021-08-24T16:14:29.640Z"
   },
   {
    "duration": 16,
    "start_time": "2021-08-24T16:14:29.955Z"
   },
   {
    "duration": 130,
    "start_time": "2021-08-24T16:14:29.974Z"
   },
   {
    "duration": 87,
    "start_time": "2021-08-24T16:14:30.107Z"
   },
   {
    "duration": 2218,
    "start_time": "2021-08-24T16:14:30.196Z"
   },
   {
    "duration": -3,
    "start_time": "2021-08-24T16:14:32.419Z"
   },
   {
    "duration": -3,
    "start_time": "2021-08-24T16:14:32.421Z"
   },
   {
    "duration": -26,
    "start_time": "2021-08-24T16:14:32.445Z"
   },
   {
    "duration": -43,
    "start_time": "2021-08-24T16:14:32.463Z"
   },
   {
    "duration": -51,
    "start_time": "2021-08-24T16:14:32.472Z"
   },
   {
    "duration": -58,
    "start_time": "2021-08-24T16:14:32.481Z"
   },
   {
    "duration": -66,
    "start_time": "2021-08-24T16:14:32.490Z"
   },
   {
    "duration": -75,
    "start_time": "2021-08-24T16:14:32.500Z"
   },
   {
    "duration": -141,
    "start_time": "2021-08-24T16:14:32.568Z"
   },
   {
    "duration": -155,
    "start_time": "2021-08-24T16:14:32.583Z"
   },
   {
    "duration": -164,
    "start_time": "2021-08-24T16:14:32.593Z"
   },
   {
    "duration": -171,
    "start_time": "2021-08-24T16:14:32.602Z"
   },
   {
    "duration": -186,
    "start_time": "2021-08-24T16:14:32.618Z"
   },
   {
    "duration": 1708,
    "start_time": "2021-08-24T16:15:59.964Z"
   },
   {
    "duration": 674,
    "start_time": "2021-08-24T16:16:01.676Z"
   },
   {
    "duration": 317,
    "start_time": "2021-08-24T16:16:02.357Z"
   },
   {
    "duration": 16,
    "start_time": "2021-08-24T16:16:02.677Z"
   },
   {
    "duration": 143,
    "start_time": "2021-08-24T16:16:02.695Z"
   },
   {
    "duration": 75,
    "start_time": "2021-08-24T16:16:02.841Z"
   },
   {
    "duration": 624,
    "start_time": "2021-08-24T16:16:02.919Z"
   },
   {
    "duration": 38,
    "start_time": "2021-08-24T16:16:03.546Z"
   },
   {
    "duration": 13135,
    "start_time": "2021-08-24T16:16:03.587Z"
   },
   {
    "duration": 20,
    "start_time": "2021-08-24T16:16:16.704Z"
   },
   {
    "duration": 22,
    "start_time": "2021-08-24T16:16:16.704Z"
   },
   {
    "duration": -36,
    "start_time": "2021-08-24T16:16:16.763Z"
   },
   {
    "duration": -45,
    "start_time": "2021-08-24T16:16:16.773Z"
   },
   {
    "duration": -61,
    "start_time": "2021-08-24T16:16:16.791Z"
   },
   {
    "duration": -59,
    "start_time": "2021-08-24T16:16:16.791Z"
   },
   {
    "duration": -77,
    "start_time": "2021-08-24T16:16:16.811Z"
   },
   {
    "duration": -83,
    "start_time": "2021-08-24T16:16:16.819Z"
   },
   {
    "duration": -93,
    "start_time": "2021-08-24T16:16:16.831Z"
   },
   {
    "duration": -100,
    "start_time": "2021-08-24T16:16:16.840Z"
   },
   {
    "duration": -110,
    "start_time": "2021-08-24T16:16:16.852Z"
   },
   {
    "duration": 458,
    "start_time": "2021-08-24T16:23:22.259Z"
   },
   {
    "duration": 442,
    "start_time": "2021-08-24T16:24:22.041Z"
   },
   {
    "duration": 471,
    "start_time": "2021-08-24T16:24:48.105Z"
   },
   {
    "duration": 790,
    "start_time": "2021-08-24T16:26:04.042Z"
   },
   {
    "duration": 445,
    "start_time": "2021-08-24T16:26:21.184Z"
   },
   {
    "duration": 3159,
    "start_time": "2021-08-24T16:37:12.964Z"
   },
   {
    "duration": 1727,
    "start_time": "2021-08-24T16:37:23.832Z"
   },
   {
    "duration": 637,
    "start_time": "2021-08-24T16:37:25.562Z"
   },
   {
    "duration": 346,
    "start_time": "2021-08-24T16:37:26.203Z"
   },
   {
    "duration": 15,
    "start_time": "2021-08-24T16:37:26.552Z"
   },
   {
    "duration": 126,
    "start_time": "2021-08-24T16:37:26.569Z"
   },
   {
    "duration": 82,
    "start_time": "2021-08-24T16:37:26.697Z"
   },
   {
    "duration": 616,
    "start_time": "2021-08-24T16:37:26.781Z"
   },
   {
    "duration": 35,
    "start_time": "2021-08-24T16:37:27.401Z"
   },
   {
    "duration": 3161,
    "start_time": "2021-08-24T16:37:27.455Z"
   },
   {
    "duration": 1127,
    "start_time": "2021-08-24T16:37:30.619Z"
   },
   {
    "duration": 11,
    "start_time": "2021-08-24T16:37:31.748Z"
   },
   {
    "duration": 44,
    "start_time": "2021-08-24T16:37:31.761Z"
   },
   {
    "duration": 706,
    "start_time": "2021-08-24T16:37:31.807Z"
   },
   {
    "duration": 41,
    "start_time": "2021-08-24T16:37:32.515Z"
   },
   {
    "duration": 20,
    "start_time": "2021-08-24T16:37:32.558Z"
   },
   {
    "duration": 6,
    "start_time": "2021-08-24T16:37:32.580Z"
   },
   {
    "duration": 936,
    "start_time": "2021-08-24T16:37:32.588Z"
   },
   {
    "duration": 948,
    "start_time": "2021-08-24T16:37:33.527Z"
   },
   {
    "duration": 806,
    "start_time": "2021-08-24T16:37:34.478Z"
   },
   {
    "duration": 17,
    "start_time": "2021-08-24T16:37:35.287Z"
   },
   {
    "duration": 3206,
    "start_time": "2021-08-24T16:37:35.306Z"
   },
   {
    "duration": 3,
    "start_time": "2021-08-24T16:38:15.716Z"
   },
   {
    "duration": 1614,
    "start_time": "2021-08-24T16:38:23.014Z"
   },
   {
    "duration": 632,
    "start_time": "2021-08-24T16:38:24.631Z"
   },
   {
    "duration": 319,
    "start_time": "2021-08-24T16:38:25.266Z"
   },
   {
    "duration": 16,
    "start_time": "2021-08-24T16:38:25.587Z"
   },
   {
    "duration": 133,
    "start_time": "2021-08-24T16:38:25.606Z"
   },
   {
    "duration": 87,
    "start_time": "2021-08-24T16:38:25.741Z"
   },
   {
    "duration": 557,
    "start_time": "2021-08-24T16:38:25.831Z"
   },
   {
    "duration": 39,
    "start_time": "2021-08-24T16:38:26.392Z"
   },
   {
    "duration": 24,
    "start_time": "2021-08-24T16:38:26.434Z"
   },
   {
    "duration": 11339,
    "start_time": "2021-08-24T16:38:26.460Z"
   },
   {
    "duration": -35,
    "start_time": "2021-08-24T16:38:37.837Z"
   },
   {
    "duration": -42,
    "start_time": "2021-08-24T16:38:37.845Z"
   },
   {
    "duration": -56,
    "start_time": "2021-08-24T16:38:37.861Z"
   },
   {
    "duration": -65,
    "start_time": "2021-08-24T16:38:37.871Z"
   },
   {
    "duration": -76,
    "start_time": "2021-08-24T16:38:37.883Z"
   },
   {
    "duration": -84,
    "start_time": "2021-08-24T16:38:37.893Z"
   },
   {
    "duration": -94,
    "start_time": "2021-08-24T16:38:37.905Z"
   },
   {
    "duration": -102,
    "start_time": "2021-08-24T16:38:37.914Z"
   },
   {
    "duration": -122,
    "start_time": "2021-08-24T16:38:37.936Z"
   },
   {
    "duration": -128,
    "start_time": "2021-08-24T16:38:37.943Z"
   },
   {
    "duration": -136,
    "start_time": "2021-08-24T16:38:37.952Z"
   },
   {
    "duration": 3242,
    "start_time": "2021-08-24T18:00:04.697Z"
   },
   {
    "duration": 1426,
    "start_time": "2021-08-24T18:00:11.109Z"
   },
   {
    "duration": 585,
    "start_time": "2021-08-24T18:00:12.538Z"
   },
   {
    "duration": 287,
    "start_time": "2021-08-24T18:00:13.126Z"
   },
   {
    "duration": 14,
    "start_time": "2021-08-24T18:00:13.416Z"
   },
   {
    "duration": 117,
    "start_time": "2021-08-24T18:00:13.433Z"
   },
   {
    "duration": 69,
    "start_time": "2021-08-24T18:00:13.556Z"
   },
   {
    "duration": 561,
    "start_time": "2021-08-24T18:00:13.628Z"
   },
   {
    "duration": 34,
    "start_time": "2021-08-24T18:00:14.192Z"
   },
   {
    "duration": 3428,
    "start_time": "2021-08-24T18:00:14.229Z"
   },
   {
    "duration": 1111,
    "start_time": "2021-08-24T18:00:17.660Z"
   },
   {
    "duration": 8,
    "start_time": "2021-08-24T18:00:18.774Z"
   },
   {
    "duration": 34,
    "start_time": "2021-08-24T18:00:18.784Z"
   },
   {
    "duration": 802,
    "start_time": "2021-08-24T18:00:18.820Z"
   },
   {
    "duration": 38,
    "start_time": "2021-08-24T18:00:19.625Z"
   },
   {
    "duration": 23,
    "start_time": "2021-08-24T18:00:19.665Z"
   },
   {
    "duration": 6,
    "start_time": "2021-08-24T18:00:19.690Z"
   },
   {
    "duration": 914,
    "start_time": "2021-08-24T18:00:19.698Z"
   },
   {
    "duration": 949,
    "start_time": "2021-08-24T18:00:20.614Z"
   },
   {
    "duration": 784,
    "start_time": "2021-08-24T18:00:21.566Z"
   },
   {
    "duration": 18,
    "start_time": "2021-08-24T18:00:22.355Z"
   },
   {
    "duration": 3146,
    "start_time": "2021-08-24T18:00:22.376Z"
   },
   {
    "duration": 1104,
    "start_time": "2021-08-24T18:00:54.435Z"
   },
   {
    "duration": 1186,
    "start_time": "2021-08-24T18:02:13.905Z"
   },
   {
    "duration": 3,
    "start_time": "2021-08-24T18:25:52.910Z"
   },
   {
    "duration": 15,
    "start_time": "2021-08-24T18:26:13.940Z"
   },
   {
    "duration": 29,
    "start_time": "2021-08-24T18:26:22.573Z"
   },
   {
    "duration": 1484,
    "start_time": "2021-08-24T18:26:36.148Z"
   },
   {
    "duration": 604,
    "start_time": "2021-08-24T18:26:37.635Z"
   },
   {
    "duration": 319,
    "start_time": "2021-08-24T18:26:38.242Z"
   },
   {
    "duration": 15,
    "start_time": "2021-08-24T18:26:38.564Z"
   },
   {
    "duration": 118,
    "start_time": "2021-08-24T18:26:38.581Z"
   },
   {
    "duration": 81,
    "start_time": "2021-08-24T18:26:38.702Z"
   },
   {
    "duration": 504,
    "start_time": "2021-08-24T18:26:38.785Z"
   },
   {
    "duration": 32,
    "start_time": "2021-08-24T18:26:39.293Z"
   },
   {
    "duration": 42,
    "start_time": "2021-08-24T18:26:39.328Z"
   },
   {
    "duration": 11,
    "start_time": "2021-08-24T18:26:39.373Z"
   },
   {
    "duration": 594,
    "start_time": "2021-08-24T18:26:39.387Z"
   },
   {
    "duration": 9,
    "start_time": "2021-08-24T18:26:39.983Z"
   },
   {
    "duration": 545,
    "start_time": "2021-08-24T18:26:39.995Z"
   },
   {
    "duration": -2,
    "start_time": "2021-08-24T18:26:40.545Z"
   },
   {
    "duration": -12,
    "start_time": "2021-08-24T18:26:40.556Z"
   },
   {
    "duration": -19,
    "start_time": "2021-08-24T18:26:40.565Z"
   },
   {
    "duration": -53,
    "start_time": "2021-08-24T18:26:40.600Z"
   },
   {
    "duration": -67,
    "start_time": "2021-08-24T18:26:40.615Z"
   },
   {
    "duration": -75,
    "start_time": "2021-08-24T18:26:40.625Z"
   },
   {
    "duration": -99,
    "start_time": "2021-08-24T18:26:40.650Z"
   },
   {
    "duration": -109,
    "start_time": "2021-08-24T18:26:40.661Z"
   },
   {
    "duration": -117,
    "start_time": "2021-08-24T18:26:40.671Z"
   },
   {
    "duration": 1570,
    "start_time": "2021-08-24T18:27:36.261Z"
   },
   {
    "duration": 633,
    "start_time": "2021-08-24T18:27:37.833Z"
   },
   {
    "duration": 337,
    "start_time": "2021-08-24T18:27:38.470Z"
   },
   {
    "duration": 17,
    "start_time": "2021-08-24T18:27:38.811Z"
   },
   {
    "duration": 117,
    "start_time": "2021-08-24T18:27:38.830Z"
   },
   {
    "duration": 70,
    "start_time": "2021-08-24T18:27:38.950Z"
   },
   {
    "duration": 539,
    "start_time": "2021-08-24T18:27:39.023Z"
   },
   {
    "duration": 31,
    "start_time": "2021-08-24T18:27:39.566Z"
   },
   {
    "duration": 35,
    "start_time": "2021-08-24T18:27:39.600Z"
   },
   {
    "duration": 3,
    "start_time": "2021-08-24T18:27:39.637Z"
   },
   {
    "duration": 607,
    "start_time": "2021-08-24T18:27:39.656Z"
   },
   {
    "duration": 11,
    "start_time": "2021-08-24T18:27:40.266Z"
   },
   {
    "duration": 540,
    "start_time": "2021-08-24T18:27:40.279Z"
   },
   {
    "duration": -1,
    "start_time": "2021-08-24T18:27:40.823Z"
   },
   {
    "duration": -8,
    "start_time": "2021-08-24T18:27:40.832Z"
   },
   {
    "duration": -22,
    "start_time": "2021-08-24T18:27:40.848Z"
   },
   {
    "duration": -29,
    "start_time": "2021-08-24T18:27:40.857Z"
   },
   {
    "duration": -46,
    "start_time": "2021-08-24T18:27:40.876Z"
   },
   {
    "duration": -53,
    "start_time": "2021-08-24T18:27:40.885Z"
   },
   {
    "duration": -64,
    "start_time": "2021-08-24T18:27:40.898Z"
   },
   {
    "duration": -86,
    "start_time": "2021-08-24T18:27:40.922Z"
   },
   {
    "duration": -93,
    "start_time": "2021-08-24T18:27:40.930Z"
   },
   {
    "duration": 1630,
    "start_time": "2021-08-24T18:28:13.221Z"
   },
   {
    "duration": 635,
    "start_time": "2021-08-24T18:28:14.857Z"
   },
   {
    "duration": 316,
    "start_time": "2021-08-24T18:28:15.494Z"
   },
   {
    "duration": 16,
    "start_time": "2021-08-24T18:28:15.813Z"
   },
   {
    "duration": 126,
    "start_time": "2021-08-24T18:28:15.831Z"
   },
   {
    "duration": 72,
    "start_time": "2021-08-24T18:28:15.960Z"
   },
   {
    "duration": 509,
    "start_time": "2021-08-24T18:28:16.034Z"
   },
   {
    "duration": 39,
    "start_time": "2021-08-24T18:28:16.555Z"
   },
   {
    "duration": 21,
    "start_time": "2021-08-24T18:28:16.597Z"
   },
   {
    "duration": 637,
    "start_time": "2021-08-24T18:28:16.622Z"
   },
   {
    "duration": 10,
    "start_time": "2021-08-24T18:28:17.263Z"
   },
   {
    "duration": 531,
    "start_time": "2021-08-24T18:28:17.276Z"
   },
   {
    "duration": -46,
    "start_time": "2021-08-24T18:28:17.856Z"
   },
   {
    "duration": -53,
    "start_time": "2021-08-24T18:28:17.864Z"
   },
   {
    "duration": -62,
    "start_time": "2021-08-24T18:28:17.874Z"
   },
   {
    "duration": -71,
    "start_time": "2021-08-24T18:28:17.885Z"
   },
   {
    "duration": -80,
    "start_time": "2021-08-24T18:28:17.895Z"
   },
   {
    "duration": -117,
    "start_time": "2021-08-24T18:28:17.934Z"
   },
   {
    "duration": -154,
    "start_time": "2021-08-24T18:28:17.972Z"
   },
   {
    "duration": -194,
    "start_time": "2021-08-24T18:28:18.014Z"
   },
   {
    "duration": -241,
    "start_time": "2021-08-24T18:28:18.062Z"
   },
   {
    "duration": 1008,
    "start_time": "2021-08-24T18:31:44.557Z"
   },
   {
    "duration": 1452,
    "start_time": "2021-08-24T18:32:35.104Z"
   },
   {
    "duration": 413,
    "start_time": "2021-08-24T18:33:09.935Z"
   },
   {
    "duration": 397,
    "start_time": "2021-08-24T18:33:49.031Z"
   },
   {
    "duration": 23,
    "start_time": "2021-08-24T18:34:21.013Z"
   },
   {
    "duration": 1595,
    "start_time": "2021-08-24T18:34:40.830Z"
   },
   {
    "duration": 615,
    "start_time": "2021-08-24T18:34:42.427Z"
   },
   {
    "duration": 301,
    "start_time": "2021-08-24T18:34:43.045Z"
   },
   {
    "duration": 22,
    "start_time": "2021-08-24T18:34:43.348Z"
   },
   {
    "duration": 127,
    "start_time": "2021-08-24T18:34:43.372Z"
   },
   {
    "duration": 72,
    "start_time": "2021-08-24T18:34:43.501Z"
   },
   {
    "duration": 481,
    "start_time": "2021-08-24T18:34:43.576Z"
   },
   {
    "duration": 32,
    "start_time": "2021-08-24T18:34:44.061Z"
   },
   {
    "duration": 21,
    "start_time": "2021-08-24T18:34:44.096Z"
   },
   {
    "duration": 3,
    "start_time": "2021-08-24T18:34:44.120Z"
   },
   {
    "duration": 581,
    "start_time": "2021-08-24T18:34:44.156Z"
   },
   {
    "duration": 16,
    "start_time": "2021-08-24T18:34:44.740Z"
   },
   {
    "duration": 631,
    "start_time": "2021-08-24T18:34:44.758Z"
   },
   {
    "duration": -2,
    "start_time": "2021-08-24T18:34:45.393Z"
   },
   {
    "duration": -31,
    "start_time": "2021-08-24T18:34:45.424Z"
   },
   {
    "duration": -76,
    "start_time": "2021-08-24T18:34:45.471Z"
   },
   {
    "duration": -125,
    "start_time": "2021-08-24T18:34:45.521Z"
   },
   {
    "duration": -137,
    "start_time": "2021-08-24T18:34:45.535Z"
   },
   {
    "duration": -144,
    "start_time": "2021-08-24T18:34:45.544Z"
   },
   {
    "duration": -151,
    "start_time": "2021-08-24T18:34:45.553Z"
   },
   {
    "duration": -157,
    "start_time": "2021-08-24T18:34:45.561Z"
   },
   {
    "duration": -164,
    "start_time": "2021-08-24T18:34:45.570Z"
   },
   {
    "duration": 416,
    "start_time": "2021-08-24T18:35:48.589Z"
   },
   {
    "duration": 3,
    "start_time": "2021-08-24T18:39:16.493Z"
   },
   {
    "duration": 1540,
    "start_time": "2021-08-24T18:39:31.577Z"
   },
   {
    "duration": 704,
    "start_time": "2021-08-24T18:39:33.120Z"
   },
   {
    "duration": 308,
    "start_time": "2021-08-24T18:39:33.827Z"
   },
   {
    "duration": 28,
    "start_time": "2021-08-24T18:39:34.138Z"
   },
   {
    "duration": 104,
    "start_time": "2021-08-24T18:39:34.169Z"
   },
   {
    "duration": 80,
    "start_time": "2021-08-24T18:39:34.276Z"
   },
   {
    "duration": 479,
    "start_time": "2021-08-24T18:39:34.359Z"
   },
   {
    "duration": 43,
    "start_time": "2021-08-24T18:39:34.841Z"
   },
   {
    "duration": 3,
    "start_time": "2021-08-24T18:39:34.888Z"
   },
   {
    "duration": 3278,
    "start_time": "2021-08-24T18:39:34.894Z"
   },
   {
    "duration": 1097,
    "start_time": "2021-08-24T18:39:38.174Z"
   },
   {
    "duration": 9,
    "start_time": "2021-08-24T18:39:39.273Z"
   },
   {
    "duration": 50,
    "start_time": "2021-08-24T18:39:39.284Z"
   },
   {
    "duration": 725,
    "start_time": "2021-08-24T18:39:39.336Z"
   },
   {
    "duration": 31,
    "start_time": "2021-08-24T18:39:40.063Z"
   },
   {
    "duration": 22,
    "start_time": "2021-08-24T18:39:40.096Z"
   },
   {
    "duration": 39,
    "start_time": "2021-08-24T18:39:40.121Z"
   },
   {
    "duration": 1015,
    "start_time": "2021-08-24T18:39:40.162Z"
   },
   {
    "duration": 959,
    "start_time": "2021-08-24T18:39:41.180Z"
   },
   {
    "duration": 755,
    "start_time": "2021-08-24T18:39:42.142Z"
   },
   {
    "duration": 17,
    "start_time": "2021-08-24T18:39:42.900Z"
   },
   {
    "duration": 3190,
    "start_time": "2021-08-24T18:39:42.920Z"
   },
   {
    "duration": 1453,
    "start_time": "2021-08-24T18:42:44.280Z"
   },
   {
    "duration": 662,
    "start_time": "2021-08-24T18:42:45.736Z"
   },
   {
    "duration": 307,
    "start_time": "2021-08-24T18:42:46.401Z"
   },
   {
    "duration": 16,
    "start_time": "2021-08-24T18:42:46.711Z"
   },
   {
    "duration": 115,
    "start_time": "2021-08-24T18:42:46.730Z"
   },
   {
    "duration": 78,
    "start_time": "2021-08-24T18:42:46.847Z"
   },
   {
    "duration": 598,
    "start_time": "2021-08-24T18:42:46.928Z"
   },
   {
    "duration": 44,
    "start_time": "2021-08-24T18:42:47.529Z"
   },
   {
    "duration": 29,
    "start_time": "2021-08-24T18:42:47.575Z"
   },
   {
    "duration": 3,
    "start_time": "2021-08-24T18:42:47.606Z"
   },
   {
    "duration": 628,
    "start_time": "2021-08-24T18:42:47.611Z"
   },
   {
    "duration": 16,
    "start_time": "2021-08-24T18:42:48.241Z"
   },
   {
    "duration": 516,
    "start_time": "2021-08-24T18:42:48.259Z"
   },
   {
    "duration": -12,
    "start_time": "2021-08-24T18:42:48.790Z"
   },
   {
    "duration": -23,
    "start_time": "2021-08-24T18:42:48.803Z"
   },
   {
    "duration": -36,
    "start_time": "2021-08-24T18:42:48.817Z"
   },
   {
    "duration": -54,
    "start_time": "2021-08-24T18:42:48.836Z"
   },
   {
    "duration": -84,
    "start_time": "2021-08-24T18:42:48.868Z"
   },
   {
    "duration": -103,
    "start_time": "2021-08-24T18:42:48.889Z"
   },
   {
    "duration": -113,
    "start_time": "2021-08-24T18:42:48.900Z"
   },
   {
    "duration": -123,
    "start_time": "2021-08-24T18:42:48.911Z"
   },
   {
    "duration": -133,
    "start_time": "2021-08-24T18:42:48.923Z"
   },
   {
    "duration": -142,
    "start_time": "2021-08-24T18:42:48.933Z"
   },
   {
    "duration": 420,
    "start_time": "2021-08-24T18:49:58.225Z"
   },
   {
    "duration": 443,
    "start_time": "2021-08-24T18:50:28.476Z"
   },
   {
    "duration": 1430,
    "start_time": "2021-08-24T19:07:23.691Z"
   },
   {
    "duration": 628,
    "start_time": "2021-08-24T19:07:25.124Z"
   },
   {
    "duration": 332,
    "start_time": "2021-08-24T19:07:25.758Z"
   },
   {
    "duration": 15,
    "start_time": "2021-08-24T19:07:26.092Z"
   },
   {
    "duration": 121,
    "start_time": "2021-08-24T19:07:26.109Z"
   },
   {
    "duration": 74,
    "start_time": "2021-08-24T19:07:26.232Z"
   },
   {
    "duration": 1800,
    "start_time": "2021-08-24T19:07:26.309Z"
   },
   {
    "duration": -495,
    "start_time": "2021-08-24T19:07:28.607Z"
   },
   {
    "duration": -500,
    "start_time": "2021-08-24T19:07:28.614Z"
   },
   {
    "duration": -531,
    "start_time": "2021-08-24T19:07:28.646Z"
   },
   {
    "duration": -545,
    "start_time": "2021-08-24T19:07:28.662Z"
   },
   {
    "duration": -551,
    "start_time": "2021-08-24T19:07:28.669Z"
   },
   {
    "duration": -557,
    "start_time": "2021-08-24T19:07:28.677Z"
   },
   {
    "duration": -562,
    "start_time": "2021-08-24T19:07:28.683Z"
   },
   {
    "duration": -568,
    "start_time": "2021-08-24T19:07:28.690Z"
   },
   {
    "duration": -577,
    "start_time": "2021-08-24T19:07:28.701Z"
   },
   {
    "duration": -583,
    "start_time": "2021-08-24T19:07:28.708Z"
   },
   {
    "duration": -588,
    "start_time": "2021-08-24T19:07:28.714Z"
   },
   {
    "duration": -592,
    "start_time": "2021-08-24T19:07:28.720Z"
   },
   {
    "duration": -596,
    "start_time": "2021-08-24T19:07:28.725Z"
   },
   {
    "duration": -601,
    "start_time": "2021-08-24T19:07:28.731Z"
   },
   {
    "duration": -606,
    "start_time": "2021-08-24T19:07:28.737Z"
   },
   {
    "duration": -642,
    "start_time": "2021-08-24T19:07:28.774Z"
   },
   {
    "duration": 1574,
    "start_time": "2021-08-24T19:08:17.291Z"
   },
   {
    "duration": 608,
    "start_time": "2021-08-24T19:08:18.868Z"
   },
   {
    "duration": 305,
    "start_time": "2021-08-24T19:08:19.479Z"
   },
   {
    "duration": 17,
    "start_time": "2021-08-24T19:08:19.787Z"
   },
   {
    "duration": 129,
    "start_time": "2021-08-24T19:08:19.807Z"
   },
   {
    "duration": 72,
    "start_time": "2021-08-24T19:08:19.939Z"
   },
   {
    "duration": 492,
    "start_time": "2021-08-24T19:08:20.013Z"
   },
   {
    "duration": 53,
    "start_time": "2021-08-24T19:08:20.509Z"
   },
   {
    "duration": 32,
    "start_time": "2021-08-24T19:08:20.565Z"
   },
   {
    "duration": 3,
    "start_time": "2021-08-24T19:08:20.600Z"
   },
   {
    "duration": 614,
    "start_time": "2021-08-24T19:08:20.605Z"
   },
   {
    "duration": 7,
    "start_time": "2021-08-24T19:08:21.221Z"
   },
   {
    "duration": 549,
    "start_time": "2021-08-24T19:08:21.230Z"
   },
   {
    "duration": 0,
    "start_time": "2021-08-24T19:08:21.782Z"
   },
   {
    "duration": -4,
    "start_time": "2021-08-24T19:08:21.787Z"
   },
   {
    "duration": -8,
    "start_time": "2021-08-24T19:08:21.792Z"
   },
   {
    "duration": -16,
    "start_time": "2021-08-24T19:08:21.802Z"
   },
   {
    "duration": -21,
    "start_time": "2021-08-24T19:08:21.808Z"
   },
   {
    "duration": -26,
    "start_time": "2021-08-24T19:08:21.814Z"
   },
   {
    "duration": -29,
    "start_time": "2021-08-24T19:08:21.819Z"
   },
   {
    "duration": -34,
    "start_time": "2021-08-24T19:08:21.825Z"
   },
   {
    "duration": -41,
    "start_time": "2021-08-24T19:08:21.833Z"
   },
   {
    "duration": -49,
    "start_time": "2021-08-24T19:08:21.842Z"
   },
   {
    "duration": 1436,
    "start_time": "2021-08-24T19:09:34.503Z"
   },
   {
    "duration": 614,
    "start_time": "2021-08-24T19:09:35.942Z"
   },
   {
    "duration": 297,
    "start_time": "2021-08-24T19:09:36.559Z"
   },
   {
    "duration": 16,
    "start_time": "2021-08-24T19:09:36.858Z"
   },
   {
    "duration": 117,
    "start_time": "2021-08-24T19:09:36.876Z"
   },
   {
    "duration": 80,
    "start_time": "2021-08-24T19:09:36.995Z"
   },
   {
    "duration": 1007,
    "start_time": "2021-08-24T19:09:37.077Z"
   },
   {
    "duration": -18,
    "start_time": "2021-08-24T19:09:38.106Z"
   },
   {
    "duration": -28,
    "start_time": "2021-08-24T19:09:38.117Z"
   },
   {
    "duration": -35,
    "start_time": "2021-08-24T19:09:38.127Z"
   },
   {
    "duration": -39,
    "start_time": "2021-08-24T19:09:38.133Z"
   },
   {
    "duration": -43,
    "start_time": "2021-08-24T19:09:38.139Z"
   },
   {
    "duration": -49,
    "start_time": "2021-08-24T19:09:38.147Z"
   },
   {
    "duration": -52,
    "start_time": "2021-08-24T19:09:38.153Z"
   },
   {
    "duration": -68,
    "start_time": "2021-08-24T19:09:38.171Z"
   },
   {
    "duration": -74,
    "start_time": "2021-08-24T19:09:38.179Z"
   },
   {
    "duration": -77,
    "start_time": "2021-08-24T19:09:38.184Z"
   },
   {
    "duration": -81,
    "start_time": "2021-08-24T19:09:38.190Z"
   },
   {
    "duration": -84,
    "start_time": "2021-08-24T19:09:38.196Z"
   },
   {
    "duration": -88,
    "start_time": "2021-08-24T19:09:38.202Z"
   },
   {
    "duration": -91,
    "start_time": "2021-08-24T19:09:38.207Z"
   },
   {
    "duration": -95,
    "start_time": "2021-08-24T19:09:38.213Z"
   },
   {
    "duration": 1902,
    "start_time": "2021-08-24T19:11:12.162Z"
   },
   {
    "duration": 644,
    "start_time": "2021-08-24T19:11:14.068Z"
   },
   {
    "duration": 316,
    "start_time": "2021-08-24T19:11:14.716Z"
   },
   {
    "duration": 24,
    "start_time": "2021-08-24T19:11:15.035Z"
   },
   {
    "duration": 125,
    "start_time": "2021-08-24T19:11:15.062Z"
   },
   {
    "duration": 78,
    "start_time": "2021-08-24T19:11:15.189Z"
   },
   {
    "duration": 499,
    "start_time": "2021-08-24T19:11:15.269Z"
   },
   {
    "duration": 35,
    "start_time": "2021-08-24T19:11:15.774Z"
   },
   {
    "duration": 48,
    "start_time": "2021-08-24T19:11:15.813Z"
   },
   {
    "duration": 8,
    "start_time": "2021-08-24T19:11:15.864Z"
   },
   {
    "duration": 627,
    "start_time": "2021-08-24T19:11:15.874Z"
   },
   {
    "duration": 8,
    "start_time": "2021-08-24T19:11:16.503Z"
   },
   {
    "duration": 540,
    "start_time": "2021-08-24T19:11:16.513Z"
   },
   {
    "duration": -30,
    "start_time": "2021-08-24T19:11:17.086Z"
   },
   {
    "duration": -59,
    "start_time": "2021-08-24T19:11:17.116Z"
   },
   {
    "duration": -69,
    "start_time": "2021-08-24T19:11:17.127Z"
   },
   {
    "duration": -73,
    "start_time": "2021-08-24T19:11:17.133Z"
   },
   {
    "duration": -78,
    "start_time": "2021-08-24T19:11:17.139Z"
   },
   {
    "duration": -85,
    "start_time": "2021-08-24T19:11:17.148Z"
   },
   {
    "duration": -92,
    "start_time": "2021-08-24T19:11:17.156Z"
   },
   {
    "duration": -97,
    "start_time": "2021-08-24T19:11:17.163Z"
   },
   {
    "duration": -103,
    "start_time": "2021-08-24T19:11:17.170Z"
   },
   {
    "duration": -107,
    "start_time": "2021-08-24T19:11:17.176Z"
   },
   {
    "duration": 999,
    "start_time": "2021-08-24T19:12:18.313Z"
   },
   {
    "duration": 25,
    "start_time": "2021-08-24T19:13:00.040Z"
   },
   {
    "duration": 1501,
    "start_time": "2021-08-24T19:13:18.216Z"
   },
   {
    "duration": 617,
    "start_time": "2021-08-24T19:13:19.719Z"
   },
   {
    "duration": 289,
    "start_time": "2021-08-24T19:13:20.339Z"
   },
   {
    "duration": 24,
    "start_time": "2021-08-24T19:13:20.631Z"
   },
   {
    "duration": 111,
    "start_time": "2021-08-24T19:13:20.658Z"
   },
   {
    "duration": 70,
    "start_time": "2021-08-24T19:13:20.772Z"
   },
   {
    "duration": 500,
    "start_time": "2021-08-24T19:13:20.845Z"
   },
   {
    "duration": 35,
    "start_time": "2021-08-24T19:13:21.349Z"
   },
   {
    "duration": 21,
    "start_time": "2021-08-24T19:13:21.386Z"
   },
   {
    "duration": 5,
    "start_time": "2021-08-24T19:13:21.409Z"
   },
   {
    "duration": 636,
    "start_time": "2021-08-24T19:13:21.416Z"
   },
   {
    "duration": 8,
    "start_time": "2021-08-24T19:13:22.055Z"
   },
   {
    "duration": 571,
    "start_time": "2021-08-24T19:13:22.065Z"
   },
   {
    "duration": -43,
    "start_time": "2021-08-24T19:13:22.682Z"
   },
   {
    "duration": -94,
    "start_time": "2021-08-24T19:13:22.734Z"
   },
   {
    "duration": -102,
    "start_time": "2021-08-24T19:13:22.744Z"
   },
   {
    "duration": -109,
    "start_time": "2021-08-24T19:13:22.752Z"
   },
   {
    "duration": -113,
    "start_time": "2021-08-24T19:13:22.757Z"
   },
   {
    "duration": -122,
    "start_time": "2021-08-24T19:13:22.768Z"
   },
   {
    "duration": -128,
    "start_time": "2021-08-24T19:13:22.776Z"
   },
   {
    "duration": -135,
    "start_time": "2021-08-24T19:13:22.784Z"
   },
   {
    "duration": -141,
    "start_time": "2021-08-24T19:13:22.792Z"
   },
   {
    "duration": -148,
    "start_time": "2021-08-24T19:13:22.800Z"
   },
   {
    "duration": 1453,
    "start_time": "2021-08-24T19:22:43.886Z"
   },
   {
    "duration": 620,
    "start_time": "2021-08-24T19:22:45.342Z"
   },
   {
    "duration": 321,
    "start_time": "2021-08-24T19:22:45.965Z"
   },
   {
    "duration": 17,
    "start_time": "2021-08-24T19:22:46.289Z"
   },
   {
    "duration": 119,
    "start_time": "2021-08-24T19:22:46.308Z"
   },
   {
    "duration": 80,
    "start_time": "2021-08-24T19:22:46.429Z"
   },
   {
    "duration": 516,
    "start_time": "2021-08-24T19:22:46.511Z"
   },
   {
    "duration": 41,
    "start_time": "2021-08-24T19:22:47.032Z"
   },
   {
    "duration": 585,
    "start_time": "2021-08-24T19:22:47.077Z"
   },
   {
    "duration": 8,
    "start_time": "2021-08-24T19:22:47.658Z"
   },
   {
    "duration": 2,
    "start_time": "2021-08-24T19:22:47.666Z"
   },
   {
    "duration": -1,
    "start_time": "2021-08-24T19:22:47.671Z"
   },
   {
    "duration": -5,
    "start_time": "2021-08-24T19:22:47.677Z"
   },
   {
    "duration": -8,
    "start_time": "2021-08-24T19:22:47.682Z"
   },
   {
    "duration": -12,
    "start_time": "2021-08-24T19:22:47.688Z"
   },
   {
    "duration": -16,
    "start_time": "2021-08-24T19:22:47.694Z"
   },
   {
    "duration": -20,
    "start_time": "2021-08-24T19:22:47.700Z"
   },
   {
    "duration": -33,
    "start_time": "2021-08-24T19:22:47.715Z"
   },
   {
    "duration": -37,
    "start_time": "2021-08-24T19:22:47.721Z"
   },
   {
    "duration": -40,
    "start_time": "2021-08-24T19:22:47.726Z"
   },
   {
    "duration": -44,
    "start_time": "2021-08-24T19:22:47.732Z"
   },
   {
    "duration": -48,
    "start_time": "2021-08-24T19:22:47.738Z"
   },
   {
    "duration": -52,
    "start_time": "2021-08-24T19:22:47.744Z"
   },
   {
    "duration": 1486,
    "start_time": "2021-08-24T19:23:59.464Z"
   },
   {
    "duration": 665,
    "start_time": "2021-08-24T19:24:00.955Z"
   },
   {
    "duration": 326,
    "start_time": "2021-08-24T19:24:01.623Z"
   },
   {
    "duration": 16,
    "start_time": "2021-08-24T19:24:01.952Z"
   },
   {
    "duration": 134,
    "start_time": "2021-08-24T19:24:01.971Z"
   },
   {
    "duration": 92,
    "start_time": "2021-08-24T19:24:02.109Z"
   },
   {
    "duration": 541,
    "start_time": "2021-08-24T19:24:02.204Z"
   },
   {
    "duration": 33,
    "start_time": "2021-08-24T19:24:02.756Z"
   },
   {
    "duration": 660,
    "start_time": "2021-08-24T19:24:02.792Z"
   },
   {
    "duration": -36,
    "start_time": "2021-08-24T19:24:03.490Z"
   },
   {
    "duration": -42,
    "start_time": "2021-08-24T19:24:03.498Z"
   },
   {
    "duration": -49,
    "start_time": "2021-08-24T19:24:03.506Z"
   },
   {
    "duration": -58,
    "start_time": "2021-08-24T19:24:03.517Z"
   },
   {
    "duration": -66,
    "start_time": "2021-08-24T19:24:03.526Z"
   },
   {
    "duration": -77,
    "start_time": "2021-08-24T19:24:03.538Z"
   },
   {
    "duration": -81,
    "start_time": "2021-08-24T19:24:03.544Z"
   },
   {
    "duration": -90,
    "start_time": "2021-08-24T19:24:03.554Z"
   },
   {
    "duration": -106,
    "start_time": "2021-08-24T19:24:03.572Z"
   },
   {
    "duration": -126,
    "start_time": "2021-08-24T19:24:03.593Z"
   },
   {
    "duration": -132,
    "start_time": "2021-08-24T19:24:03.600Z"
   },
   {
    "duration": -149,
    "start_time": "2021-08-24T19:24:03.618Z"
   },
   {
    "duration": -162,
    "start_time": "2021-08-24T19:24:03.633Z"
   },
   {
    "duration": -188,
    "start_time": "2021-08-24T19:24:03.661Z"
   },
   {
    "duration": 366,
    "start_time": "2021-08-24T19:24:20.516Z"
   },
   {
    "duration": 358,
    "start_time": "2021-08-24T19:24:52.994Z"
   },
   {
    "duration": 23,
    "start_time": "2021-08-24T19:25:41.105Z"
   },
   {
    "duration": 530,
    "start_time": "2021-08-24T19:26:04.203Z"
   },
   {
    "duration": 388,
    "start_time": "2021-08-24T19:26:12.450Z"
   },
   {
    "duration": 25,
    "start_time": "2021-08-24T19:28:22.662Z"
   },
   {
    "duration": 1514,
    "start_time": "2021-08-24T19:28:29.529Z"
   },
   {
    "duration": 629,
    "start_time": "2021-08-24T19:28:31.046Z"
   },
   {
    "duration": 301,
    "start_time": "2021-08-24T19:28:31.678Z"
   },
   {
    "duration": 17,
    "start_time": "2021-08-24T19:28:31.982Z"
   },
   {
    "duration": 118,
    "start_time": "2021-08-24T19:28:32.001Z"
   },
   {
    "duration": 83,
    "start_time": "2021-08-24T19:28:32.122Z"
   },
   {
    "duration": 504,
    "start_time": "2021-08-24T19:28:32.207Z"
   },
   {
    "duration": 51,
    "start_time": "2021-08-24T19:28:32.716Z"
   },
   {
    "duration": 24,
    "start_time": "2021-08-24T19:28:32.771Z"
   },
   {
    "duration": 4,
    "start_time": "2021-08-24T19:28:32.798Z"
   },
   {
    "duration": 638,
    "start_time": "2021-08-24T19:28:32.805Z"
   },
   {
    "duration": 16,
    "start_time": "2021-08-24T19:28:33.447Z"
   },
   {
    "duration": 537,
    "start_time": "2021-08-24T19:28:33.466Z"
   },
   {
    "duration": -63,
    "start_time": "2021-08-24T19:28:34.069Z"
   },
   {
    "duration": -72,
    "start_time": "2021-08-24T19:28:34.080Z"
   },
   {
    "duration": -78,
    "start_time": "2021-08-24T19:28:34.089Z"
   },
   {
    "duration": -86,
    "start_time": "2021-08-24T19:28:34.099Z"
   },
   {
    "duration": -91,
    "start_time": "2021-08-24T19:28:34.107Z"
   },
   {
    "duration": -98,
    "start_time": "2021-08-24T19:28:34.116Z"
   },
   {
    "duration": -104,
    "start_time": "2021-08-24T19:28:34.124Z"
   },
   {
    "duration": -112,
    "start_time": "2021-08-24T19:28:34.134Z"
   },
   {
    "duration": -116,
    "start_time": "2021-08-24T19:28:34.140Z"
   },
   {
    "duration": -121,
    "start_time": "2021-08-24T19:28:34.148Z"
   },
   {
    "duration": 1469,
    "start_time": "2021-08-24T19:44:54.878Z"
   },
   {
    "duration": 135,
    "start_time": "2021-08-24T19:44:56.351Z"
   },
   {
    "duration": -43,
    "start_time": "2021-08-24T19:44:56.532Z"
   },
   {
    "duration": -48,
    "start_time": "2021-08-24T19:44:56.539Z"
   },
   {
    "duration": -54,
    "start_time": "2021-08-24T19:44:56.546Z"
   },
   {
    "duration": -61,
    "start_time": "2021-08-24T19:44:56.554Z"
   },
   {
    "duration": -67,
    "start_time": "2021-08-24T19:44:56.562Z"
   },
   {
    "duration": -72,
    "start_time": "2021-08-24T19:44:56.568Z"
   },
   {
    "duration": -78,
    "start_time": "2021-08-24T19:44:56.575Z"
   },
   {
    "duration": -82,
    "start_time": "2021-08-24T19:44:56.581Z"
   },
   {
    "duration": -88,
    "start_time": "2021-08-24T19:44:56.589Z"
   },
   {
    "duration": -106,
    "start_time": "2021-08-24T19:44:56.609Z"
   },
   {
    "duration": -121,
    "start_time": "2021-08-24T19:44:56.625Z"
   },
   {
    "duration": -125,
    "start_time": "2021-08-24T19:44:56.631Z"
   },
   {
    "duration": -131,
    "start_time": "2021-08-24T19:44:56.638Z"
   },
   {
    "duration": -134,
    "start_time": "2021-08-24T19:44:56.643Z"
   },
   {
    "duration": -139,
    "start_time": "2021-08-24T19:44:56.649Z"
   },
   {
    "duration": -143,
    "start_time": "2021-08-24T19:44:56.655Z"
   },
   {
    "duration": -148,
    "start_time": "2021-08-24T19:44:56.661Z"
   },
   {
    "duration": -151,
    "start_time": "2021-08-24T19:44:56.667Z"
   },
   {
    "duration": -156,
    "start_time": "2021-08-24T19:44:56.674Z"
   },
   {
    "duration": -162,
    "start_time": "2021-08-24T19:44:56.681Z"
   },
   {
    "duration": 1522,
    "start_time": "2021-08-24T19:46:24.217Z"
   },
   {
    "duration": 1255,
    "start_time": "2021-08-24T19:46:25.741Z"
   },
   {
    "duration": 288,
    "start_time": "2021-08-24T19:46:26.999Z"
   },
   {
    "duration": 15,
    "start_time": "2021-08-24T19:46:27.290Z"
   },
   {
    "duration": 117,
    "start_time": "2021-08-24T19:46:27.308Z"
   },
   {
    "duration": 77,
    "start_time": "2021-08-24T19:46:27.428Z"
   },
   {
    "duration": 493,
    "start_time": "2021-08-24T19:46:27.508Z"
   },
   {
    "duration": 33,
    "start_time": "2021-08-24T19:46:28.004Z"
   },
   {
    "duration": 34,
    "start_time": "2021-08-24T19:46:28.040Z"
   },
   {
    "duration": 3,
    "start_time": "2021-08-24T19:46:28.076Z"
   },
   {
    "duration": 597,
    "start_time": "2021-08-24T19:46:28.081Z"
   },
   {
    "duration": 7,
    "start_time": "2021-08-24T19:46:28.680Z"
   },
   {
    "duration": 556,
    "start_time": "2021-08-24T19:46:28.689Z"
   },
   {
    "duration": 4,
    "start_time": "2021-08-24T19:46:29.244Z"
   },
   {
    "duration": -7,
    "start_time": "2021-08-24T19:46:29.256Z"
   },
   {
    "duration": -14,
    "start_time": "2021-08-24T19:46:29.264Z"
   },
   {
    "duration": -19,
    "start_time": "2021-08-24T19:46:29.271Z"
   },
   {
    "duration": -26,
    "start_time": "2021-08-24T19:46:29.279Z"
   },
   {
    "duration": -32,
    "start_time": "2021-08-24T19:46:29.286Z"
   },
   {
    "duration": -41,
    "start_time": "2021-08-24T19:46:29.297Z"
   },
   {
    "duration": -80,
    "start_time": "2021-08-24T19:46:29.338Z"
   },
   {
    "duration": -136,
    "start_time": "2021-08-24T19:46:29.395Z"
   },
   {
    "duration": 484,
    "start_time": "2021-08-25T09:40:11.331Z"
   },
   {
    "duration": 1597,
    "start_time": "2021-08-25T09:40:18.790Z"
   },
   {
    "duration": 226,
    "start_time": "2021-08-25T09:40:29.348Z"
   },
   {
    "duration": 639,
    "start_time": "2021-08-25T09:40:52.747Z"
   },
   {
    "duration": 204,
    "start_time": "2021-08-25T10:07:59.232Z"
   },
   {
    "duration": 917,
    "start_time": "2021-08-25T10:52:14.617Z"
   },
   {
    "duration": 700,
    "start_time": "2021-08-25T10:52:39.196Z"
   },
   {
    "duration": 550,
    "start_time": "2021-08-25T10:53:15.086Z"
   },
   {
    "duration": 1644,
    "start_time": "2021-08-25T10:53:20.758Z"
   },
   {
    "duration": 668,
    "start_time": "2021-08-25T10:53:22.405Z"
   },
   {
    "duration": 360,
    "start_time": "2021-08-25T10:53:23.085Z"
   },
   {
    "duration": 16,
    "start_time": "2021-08-25T10:53:23.448Z"
   },
   {
    "duration": 125,
    "start_time": "2021-08-25T10:53:23.467Z"
   },
   {
    "duration": 72,
    "start_time": "2021-08-25T10:53:23.594Z"
   },
   {
    "duration": 583,
    "start_time": "2021-08-25T10:53:23.669Z"
   },
   {
    "duration": 55,
    "start_time": "2021-08-25T10:53:24.256Z"
   },
   {
    "duration": 26,
    "start_time": "2021-08-25T10:53:24.314Z"
   },
   {
    "duration": 2,
    "start_time": "2021-08-25T10:53:24.343Z"
   },
   {
    "duration": 642,
    "start_time": "2021-08-25T10:53:24.348Z"
   },
   {
    "duration": 8,
    "start_time": "2021-08-25T10:53:24.992Z"
   },
   {
    "duration": 623,
    "start_time": "2021-08-25T10:53:25.003Z"
   },
   {
    "duration": -282,
    "start_time": "2021-08-25T10:53:25.910Z"
   },
   {
    "duration": -288,
    "start_time": "2021-08-25T10:53:25.918Z"
   },
   {
    "duration": -303,
    "start_time": "2021-08-25T10:53:25.934Z"
   },
   {
    "duration": -313,
    "start_time": "2021-08-25T10:53:25.946Z"
   },
   {
    "duration": -321,
    "start_time": "2021-08-25T10:53:25.955Z"
   },
   {
    "duration": -327,
    "start_time": "2021-08-25T10:53:25.963Z"
   },
   {
    "duration": -335,
    "start_time": "2021-08-25T10:53:25.972Z"
   },
   {
    "duration": -343,
    "start_time": "2021-08-25T10:53:25.982Z"
   },
   {
    "duration": -349,
    "start_time": "2021-08-25T10:53:25.989Z"
   },
   {
    "duration": 576,
    "start_time": "2021-08-25T10:54:06.572Z"
   },
   {
    "duration": 32,
    "start_time": "2021-08-25T10:54:43.958Z"
   },
   {
    "duration": 1583,
    "start_time": "2021-08-25T10:54:49.990Z"
   },
   {
    "duration": 650,
    "start_time": "2021-08-25T10:54:51.576Z"
   },
   {
    "duration": 343,
    "start_time": "2021-08-25T10:54:52.229Z"
   },
   {
    "duration": 21,
    "start_time": "2021-08-25T10:54:52.576Z"
   },
   {
    "duration": 125,
    "start_time": "2021-08-25T10:54:52.600Z"
   },
   {
    "duration": 79,
    "start_time": "2021-08-25T10:54:52.728Z"
   },
   {
    "duration": 520,
    "start_time": "2021-08-25T10:54:52.809Z"
   },
   {
    "duration": 58,
    "start_time": "2021-08-25T10:54:53.334Z"
   },
   {
    "duration": 30,
    "start_time": "2021-08-25T10:54:53.396Z"
   },
   {
    "duration": 3,
    "start_time": "2021-08-25T10:54:53.429Z"
   },
   {
    "duration": 889,
    "start_time": "2021-08-25T10:54:53.435Z"
   },
   {
    "duration": 8,
    "start_time": "2021-08-25T10:54:54.326Z"
   },
   {
    "duration": 588,
    "start_time": "2021-08-25T10:54:54.337Z"
   },
   {
    "duration": -271,
    "start_time": "2021-08-25T10:54:55.200Z"
   },
   {
    "duration": -285,
    "start_time": "2021-08-25T10:54:55.217Z"
   },
   {
    "duration": -293,
    "start_time": "2021-08-25T10:54:55.227Z"
   },
   {
    "duration": -302,
    "start_time": "2021-08-25T10:54:55.238Z"
   },
   {
    "duration": -309,
    "start_time": "2021-08-25T10:54:55.248Z"
   },
   {
    "duration": -319,
    "start_time": "2021-08-25T10:54:55.260Z"
   },
   {
    "duration": -325,
    "start_time": "2021-08-25T10:54:55.268Z"
   },
   {
    "duration": -342,
    "start_time": "2021-08-25T10:54:55.287Z"
   },
   {
    "duration": -347,
    "start_time": "2021-08-25T10:54:55.295Z"
   },
   {
    "duration": 15,
    "start_time": "2021-08-25T10:59:34.959Z"
   },
   {
    "duration": 51,
    "start_time": "2021-08-25T10:59:43.018Z"
   },
   {
    "duration": 1637,
    "start_time": "2021-08-25T10:59:49.288Z"
   },
   {
    "duration": 662,
    "start_time": "2021-08-25T10:59:50.927Z"
   },
   {
    "duration": 355,
    "start_time": "2021-08-25T10:59:51.592Z"
   },
   {
    "duration": 19,
    "start_time": "2021-08-25T10:59:51.950Z"
   },
   {
    "duration": 135,
    "start_time": "2021-08-25T10:59:51.971Z"
   },
   {
    "duration": 81,
    "start_time": "2021-08-25T10:59:52.108Z"
   },
   {
    "duration": 533,
    "start_time": "2021-08-25T10:59:52.191Z"
   },
   {
    "duration": 35,
    "start_time": "2021-08-25T10:59:52.728Z"
   },
   {
    "duration": 33,
    "start_time": "2021-08-25T10:59:52.767Z"
   },
   {
    "duration": 12,
    "start_time": "2021-08-25T10:59:52.803Z"
   },
   {
    "duration": 659,
    "start_time": "2021-08-25T10:59:52.817Z"
   },
   {
    "duration": 14,
    "start_time": "2021-08-25T10:59:53.479Z"
   },
   {
    "duration": 1217,
    "start_time": "2021-08-25T10:59:53.495Z"
   },
   {
    "duration": -303,
    "start_time": "2021-08-25T10:59:55.018Z"
   },
   {
    "duration": -326,
    "start_time": "2021-08-25T10:59:55.042Z"
   },
   {
    "duration": -365,
    "start_time": "2021-08-25T10:59:55.083Z"
   },
   {
    "duration": -373,
    "start_time": "2021-08-25T10:59:55.093Z"
   },
   {
    "duration": -378,
    "start_time": "2021-08-25T10:59:55.099Z"
   },
   {
    "duration": -385,
    "start_time": "2021-08-25T10:59:55.108Z"
   },
   {
    "duration": -389,
    "start_time": "2021-08-25T10:59:55.114Z"
   },
   {
    "duration": -395,
    "start_time": "2021-08-25T10:59:55.121Z"
   },
   {
    "duration": -398,
    "start_time": "2021-08-25T10:59:55.128Z"
   },
   {
    "duration": 683,
    "start_time": "2021-08-25T11:01:53.321Z"
   },
   {
    "duration": 1623,
    "start_time": "2021-08-25T11:02:01.982Z"
   },
   {
    "duration": 842,
    "start_time": "2021-08-25T11:02:03.608Z"
   },
   {
    "duration": 494,
    "start_time": "2021-08-25T11:02:04.454Z"
   },
   {
    "duration": 36,
    "start_time": "2021-08-25T11:02:04.952Z"
   },
   {
    "duration": 193,
    "start_time": "2021-08-25T11:02:04.992Z"
   },
   {
    "duration": 74,
    "start_time": "2021-08-25T11:02:05.187Z"
   },
   {
    "duration": 613,
    "start_time": "2021-08-25T11:02:05.264Z"
   },
   {
    "duration": 39,
    "start_time": "2021-08-25T11:02:05.885Z"
   },
   {
    "duration": 711,
    "start_time": "2021-08-25T11:02:05.927Z"
   },
   {
    "duration": -271,
    "start_time": "2021-08-25T11:02:06.913Z"
   },
   {
    "duration": -276,
    "start_time": "2021-08-25T11:02:06.921Z"
   },
   {
    "duration": -284,
    "start_time": "2021-08-25T11:02:06.931Z"
   },
   {
    "duration": -288,
    "start_time": "2021-08-25T11:02:06.937Z"
   },
   {
    "duration": -305,
    "start_time": "2021-08-25T11:02:06.955Z"
   },
   {
    "duration": -309,
    "start_time": "2021-08-25T11:02:06.960Z"
   },
   {
    "duration": -313,
    "start_time": "2021-08-25T11:02:06.965Z"
   },
   {
    "duration": -317,
    "start_time": "2021-08-25T11:02:06.971Z"
   },
   {
    "duration": -322,
    "start_time": "2021-08-25T11:02:06.977Z"
   },
   {
    "duration": -328,
    "start_time": "2021-08-25T11:02:06.984Z"
   },
   {
    "duration": -332,
    "start_time": "2021-08-25T11:02:06.990Z"
   },
   {
    "duration": -337,
    "start_time": "2021-08-25T11:02:06.997Z"
   },
   {
    "duration": -340,
    "start_time": "2021-08-25T11:02:07.002Z"
   },
   {
    "duration": -345,
    "start_time": "2021-08-25T11:02:07.009Z"
   },
   {
    "duration": 433,
    "start_time": "2021-08-25T11:02:32.248Z"
   },
   {
    "duration": 583,
    "start_time": "2021-08-25T11:02:54.374Z"
   },
   {
    "duration": 10940,
    "start_time": "2021-08-25T11:05:18.721Z"
   },
   {
    "duration": 1461,
    "start_time": "2021-08-25T11:05:32.109Z"
   },
   {
    "duration": 761,
    "start_time": "2021-08-25T11:05:33.573Z"
   },
   {
    "duration": 338,
    "start_time": "2021-08-25T11:05:34.338Z"
   },
   {
    "duration": 17,
    "start_time": "2021-08-25T11:05:34.685Z"
   },
   {
    "duration": 119,
    "start_time": "2021-08-25T11:05:34.704Z"
   },
   {
    "duration": 79,
    "start_time": "2021-08-25T11:05:34.825Z"
   },
   {
    "duration": 506,
    "start_time": "2021-08-25T11:05:34.906Z"
   },
   {
    "duration": 36,
    "start_time": "2021-08-25T11:05:35.415Z"
   },
   {
    "duration": 9668,
    "start_time": "2021-08-25T11:05:35.453Z"
   },
   {
    "duration": -314,
    "start_time": "2021-08-25T11:05:45.438Z"
   },
   {
    "duration": -319,
    "start_time": "2021-08-25T11:05:45.444Z"
   },
   {
    "duration": -324,
    "start_time": "2021-08-25T11:05:45.451Z"
   },
   {
    "duration": -328,
    "start_time": "2021-08-25T11:05:45.457Z"
   },
   {
    "duration": -338,
    "start_time": "2021-08-25T11:05:45.468Z"
   },
   {
    "duration": -344,
    "start_time": "2021-08-25T11:05:45.475Z"
   },
   {
    "duration": -349,
    "start_time": "2021-08-25T11:05:45.481Z"
   },
   {
    "duration": -353,
    "start_time": "2021-08-25T11:05:45.487Z"
   },
   {
    "duration": -358,
    "start_time": "2021-08-25T11:05:45.493Z"
   },
   {
    "duration": -363,
    "start_time": "2021-08-25T11:05:45.499Z"
   },
   {
    "duration": -370,
    "start_time": "2021-08-25T11:05:45.507Z"
   },
   {
    "duration": -373,
    "start_time": "2021-08-25T11:05:45.512Z"
   },
   {
    "duration": -396,
    "start_time": "2021-08-25T11:05:45.536Z"
   },
   {
    "duration": -408,
    "start_time": "2021-08-25T11:05:45.549Z"
   },
   {
    "duration": 502,
    "start_time": "2021-08-25T11:06:11.283Z"
   },
   {
    "duration": 453,
    "start_time": "2021-08-25T11:07:57.436Z"
   },
   {
    "duration": 1429,
    "start_time": "2021-08-25T11:08:27.762Z"
   },
   {
    "duration": 12967,
    "start_time": "2021-08-25T11:10:03.540Z"
   },
   {
    "duration": 1453,
    "start_time": "2021-08-25T11:14:38.523Z"
   },
   {
    "duration": 632,
    "start_time": "2021-08-25T11:14:39.980Z"
   },
   {
    "duration": 318,
    "start_time": "2021-08-25T11:14:40.617Z"
   },
   {
    "duration": 15,
    "start_time": "2021-08-25T11:14:40.938Z"
   },
   {
    "duration": 118,
    "start_time": "2021-08-25T11:14:40.956Z"
   },
   {
    "duration": 76,
    "start_time": "2021-08-25T11:14:41.077Z"
   },
   {
    "duration": 479,
    "start_time": "2021-08-25T11:14:41.155Z"
   },
   {
    "duration": 51,
    "start_time": "2021-08-25T11:14:41.638Z"
   },
   {
    "duration": 3,
    "start_time": "2021-08-25T11:14:41.692Z"
   },
   {
    "duration": 6,
    "start_time": "2021-08-25T11:14:41.698Z"
   },
   {
    "duration": 1538,
    "start_time": "2021-08-25T11:14:55.747Z"
   },
   {
    "duration": 798,
    "start_time": "2021-08-25T11:14:57.288Z"
   },
   {
    "duration": 317,
    "start_time": "2021-08-25T11:14:58.089Z"
   },
   {
    "duration": 16,
    "start_time": "2021-08-25T11:14:58.409Z"
   },
   {
    "duration": 122,
    "start_time": "2021-08-25T11:14:58.427Z"
   },
   {
    "duration": 83,
    "start_time": "2021-08-25T11:14:58.552Z"
   },
   {
    "duration": 467,
    "start_time": "2021-08-25T11:14:58.638Z"
   },
   {
    "duration": 35,
    "start_time": "2021-08-25T11:14:59.108Z"
   },
   {
    "duration": 47,
    "start_time": "2021-08-25T11:14:59.146Z"
   },
   {
    "duration": 3,
    "start_time": "2021-08-25T11:14:59.195Z"
   },
   {
    "duration": 639,
    "start_time": "2021-08-25T11:14:59.201Z"
   },
   {
    "duration": 9,
    "start_time": "2021-08-25T11:14:59.843Z"
   },
   {
    "duration": 642,
    "start_time": "2021-08-25T11:14:59.855Z"
   },
   {
    "duration": -291,
    "start_time": "2021-08-25T11:15:00.791Z"
   },
   {
    "duration": -296,
    "start_time": "2021-08-25T11:15:00.798Z"
   },
   {
    "duration": -303,
    "start_time": "2021-08-25T11:15:00.806Z"
   },
   {
    "duration": -308,
    "start_time": "2021-08-25T11:15:00.812Z"
   },
   {
    "duration": -312,
    "start_time": "2021-08-25T11:15:00.818Z"
   },
   {
    "duration": -317,
    "start_time": "2021-08-25T11:15:00.824Z"
   },
   {
    "duration": -324,
    "start_time": "2021-08-25T11:15:00.832Z"
   },
   {
    "duration": -334,
    "start_time": "2021-08-25T11:15:00.844Z"
   },
   {
    "duration": -341,
    "start_time": "2021-08-25T11:15:00.852Z"
   },
   {
    "duration": 33,
    "start_time": "2021-08-25T11:15:30.116Z"
   },
   {
    "duration": 1645,
    "start_time": "2021-08-25T11:17:52.980Z"
   },
   {
    "duration": 688,
    "start_time": "2021-08-25T11:17:54.628Z"
   },
   {
    "duration": 334,
    "start_time": "2021-08-25T11:17:55.319Z"
   },
   {
    "duration": 29,
    "start_time": "2021-08-25T11:17:55.656Z"
   },
   {
    "duration": 116,
    "start_time": "2021-08-25T11:17:55.689Z"
   },
   {
    "duration": 82,
    "start_time": "2021-08-25T11:17:55.809Z"
   },
   {
    "duration": 494,
    "start_time": "2021-08-25T11:17:55.894Z"
   },
   {
    "duration": 38,
    "start_time": "2021-08-25T11:17:56.392Z"
   },
   {
    "duration": 3,
    "start_time": "2021-08-25T11:17:56.433Z"
   },
   {
    "duration": 23,
    "start_time": "2021-08-25T11:17:56.439Z"
   },
   {
    "duration": 13594,
    "start_time": "2021-08-25T11:17:56.465Z"
   },
   {
    "duration": -257,
    "start_time": "2021-08-25T11:18:10.319Z"
   },
   {
    "duration": -262,
    "start_time": "2021-08-25T11:18:10.325Z"
   },
   {
    "duration": -268,
    "start_time": "2021-08-25T11:18:10.333Z"
   },
   {
    "duration": -272,
    "start_time": "2021-08-25T11:18:10.339Z"
   },
   {
    "duration": -277,
    "start_time": "2021-08-25T11:18:10.345Z"
   },
   {
    "duration": -283,
    "start_time": "2021-08-25T11:18:10.352Z"
   },
   {
    "duration": -286,
    "start_time": "2021-08-25T11:18:10.357Z"
   },
   {
    "duration": -291,
    "start_time": "2021-08-25T11:18:10.364Z"
   },
   {
    "duration": -296,
    "start_time": "2021-08-25T11:18:10.370Z"
   },
   {
    "duration": -298,
    "start_time": "2021-08-25T11:18:10.376Z"
   },
   {
    "duration": -302,
    "start_time": "2021-08-25T11:18:10.382Z"
   },
   {
    "duration": 1589,
    "start_time": "2021-08-25T11:20:33.696Z"
   },
   {
    "duration": 645,
    "start_time": "2021-08-25T11:20:35.288Z"
   },
   {
    "duration": 344,
    "start_time": "2021-08-25T11:20:35.935Z"
   },
   {
    "duration": 16,
    "start_time": "2021-08-25T11:20:36.286Z"
   },
   {
    "duration": 118,
    "start_time": "2021-08-25T11:20:36.305Z"
   },
   {
    "duration": 80,
    "start_time": "2021-08-25T11:20:36.425Z"
   },
   {
    "duration": 469,
    "start_time": "2021-08-25T11:20:36.508Z"
   },
   {
    "duration": 49,
    "start_time": "2021-08-25T11:20:36.985Z"
   },
   {
    "duration": 24,
    "start_time": "2021-08-25T11:20:37.037Z"
   },
   {
    "duration": 3,
    "start_time": "2021-08-25T11:20:37.085Z"
   },
   {
    "duration": 641,
    "start_time": "2021-08-25T11:20:37.091Z"
   },
   {
    "duration": 7,
    "start_time": "2021-08-25T11:20:37.735Z"
   },
   {
    "duration": 976,
    "start_time": "2021-08-25T11:20:37.744Z"
   },
   {
    "duration": -265,
    "start_time": "2021-08-25T11:20:38.988Z"
   },
   {
    "duration": -272,
    "start_time": "2021-08-25T11:20:38.996Z"
   },
   {
    "duration": -279,
    "start_time": "2021-08-25T11:20:39.005Z"
   },
   {
    "duration": -288,
    "start_time": "2021-08-25T11:20:39.015Z"
   },
   {
    "duration": -297,
    "start_time": "2021-08-25T11:20:39.025Z"
   },
   {
    "duration": -303,
    "start_time": "2021-08-25T11:20:39.033Z"
   },
   {
    "duration": -312,
    "start_time": "2021-08-25T11:20:39.044Z"
   },
   {
    "duration": -319,
    "start_time": "2021-08-25T11:20:39.052Z"
   },
   {
    "duration": -323,
    "start_time": "2021-08-25T11:20:39.058Z"
   },
   {
    "duration": 503,
    "start_time": "2021-08-25T13:00:09.919Z"
   },
   {
    "duration": 1536,
    "start_time": "2021-08-25T13:00:19.174Z"
   },
   {
    "duration": 640,
    "start_time": "2021-08-25T13:00:20.713Z"
   },
   {
    "duration": 323,
    "start_time": "2021-08-25T13:00:21.356Z"
   },
   {
    "duration": 16,
    "start_time": "2021-08-25T13:00:21.684Z"
   },
   {
    "duration": 116,
    "start_time": "2021-08-25T13:00:21.702Z"
   },
   {
    "duration": 80,
    "start_time": "2021-08-25T13:00:21.821Z"
   },
   {
    "duration": 482,
    "start_time": "2021-08-25T13:00:21.904Z"
   },
   {
    "duration": 34,
    "start_time": "2021-08-25T13:00:22.390Z"
   },
   {
    "duration": 3325,
    "start_time": "2021-08-25T13:00:22.427Z"
   },
   {
    "duration": 1133,
    "start_time": "2021-08-25T13:00:25.754Z"
   },
   {
    "duration": 7,
    "start_time": "2021-08-25T13:00:26.889Z"
   },
   {
    "duration": 27,
    "start_time": "2021-08-25T13:00:26.899Z"
   },
   {
    "duration": 805,
    "start_time": "2021-08-25T13:00:26.928Z"
   },
   {
    "duration": 30,
    "start_time": "2021-08-25T13:00:27.736Z"
   },
   {
    "duration": 26,
    "start_time": "2021-08-25T13:00:27.786Z"
   },
   {
    "duration": 8,
    "start_time": "2021-08-25T13:00:27.815Z"
   },
   {
    "duration": 921,
    "start_time": "2021-08-25T13:00:27.826Z"
   },
   {
    "duration": 961,
    "start_time": "2021-08-25T13:00:28.749Z"
   },
   {
    "duration": 799,
    "start_time": "2021-08-25T13:00:29.712Z"
   },
   {
    "duration": 17,
    "start_time": "2021-08-25T13:00:30.514Z"
   },
   {
    "duration": 864,
    "start_time": "2021-08-25T13:00:30.533Z"
   },
   {
    "duration": 1099,
    "start_time": "2021-08-25T13:01:26.011Z"
   },
   {
    "duration": 1594,
    "start_time": "2021-08-25T13:02:48.496Z"
   },
   {
    "duration": 622,
    "start_time": "2021-08-25T13:02:50.093Z"
   },
   {
    "duration": 347,
    "start_time": "2021-08-25T13:02:50.718Z"
   },
   {
    "duration": 24,
    "start_time": "2021-08-25T13:02:51.068Z"
   },
   {
    "duration": 122,
    "start_time": "2021-08-25T13:02:51.095Z"
   },
   {
    "duration": 80,
    "start_time": "2021-08-25T13:02:51.219Z"
   },
   {
    "duration": 475,
    "start_time": "2021-08-25T13:02:51.301Z"
   },
   {
    "duration": 36,
    "start_time": "2021-08-25T13:02:51.784Z"
   },
   {
    "duration": 14338,
    "start_time": "2021-08-25T13:02:51.823Z"
   },
   {
    "duration": -347,
    "start_time": "2021-08-25T13:03:06.510Z"
   },
   {
    "duration": -355,
    "start_time": "2021-08-25T13:03:06.520Z"
   },
   {
    "duration": -364,
    "start_time": "2021-08-25T13:03:06.530Z"
   },
   {
    "duration": -369,
    "start_time": "2021-08-25T13:03:06.537Z"
   },
   {
    "duration": -377,
    "start_time": "2021-08-25T13:03:06.546Z"
   },
   {
    "duration": -386,
    "start_time": "2021-08-25T13:03:06.556Z"
   },
   {
    "duration": -393,
    "start_time": "2021-08-25T13:03:06.565Z"
   },
   {
    "duration": -415,
    "start_time": "2021-08-25T13:03:06.588Z"
   },
   {
    "duration": -424,
    "start_time": "2021-08-25T13:03:06.599Z"
   },
   {
    "duration": -433,
    "start_time": "2021-08-25T13:03:06.609Z"
   },
   {
    "duration": -441,
    "start_time": "2021-08-25T13:03:06.618Z"
   },
   {
    "duration": 3,
    "start_time": "2021-08-25T14:07:05.393Z"
   },
   {
    "duration": 1572,
    "start_time": "2021-08-25T14:13:52.792Z"
   },
   {
    "duration": 674,
    "start_time": "2021-08-25T14:13:54.367Z"
   },
   {
    "duration": 341,
    "start_time": "2021-08-25T14:13:55.046Z"
   },
   {
    "duration": 17,
    "start_time": "2021-08-25T14:13:55.390Z"
   },
   {
    "duration": 123,
    "start_time": "2021-08-25T14:13:55.409Z"
   },
   {
    "duration": 3,
    "start_time": "2021-08-25T14:13:55.534Z"
   },
   {
    "duration": 310,
    "start_time": "2021-08-25T14:13:55.539Z"
   },
   {
    "duration": 3,
    "start_time": "2021-08-25T14:13:55.854Z"
   },
   {
    "duration": 127,
    "start_time": "2021-08-25T14:13:55.860Z"
   },
   {
    "duration": 20,
    "start_time": "2021-08-25T14:13:55.989Z"
   },
   {
    "duration": 25,
    "start_time": "2021-08-25T14:13:56.011Z"
   },
   {
    "duration": 207,
    "start_time": "2021-08-25T14:13:56.038Z"
   },
   {
    "duration": 4,
    "start_time": "2021-08-25T14:13:56.247Z"
   },
   {
    "duration": 27,
    "start_time": "2021-08-25T14:13:56.253Z"
   },
   {
    "duration": 40,
    "start_time": "2021-08-25T14:13:56.282Z"
   },
   {
    "duration": 775,
    "start_time": "2021-08-25T14:13:56.324Z"
   },
   {
    "duration": 33,
    "start_time": "2021-08-25T14:13:57.102Z"
   },
   {
    "duration": 22,
    "start_time": "2021-08-25T14:13:57.138Z"
   },
   {
    "duration": 28,
    "start_time": "2021-08-25T14:13:57.163Z"
   },
   {
    "duration": 949,
    "start_time": "2021-08-25T14:13:57.194Z"
   },
   {
    "duration": 981,
    "start_time": "2021-08-25T14:13:58.146Z"
   },
   {
    "duration": 797,
    "start_time": "2021-08-25T14:13:59.131Z"
   },
   {
    "duration": 21,
    "start_time": "2021-08-25T14:13:59.933Z"
   },
   {
    "duration": 34,
    "start_time": "2021-08-25T14:13:59.957Z"
   },
   {
    "duration": 263,
    "start_time": "2021-08-25T14:15:16.324Z"
   },
   {
    "duration": 732,
    "start_time": "2021-08-25T14:30:13.948Z"
   },
   {
    "duration": 646,
    "start_time": "2021-08-25T14:30:41.568Z"
   },
   {
    "duration": 256,
    "start_time": "2021-08-25T14:31:20.023Z"
   },
   {
    "duration": 1591,
    "start_time": "2021-08-25T14:34:03.703Z"
   },
   {
    "duration": 669,
    "start_time": "2021-08-25T14:34:05.297Z"
   },
   {
    "duration": 346,
    "start_time": "2021-08-25T14:34:05.969Z"
   },
   {
    "duration": 19,
    "start_time": "2021-08-25T14:34:06.319Z"
   },
   {
    "duration": 133,
    "start_time": "2021-08-25T14:34:06.341Z"
   },
   {
    "duration": 10,
    "start_time": "2021-08-25T14:34:06.476Z"
   },
   {
    "duration": 309,
    "start_time": "2021-08-25T14:34:06.489Z"
   },
   {
    "duration": 4,
    "start_time": "2021-08-25T14:34:06.804Z"
   },
   {
    "duration": 17,
    "start_time": "2021-08-25T14:34:06.812Z"
   },
   {
    "duration": 3,
    "start_time": "2021-08-25T14:34:06.832Z"
   },
   {
    "duration": 7,
    "start_time": "2021-08-25T14:34:06.837Z"
   },
   {
    "duration": 240,
    "start_time": "2021-08-25T14:34:06.847Z"
   },
   {
    "duration": 3,
    "start_time": "2021-08-25T14:34:07.090Z"
   },
   {
    "duration": 16,
    "start_time": "2021-08-25T14:34:07.097Z"
   },
   {
    "duration": 32,
    "start_time": "2021-08-25T14:34:07.115Z"
   },
   {
    "duration": 823,
    "start_time": "2021-08-25T14:34:07.150Z"
   },
   {
    "duration": 34,
    "start_time": "2021-08-25T14:34:07.985Z"
   },
   {
    "duration": 20,
    "start_time": "2021-08-25T14:34:08.021Z"
   },
   {
    "duration": 6,
    "start_time": "2021-08-25T14:34:08.044Z"
   },
   {
    "duration": 957,
    "start_time": "2021-08-25T14:34:08.052Z"
   },
   {
    "duration": 1035,
    "start_time": "2021-08-25T14:34:09.012Z"
   },
   {
    "duration": 792,
    "start_time": "2021-08-25T14:34:10.049Z"
   },
   {
    "duration": 22,
    "start_time": "2021-08-25T14:34:10.845Z"
   },
   {
    "duration": 28,
    "start_time": "2021-08-25T14:34:10.869Z"
   },
   {
    "duration": 125,
    "start_time": "2021-08-25T14:37:17.957Z"
   },
   {
    "duration": 184,
    "start_time": "2021-08-25T14:52:30.539Z"
   },
   {
    "duration": 2661,
    "start_time": "2021-08-25T15:45:02.225Z"
   },
   {
    "duration": 1454,
    "start_time": "2021-08-25T15:50:10.718Z"
   },
   {
    "duration": 656,
    "start_time": "2021-08-25T15:50:12.175Z"
   },
   {
    "duration": 316,
    "start_time": "2021-08-25T15:50:12.836Z"
   },
   {
    "duration": 32,
    "start_time": "2021-08-25T15:50:13.156Z"
   },
   {
    "duration": 108,
    "start_time": "2021-08-25T15:50:13.190Z"
   },
   {
    "duration": 280,
    "start_time": "2021-08-25T15:50:13.301Z"
   },
   {
    "duration": 10,
    "start_time": "2021-08-25T15:50:13.586Z"
   },
   {
    "duration": 194,
    "start_time": "2021-08-25T15:50:13.600Z"
   },
   {
    "duration": 8,
    "start_time": "2021-08-25T15:50:13.797Z"
   },
   {
    "duration": 33,
    "start_time": "2021-08-25T15:50:13.807Z"
   },
   {
    "duration": 828,
    "start_time": "2021-08-25T15:50:13.842Z"
   },
   {
    "duration": 35,
    "start_time": "2021-08-25T15:50:14.672Z"
   },
   {
    "duration": 22,
    "start_time": "2021-08-25T15:50:14.710Z"
   },
   {
    "duration": 6,
    "start_time": "2021-08-25T15:50:14.734Z"
   },
   {
    "duration": 3170,
    "start_time": "2021-08-25T15:50:14.743Z"
   },
   {
    "duration": 16,
    "start_time": "2021-08-25T15:50:17.916Z"
   },
   {
    "duration": 16,
    "start_time": "2021-08-25T15:50:17.934Z"
   },
   {
    "duration": 388,
    "start_time": "2021-08-25T15:57:44.827Z"
   },
   {
    "duration": 1462,
    "start_time": "2021-08-25T17:05:34.601Z"
   },
   {
    "duration": 630,
    "start_time": "2021-08-25T17:05:36.066Z"
   },
   {
    "duration": 320,
    "start_time": "2021-08-25T17:05:36.699Z"
   },
   {
    "duration": 16,
    "start_time": "2021-08-25T17:05:37.022Z"
   },
   {
    "duration": 121,
    "start_time": "2021-08-25T17:05:37.040Z"
   },
   {
    "duration": 281,
    "start_time": "2021-08-25T17:05:37.163Z"
   },
   {
    "duration": 12,
    "start_time": "2021-08-25T17:05:37.446Z"
   },
   {
    "duration": 207,
    "start_time": "2021-08-25T17:05:37.463Z"
   },
   {
    "duration": 18,
    "start_time": "2021-08-25T17:05:37.673Z"
   },
   {
    "duration": 29,
    "start_time": "2021-08-25T17:05:37.694Z"
   },
   {
    "duration": 811,
    "start_time": "2021-08-25T17:05:37.726Z"
   },
   {
    "duration": 50,
    "start_time": "2021-08-25T17:05:38.541Z"
   },
   {
    "duration": 19,
    "start_time": "2021-08-25T17:05:38.594Z"
   },
   {
    "duration": 6,
    "start_time": "2021-08-25T17:05:38.616Z"
   },
   {
    "duration": 2727,
    "start_time": "2021-08-25T17:05:38.624Z"
   },
   {
    "duration": 20,
    "start_time": "2021-08-25T17:05:41.354Z"
   },
   {
    "duration": 15,
    "start_time": "2021-08-25T17:05:41.386Z"
   },
   {
    "duration": 1664,
    "start_time": "2021-08-25T17:23:29.118Z"
   },
   {
    "duration": 828,
    "start_time": "2021-08-25T17:23:30.787Z"
   },
   {
    "duration": 428,
    "start_time": "2021-08-25T17:23:31.619Z"
   },
   {
    "duration": 36,
    "start_time": "2021-08-25T17:23:32.051Z"
   },
   {
    "duration": 171,
    "start_time": "2021-08-25T17:23:32.091Z"
   },
   {
    "duration": 938,
    "start_time": "2021-08-25T17:23:32.265Z"
   },
   {
    "duration": -299,
    "start_time": "2021-08-25T17:23:33.505Z"
   },
   {
    "duration": -324,
    "start_time": "2021-08-25T17:23:33.531Z"
   },
   {
    "duration": -337,
    "start_time": "2021-08-25T17:23:33.546Z"
   },
   {
    "duration": -341,
    "start_time": "2021-08-25T17:23:33.552Z"
   },
   {
    "duration": -346,
    "start_time": "2021-08-25T17:23:33.558Z"
   },
   {
    "duration": -350,
    "start_time": "2021-08-25T17:23:33.563Z"
   },
   {
    "duration": -353,
    "start_time": "2021-08-25T17:23:33.569Z"
   },
   {
    "duration": -357,
    "start_time": "2021-08-25T17:23:33.574Z"
   },
   {
    "duration": -364,
    "start_time": "2021-08-25T17:23:33.583Z"
   },
   {
    "duration": -369,
    "start_time": "2021-08-25T17:23:33.589Z"
   },
   {
    "duration": -377,
    "start_time": "2021-08-25T17:23:33.599Z"
   },
   {
    "duration": 2158,
    "start_time": "2021-08-25T17:24:52.849Z"
   },
   {
    "duration": 677,
    "start_time": "2021-08-25T17:24:55.011Z"
   },
   {
    "duration": 343,
    "start_time": "2021-08-25T17:24:55.693Z"
   },
   {
    "duration": 19,
    "start_time": "2021-08-25T17:24:56.039Z"
   },
   {
    "duration": 130,
    "start_time": "2021-08-25T17:24:56.061Z"
   },
   {
    "duration": 969,
    "start_time": "2021-08-25T17:24:56.194Z"
   },
   {
    "duration": -273,
    "start_time": "2021-08-25T17:24:57.440Z"
   },
   {
    "duration": -276,
    "start_time": "2021-08-25T17:24:57.445Z"
   },
   {
    "duration": -287,
    "start_time": "2021-08-25T17:24:57.457Z"
   },
   {
    "duration": -292,
    "start_time": "2021-08-25T17:24:57.464Z"
   },
   {
    "duration": -298,
    "start_time": "2021-08-25T17:24:57.471Z"
   },
   {
    "duration": -303,
    "start_time": "2021-08-25T17:24:57.478Z"
   },
   {
    "duration": -309,
    "start_time": "2021-08-25T17:24:57.486Z"
   },
   {
    "duration": -327,
    "start_time": "2021-08-25T17:24:57.505Z"
   },
   {
    "duration": -340,
    "start_time": "2021-08-25T17:24:57.519Z"
   },
   {
    "duration": -344,
    "start_time": "2021-08-25T17:24:57.525Z"
   },
   {
    "duration": -350,
    "start_time": "2021-08-25T17:24:57.532Z"
   },
   {
    "duration": 1594,
    "start_time": "2021-08-25T17:26:42.577Z"
   },
   {
    "duration": 605,
    "start_time": "2021-08-25T17:26:44.174Z"
   },
   {
    "duration": 289,
    "start_time": "2021-08-25T17:26:44.786Z"
   },
   {
    "duration": 19,
    "start_time": "2021-08-25T17:26:45.077Z"
   },
   {
    "duration": 117,
    "start_time": "2021-08-25T17:26:45.099Z"
   },
   {
    "duration": 749,
    "start_time": "2021-08-25T17:26:45.219Z"
   },
   {
    "duration": -261,
    "start_time": "2021-08-25T17:26:46.232Z"
   },
   {
    "duration": -265,
    "start_time": "2021-08-25T17:26:46.238Z"
   },
   {
    "duration": -296,
    "start_time": "2021-08-25T17:26:46.270Z"
   },
   {
    "duration": -301,
    "start_time": "2021-08-25T17:26:46.277Z"
   },
   {
    "duration": -305,
    "start_time": "2021-08-25T17:26:46.282Z"
   },
   {
    "duration": -310,
    "start_time": "2021-08-25T17:26:46.288Z"
   },
   {
    "duration": -313,
    "start_time": "2021-08-25T17:26:46.293Z"
   },
   {
    "duration": -319,
    "start_time": "2021-08-25T17:26:46.300Z"
   },
   {
    "duration": -323,
    "start_time": "2021-08-25T17:26:46.306Z"
   },
   {
    "duration": -329,
    "start_time": "2021-08-25T17:26:46.313Z"
   },
   {
    "duration": -342,
    "start_time": "2021-08-25T17:26:46.328Z"
   },
   {
    "duration": 1833,
    "start_time": "2021-08-25T17:36:04.326Z"
   },
   {
    "duration": 600,
    "start_time": "2021-08-25T17:36:06.162Z"
   },
   {
    "duration": 293,
    "start_time": "2021-08-25T17:36:06.766Z"
   },
   {
    "duration": 28,
    "start_time": "2021-08-25T17:36:07.063Z"
   },
   {
    "duration": 111,
    "start_time": "2021-08-25T17:36:07.094Z"
   },
   {
    "duration": 918,
    "start_time": "2021-08-25T17:36:07.207Z"
   },
   {
    "duration": -271,
    "start_time": "2021-08-25T17:36:08.401Z"
   },
   {
    "duration": -287,
    "start_time": "2021-08-25T17:36:08.419Z"
   },
   {
    "duration": -293,
    "start_time": "2021-08-25T17:36:08.427Z"
   },
   {
    "duration": -296,
    "start_time": "2021-08-25T17:36:08.432Z"
   },
   {
    "duration": -301,
    "start_time": "2021-08-25T17:36:08.439Z"
   },
   {
    "duration": -303,
    "start_time": "2021-08-25T17:36:08.444Z"
   },
   {
    "duration": -308,
    "start_time": "2021-08-25T17:36:08.451Z"
   },
   {
    "duration": -312,
    "start_time": "2021-08-25T17:36:08.457Z"
   },
   {
    "duration": -316,
    "start_time": "2021-08-25T17:36:08.463Z"
   },
   {
    "duration": -320,
    "start_time": "2021-08-25T17:36:08.469Z"
   },
   {
    "duration": -310,
    "start_time": "2021-08-25T17:36:08.494Z"
   },
   {
    "duration": 1611,
    "start_time": "2021-08-25T17:44:17.552Z"
   },
   {
    "duration": 582,
    "start_time": "2021-08-25T17:44:19.166Z"
   },
   {
    "duration": 291,
    "start_time": "2021-08-25T17:44:19.751Z"
   },
   {
    "duration": 14,
    "start_time": "2021-08-25T17:44:20.045Z"
   },
   {
    "duration": 113,
    "start_time": "2021-08-25T17:44:20.062Z"
   },
   {
    "duration": 1834,
    "start_time": "2021-08-25T17:44:20.185Z"
   },
   {
    "duration": -281,
    "start_time": "2021-08-25T17:44:22.305Z"
   },
   {
    "duration": -284,
    "start_time": "2021-08-25T17:44:22.310Z"
   },
   {
    "duration": -290,
    "start_time": "2021-08-25T17:44:22.318Z"
   },
   {
    "duration": -293,
    "start_time": "2021-08-25T17:44:22.323Z"
   },
   {
    "duration": -297,
    "start_time": "2021-08-25T17:44:22.329Z"
   },
   {
    "duration": -300,
    "start_time": "2021-08-25T17:44:22.334Z"
   },
   {
    "duration": -304,
    "start_time": "2021-08-25T17:44:22.340Z"
   },
   {
    "duration": -308,
    "start_time": "2021-08-25T17:44:22.346Z"
   },
   {
    "duration": -321,
    "start_time": "2021-08-25T17:44:22.361Z"
   },
   {
    "duration": -325,
    "start_time": "2021-08-25T17:44:22.367Z"
   },
   {
    "duration": -329,
    "start_time": "2021-08-25T17:44:22.373Z"
   },
   {
    "duration": 1585,
    "start_time": "2021-08-25T17:48:13.956Z"
   },
   {
    "duration": 642,
    "start_time": "2021-08-25T17:48:15.544Z"
   },
   {
    "duration": 414,
    "start_time": "2021-08-25T17:48:16.189Z"
   },
   {
    "duration": 15,
    "start_time": "2021-08-25T17:48:16.606Z"
   },
   {
    "duration": 137,
    "start_time": "2021-08-25T17:48:16.623Z"
   },
   {
    "duration": 351,
    "start_time": "2021-08-25T17:48:16.762Z"
   },
   {
    "duration": 10,
    "start_time": "2021-08-25T17:48:17.115Z"
   },
   {
    "duration": 204,
    "start_time": "2021-08-25T17:48:17.129Z"
   },
   {
    "duration": 8,
    "start_time": "2021-08-25T17:48:17.335Z"
   },
   {
    "duration": 45,
    "start_time": "2021-08-25T17:48:17.345Z"
   },
   {
    "duration": 790,
    "start_time": "2021-08-25T17:48:17.393Z"
   },
   {
    "duration": 32,
    "start_time": "2021-08-25T17:48:18.186Z"
   },
   {
    "duration": 21,
    "start_time": "2021-08-25T17:48:18.221Z"
   },
   {
    "duration": 9,
    "start_time": "2021-08-25T17:48:18.245Z"
   },
   {
    "duration": 2664,
    "start_time": "2021-08-25T17:48:18.287Z"
   },
   {
    "duration": 32,
    "start_time": "2021-08-25T17:48:20.953Z"
   },
   {
    "duration": 15,
    "start_time": "2021-08-25T17:48:20.988Z"
   },
   {
    "duration": 276,
    "start_time": "2021-08-25T17:48:57.554Z"
   },
   {
    "duration": 260,
    "start_time": "2021-08-25T17:49:08.273Z"
   },
   {
    "duration": 1476,
    "start_time": "2021-08-25T17:57:10.682Z"
   },
   {
    "duration": 602,
    "start_time": "2021-08-25T17:57:12.161Z"
   },
   {
    "duration": 297,
    "start_time": "2021-08-25T17:57:12.766Z"
   },
   {
    "duration": 24,
    "start_time": "2021-08-25T17:57:13.066Z"
   },
   {
    "duration": 107,
    "start_time": "2021-08-25T17:57:13.092Z"
   },
   {
    "duration": 285,
    "start_time": "2021-08-25T17:57:13.202Z"
   },
   {
    "duration": 10,
    "start_time": "2021-08-25T17:57:13.490Z"
   },
   {
    "duration": 201,
    "start_time": "2021-08-25T17:57:13.506Z"
   },
   {
    "duration": 10,
    "start_time": "2021-08-25T17:57:13.711Z"
   },
   {
    "duration": 68,
    "start_time": "2021-08-25T17:57:13.724Z"
   },
   {
    "duration": 769,
    "start_time": "2021-08-25T17:57:13.794Z"
   },
   {
    "duration": 46,
    "start_time": "2021-08-25T17:57:14.566Z"
   },
   {
    "duration": 21,
    "start_time": "2021-08-25T17:57:14.615Z"
   },
   {
    "duration": 6,
    "start_time": "2021-08-25T17:57:14.638Z"
   },
   {
    "duration": 2810,
    "start_time": "2021-08-25T17:57:14.647Z"
   },
   {
    "duration": 30,
    "start_time": "2021-08-25T17:57:17.460Z"
   },
   {
    "duration": 14,
    "start_time": "2021-08-25T17:57:17.493Z"
   },
   {
    "duration": 1564,
    "start_time": "2021-08-25T17:57:56.721Z"
   },
   {
    "duration": 661,
    "start_time": "2021-08-25T17:57:58.288Z"
   },
   {
    "duration": 377,
    "start_time": "2021-08-25T17:57:58.953Z"
   },
   {
    "duration": 14,
    "start_time": "2021-08-25T17:57:59.333Z"
   },
   {
    "duration": 118,
    "start_time": "2021-08-25T17:57:59.350Z"
   },
   {
    "duration": 315,
    "start_time": "2021-08-25T17:57:59.471Z"
   },
   {
    "duration": 10,
    "start_time": "2021-08-25T17:57:59.789Z"
   },
   {
    "duration": 212,
    "start_time": "2021-08-25T17:57:59.803Z"
   },
   {
    "duration": 8,
    "start_time": "2021-08-25T17:58:00.018Z"
   },
   {
    "duration": 35,
    "start_time": "2021-08-25T17:58:00.028Z"
   },
   {
    "duration": 816,
    "start_time": "2021-08-25T17:58:00.085Z"
   },
   {
    "duration": 39,
    "start_time": "2021-08-25T17:58:00.905Z"
   },
   {
    "duration": 43,
    "start_time": "2021-08-25T17:58:00.947Z"
   },
   {
    "duration": 10,
    "start_time": "2021-08-25T17:58:00.993Z"
   },
   {
    "duration": 2771,
    "start_time": "2021-08-25T17:58:01.006Z"
   },
   {
    "duration": 28,
    "start_time": "2021-08-25T17:58:03.780Z"
   },
   {
    "duration": 17,
    "start_time": "2021-08-25T17:58:03.812Z"
   },
   {
    "duration": 1554,
    "start_time": "2021-08-25T18:00:56.028Z"
   },
   {
    "duration": 641,
    "start_time": "2021-08-25T18:00:57.586Z"
   },
   {
    "duration": 353,
    "start_time": "2021-08-25T18:00:58.231Z"
   },
   {
    "duration": 15,
    "start_time": "2021-08-25T18:00:58.587Z"
   },
   {
    "duration": 121,
    "start_time": "2021-08-25T18:00:58.604Z"
   },
   {
    "duration": 295,
    "start_time": "2021-08-25T18:00:58.728Z"
   },
   {
    "duration": 13,
    "start_time": "2021-08-25T18:00:59.026Z"
   },
   {
    "duration": 210,
    "start_time": "2021-08-25T18:00:59.044Z"
   },
   {
    "duration": 28,
    "start_time": "2021-08-25T18:00:59.258Z"
   },
   {
    "duration": 51,
    "start_time": "2021-08-25T18:00:59.289Z"
   },
   {
    "duration": 842,
    "start_time": "2021-08-25T18:00:59.343Z"
   },
   {
    "duration": 36,
    "start_time": "2021-08-25T18:01:00.189Z"
   },
   {
    "duration": 32,
    "start_time": "2021-08-25T18:01:00.229Z"
   },
   {
    "duration": 29,
    "start_time": "2021-08-25T18:01:00.264Z"
   },
   {
    "duration": 2753,
    "start_time": "2021-08-25T18:01:00.296Z"
   },
   {
    "duration": 22,
    "start_time": "2021-08-25T18:01:03.051Z"
   },
   {
    "duration": 38,
    "start_time": "2021-08-25T18:01:03.076Z"
   },
   {
    "duration": 1638,
    "start_time": "2021-08-25T18:01:38.750Z"
   },
   {
    "duration": 650,
    "start_time": "2021-08-25T18:01:40.391Z"
   },
   {
    "duration": 347,
    "start_time": "2021-08-25T18:01:41.044Z"
   },
   {
    "duration": 15,
    "start_time": "2021-08-25T18:01:41.394Z"
   },
   {
    "duration": 128,
    "start_time": "2021-08-25T18:01:41.412Z"
   },
   {
    "duration": 299,
    "start_time": "2021-08-25T18:01:41.543Z"
   },
   {
    "duration": 12,
    "start_time": "2021-08-25T18:01:41.845Z"
   },
   {
    "duration": 210,
    "start_time": "2021-08-25T18:01:41.861Z"
   },
   {
    "duration": 16,
    "start_time": "2021-08-25T18:01:42.074Z"
   },
   {
    "duration": 33,
    "start_time": "2021-08-25T18:01:42.093Z"
   },
   {
    "duration": 849,
    "start_time": "2021-08-25T18:01:42.129Z"
   },
   {
    "duration": 38,
    "start_time": "2021-08-25T18:01:42.985Z"
   },
   {
    "duration": 22,
    "start_time": "2021-08-25T18:01:43.026Z"
   },
   {
    "duration": 7,
    "start_time": "2021-08-25T18:01:43.085Z"
   },
   {
    "duration": 2897,
    "start_time": "2021-08-25T18:01:43.095Z"
   },
   {
    "duration": 22,
    "start_time": "2021-08-25T18:01:45.995Z"
   },
   {
    "duration": 16,
    "start_time": "2021-08-25T18:01:46.020Z"
   },
   {
    "duration": 1518,
    "start_time": "2021-08-25T18:08:27.657Z"
   },
   {
    "duration": 620,
    "start_time": "2021-08-25T18:08:29.178Z"
   },
   {
    "duration": 323,
    "start_time": "2021-08-25T18:08:29.801Z"
   },
   {
    "duration": 14,
    "start_time": "2021-08-25T18:08:30.127Z"
   },
   {
    "duration": 127,
    "start_time": "2021-08-25T18:08:30.143Z"
   },
   {
    "duration": 297,
    "start_time": "2021-08-25T18:08:30.273Z"
   },
   {
    "duration": 19,
    "start_time": "2021-08-25T18:08:30.573Z"
   },
   {
    "duration": 202,
    "start_time": "2021-08-25T18:08:30.596Z"
   },
   {
    "duration": 8,
    "start_time": "2021-08-25T18:08:30.801Z"
   },
   {
    "duration": 47,
    "start_time": "2021-08-25T18:08:30.811Z"
   },
   {
    "duration": 746,
    "start_time": "2021-08-25T18:08:30.861Z"
   },
   {
    "duration": 33,
    "start_time": "2021-08-25T18:08:31.611Z"
   },
   {
    "duration": 48,
    "start_time": "2021-08-25T18:08:31.646Z"
   },
   {
    "duration": 7,
    "start_time": "2021-08-25T18:08:31.697Z"
   },
   {
    "duration": 2763,
    "start_time": "2021-08-25T18:08:31.706Z"
   },
   {
    "duration": 22,
    "start_time": "2021-08-25T18:08:34.471Z"
   },
   {
    "duration": 14,
    "start_time": "2021-08-25T18:08:34.496Z"
   },
   {
    "duration": 1488,
    "start_time": "2021-08-25T18:12:55.963Z"
   },
   {
    "duration": 597,
    "start_time": "2021-08-25T18:12:57.454Z"
   },
   {
    "duration": 296,
    "start_time": "2021-08-25T18:12:58.054Z"
   },
   {
    "duration": 13,
    "start_time": "2021-08-25T18:12:58.353Z"
   },
   {
    "duration": 118,
    "start_time": "2021-08-25T18:12:58.368Z"
   },
   {
    "duration": 272,
    "start_time": "2021-08-25T18:12:58.488Z"
   },
   {
    "duration": 25,
    "start_time": "2021-08-25T18:12:58.762Z"
   },
   {
    "duration": 199,
    "start_time": "2021-08-25T18:12:58.791Z"
   },
   {
    "duration": 9,
    "start_time": "2021-08-25T18:12:58.993Z"
   },
   {
    "duration": 35,
    "start_time": "2021-08-25T18:12:59.005Z"
   },
   {
    "duration": 809,
    "start_time": "2021-08-25T18:12:59.042Z"
   },
   {
    "duration": 47,
    "start_time": "2021-08-25T18:12:59.854Z"
   },
   {
    "duration": 24,
    "start_time": "2021-08-25T18:12:59.904Z"
   },
   {
    "duration": 6,
    "start_time": "2021-08-25T18:12:59.930Z"
   },
   {
    "duration": 2615,
    "start_time": "2021-08-25T18:12:59.938Z"
   },
   {
    "duration": 30,
    "start_time": "2021-08-25T18:13:02.555Z"
   },
   {
    "duration": 17,
    "start_time": "2021-08-25T18:13:02.588Z"
   },
   {
    "duration": 1594,
    "start_time": "2021-08-25T18:15:47.184Z"
   },
   {
    "duration": 653,
    "start_time": "2021-08-25T18:15:48.781Z"
   },
   {
    "duration": 322,
    "start_time": "2021-08-25T18:15:49.438Z"
   },
   {
    "duration": 22,
    "start_time": "2021-08-25T18:15:49.763Z"
   },
   {
    "duration": 106,
    "start_time": "2021-08-25T18:15:49.788Z"
   },
   {
    "duration": 309,
    "start_time": "2021-08-25T18:15:49.897Z"
   },
   {
    "duration": 12,
    "start_time": "2021-08-25T18:15:50.209Z"
   },
   {
    "duration": 210,
    "start_time": "2021-08-25T18:15:50.226Z"
   },
   {
    "duration": 8,
    "start_time": "2021-08-25T18:15:50.439Z"
   },
   {
    "duration": 46,
    "start_time": "2021-08-25T18:15:50.449Z"
   },
   {
    "duration": 1756,
    "start_time": "2021-08-25T18:15:50.498Z"
   },
   {
    "duration": 47,
    "start_time": "2021-08-25T18:15:52.256Z"
   },
   {
    "duration": 22,
    "start_time": "2021-08-25T18:15:52.305Z"
   },
   {
    "duration": 7,
    "start_time": "2021-08-25T18:15:52.329Z"
   },
   {
    "duration": 2635,
    "start_time": "2021-08-25T18:15:52.338Z"
   },
   {
    "duration": 30,
    "start_time": "2021-08-25T18:15:54.976Z"
   },
   {
    "duration": 17,
    "start_time": "2021-08-25T18:15:55.009Z"
   },
   {
    "duration": 1672,
    "start_time": "2021-08-25T20:21:28.196Z"
   },
   {
    "duration": 662,
    "start_time": "2021-08-25T20:21:29.871Z"
   },
   {
    "duration": 340,
    "start_time": "2021-08-25T20:21:30.536Z"
   },
   {
    "duration": 15,
    "start_time": "2021-08-25T20:21:30.879Z"
   },
   {
    "duration": 119,
    "start_time": "2021-08-25T20:21:30.897Z"
   },
   {
    "duration": 306,
    "start_time": "2021-08-25T20:21:31.019Z"
   },
   {
    "duration": 12,
    "start_time": "2021-08-25T20:21:31.327Z"
   },
   {
    "duration": 211,
    "start_time": "2021-08-25T20:21:31.342Z"
   },
   {
    "duration": 8,
    "start_time": "2021-08-25T20:21:31.556Z"
   },
   {
    "duration": 51,
    "start_time": "2021-08-25T20:21:31.567Z"
   },
   {
    "duration": 848,
    "start_time": "2021-08-25T20:21:31.620Z"
   },
   {
    "duration": 48,
    "start_time": "2021-08-25T20:21:32.470Z"
   },
   {
    "duration": 28,
    "start_time": "2021-08-25T20:21:32.521Z"
   },
   {
    "duration": 6,
    "start_time": "2021-08-25T20:21:32.552Z"
   },
   {
    "duration": 3146,
    "start_time": "2021-08-25T20:21:32.561Z"
   },
   {
    "duration": 22,
    "start_time": "2021-08-25T20:21:35.716Z"
   },
   {
    "duration": 15,
    "start_time": "2021-08-25T20:21:35.740Z"
   },
   {
    "duration": 1390,
    "start_time": "2021-08-26T07:28:03.943Z"
   },
   {
    "duration": 541,
    "start_time": "2021-08-26T07:28:05.336Z"
   },
   {
    "duration": 310,
    "start_time": "2021-08-26T07:28:05.885Z"
   },
   {
    "duration": 15,
    "start_time": "2021-08-26T07:28:06.199Z"
   },
   {
    "duration": 114,
    "start_time": "2021-08-26T07:28:06.216Z"
   },
   {
    "duration": 273,
    "start_time": "2021-08-26T07:28:06.332Z"
   },
   {
    "duration": 11,
    "start_time": "2021-08-26T07:28:06.608Z"
   },
   {
    "duration": 188,
    "start_time": "2021-08-26T07:28:06.624Z"
   },
   {
    "duration": 10,
    "start_time": "2021-08-26T07:28:06.815Z"
   },
   {
    "duration": 39,
    "start_time": "2021-08-26T07:28:06.827Z"
   },
   {
    "duration": 645,
    "start_time": "2021-08-26T07:28:06.882Z"
   },
   {
    "duration": 34,
    "start_time": "2021-08-26T07:28:07.530Z"
   },
   {
    "duration": 20,
    "start_time": "2021-08-26T07:28:07.583Z"
   },
   {
    "duration": 9,
    "start_time": "2021-08-26T07:28:07.606Z"
   },
   {
    "duration": 2509,
    "start_time": "2021-08-26T07:28:07.617Z"
   },
   {
    "duration": 21,
    "start_time": "2021-08-26T07:28:10.129Z"
   },
   {
    "duration": 35,
    "start_time": "2021-08-26T07:28:10.153Z"
   },
   {
    "duration": 256,
    "start_time": "2021-08-26T07:29:01.758Z"
   },
   {
    "duration": 261,
    "start_time": "2021-08-26T07:29:17.572Z"
   },
   {
    "duration": 1615,
    "start_time": "2021-08-26T07:35:34.447Z"
   },
   {
    "duration": 567,
    "start_time": "2021-08-26T07:35:36.065Z"
   },
   {
    "duration": 305,
    "start_time": "2021-08-26T07:35:36.636Z"
   },
   {
    "duration": 16,
    "start_time": "2021-08-26T07:35:36.944Z"
   },
   {
    "duration": 120,
    "start_time": "2021-08-26T07:35:36.963Z"
   },
   {
    "duration": 282,
    "start_time": "2021-08-26T07:35:37.085Z"
   },
   {
    "duration": 19,
    "start_time": "2021-08-26T07:35:37.370Z"
   },
   {
    "duration": 185,
    "start_time": "2021-08-26T07:35:37.392Z"
   },
   {
    "duration": 8,
    "start_time": "2021-08-26T07:35:37.580Z"
   },
   {
    "duration": 29,
    "start_time": "2021-08-26T07:35:37.590Z"
   },
   {
    "duration": 1587,
    "start_time": "2021-08-26T07:35:37.621Z"
   },
   {
    "duration": 31,
    "start_time": "2021-08-26T07:35:39.211Z"
   },
   {
    "duration": 40,
    "start_time": "2021-08-26T07:35:39.245Z"
   },
   {
    "duration": 6,
    "start_time": "2021-08-26T07:35:39.288Z"
   },
   {
    "duration": 2578,
    "start_time": "2021-08-26T07:35:39.296Z"
   },
   {
    "duration": 23,
    "start_time": "2021-08-26T07:35:41.876Z"
   },
   {
    "duration": 14,
    "start_time": "2021-08-26T07:35:41.902Z"
   },
   {
    "duration": 1428,
    "start_time": "2021-08-26T07:42:02.480Z"
   },
   {
    "duration": 553,
    "start_time": "2021-08-26T07:42:03.911Z"
   },
   {
    "duration": 289,
    "start_time": "2021-08-26T07:42:04.468Z"
   },
   {
    "duration": 28,
    "start_time": "2021-08-26T07:42:04.760Z"
   },
   {
    "duration": 108,
    "start_time": "2021-08-26T07:42:04.790Z"
   },
   {
    "duration": 282,
    "start_time": "2021-08-26T07:42:04.900Z"
   },
   {
    "duration": 10,
    "start_time": "2021-08-26T07:42:05.184Z"
   },
   {
    "duration": 198,
    "start_time": "2021-08-26T07:42:05.198Z"
   },
   {
    "duration": 7,
    "start_time": "2021-08-26T07:42:05.399Z"
   },
   {
    "duration": 81,
    "start_time": "2021-08-26T07:42:05.408Z"
   },
   {
    "duration": 671,
    "start_time": "2021-08-26T07:42:05.491Z"
   },
   {
    "duration": 40,
    "start_time": "2021-08-26T07:42:06.165Z"
   },
   {
    "duration": 17,
    "start_time": "2021-08-26T07:42:06.207Z"
   },
   {
    "duration": 6,
    "start_time": "2021-08-26T07:42:06.227Z"
   },
   {
    "duration": 2622,
    "start_time": "2021-08-26T07:42:06.236Z"
   },
   {
    "duration": 27,
    "start_time": "2021-08-26T07:42:08.861Z"
   },
   {
    "duration": 13,
    "start_time": "2021-08-26T07:42:08.891Z"
   },
   {
    "duration": 1457,
    "start_time": "2021-08-26T11:51:12.054Z"
   },
   {
    "duration": 620,
    "start_time": "2021-08-26T11:51:13.514Z"
   },
   {
    "duration": 312,
    "start_time": "2021-08-26T11:51:14.138Z"
   },
   {
    "duration": 16,
    "start_time": "2021-08-26T11:51:14.453Z"
   },
   {
    "duration": 122,
    "start_time": "2021-08-26T11:51:14.472Z"
   },
   {
    "duration": 292,
    "start_time": "2021-08-26T11:51:14.597Z"
   },
   {
    "duration": 26,
    "start_time": "2021-08-26T11:51:14.892Z"
   },
   {
    "duration": 201,
    "start_time": "2021-08-26T11:51:14.922Z"
   },
   {
    "duration": 8,
    "start_time": "2021-08-26T11:51:15.126Z"
   },
   {
    "duration": 32,
    "start_time": "2021-08-26T11:51:15.137Z"
   },
   {
    "duration": 989,
    "start_time": "2021-08-26T11:51:15.172Z"
   },
   {
    "duration": 34,
    "start_time": "2021-08-26T11:51:16.165Z"
   },
   {
    "duration": 32,
    "start_time": "2021-08-26T11:51:16.202Z"
   },
   {
    "duration": 6,
    "start_time": "2021-08-26T11:51:16.237Z"
   },
   {
    "duration": 2784,
    "start_time": "2021-08-26T11:51:16.247Z"
   },
   {
    "duration": 23,
    "start_time": "2021-08-26T11:51:19.034Z"
   },
   {
    "duration": 17,
    "start_time": "2021-08-26T11:51:19.060Z"
   },
   {
    "duration": 6,
    "start_time": "2021-08-26T11:54:38.557Z"
   },
   {
    "duration": 1221,
    "start_time": "2022-06-24T19:45:36.721Z"
   },
   {
    "duration": 1122,
    "start_time": "2022-06-24T19:45:37.944Z"
   },
   {
    "duration": 349,
    "start_time": "2022-06-24T19:45:39.068Z"
   },
   {
    "duration": 16,
    "start_time": "2022-06-24T19:45:39.419Z"
   },
   {
    "duration": 96,
    "start_time": "2022-06-24T19:45:39.437Z"
   },
   {
    "duration": 218,
    "start_time": "2022-06-24T19:45:39.535Z"
   },
   {
    "duration": 9,
    "start_time": "2022-06-24T19:45:39.755Z"
   },
   {
    "duration": 98,
    "start_time": "2022-06-24T19:45:39.766Z"
   },
   {
    "duration": 17,
    "start_time": "2022-06-24T19:45:39.865Z"
   },
   {
    "duration": 37,
    "start_time": "2022-06-24T19:45:39.885Z"
   },
   {
    "duration": 53,
    "start_time": "2022-06-24T19:45:39.924Z"
   },
   {
    "duration": 27,
    "start_time": "2022-06-24T19:45:39.979Z"
   },
   {
    "duration": 21,
    "start_time": "2022-06-24T19:45:40.025Z"
   },
   {
    "duration": 7,
    "start_time": "2022-06-24T19:45:40.049Z"
   },
   {
    "duration": 1334,
    "start_time": "2022-06-24T19:45:40.060Z"
   },
   {
    "duration": 13,
    "start_time": "2022-06-24T19:45:41.396Z"
   },
   {
    "duration": 30,
    "start_time": "2022-06-24T19:45:41.411Z"
   },
   {
    "duration": 1150,
    "start_time": "2022-06-27T08:39:30.421Z"
   },
   {
    "duration": 722,
    "start_time": "2022-06-27T08:39:31.575Z"
   },
   {
    "duration": 228,
    "start_time": "2022-06-27T08:39:32.298Z"
   },
   {
    "duration": 9,
    "start_time": "2022-06-27T08:39:32.528Z"
   },
   {
    "duration": 129,
    "start_time": "2022-06-27T08:39:32.539Z"
   },
   {
    "duration": 192,
    "start_time": "2022-06-27T08:39:32.669Z"
   },
   {
    "duration": 8,
    "start_time": "2022-06-27T08:39:32.862Z"
   },
   {
    "duration": 84,
    "start_time": "2022-06-27T08:39:32.871Z"
   },
   {
    "duration": 4,
    "start_time": "2022-06-27T08:39:32.957Z"
   },
   {
    "duration": 47,
    "start_time": "2022-06-27T08:39:32.964Z"
   },
   {
    "duration": 53,
    "start_time": "2022-06-27T08:39:33.013Z"
   },
   {
    "duration": 20,
    "start_time": "2022-06-27T08:39:33.068Z"
   },
   {
    "duration": 43,
    "start_time": "2022-06-27T08:39:33.090Z"
   },
   {
    "duration": 34,
    "start_time": "2022-06-27T08:39:33.136Z"
   },
   {
    "duration": 1301,
    "start_time": "2022-06-27T08:39:33.172Z"
   },
   {
    "duration": 10,
    "start_time": "2022-06-27T08:39:34.474Z"
   },
   {
    "duration": 47,
    "start_time": "2022-06-27T08:39:34.486Z"
   },
   {
    "duration": 1131,
    "start_time": "2022-06-27T10:40:59.867Z"
   },
   {
    "duration": 521,
    "start_time": "2022-06-27T10:41:01.000Z"
   },
   {
    "duration": 289,
    "start_time": "2022-06-27T10:41:01.524Z"
   },
   {
    "duration": 16,
    "start_time": "2022-06-27T10:41:01.816Z"
   },
   {
    "duration": 79,
    "start_time": "2022-06-27T10:41:01.834Z"
   },
   {
    "duration": 201,
    "start_time": "2022-06-27T10:41:01.927Z"
   },
   {
    "duration": 8,
    "start_time": "2022-06-27T10:41:02.129Z"
   },
   {
    "duration": 90,
    "start_time": "2022-06-27T10:41:02.138Z"
   },
   {
    "duration": 5,
    "start_time": "2022-06-27T10:41:02.230Z"
   },
   {
    "duration": 32,
    "start_time": "2022-06-27T10:41:02.237Z"
   },
   {
    "duration": 58,
    "start_time": "2022-06-27T10:41:02.271Z"
   },
   {
    "duration": 29,
    "start_time": "2022-06-27T10:41:02.330Z"
   },
   {
    "duration": 38,
    "start_time": "2022-06-27T10:41:02.361Z"
   },
   {
    "duration": 5,
    "start_time": "2022-06-27T10:41:02.400Z"
   },
   {
    "duration": 1389,
    "start_time": "2022-06-27T10:41:02.407Z"
   },
   {
    "duration": 11,
    "start_time": "2022-06-27T10:41:03.799Z"
   },
   {
    "duration": 24,
    "start_time": "2022-06-27T10:41:03.812Z"
   }
  ],
  "kernelspec": {
   "display_name": "Python 3 (ipykernel)",
   "language": "python",
   "name": "python3"
  },
  "language_info": {
   "codemirror_mode": {
    "name": "ipython",
    "version": 3
   },
   "file_extension": ".py",
   "mimetype": "text/x-python",
   "name": "python",
   "nbconvert_exporter": "python",
   "pygments_lexer": "ipython3",
   "version": "3.9.7"
  },
  "toc": {
   "base_numbering": 1,
   "nav_menu": {
    "height": "251px",
    "width": "312px"
   },
   "number_sections": true,
   "sideBar": true,
   "skip_h1_title": true,
   "title_cell": "Содержание",
   "title_sidebar": "Contents",
   "toc_cell": true,
   "toc_position": {
    "height": "calc(100% - 180px)",
    "left": "10px",
    "top": "150px",
    "width": "258.391px"
   },
   "toc_section_display": true,
   "toc_window_display": false
  }
 },
 "nbformat": 4,
 "nbformat_minor": 2
}
