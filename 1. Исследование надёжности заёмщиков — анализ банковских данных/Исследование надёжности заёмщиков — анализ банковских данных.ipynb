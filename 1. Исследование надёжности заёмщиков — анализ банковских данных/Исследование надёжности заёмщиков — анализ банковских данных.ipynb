{
 "cells": [
  {
   "cell_type": "markdown",
   "metadata": {},
   "source": [
    "# Исследование надёжности заёмщиков\n",
    "\n",
    "Заказчик — кредитный отдел банка. Нужно разобраться, влияет ли семейное положение и количество детей клиента на факт погашения кредита в срок. Входные данные от банка — статистика о платёжеспособности клиентов.\n",
    "\n",
    "Результаты исследования будут учтены при построении модели кредитного скоринга — специальной системы, которая оценивает способность потенциального заёмщика вернуть кредит банку."
   ]
  },
  {
   "cell_type": "markdown",
   "metadata": {},
   "source": [
    "## Шаг 1. Откроем файл с данными и изучим общую информацию"
   ]
  },
  {
   "cell_type": "markdown",
   "metadata": {},
   "source": [
    "Импортируем библиотеку Pandas. Прочитаем файл data.csv и сохраним его в переменной data"
   ]
  },
  {
   "cell_type": "code",
   "execution_count": 1,
   "metadata": {},
   "outputs": [],
   "source": [
    "import pandas as pd\n",
    "data = pd.read_csv('/datasets/data.csv')"
   ]
  },
  {
   "cell_type": "markdown",
   "metadata": {},
   "source": [
    "Получим общую информацию о данных таблицы data"
   ]
  },
  {
   "cell_type": "code",
   "execution_count": 2,
   "metadata": {},
   "outputs": [
    {
     "name": "stdout",
     "output_type": "stream",
     "text": [
      "<class 'pandas.core.frame.DataFrame'>\n",
      "RangeIndex: 21525 entries, 0 to 21524\n",
      "Data columns (total 12 columns):\n",
      " #   Column            Non-Null Count  Dtype  \n",
      "---  ------            --------------  -----  \n",
      " 0   children          21525 non-null  int64  \n",
      " 1   days_employed     19351 non-null  float64\n",
      " 2   dob_years         21525 non-null  int64  \n",
      " 3   education         21525 non-null  object \n",
      " 4   education_id      21525 non-null  int64  \n",
      " 5   family_status     21525 non-null  object \n",
      " 6   family_status_id  21525 non-null  int64  \n",
      " 7   gender            21525 non-null  object \n",
      " 8   income_type       21525 non-null  object \n",
      " 9   debt              21525 non-null  int64  \n",
      " 10  total_income      19351 non-null  float64\n",
      " 11  purpose           21525 non-null  object \n",
      "dtypes: float64(2), int64(5), object(5)\n",
      "memory usage: 2.0+ MB\n"
     ]
    }
   ],
   "source": [
    "data.info()"
   ]
  },
  {
   "cell_type": "markdown",
   "metadata": {},
   "source": [
    "Получим первые 15 строк таблицы"
   ]
  },
  {
   "cell_type": "code",
   "execution_count": 3,
   "metadata": {
    "scrolled": false
   },
   "outputs": [
    {
     "data": {
      "text/html": [
       "<div>\n",
       "<style scoped>\n",
       "    .dataframe tbody tr th:only-of-type {\n",
       "        vertical-align: middle;\n",
       "    }\n",
       "\n",
       "    .dataframe tbody tr th {\n",
       "        vertical-align: top;\n",
       "    }\n",
       "\n",
       "    .dataframe thead th {\n",
       "        text-align: right;\n",
       "    }\n",
       "</style>\n",
       "<table border=\"1\" class=\"dataframe\">\n",
       "  <thead>\n",
       "    <tr style=\"text-align: right;\">\n",
       "      <th></th>\n",
       "      <th>children</th>\n",
       "      <th>days_employed</th>\n",
       "      <th>dob_years</th>\n",
       "      <th>education</th>\n",
       "      <th>education_id</th>\n",
       "      <th>family_status</th>\n",
       "      <th>family_status_id</th>\n",
       "      <th>gender</th>\n",
       "      <th>income_type</th>\n",
       "      <th>debt</th>\n",
       "      <th>total_income</th>\n",
       "      <th>purpose</th>\n",
       "    </tr>\n",
       "  </thead>\n",
       "  <tbody>\n",
       "    <tr>\n",
       "      <th>0</th>\n",
       "      <td>1</td>\n",
       "      <td>-8437.673028</td>\n",
       "      <td>42</td>\n",
       "      <td>высшее</td>\n",
       "      <td>0</td>\n",
       "      <td>женат / замужем</td>\n",
       "      <td>0</td>\n",
       "      <td>F</td>\n",
       "      <td>сотрудник</td>\n",
       "      <td>0</td>\n",
       "      <td>253875.639453</td>\n",
       "      <td>покупка жилья</td>\n",
       "    </tr>\n",
       "    <tr>\n",
       "      <th>1</th>\n",
       "      <td>1</td>\n",
       "      <td>-4024.803754</td>\n",
       "      <td>36</td>\n",
       "      <td>среднее</td>\n",
       "      <td>1</td>\n",
       "      <td>женат / замужем</td>\n",
       "      <td>0</td>\n",
       "      <td>F</td>\n",
       "      <td>сотрудник</td>\n",
       "      <td>0</td>\n",
       "      <td>112080.014102</td>\n",
       "      <td>приобретение автомобиля</td>\n",
       "    </tr>\n",
       "    <tr>\n",
       "      <th>2</th>\n",
       "      <td>0</td>\n",
       "      <td>-5623.422610</td>\n",
       "      <td>33</td>\n",
       "      <td>Среднее</td>\n",
       "      <td>1</td>\n",
       "      <td>женат / замужем</td>\n",
       "      <td>0</td>\n",
       "      <td>M</td>\n",
       "      <td>сотрудник</td>\n",
       "      <td>0</td>\n",
       "      <td>145885.952297</td>\n",
       "      <td>покупка жилья</td>\n",
       "    </tr>\n",
       "    <tr>\n",
       "      <th>3</th>\n",
       "      <td>3</td>\n",
       "      <td>-4124.747207</td>\n",
       "      <td>32</td>\n",
       "      <td>среднее</td>\n",
       "      <td>1</td>\n",
       "      <td>женат / замужем</td>\n",
       "      <td>0</td>\n",
       "      <td>M</td>\n",
       "      <td>сотрудник</td>\n",
       "      <td>0</td>\n",
       "      <td>267628.550329</td>\n",
       "      <td>дополнительное образование</td>\n",
       "    </tr>\n",
       "    <tr>\n",
       "      <th>4</th>\n",
       "      <td>0</td>\n",
       "      <td>340266.072047</td>\n",
       "      <td>53</td>\n",
       "      <td>среднее</td>\n",
       "      <td>1</td>\n",
       "      <td>гражданский брак</td>\n",
       "      <td>1</td>\n",
       "      <td>F</td>\n",
       "      <td>пенсионер</td>\n",
       "      <td>0</td>\n",
       "      <td>158616.077870</td>\n",
       "      <td>сыграть свадьбу</td>\n",
       "    </tr>\n",
       "    <tr>\n",
       "      <th>5</th>\n",
       "      <td>0</td>\n",
       "      <td>-926.185831</td>\n",
       "      <td>27</td>\n",
       "      <td>высшее</td>\n",
       "      <td>0</td>\n",
       "      <td>гражданский брак</td>\n",
       "      <td>1</td>\n",
       "      <td>M</td>\n",
       "      <td>компаньон</td>\n",
       "      <td>0</td>\n",
       "      <td>255763.565419</td>\n",
       "      <td>покупка жилья</td>\n",
       "    </tr>\n",
       "    <tr>\n",
       "      <th>6</th>\n",
       "      <td>0</td>\n",
       "      <td>-2879.202052</td>\n",
       "      <td>43</td>\n",
       "      <td>высшее</td>\n",
       "      <td>0</td>\n",
       "      <td>женат / замужем</td>\n",
       "      <td>0</td>\n",
       "      <td>F</td>\n",
       "      <td>компаньон</td>\n",
       "      <td>0</td>\n",
       "      <td>240525.971920</td>\n",
       "      <td>операции с жильем</td>\n",
       "    </tr>\n",
       "    <tr>\n",
       "      <th>7</th>\n",
       "      <td>0</td>\n",
       "      <td>-152.779569</td>\n",
       "      <td>50</td>\n",
       "      <td>СРЕДНЕЕ</td>\n",
       "      <td>1</td>\n",
       "      <td>женат / замужем</td>\n",
       "      <td>0</td>\n",
       "      <td>M</td>\n",
       "      <td>сотрудник</td>\n",
       "      <td>0</td>\n",
       "      <td>135823.934197</td>\n",
       "      <td>образование</td>\n",
       "    </tr>\n",
       "    <tr>\n",
       "      <th>8</th>\n",
       "      <td>2</td>\n",
       "      <td>-6929.865299</td>\n",
       "      <td>35</td>\n",
       "      <td>ВЫСШЕЕ</td>\n",
       "      <td>0</td>\n",
       "      <td>гражданский брак</td>\n",
       "      <td>1</td>\n",
       "      <td>F</td>\n",
       "      <td>сотрудник</td>\n",
       "      <td>0</td>\n",
       "      <td>95856.832424</td>\n",
       "      <td>на проведение свадьбы</td>\n",
       "    </tr>\n",
       "    <tr>\n",
       "      <th>9</th>\n",
       "      <td>0</td>\n",
       "      <td>-2188.756445</td>\n",
       "      <td>41</td>\n",
       "      <td>среднее</td>\n",
       "      <td>1</td>\n",
       "      <td>женат / замужем</td>\n",
       "      <td>0</td>\n",
       "      <td>M</td>\n",
       "      <td>сотрудник</td>\n",
       "      <td>0</td>\n",
       "      <td>144425.938277</td>\n",
       "      <td>покупка жилья для семьи</td>\n",
       "    </tr>\n",
       "    <tr>\n",
       "      <th>10</th>\n",
       "      <td>2</td>\n",
       "      <td>-4171.483647</td>\n",
       "      <td>36</td>\n",
       "      <td>высшее</td>\n",
       "      <td>0</td>\n",
       "      <td>женат / замужем</td>\n",
       "      <td>0</td>\n",
       "      <td>M</td>\n",
       "      <td>компаньон</td>\n",
       "      <td>0</td>\n",
       "      <td>113943.491460</td>\n",
       "      <td>покупка недвижимости</td>\n",
       "    </tr>\n",
       "    <tr>\n",
       "      <th>11</th>\n",
       "      <td>0</td>\n",
       "      <td>-792.701887</td>\n",
       "      <td>40</td>\n",
       "      <td>среднее</td>\n",
       "      <td>1</td>\n",
       "      <td>женат / замужем</td>\n",
       "      <td>0</td>\n",
       "      <td>F</td>\n",
       "      <td>сотрудник</td>\n",
       "      <td>0</td>\n",
       "      <td>77069.234271</td>\n",
       "      <td>покупка коммерческой недвижимости</td>\n",
       "    </tr>\n",
       "    <tr>\n",
       "      <th>12</th>\n",
       "      <td>0</td>\n",
       "      <td>NaN</td>\n",
       "      <td>65</td>\n",
       "      <td>среднее</td>\n",
       "      <td>1</td>\n",
       "      <td>гражданский брак</td>\n",
       "      <td>1</td>\n",
       "      <td>M</td>\n",
       "      <td>пенсионер</td>\n",
       "      <td>0</td>\n",
       "      <td>NaN</td>\n",
       "      <td>сыграть свадьбу</td>\n",
       "    </tr>\n",
       "    <tr>\n",
       "      <th>13</th>\n",
       "      <td>0</td>\n",
       "      <td>-1846.641941</td>\n",
       "      <td>54</td>\n",
       "      <td>неоконченное высшее</td>\n",
       "      <td>2</td>\n",
       "      <td>женат / замужем</td>\n",
       "      <td>0</td>\n",
       "      <td>F</td>\n",
       "      <td>сотрудник</td>\n",
       "      <td>0</td>\n",
       "      <td>130458.228857</td>\n",
       "      <td>приобретение автомобиля</td>\n",
       "    </tr>\n",
       "    <tr>\n",
       "      <th>14</th>\n",
       "      <td>0</td>\n",
       "      <td>-1844.956182</td>\n",
       "      <td>56</td>\n",
       "      <td>высшее</td>\n",
       "      <td>0</td>\n",
       "      <td>гражданский брак</td>\n",
       "      <td>1</td>\n",
       "      <td>F</td>\n",
       "      <td>компаньон</td>\n",
       "      <td>1</td>\n",
       "      <td>165127.911772</td>\n",
       "      <td>покупка жилой недвижимости</td>\n",
       "    </tr>\n",
       "  </tbody>\n",
       "</table>\n",
       "</div>"
      ],
      "text/plain": [
       "    children  days_employed  dob_years            education  education_id  \\\n",
       "0          1   -8437.673028         42               высшее             0   \n",
       "1          1   -4024.803754         36              среднее             1   \n",
       "2          0   -5623.422610         33              Среднее             1   \n",
       "3          3   -4124.747207         32              среднее             1   \n",
       "4          0  340266.072047         53              среднее             1   \n",
       "5          0    -926.185831         27               высшее             0   \n",
       "6          0   -2879.202052         43               высшее             0   \n",
       "7          0    -152.779569         50              СРЕДНЕЕ             1   \n",
       "8          2   -6929.865299         35               ВЫСШЕЕ             0   \n",
       "9          0   -2188.756445         41              среднее             1   \n",
       "10         2   -4171.483647         36               высшее             0   \n",
       "11         0    -792.701887         40              среднее             1   \n",
       "12         0            NaN         65              среднее             1   \n",
       "13         0   -1846.641941         54  неоконченное высшее             2   \n",
       "14         0   -1844.956182         56               высшее             0   \n",
       "\n",
       "       family_status  family_status_id gender income_type  debt  \\\n",
       "0    женат / замужем                 0      F   сотрудник     0   \n",
       "1    женат / замужем                 0      F   сотрудник     0   \n",
       "2    женат / замужем                 0      M   сотрудник     0   \n",
       "3    женат / замужем                 0      M   сотрудник     0   \n",
       "4   гражданский брак                 1      F   пенсионер     0   \n",
       "5   гражданский брак                 1      M   компаньон     0   \n",
       "6    женат / замужем                 0      F   компаньон     0   \n",
       "7    женат / замужем                 0      M   сотрудник     0   \n",
       "8   гражданский брак                 1      F   сотрудник     0   \n",
       "9    женат / замужем                 0      M   сотрудник     0   \n",
       "10   женат / замужем                 0      M   компаньон     0   \n",
       "11   женат / замужем                 0      F   сотрудник     0   \n",
       "12  гражданский брак                 1      M   пенсионер     0   \n",
       "13   женат / замужем                 0      F   сотрудник     0   \n",
       "14  гражданский брак                 1      F   компаньон     1   \n",
       "\n",
       "     total_income                            purpose  \n",
       "0   253875.639453                      покупка жилья  \n",
       "1   112080.014102            приобретение автомобиля  \n",
       "2   145885.952297                      покупка жилья  \n",
       "3   267628.550329         дополнительное образование  \n",
       "4   158616.077870                    сыграть свадьбу  \n",
       "5   255763.565419                      покупка жилья  \n",
       "6   240525.971920                  операции с жильем  \n",
       "7   135823.934197                        образование  \n",
       "8    95856.832424              на проведение свадьбы  \n",
       "9   144425.938277            покупка жилья для семьи  \n",
       "10  113943.491460               покупка недвижимости  \n",
       "11   77069.234271  покупка коммерческой недвижимости  \n",
       "12            NaN                    сыграть свадьбу  \n",
       "13  130458.228857            приобретение автомобиля  \n",
       "14  165127.911772         покупка жилой недвижимости  "
      ]
     },
     "execution_count": 3,
     "metadata": {},
     "output_type": "execute_result"
    }
   ],
   "source": [
    "data.head(15)"
   ]
  },
  {
   "cell_type": "markdown",
   "metadata": {},
   "source": [
    "Рассмотрим уникальные значения данных для каждого столбца"
   ]
  },
  {
   "cell_type": "code",
   "execution_count": 4,
   "metadata": {
    "scrolled": false
   },
   "outputs": [
    {
     "name": "stdout",
     "output_type": "stream",
     "text": [
      " 0     14149\n",
      " 1      4818\n",
      " 2      2055\n",
      " 3       330\n",
      " 20       76\n",
      "-1        47\n",
      " 4        41\n",
      " 5         9\n",
      "Name: children, dtype: int64\n",
      "-327.685916     1\n",
      "-1580.622577    1\n",
      "-4122.460569    1\n",
      "-2828.237691    1\n",
      "-2636.090517    1\n",
      "               ..\n",
      "-7120.517564    1\n",
      "-2146.884040    1\n",
      "-881.454684     1\n",
      "-794.666350     1\n",
      "-3382.113891    1\n",
      "Name: days_employed, Length: 19351, dtype: int64\n",
      "35    617\n",
      "40    609\n",
      "41    607\n",
      "34    603\n",
      "38    598\n",
      "42    597\n",
      "33    581\n",
      "39    573\n",
      "31    560\n",
      "36    555\n",
      "44    547\n",
      "29    545\n",
      "30    540\n",
      "48    538\n",
      "37    537\n",
      "50    514\n",
      "43    513\n",
      "32    510\n",
      "49    508\n",
      "28    503\n",
      "45    497\n",
      "27    493\n",
      "56    487\n",
      "52    484\n",
      "47    480\n",
      "54    479\n",
      "46    475\n",
      "58    461\n",
      "57    460\n",
      "53    459\n",
      "51    448\n",
      "59    444\n",
      "55    443\n",
      "26    408\n",
      "60    377\n",
      "25    357\n",
      "61    355\n",
      "62    352\n",
      "63    269\n",
      "64    265\n",
      "24    264\n",
      "23    254\n",
      "65    194\n",
      "66    183\n",
      "22    183\n",
      "67    167\n",
      "21    111\n",
      "0     101\n",
      "68     99\n",
      "69     85\n",
      "70     65\n",
      "71     58\n",
      "20     51\n",
      "72     33\n",
      "19     14\n",
      "73      8\n",
      "74      6\n",
      "75      1\n",
      "Name: dob_years, dtype: int64\n",
      "среднее                13750\n",
      "высшее                  4718\n",
      "СРЕДНЕЕ                  772\n",
      "Среднее                  711\n",
      "неоконченное высшее      668\n",
      "ВЫСШЕЕ                   274\n",
      "Высшее                   268\n",
      "начальное                250\n",
      "Неоконченное высшее       47\n",
      "НЕОКОНЧЕННОЕ ВЫСШЕЕ       29\n",
      "НАЧАЛЬНОЕ                 17\n",
      "Начальное                 15\n",
      "ученая степень             4\n",
      "Ученая степень             1\n",
      "УЧЕНАЯ СТЕПЕНЬ             1\n",
      "Name: education, dtype: int64\n",
      "1    15233\n",
      "0     5260\n",
      "2      744\n",
      "3      282\n",
      "4        6\n",
      "Name: education_id, dtype: int64\n",
      "женат / замужем          12380\n",
      "гражданский брак          4177\n",
      "Не женат / не замужем     2813\n",
      "в разводе                 1195\n",
      "вдовец / вдова             960\n",
      "Name: family_status, dtype: int64\n",
      "0    12380\n",
      "1     4177\n",
      "4     2813\n",
      "3     1195\n",
      "2      960\n",
      "Name: family_status_id, dtype: int64\n",
      "F      14236\n",
      "M       7288\n",
      "XNA        1\n",
      "Name: gender, dtype: int64\n",
      "сотрудник          11119\n",
      "компаньон           5085\n",
      "пенсионер           3856\n",
      "госслужащий         1459\n",
      "безработный            2\n",
      "предприниматель        2\n",
      "студент                1\n",
      "в декрете              1\n",
      "Name: income_type, dtype: int64\n",
      "0    19784\n",
      "1     1741\n",
      "Name: debt, dtype: int64\n",
      "169846.427535    1\n",
      "257737.077768    1\n",
      "200508.675866    1\n",
      "106196.235958    1\n",
      "248730.171354    1\n",
      "                ..\n",
      "175057.266090    1\n",
      "101516.604975    1\n",
      "239154.168013    1\n",
      "165009.733021    1\n",
      "189255.286637    1\n",
      "Name: total_income, Length: 19351, dtype: int64\n",
      "свадьба                                   797\n",
      "на проведение свадьбы                     777\n",
      "сыграть свадьбу                           774\n",
      "операции с недвижимостью                  676\n",
      "покупка коммерческой недвижимости         664\n",
      "операции с жильем                         653\n",
      "покупка жилья для сдачи                   653\n",
      "операции с коммерческой недвижимостью     651\n",
      "покупка жилья                             647\n",
      "жилье                                     647\n",
      "покупка жилья для семьи                   641\n",
      "строительство собственной недвижимости    635\n",
      "недвижимость                              634\n",
      "операции со своей недвижимостью           630\n",
      "строительство жилой недвижимости          626\n",
      "покупка недвижимости                      624\n",
      "строительство недвижимости                620\n",
      "покупка своего жилья                      620\n",
      "ремонт жилью                              612\n",
      "покупка жилой недвижимости                607\n",
      "на покупку своего автомобиля              505\n",
      "заняться высшим образованием              496\n",
      "автомобиль                                495\n",
      "сделка с подержанным автомобилем          489\n",
      "свой автомобиль                           480\n",
      "на покупку подержанного автомобиля        479\n",
      "автомобили                                478\n",
      "на покупку автомобиля                     472\n",
      "приобретение автомобиля                   462\n",
      "дополнительное образование                462\n",
      "сделка с автомобилем                      455\n",
      "высшее образование                        453\n",
      "получение дополнительного образования     447\n",
      "образование                               447\n",
      "получение образования                     443\n",
      "профильное образование                    436\n",
      "получение высшего образования             426\n",
      "заняться образованием                     412\n",
      "Name: purpose, dtype: int64\n"
     ]
    }
   ],
   "source": [
    "for row in data:\n",
    "    print(data[row].value_counts())"
   ]
  },
  {
   "cell_type": "markdown",
   "metadata": {},
   "source": [
    "**Вывод**"
   ]
  },
  {
   "cell_type": "markdown",
   "metadata": {},
   "source": [
    "Всего в таблице 12 столбцов:\n",
    "1. children — количество детей в семье;\n",
    "2. days_employed — общий трудовой стаж в днях;\n",
    "3. dob_years — возраст клиента в годах;\n",
    "4. education — уровень образования клиента;\n",
    "5. education_id — идентификатор уровня образования;\n",
    "6. family_status — семейное положение;\n",
    "7. family_status_id — идентификатор семейного положения;\n",
    "8. gender — пол клиента;\n",
    "9. income_type — тип занятости;\n",
    "10. debt — имел ли задолженность по возврату кредитов;\n",
    "11. total_income — ежемесячный доход;\n",
    "12. purpose — цель получения кредита.\n",
    "\n",
    "\n",
    "Каждая строка таблицы содержит информацию о клиенте банка. Общее количество значений в наших данных 21525.\n",
    "После изучения общей информации о данных выявлены следующие семь проблем, которые нужно решить:\n",
    "1. В столбце \"children\" встречается ошибка в знаке (-1 - отрицательное количество детей), аномально большое значение для нашей выборки (20 детей);\n",
    "2. В столбце \"days_employed\" встречается ошибка в знаке (отрицательное количество дней трудового стажа) и пропущенные значения, что говорит о том, что по некоторым клиентам доступна не вся информация;\n",
    "3. В столбце \"dob_years\" встречаются нулевые значения;\n",
    "4. В столбце \"education\" встречается разный регистр букв в словах;\n",
    "5. В столбце \"gender\" встречаются строки с пропущенными данными;\n",
    "6. В столбце \"total_income\" встречаются пропущенные значения, неудобный формат типа данных (значения типа float), который лучше преобразовать в int;\n",
    "7. В столбце \"purpose\" много дубликатов с похожими или идентичными целями получения кредита."
   ]
  },
  {
   "cell_type": "markdown",
   "metadata": {},
   "source": [
    "## Шаг 2. Предобработка данных"
   ]
  },
  {
   "cell_type": "markdown",
   "metadata": {},
   "source": [
    "### Обработка пропусков"
   ]
  },
  {
   "cell_type": "markdown",
   "metadata": {},
   "source": [
    "Исправим ошибочные значения в столбце количество детей (\"children\")"
   ]
  },
  {
   "cell_type": "code",
   "execution_count": 5,
   "metadata": {},
   "outputs": [],
   "source": [
    "data['children'] = data['children'].replace(20, 2)\n",
    "data['children'] = data['children'].replace(-1, 1)"
   ]
  },
  {
   "cell_type": "markdown",
   "metadata": {},
   "source": [
    "Приведем к единому формату регистра столбец уровень образования (\"education\") методом str.lower() и выведем уникальные значения с помощью метода unique()"
   ]
  },
  {
   "cell_type": "code",
   "execution_count": 6,
   "metadata": {},
   "outputs": [
    {
     "data": {
      "text/plain": [
       "array(['высшее', 'среднее', 'неоконченное высшее', 'начальное',\n",
       "       'ученая степень'], dtype=object)"
      ]
     },
     "execution_count": 6,
     "metadata": {},
     "output_type": "execute_result"
    }
   ],
   "source": [
    "data['education'] = data['education'].str.lower()\n",
    "data['education'].unique()"
   ]
  },
  {
   "cell_type": "markdown",
   "metadata": {},
   "source": [
    "Узнаем количество пропущенных значений в столбце пол клиента (\"gender\")"
   ]
  },
  {
   "cell_type": "code",
   "execution_count": 7,
   "metadata": {},
   "outputs": [
    {
     "data": {
      "text/plain": [
       "children            1\n",
       "days_employed       1\n",
       "dob_years           1\n",
       "education           1\n",
       "education_id        1\n",
       "family_status       1\n",
       "family_status_id    1\n",
       "gender              1\n",
       "income_type         1\n",
       "debt                1\n",
       "total_income        1\n",
       "purpose             1\n",
       "dtype: int64"
      ]
     },
     "execution_count": 7,
     "metadata": {},
     "output_type": "execute_result"
    }
   ],
   "source": [
    "data[data['gender'] == 'XNA'].count()"
   ]
  },
  {
   "cell_type": "markdown",
   "metadata": {},
   "source": [
    "Так как всего одна строка с пропущенным значением, удалим её"
   ]
  },
  {
   "cell_type": "code",
   "execution_count": 8,
   "metadata": {},
   "outputs": [],
   "source": [
    "data = data[data['gender'] != 'XNA']"
   ]
  },
  {
   "cell_type": "markdown",
   "metadata": {},
   "source": [
    "Для заполнения нулевых значений в столбце возраст клиента (\"dob_years\") посчитаем медиану возраста клиента для каждого типа занятости и посчитаем нулевые значения методом isnull().sum()"
   ]
  },
  {
   "cell_type": "code",
   "execution_count": 9,
   "metadata": {},
   "outputs": [
    {
     "data": {
      "text/plain": [
       "0"
      ]
     },
     "execution_count": 9,
     "metadata": {},
     "output_type": "execute_result"
    }
   ],
   "source": [
    "age_medians = data.groupby('income_type')['dob_years'].median()\n",
    "age_medians\n",
    "\n",
    "data.loc[(data['income_type'] == 'пенсионер') & (data['dob_years'] == 0), 'dob_years'] = 60\n",
    "data.loc[(data['income_type'] == 'студент') & (data['dob_years'] == 0), 'dob_years'] = 22\n",
    "data.loc[(data['income_type'] == 'сотрудник') & (data['dob_years'] == 0), 'dob_years'] = 39\n",
    "data.loc[(data['income_type'] == 'предприниматель') & (data['dob_years'] == 0), 'dob_years'] = 42.5\n",
    "data.loc[(data['income_type'] == 'компаньон') & (data['dob_years'] == 0), 'dob_years'] = 39\n",
    "data.loc[(data['income_type'] == 'госслужащий') & (data['dob_years'] == 0), 'dob_years'] = 40\n",
    "data.loc[(data['income_type'] == 'в декрете') & (data['dob_years'] == 0), 'dob_years'] = 39\n",
    "data.loc[(data['income_type'] == 'безработный') & (data['dob_years'] == 0), 'dob_years'] = 38\n",
    "\n",
    "data['dob_years'].isnull().sum()"
   ]
  },
  {
   "cell_type": "markdown",
   "metadata": {},
   "source": [
    "Для заполнения пропусков проверим типы данных и длины столбцов. Метод info() позволяет посмотреть сводную информацию о нашей таблице"
   ]
  },
  {
   "cell_type": "code",
   "execution_count": 10,
   "metadata": {},
   "outputs": [
    {
     "name": "stdout",
     "output_type": "stream",
     "text": [
      "<class 'pandas.core.frame.DataFrame'>\n",
      "Int64Index: 21524 entries, 0 to 21524\n",
      "Data columns (total 12 columns):\n",
      " #   Column            Non-Null Count  Dtype  \n",
      "---  ------            --------------  -----  \n",
      " 0   children          21524 non-null  int64  \n",
      " 1   days_employed     19350 non-null  float64\n",
      " 2   dob_years         21524 non-null  float64\n",
      " 3   education         21524 non-null  object \n",
      " 4   education_id      21524 non-null  int64  \n",
      " 5   family_status     21524 non-null  object \n",
      " 6   family_status_id  21524 non-null  int64  \n",
      " 7   gender            21524 non-null  object \n",
      " 8   income_type       21524 non-null  object \n",
      " 9   debt              21524 non-null  int64  \n",
      " 10  total_income      19350 non-null  float64\n",
      " 11  purpose           21524 non-null  object \n",
      "dtypes: float64(3), int64(4), object(5)\n",
      "memory usage: 2.1+ MB\n",
      "None\n"
     ]
    }
   ],
   "source": [
    "print(data.info())"
   ]
  },
  {
   "cell_type": "markdown",
   "metadata": {},
   "source": [
    "Так как для некоторых клиентов не указан общий трудовой стаж (\"days_employed\") и ежемесячный доход (\"total_income\"), заполним пропущенные значения на основе имеющихся данных. Для получения среднего арифметического значения вызовем метод mean()"
   ]
  },
  {
   "cell_type": "code",
   "execution_count": 11,
   "metadata": {},
   "outputs": [
    {
     "name": "stdout",
     "output_type": "stream",
     "text": [
      "income_type\n",
      "безработный        131339.751676\n",
      "в декрете           53829.130729\n",
      "госслужащий        170898.309923\n",
      "компаньон          202417.136353\n",
      "пенсионер          137127.465690\n",
      "предприниматель    499163.144947\n",
      "сотрудник          161380.260488\n",
      "студент             98201.625314\n",
      "Name: total_income, dtype: float64\n"
     ]
    }
   ],
   "source": [
    "income_grouped_mean = data.groupby('income_type')['total_income'].mean() \n",
    "print(income_grouped_mean)"
   ]
  },
  {
   "cell_type": "markdown",
   "metadata": {},
   "source": [
    "Применим median() для расчета медианы"
   ]
  },
  {
   "cell_type": "code",
   "execution_count": 12,
   "metadata": {},
   "outputs": [
    {
     "name": "stdout",
     "output_type": "stream",
     "text": [
      "income_type\n",
      "безработный        131339.751676\n",
      "в декрете           53829.130729\n",
      "госслужащий        150447.935283\n",
      "компаньон          172319.266339\n",
      "пенсионер          118514.486412\n",
      "предприниматель    499163.144947\n",
      "сотрудник          142594.396847\n",
      "студент             98201.625314\n",
      "Name: total_income, dtype: float64\n"
     ]
    }
   ],
   "source": [
    "income_grouped_median = data.groupby('income_type')['total_income'].median()\n",
    "print(income_grouped_median)"
   ]
  },
  {
   "cell_type": "markdown",
   "metadata": {},
   "source": [
    "Так как данные среднего значения и медианы совпадают, то в соотвествующих столбцах (\"days_employed\" и \"total_income\") заполним пропуски на медианные значения, а в столбце общий трудовой стаж (\"days_employed\") преобразуем отрицательные значения в положительные используя функцию abs()"
   ]
  },
  {
   "cell_type": "code",
   "execution_count": 13,
   "metadata": {},
   "outputs": [
    {
     "name": "stdout",
     "output_type": "stream",
     "text": [
      "<class 'pandas.core.frame.DataFrame'>\n",
      "Int64Index: 21524 entries, 0 to 21524\n",
      "Data columns (total 12 columns):\n",
      " #   Column            Non-Null Count  Dtype  \n",
      "---  ------            --------------  -----  \n",
      " 0   children          21524 non-null  int64  \n",
      " 1   days_employed     21524 non-null  float64\n",
      " 2   dob_years         21524 non-null  float64\n",
      " 3   education         21524 non-null  object \n",
      " 4   education_id      21524 non-null  int64  \n",
      " 5   family_status     21524 non-null  object \n",
      " 6   family_status_id  21524 non-null  int64  \n",
      " 7   gender            21524 non-null  object \n",
      " 8   income_type       21524 non-null  object \n",
      " 9   debt              21524 non-null  int64  \n",
      " 10  total_income      21524 non-null  float64\n",
      " 11  purpose           21524 non-null  object \n",
      "dtypes: float64(3), int64(4), object(5)\n",
      "memory usage: 2.1+ MB\n"
     ]
    },
    {
     "data": {
      "text/html": [
       "<div>\n",
       "<style scoped>\n",
       "    .dataframe tbody tr th:only-of-type {\n",
       "        vertical-align: middle;\n",
       "    }\n",
       "\n",
       "    .dataframe tbody tr th {\n",
       "        vertical-align: top;\n",
       "    }\n",
       "\n",
       "    .dataframe thead th {\n",
       "        text-align: right;\n",
       "    }\n",
       "</style>\n",
       "<table border=\"1\" class=\"dataframe\">\n",
       "  <thead>\n",
       "    <tr style=\"text-align: right;\">\n",
       "      <th></th>\n",
       "      <th>children</th>\n",
       "      <th>days_employed</th>\n",
       "      <th>dob_years</th>\n",
       "      <th>education</th>\n",
       "      <th>education_id</th>\n",
       "      <th>family_status</th>\n",
       "      <th>family_status_id</th>\n",
       "      <th>gender</th>\n",
       "      <th>income_type</th>\n",
       "      <th>debt</th>\n",
       "      <th>total_income</th>\n",
       "      <th>purpose</th>\n",
       "    </tr>\n",
       "  </thead>\n",
       "  <tbody>\n",
       "    <tr>\n",
       "      <th>0</th>\n",
       "      <td>1</td>\n",
       "      <td>8437.673028</td>\n",
       "      <td>42.0</td>\n",
       "      <td>высшее</td>\n",
       "      <td>0</td>\n",
       "      <td>женат / замужем</td>\n",
       "      <td>0</td>\n",
       "      <td>F</td>\n",
       "      <td>сотрудник</td>\n",
       "      <td>0</td>\n",
       "      <td>253875.639453</td>\n",
       "      <td>покупка жилья</td>\n",
       "    </tr>\n",
       "    <tr>\n",
       "      <th>1</th>\n",
       "      <td>1</td>\n",
       "      <td>4024.803754</td>\n",
       "      <td>36.0</td>\n",
       "      <td>среднее</td>\n",
       "      <td>1</td>\n",
       "      <td>женат / замужем</td>\n",
       "      <td>0</td>\n",
       "      <td>F</td>\n",
       "      <td>сотрудник</td>\n",
       "      <td>0</td>\n",
       "      <td>112080.014102</td>\n",
       "      <td>приобретение автомобиля</td>\n",
       "    </tr>\n",
       "    <tr>\n",
       "      <th>2</th>\n",
       "      <td>0</td>\n",
       "      <td>5623.422610</td>\n",
       "      <td>33.0</td>\n",
       "      <td>среднее</td>\n",
       "      <td>1</td>\n",
       "      <td>женат / замужем</td>\n",
       "      <td>0</td>\n",
       "      <td>M</td>\n",
       "      <td>сотрудник</td>\n",
       "      <td>0</td>\n",
       "      <td>145885.952297</td>\n",
       "      <td>покупка жилья</td>\n",
       "    </tr>\n",
       "    <tr>\n",
       "      <th>3</th>\n",
       "      <td>3</td>\n",
       "      <td>4124.747207</td>\n",
       "      <td>32.0</td>\n",
       "      <td>среднее</td>\n",
       "      <td>1</td>\n",
       "      <td>женат / замужем</td>\n",
       "      <td>0</td>\n",
       "      <td>M</td>\n",
       "      <td>сотрудник</td>\n",
       "      <td>0</td>\n",
       "      <td>267628.550329</td>\n",
       "      <td>дополнительное образование</td>\n",
       "    </tr>\n",
       "    <tr>\n",
       "      <th>4</th>\n",
       "      <td>0</td>\n",
       "      <td>340266.072047</td>\n",
       "      <td>53.0</td>\n",
       "      <td>среднее</td>\n",
       "      <td>1</td>\n",
       "      <td>гражданский брак</td>\n",
       "      <td>1</td>\n",
       "      <td>F</td>\n",
       "      <td>пенсионер</td>\n",
       "      <td>0</td>\n",
       "      <td>158616.077870</td>\n",
       "      <td>сыграть свадьбу</td>\n",
       "    </tr>\n",
       "    <tr>\n",
       "      <th>...</th>\n",
       "      <td>...</td>\n",
       "      <td>...</td>\n",
       "      <td>...</td>\n",
       "      <td>...</td>\n",
       "      <td>...</td>\n",
       "      <td>...</td>\n",
       "      <td>...</td>\n",
       "      <td>...</td>\n",
       "      <td>...</td>\n",
       "      <td>...</td>\n",
       "      <td>...</td>\n",
       "      <td>...</td>\n",
       "    </tr>\n",
       "    <tr>\n",
       "      <th>21520</th>\n",
       "      <td>1</td>\n",
       "      <td>4529.316663</td>\n",
       "      <td>43.0</td>\n",
       "      <td>среднее</td>\n",
       "      <td>1</td>\n",
       "      <td>гражданский брак</td>\n",
       "      <td>1</td>\n",
       "      <td>F</td>\n",
       "      <td>компаньон</td>\n",
       "      <td>0</td>\n",
       "      <td>224791.862382</td>\n",
       "      <td>операции с жильем</td>\n",
       "    </tr>\n",
       "    <tr>\n",
       "      <th>21521</th>\n",
       "      <td>0</td>\n",
       "      <td>343937.404131</td>\n",
       "      <td>67.0</td>\n",
       "      <td>среднее</td>\n",
       "      <td>1</td>\n",
       "      <td>женат / замужем</td>\n",
       "      <td>0</td>\n",
       "      <td>F</td>\n",
       "      <td>пенсионер</td>\n",
       "      <td>0</td>\n",
       "      <td>155999.806512</td>\n",
       "      <td>сделка с автомобилем</td>\n",
       "    </tr>\n",
       "    <tr>\n",
       "      <th>21522</th>\n",
       "      <td>1</td>\n",
       "      <td>2113.346888</td>\n",
       "      <td>38.0</td>\n",
       "      <td>среднее</td>\n",
       "      <td>1</td>\n",
       "      <td>гражданский брак</td>\n",
       "      <td>1</td>\n",
       "      <td>M</td>\n",
       "      <td>сотрудник</td>\n",
       "      <td>1</td>\n",
       "      <td>89672.561153</td>\n",
       "      <td>недвижимость</td>\n",
       "    </tr>\n",
       "    <tr>\n",
       "      <th>21523</th>\n",
       "      <td>3</td>\n",
       "      <td>3112.481705</td>\n",
       "      <td>38.0</td>\n",
       "      <td>среднее</td>\n",
       "      <td>1</td>\n",
       "      <td>женат / замужем</td>\n",
       "      <td>0</td>\n",
       "      <td>M</td>\n",
       "      <td>сотрудник</td>\n",
       "      <td>1</td>\n",
       "      <td>244093.050500</td>\n",
       "      <td>на покупку своего автомобиля</td>\n",
       "    </tr>\n",
       "    <tr>\n",
       "      <th>21524</th>\n",
       "      <td>2</td>\n",
       "      <td>1984.507589</td>\n",
       "      <td>40.0</td>\n",
       "      <td>среднее</td>\n",
       "      <td>1</td>\n",
       "      <td>женат / замужем</td>\n",
       "      <td>0</td>\n",
       "      <td>F</td>\n",
       "      <td>сотрудник</td>\n",
       "      <td>0</td>\n",
       "      <td>82047.418899</td>\n",
       "      <td>на покупку автомобиля</td>\n",
       "    </tr>\n",
       "  </tbody>\n",
       "</table>\n",
       "<p>21524 rows × 12 columns</p>\n",
       "</div>"
      ],
      "text/plain": [
       "       children  days_employed  dob_years education  education_id  \\\n",
       "0             1    8437.673028       42.0    высшее             0   \n",
       "1             1    4024.803754       36.0   среднее             1   \n",
       "2             0    5623.422610       33.0   среднее             1   \n",
       "3             3    4124.747207       32.0   среднее             1   \n",
       "4             0  340266.072047       53.0   среднее             1   \n",
       "...         ...            ...        ...       ...           ...   \n",
       "21520         1    4529.316663       43.0   среднее             1   \n",
       "21521         0  343937.404131       67.0   среднее             1   \n",
       "21522         1    2113.346888       38.0   среднее             1   \n",
       "21523         3    3112.481705       38.0   среднее             1   \n",
       "21524         2    1984.507589       40.0   среднее             1   \n",
       "\n",
       "          family_status  family_status_id gender income_type  debt  \\\n",
       "0       женат / замужем                 0      F   сотрудник     0   \n",
       "1       женат / замужем                 0      F   сотрудник     0   \n",
       "2       женат / замужем                 0      M   сотрудник     0   \n",
       "3       женат / замужем                 0      M   сотрудник     0   \n",
       "4      гражданский брак                 1      F   пенсионер     0   \n",
       "...                 ...               ...    ...         ...   ...   \n",
       "21520  гражданский брак                 1      F   компаньон     0   \n",
       "21521   женат / замужем                 0      F   пенсионер     0   \n",
       "21522  гражданский брак                 1      M   сотрудник     1   \n",
       "21523   женат / замужем                 0      M   сотрудник     1   \n",
       "21524   женат / замужем                 0      F   сотрудник     0   \n",
       "\n",
       "        total_income                       purpose  \n",
       "0      253875.639453                 покупка жилья  \n",
       "1      112080.014102       приобретение автомобиля  \n",
       "2      145885.952297                 покупка жилья  \n",
       "3      267628.550329    дополнительное образование  \n",
       "4      158616.077870               сыграть свадьбу  \n",
       "...              ...                           ...  \n",
       "21520  224791.862382             операции с жильем  \n",
       "21521  155999.806512          сделка с автомобилем  \n",
       "21522   89672.561153                  недвижимость  \n",
       "21523  244093.050500  на покупку своего автомобиля  \n",
       "21524   82047.418899         на покупку автомобиля  \n",
       "\n",
       "[21524 rows x 12 columns]"
      ]
     },
     "execution_count": 13,
     "metadata": {},
     "output_type": "execute_result"
    }
   ],
   "source": [
    "def fillbygroup(data, row):\n",
    "    unique_inc_type = data['income_type'].unique()\n",
    "    for type in unique_inc_type:\n",
    "        data.loc[data['income_type'] == type, row] = data.loc[data['income_type'] == type, row].fillna(data[data['income_type'] == type]['total_income'].median())\n",
    "    return data\n",
    "\n",
    "data = fillbygroup(data, 'total_income')\n",
    "\n",
    "data['days_employed'] = data['days_employed'].apply(abs)\n",
    "data = fillbygroup(data, 'days_employed')\n",
    "data.info()\n",
    "data"
   ]
  },
  {
   "cell_type": "code",
   "execution_count": 14,
   "metadata": {},
   "outputs": [
    {
     "data": {
      "text/plain": [
       "0          8437.673028\n",
       "1          4024.803754\n",
       "2          5623.422610\n",
       "3          4124.747207\n",
       "4        340266.072047\n",
       "             ...      \n",
       "21520      4529.316663\n",
       "21521    343937.404131\n",
       "21522      2113.346888\n",
       "21523      3112.481705\n",
       "21524      1984.507589\n",
       "Name: days_employed, Length: 21524, dtype: float64"
      ]
     },
     "execution_count": 14,
     "metadata": {},
     "output_type": "execute_result"
    }
   ],
   "source": [
    "data['days_employed'].abs()"
   ]
  },
  {
   "cell_type": "markdown",
   "metadata": {},
   "source": [
    "**Вывод**"
   ]
  },
  {
   "cell_type": "markdown",
   "metadata": {},
   "source": [
    "После изучения общей информации о данных были разрешены следующие проблемы:\n",
    "\n",
    "1. Так как у большинства клиентов численность детей варьируется от 0 до 5, то в столбце \"children\" были исправлены ошибки в знаке (отрицательное количество детей), аномально большое значение для нашей выборки (20 детей);\n",
    "2. В столбце \"days_employed\" исправлена ошибка в знаках (отрицательное количество дней трудового стажа) и заполнены пропуски на медианные значения;\n",
    "3. В столбце \"dob_years\" нулевые значения были заполнены на основании медианы для каждого типа дохода;\n",
    "4. В столбце \"education\" регистр букв был приведен к единому формату;\n",
    "5. В столбце \"gender\" удалили строку с пропущенным значением;\n",
    "6. В столбце \"total_income\" пропуски были заполнены на медианные значения.\n",
    "\n",
    "Теперь таблица готова к дальнейшему изучению: ненужные пропуски удалены, но при этом сохранены важные данные.\n",
    "Причины появления отрицательных значений и попусков в данных можно уточнить у сотрудника, который выгружал эти данные. Возможно, что это связано со сбоем в системе сбора информации."
   ]
  },
  {
   "cell_type": "markdown",
   "metadata": {},
   "source": [
    "### Замена типа данных"
   ]
  },
  {
   "cell_type": "markdown",
   "metadata": {},
   "source": [
    "Получим информацию о типах данных в таблице"
   ]
  },
  {
   "cell_type": "code",
   "execution_count": 15,
   "metadata": {},
   "outputs": [
    {
     "data": {
      "text/plain": [
       "children              int64\n",
       "days_employed       float64\n",
       "dob_years           float64\n",
       "education            object\n",
       "education_id          int64\n",
       "family_status        object\n",
       "family_status_id      int64\n",
       "gender               object\n",
       "income_type          object\n",
       "debt                  int64\n",
       "total_income        float64\n",
       "purpose              object\n",
       "dtype: object"
      ]
     },
     "execution_count": 15,
     "metadata": {},
     "output_type": "execute_result"
    }
   ],
   "source": [
    "data.dtypes"
   ]
  },
  {
   "cell_type": "markdown",
   "metadata": {},
   "source": [
    "В колонках общий трудовой стаж (\"days_employed\"), ежемесячный доход (\"total_income\") и возраст клиента (\"dob_years\") встречаются значения типа float (вещественное число), поэтому преобразуем значения столбцов в тип данных int методом astype()"
   ]
  },
  {
   "cell_type": "code",
   "execution_count": 16,
   "metadata": {},
   "outputs": [
    {
     "data": {
      "text/plain": [
       "children             int64\n",
       "days_employed        int64\n",
       "dob_years            int64\n",
       "education           object\n",
       "education_id         int64\n",
       "family_status       object\n",
       "family_status_id     int64\n",
       "gender              object\n",
       "income_type         object\n",
       "debt                 int64\n",
       "total_income         int64\n",
       "purpose             object\n",
       "dtype: object"
      ]
     },
     "execution_count": 16,
     "metadata": {},
     "output_type": "execute_result"
    }
   ],
   "source": [
    "data['days_employed'] = data['days_employed'].astype('int')\n",
    "data['total_income'] = data['total_income'].astype('int')\n",
    "data['dob_years'] = data['dob_years'].astype('int')\n",
    "data.dtypes"
   ]
  },
  {
   "cell_type": "markdown",
   "metadata": {},
   "source": [
    "**Вывод**"
   ]
  },
  {
   "cell_type": "markdown",
   "metadata": {},
   "source": [
    "Здесь мы заменили вещественный тип данных на целочисленный в колонках общий трудовой стаж (\"days_employed\"), ежемесячный доход (\"total_income\") и возраст клиента (\"dob_years\"). В нужный тип данных (целое число) нам позволил преобразовать значения метод astype()."
   ]
  },
  {
   "cell_type": "markdown",
   "metadata": {},
   "source": [
    "### Обработка дубликатов"
   ]
  },
  {
   "cell_type": "markdown",
   "metadata": {},
   "source": [
    "Найдем дубликаты в столбце \"purpose\" (цель получения кредита) методом value_counts(). Возвращаем количество дубликатов методом duplicated().sum()). Для удаления дубликатов используем метод drop_duplicates()"
   ]
  },
  {
   "cell_type": "code",
   "execution_count": 17,
   "metadata": {},
   "outputs": [
    {
     "name": "stdout",
     "output_type": "stream",
     "text": [
      "Количество дубликатов в данных: 71\n",
      "Количество дубликатов в данных: 0\n"
     ]
    }
   ],
   "source": [
    "purpose_counts = data['purpose'].value_counts() \n",
    "#print(purpose_counts)\n",
    "\n",
    "print('Количество дубликатов в данных:', data.duplicated().sum())\n",
    "\n",
    "data = data.drop_duplicates().reset_index(drop = True)\n",
    "print('Количество дубликатов в данных:', data.duplicated().sum())"
   ]
  },
  {
   "cell_type": "markdown",
   "metadata": {},
   "source": [
    "**Вывод**"
   ]
  },
  {
   "cell_type": "markdown",
   "metadata": {},
   "source": [
    "Количество дубликатов, которое мы обнаружили: 71 шт. Причины появления дубликатов нужно выяснить, так как причиной возникновения этой ошибки может быть как человеческий фактор, так и сбой. Для удаления дубликатов применялся метод drop_duplicates(), так как его целью является поиск идентичных строк."
   ]
  },
  {
   "cell_type": "markdown",
   "metadata": {},
   "source": [
    "### Лемматизация"
   ]
  },
  {
   "cell_type": "markdown",
   "metadata": {},
   "source": [
    "Импортируем библиотеку pymystem3 и collections"
   ]
  },
  {
   "cell_type": "code",
   "execution_count": 18,
   "metadata": {},
   "outputs": [],
   "source": [
    "from pymystem3 import Mystem\n",
    "from collections import Counter\n",
    "m = Mystem()"
   ]
  },
  {
   "cell_type": "markdown",
   "metadata": {},
   "source": [
    "Посчитаем все варианты целей получения кредита"
   ]
  },
  {
   "cell_type": "code",
   "execution_count": 19,
   "metadata": {},
   "outputs": [
    {
     "data": {
      "text/plain": [
       "свадьба                                   791\n",
       "на проведение свадьбы                     768\n",
       "сыграть свадьбу                           765\n",
       "операции с недвижимостью                  675\n",
       "покупка коммерческой недвижимости         661\n",
       "операции с жильем                         652\n",
       "покупка жилья для сдачи                   651\n",
       "операции с коммерческой недвижимостью     650\n",
       "покупка жилья                             646\n",
       "жилье                                     646\n",
       "покупка жилья для семьи                   638\n",
       "строительство собственной недвижимости    635\n",
       "недвижимость                              633\n",
       "операции со своей недвижимостью           627\n",
       "строительство жилой недвижимости          624\n",
       "покупка своего жилья                      620\n",
       "покупка недвижимости                      620\n",
       "строительство недвижимости                619\n",
       "ремонт жилью                              607\n",
       "покупка жилой недвижимости                606\n",
       "на покупку своего автомобиля              505\n",
       "заняться высшим образованием              496\n",
       "автомобиль                                494\n",
       "сделка с подержанным автомобилем          486\n",
       "свой автомобиль                           478\n",
       "на покупку подержанного автомобиля        478\n",
       "автомобили                                478\n",
       "на покупку автомобиля                     471\n",
       "приобретение автомобиля                   461\n",
       "дополнительное образование                460\n",
       "сделка с автомобилем                      455\n",
       "высшее образование                        452\n",
       "образование                               447\n",
       "получение дополнительного образования     446\n",
       "получение образования                     442\n",
       "профильное образование                    436\n",
       "получение высшего образования             426\n",
       "заняться образованием                     408\n",
       "Name: purpose, dtype: int64"
      ]
     },
     "execution_count": 19,
     "metadata": {},
     "output_type": "execute_result"
    }
   ],
   "source": [
    "data['purpose'].value_counts()"
   ]
  },
  {
   "cell_type": "markdown",
   "metadata": {},
   "source": [
    "Выделим ключевые слова, которые отражают цель получения кредита: \"свадьба\", \"недвижимость\", \"жилье\", \"автомобиль\", \"образование\". Напишем функцию, которая проведет лемматизацию и заменим полученный список лемм на ключевые слова"
   ]
  },
  {
   "cell_type": "code",
   "execution_count": 20,
   "metadata": {},
   "outputs": [
    {
     "data": {
      "text/plain": [
       "недвижимость    6350\n",
       "жилье           4460\n",
       "автомобиль      4306\n",
       "образование     4013\n",
       "свадьба         2324\n",
       "Name: purpose_group, dtype: int64"
      ]
     },
     "execution_count": 20,
     "metadata": {},
     "output_type": "execute_result"
    }
   ],
   "source": [
    "categories = ['свадьба', 'недвижимость', 'жилье', 'автомобиль', 'образование']\n",
    "\n",
    "def lemmatize(text):\n",
    "    lemma = m.lemmatize(text)\n",
    "    for word in categories:\n",
    "        if word in lemma:\n",
    "            lemma = word\n",
    "    return lemma\n",
    "\n",
    "data['purpose_group'] = data['purpose'].apply(lemmatize)\n",
    "data['purpose_group'].value_counts()"
   ]
  },
  {
   "cell_type": "markdown",
   "metadata": {},
   "source": [
    "Проведем замену, так как жилье тоже можно отнести к недвижимости "
   ]
  },
  {
   "cell_type": "code",
   "execution_count": 21,
   "metadata": {},
   "outputs": [
    {
     "data": {
      "text/plain": [
       "недвижимость    10810\n",
       "автомобиль       4306\n",
       "образование      4013\n",
       "свадьба          2324\n",
       "Name: purpose_group, dtype: int64"
      ]
     },
     "execution_count": 21,
     "metadata": {},
     "output_type": "execute_result"
    }
   ],
   "source": [
    "data.loc[data['purpose_group'] == 'жилье', 'purpose_group'] = 'недвижимость'\n",
    "data['purpose_group'].value_counts()"
   ]
  },
  {
   "cell_type": "markdown",
   "metadata": {},
   "source": [
    "**Вывод**"
   ]
  },
  {
   "cell_type": "markdown",
   "metadata": {},
   "source": [
    "Были посчитаны все варианты целей получения кредита, после чего выделили ключевые слова (так как многие цели названы похожим образом, но при этом имеют один и тот же смысл). Таким образом, получили четыре категории, которые отражают цель получения кредита: \"свадьба\", \"недвижимость\", \"автомобиль\", \"образование\". Провели лемматизацию, заменив список лемм на ключевые слова. Те цели, которые содержали производные слова от слова \"жилье\" заменили на категорию недвижимость."
   ]
  },
  {
   "cell_type": "markdown",
   "metadata": {},
   "source": [
    "### Категоризация данных"
   ]
  },
  {
   "cell_type": "markdown",
   "metadata": {},
   "source": [
    "Для ответов на вопросы нам необходимо было провести категоризацию данных по целям кредита, ежемесячному доходу и наличию детей. Проведем категоризацию по ежемесячному доходу, написав функцию, которая разбивает доходы клиентов по квантилям (25%, 50% и 75%)"
   ]
  },
  {
   "cell_type": "code",
   "execution_count": 22,
   "metadata": {},
   "outputs": [
    {
     "data": {
      "text/plain": [
       "25%    107620.0\n",
       "50%    142594.0\n",
       "75%    195818.0\n",
       "Name: total_income, dtype: float64"
      ]
     },
     "execution_count": 22,
     "metadata": {},
     "output_type": "execute_result"
    }
   ],
   "source": [
    "statistics = data['total_income'].describe()\n",
    "statistics[4:7]"
   ]
  },
  {
   "cell_type": "markdown",
   "metadata": {},
   "source": [
    "Запишем функцию для определения дохода по категориям"
   ]
  },
  {
   "cell_type": "code",
   "execution_count": 23,
   "metadata": {},
   "outputs": [
    {
     "data": {
      "text/plain": [
       "2    5479\n",
       "1    5364\n",
       "4    5363\n",
       "3    5247\n",
       "Name: income_group, dtype: int64"
      ]
     },
     "execution_count": 23,
     "metadata": {},
     "output_type": "execute_result"
    }
   ],
   "source": [
    "def division_income_group(income):\n",
    "    if income <= statistics[4]: return 1\n",
    "    elif statistics[4] < income <= statistics[5]: return 2\n",
    "    elif statistics[5] < income <= statistics[6]: return 3\n",
    "    else: return 4\n",
    "\n",
    "data['income_group'] = data['total_income'].apply(division_income_group)\n",
    "data['income_group'].value_counts()"
   ]
  },
  {
   "cell_type": "markdown",
   "metadata": {},
   "source": [
    "В результате категоризации данных по ежемесячному доходу мы получили, что:\n",
    "1. Ежемесячный доход 5364 клиентов меньше или равен 107 620 руб. \n",
    "2. Ежемесячный доход 5479 клиентов в интервале от 107 620 руб. до 142 594 руб.\n",
    "3. Ежемесячный доход 5247 клиентов в интервале от 142 594 руб. до 195 818 руб.\n",
    "4. Ежемесячный доход 5363 клиентов больше 195 818 руб."
   ]
  },
  {
   "cell_type": "markdown",
   "metadata": {},
   "source": [
    "Запишем функцию для для категоризации клиентов по наличию детей, где: 1 - есть дети, 0 - нет детей."
   ]
  },
  {
   "cell_type": "code",
   "execution_count": 24,
   "metadata": {},
   "outputs": [],
   "source": [
    "def determine_children(children):\n",
    "    if children > 0: return 1\n",
    "    else: return 0\n",
    "\n",
    "data['child_exist'] = data['children'].apply(determine_children)"
   ]
  },
  {
   "cell_type": "markdown",
   "metadata": {},
   "source": [
    "**Вывод**"
   ]
  },
  {
   "cell_type": "markdown",
   "metadata": {},
   "source": [
    "Для ответов на вопросы в предыдушем разделе мы провели категоризацию данных по целям кредита, а в этом - по ежемесячному доходу и количеству детей. Проводя категоризацию по ежемесячному доходу, написали функцию, которая разбивает доходы клиентов по квантилям (25%, 50% и 75%), а категоризируя данные по количеству детей вводим бинарную переменную."
   ]
  },
  {
   "cell_type": "markdown",
   "metadata": {},
   "source": [
    "- Есть ли зависимость между наличием детей и возвратом кредита в срок?"
   ]
  },
  {
   "cell_type": "markdown",
   "metadata": {},
   "source": [
    "## Шаг 3. Ответим на вопросы"
   ]
  },
  {
   "cell_type": "code",
   "execution_count": 25,
   "metadata": {},
   "outputs": [
    {
     "data": {
      "text/html": [
       "<div>\n",
       "<style scoped>\n",
       "    .dataframe tbody tr th:only-of-type {\n",
       "        vertical-align: middle;\n",
       "    }\n",
       "\n",
       "    .dataframe tbody tr th {\n",
       "        vertical-align: top;\n",
       "    }\n",
       "\n",
       "    .dataframe thead th {\n",
       "        text-align: right;\n",
       "    }\n",
       "</style>\n",
       "<table border=\"1\" class=\"dataframe\">\n",
       "  <thead>\n",
       "    <tr style=\"text-align: right;\">\n",
       "      <th></th>\n",
       "      <th>debt</th>\n",
       "    </tr>\n",
       "    <tr>\n",
       "      <th>child_exist</th>\n",
       "      <th></th>\n",
       "    </tr>\n",
       "  </thead>\n",
       "  <tbody>\n",
       "    <tr>\n",
       "      <th>0</th>\n",
       "      <td>0.075</td>\n",
       "    </tr>\n",
       "    <tr>\n",
       "      <th>1</th>\n",
       "      <td>0.092</td>\n",
       "    </tr>\n",
       "  </tbody>\n",
       "</table>\n",
       "</div>"
      ],
      "text/plain": [
       "              debt\n",
       "child_exist       \n",
       "0            0.075\n",
       "1            0.092"
      ]
     },
     "execution_count": 25,
     "metadata": {},
     "output_type": "execute_result"
    }
   ],
   "source": [
    "data_pivot = data.pivot_table(index = ['child_exist'], values = 'debt').round(3)\n",
    "#data_pivot['ratio'] = data_pivot[1] / data_pivot[0]\n",
    "data_pivot.head()"
   ]
  },
  {
   "cell_type": "markdown",
   "metadata": {},
   "source": [
    "**Вывод**"
   ]
  },
  {
   "cell_type": "markdown",
   "metadata": {},
   "source": [
    "Зависимость есть, наличие детей у клиента увеличивает вероятность просроченной задолженности (0,092 > 0,075). Возможно, это связано с тем, что в нашей выборке клиенты предпочитают тратить деньги на детей, чем возвращать их в срок."
   ]
  },
  {
   "cell_type": "markdown",
   "metadata": {},
   "source": [
    "- Есть ли зависимость между семейным положением и возвратом кредита в срок?"
   ]
  },
  {
   "cell_type": "code",
   "execution_count": 26,
   "metadata": {},
   "outputs": [
    {
     "data": {
      "text/html": [
       "<div>\n",
       "<style scoped>\n",
       "    .dataframe tbody tr th:only-of-type {\n",
       "        vertical-align: middle;\n",
       "    }\n",
       "\n",
       "    .dataframe tbody tr th {\n",
       "        vertical-align: top;\n",
       "    }\n",
       "\n",
       "    .dataframe thead th {\n",
       "        text-align: right;\n",
       "    }\n",
       "</style>\n",
       "<table border=\"1\" class=\"dataframe\">\n",
       "  <thead>\n",
       "    <tr style=\"text-align: right;\">\n",
       "      <th>debt</th>\n",
       "      <th>0</th>\n",
       "      <th>1</th>\n",
       "      <th>ratio</th>\n",
       "    </tr>\n",
       "    <tr>\n",
       "      <th>family_status</th>\n",
       "      <th></th>\n",
       "      <th></th>\n",
       "      <th></th>\n",
       "    </tr>\n",
       "  </thead>\n",
       "  <tbody>\n",
       "    <tr>\n",
       "      <th>Не женат / не замужем</th>\n",
       "      <td>2536</td>\n",
       "      <td>274</td>\n",
       "      <td>0.098</td>\n",
       "    </tr>\n",
       "    <tr>\n",
       "      <th>гражданский брак</th>\n",
       "      <td>3762</td>\n",
       "      <td>388</td>\n",
       "      <td>0.093</td>\n",
       "    </tr>\n",
       "    <tr>\n",
       "      <th>женат / замужем</th>\n",
       "      <td>11408</td>\n",
       "      <td>931</td>\n",
       "      <td>0.075</td>\n",
       "    </tr>\n",
       "    <tr>\n",
       "      <th>в разводе</th>\n",
       "      <td>1110</td>\n",
       "      <td>85</td>\n",
       "      <td>0.071</td>\n",
       "    </tr>\n",
       "    <tr>\n",
       "      <th>вдовец / вдова</th>\n",
       "      <td>896</td>\n",
       "      <td>63</td>\n",
       "      <td>0.066</td>\n",
       "    </tr>\n",
       "  </tbody>\n",
       "</table>\n",
       "</div>"
      ],
      "text/plain": [
       "debt                       0    1  ratio\n",
       "family_status                           \n",
       "Не женат / не замужем   2536  274  0.098\n",
       "гражданский брак        3762  388  0.093\n",
       "женат / замужем        11408  931  0.075\n",
       "в разводе               1110   85  0.071\n",
       "вдовец / вдова           896   63  0.066"
      ]
     },
     "execution_count": 26,
     "metadata": {},
     "output_type": "execute_result"
    }
   ],
   "source": [
    "data_pivot = data.pivot_table(index = ['family_status'], columns = 'debt', values = 'gender', aggfunc = 'count')\n",
    "\n",
    "data_pivot['ratio'] = round(data_pivot[1] / (data_pivot[0] + data_pivot[1]), 3)\n",
    "data_pivot.sort_values('ratio', ascending = False)"
   ]
  },
  {
   "cell_type": "markdown",
   "metadata": {},
   "source": [
    "**Вывод**"
   ]
  },
  {
   "cell_type": "markdown",
   "metadata": {},
   "source": [
    "Зависимость есть, клиенты которые находятся в разводе или которых можно отнести к категории вдовец / вдова - чаще возвращают кредит в срок, чем клиенты в браке. Клиенты, которые не женаты / не замужем или находятся в гражданском браке, реже выплачивают кредит в срок, чем остальные категории. Это может быть связано с тем, что люди, находящиеся в браке сейчас или ранее, чувствуют большую ответственность и поэтому более дисциплинированны."
   ]
  },
  {
   "cell_type": "markdown",
   "metadata": {},
   "source": [
    "- Есть ли зависимость между уровнем дохода и возвратом кредита в срок?"
   ]
  },
  {
   "cell_type": "code",
   "execution_count": 27,
   "metadata": {},
   "outputs": [
    {
     "data": {
      "text/html": [
       "<div>\n",
       "<style scoped>\n",
       "    .dataframe tbody tr th:only-of-type {\n",
       "        vertical-align: middle;\n",
       "    }\n",
       "\n",
       "    .dataframe tbody tr th {\n",
       "        vertical-align: top;\n",
       "    }\n",
       "\n",
       "    .dataframe thead th {\n",
       "        text-align: right;\n",
       "    }\n",
       "</style>\n",
       "<table border=\"1\" class=\"dataframe\">\n",
       "  <thead>\n",
       "    <tr style=\"text-align: right;\">\n",
       "      <th>debt</th>\n",
       "      <th>0</th>\n",
       "      <th>1</th>\n",
       "      <th>ratio</th>\n",
       "    </tr>\n",
       "    <tr>\n",
       "      <th>income_group</th>\n",
       "      <th></th>\n",
       "      <th></th>\n",
       "      <th></th>\n",
       "    </tr>\n",
       "  </thead>\n",
       "  <tbody>\n",
       "    <tr>\n",
       "      <th>2</th>\n",
       "      <td>4996</td>\n",
       "      <td>483</td>\n",
       "      <td>0.088</td>\n",
       "    </tr>\n",
       "    <tr>\n",
       "      <th>3</th>\n",
       "      <td>4799</td>\n",
       "      <td>448</td>\n",
       "      <td>0.085</td>\n",
       "    </tr>\n",
       "    <tr>\n",
       "      <th>1</th>\n",
       "      <td>4937</td>\n",
       "      <td>427</td>\n",
       "      <td>0.080</td>\n",
       "    </tr>\n",
       "    <tr>\n",
       "      <th>4</th>\n",
       "      <td>4980</td>\n",
       "      <td>383</td>\n",
       "      <td>0.071</td>\n",
       "    </tr>\n",
       "  </tbody>\n",
       "</table>\n",
       "</div>"
      ],
      "text/plain": [
       "debt             0    1  ratio\n",
       "income_group                  \n",
       "2             4996  483  0.088\n",
       "3             4799  448  0.085\n",
       "1             4937  427  0.080\n",
       "4             4980  383  0.071"
      ]
     },
     "execution_count": 27,
     "metadata": {},
     "output_type": "execute_result"
    }
   ],
   "source": [
    "data_pivot = data.pivot_table(index = ['income_group'], columns = 'debt', values = 'gender', aggfunc = 'count')\n",
    "\n",
    "data_pivot['ratio'] = round(data_pivot[1] / (data_pivot[0] + data_pivot[1]), 3)\n",
    "data_pivot.sort_values('ratio', ascending = False)"
   ]
  },
  {
   "cell_type": "markdown",
   "metadata": {},
   "source": [
    "**Вывод**"
   ]
  },
  {
   "cell_type": "markdown",
   "metadata": {},
   "source": [
    "Зависимость есть, так клиент, чей ежемесячный доход больше, чем у 75% других клиентов из выборки, с наименьшей вероятностью просрочит платежи. При этом, затем идут клиенты из группы с наименьшим уровнем доходов, вероятно, они более организованны в финансах, чем клиенты, которые получают немного больше."
   ]
  },
  {
   "cell_type": "markdown",
   "metadata": {},
   "source": [
    "- Как разные цели кредита влияют на его возврат в срок?"
   ]
  },
  {
   "cell_type": "code",
   "execution_count": 28,
   "metadata": {},
   "outputs": [
    {
     "data": {
      "text/html": [
       "<div>\n",
       "<style scoped>\n",
       "    .dataframe tbody tr th:only-of-type {\n",
       "        vertical-align: middle;\n",
       "    }\n",
       "\n",
       "    .dataframe tbody tr th {\n",
       "        vertical-align: top;\n",
       "    }\n",
       "\n",
       "    .dataframe thead th {\n",
       "        text-align: right;\n",
       "    }\n",
       "</style>\n",
       "<table border=\"1\" class=\"dataframe\">\n",
       "  <thead>\n",
       "    <tr style=\"text-align: right;\">\n",
       "      <th>debt</th>\n",
       "      <th>0</th>\n",
       "      <th>1</th>\n",
       "      <th>ratio</th>\n",
       "    </tr>\n",
       "    <tr>\n",
       "      <th>purpose_group</th>\n",
       "      <th></th>\n",
       "      <th></th>\n",
       "      <th></th>\n",
       "    </tr>\n",
       "  </thead>\n",
       "  <tbody>\n",
       "    <tr>\n",
       "      <th>автомобиль</th>\n",
       "      <td>3903</td>\n",
       "      <td>403</td>\n",
       "      <td>0.094</td>\n",
       "    </tr>\n",
       "    <tr>\n",
       "      <th>образование</th>\n",
       "      <td>3643</td>\n",
       "      <td>370</td>\n",
       "      <td>0.092</td>\n",
       "    </tr>\n",
       "    <tr>\n",
       "      <th>свадьба</th>\n",
       "      <td>2138</td>\n",
       "      <td>186</td>\n",
       "      <td>0.080</td>\n",
       "    </tr>\n",
       "    <tr>\n",
       "      <th>недвижимость</th>\n",
       "      <td>10028</td>\n",
       "      <td>782</td>\n",
       "      <td>0.072</td>\n",
       "    </tr>\n",
       "  </tbody>\n",
       "</table>\n",
       "</div>"
      ],
      "text/plain": [
       "debt               0    1  ratio\n",
       "purpose_group                   \n",
       "автомобиль      3903  403  0.094\n",
       "образование     3643  370  0.092\n",
       "свадьба         2138  186  0.080\n",
       "недвижимость   10028  782  0.072"
      ]
     },
     "execution_count": 28,
     "metadata": {},
     "output_type": "execute_result"
    }
   ],
   "source": [
    "data_pivot = data.pivot_table(index = ['purpose_group'], columns = 'debt', values = 'gender', aggfunc = 'count')\n",
    "\n",
    "data_pivot['ratio'] = round(data_pivot[1] / (data_pivot[0] + data_pivot[1]), 3)\n",
    "data_pivot.sort_values('ratio', ascending = False)"
   ]
  },
  {
   "cell_type": "markdown",
   "metadata": {},
   "source": [
    "**Вывод**"
   ]
  },
  {
   "cell_type": "markdown",
   "metadata": {},
   "source": [
    "Среди четырех категорий, которые мы выделили: \"свадьба\", \"недвижимость\", \"автомобиль\", \"образование\", самая низкая вероятность задолженности у клиентов, которые берут кредит на недвижимость, большая вероятность задолженности у клиентов, которые берут кредиты на свадьбу, затем на образование и хуже всего платят клиенты по автокредитам. Это может быть связано с тем, что клиенты в большей степени заинтересованы в приобретении (покупке, строительстве, ремонте) собственного жилья."
   ]
  },
  {
   "cell_type": "markdown",
   "metadata": {},
   "source": [
    "## Шаг 4. Общий вывод"
   ]
  },
  {
   "cell_type": "markdown",
   "metadata": {},
   "source": [
    "Таким образом, в результате анализа мы получили, что:\n",
    "1. Наличие детей влияет на возврат кредита в срок, а именно: наличие детей у клиента увеличивает вероятность просроченной задолженности.\n",
    "2. Семейное положение влияет на возврат кредита в срок, а именно: клиенты которые находятся в разводе или которых можно отнести к категории вдовец / вдова - чаще возвращают кредит в срок, чем клиенты в браке. Клиенты, которые не женаты / не замужем или находятся в гражданском браке, реже выплачивают кредит в срок, чем остальные категории.\n",
    "3. Уровень дохода влияет на возврат кредита в срок:  клиенты, которые имеют относительно других самые высокие ежемесячные доходы с наименьшей вероятностью просрочат платежи, а также клиенты из группы с наименьшим уровнем доходов.\n",
    "4. Цели кредита влияют на его возврат в срок, так: самая низкая вероятность задолженности у клиентов, которые берут кредит на недвижимость, большая вероятность задолженности у клиентов, которые берут кредиты на свадьбу, затем на образование и хуже всего платят клиенты по автокредитам."
   ]
  }
 ],
 "metadata": {
  "ExecuteTimeLog": [
   {
    "duration": 605,
    "start_time": "2021-07-19T20:10:14.087Z"
   },
   {
    "duration": 68,
    "start_time": "2021-07-19T20:12:26.400Z"
   },
   {
    "duration": 1845,
    "start_time": "2021-07-21T12:28:51.301Z"
   },
   {
    "duration": 76,
    "start_time": "2021-07-21T12:28:54.949Z"
   },
   {
    "duration": 16,
    "start_time": "2021-07-21T12:28:59.661Z"
   },
   {
    "duration": 43,
    "start_time": "2021-07-21T12:29:04.069Z"
   },
   {
    "duration": 16,
    "start_time": "2021-07-21T14:05:27.456Z"
   },
   {
    "duration": 8,
    "start_time": "2021-07-21T14:13:26.946Z"
   },
   {
    "duration": 9,
    "start_time": "2021-07-21T14:14:45.861Z"
   },
   {
    "duration": 9,
    "start_time": "2021-07-21T15:28:10.833Z"
   },
   {
    "duration": 9,
    "start_time": "2021-07-21T15:28:21.963Z"
   },
   {
    "duration": 166,
    "start_time": "2021-07-21T15:28:58.956Z"
   },
   {
    "duration": 159,
    "start_time": "2021-07-21T15:30:17.197Z"
   },
   {
    "duration": 169,
    "start_time": "2021-07-21T15:30:37.628Z"
   },
   {
    "duration": 200,
    "start_time": "2021-07-21T15:32:37.995Z"
   },
   {
    "duration": 19,
    "start_time": "2021-07-21T15:47:01.639Z"
   },
   {
    "duration": 58,
    "start_time": "2021-07-21T15:48:16.733Z"
   },
   {
    "duration": 116,
    "start_time": "2021-07-21T17:23:39.190Z"
   },
   {
    "duration": 21,
    "start_time": "2021-07-21T17:30:50.576Z"
   },
   {
    "duration": 23,
    "start_time": "2021-07-21T17:30:59.834Z"
   },
   {
    "duration": 25,
    "start_time": "2021-07-21T17:31:21.050Z"
   },
   {
    "duration": 39,
    "start_time": "2021-07-21T17:31:50.745Z"
   },
   {
    "duration": 64,
    "start_time": "2021-07-21T17:32:29.034Z"
   },
   {
    "duration": 47,
    "start_time": "2021-07-21T17:32:39.834Z"
   },
   {
    "duration": 45,
    "start_time": "2021-07-21T17:32:44.921Z"
   },
   {
    "duration": 97,
    "start_time": "2021-07-21T17:33:08.163Z"
   },
   {
    "duration": 40871,
    "start_time": "2021-07-21T17:53:11.991Z"
   },
   {
    "duration": 414,
    "start_time": "2021-07-22T11:08:12.421Z"
   },
   {
    "duration": 333,
    "start_time": "2021-07-22T11:08:33.027Z"
   },
   {
    "duration": 8,
    "start_time": "2021-07-22T11:21:08.707Z"
   },
   {
    "duration": 347,
    "start_time": "2021-07-22T11:21:12.127Z"
   },
   {
    "duration": 912,
    "start_time": "2021-07-22T11:22:59.984Z"
   },
   {
    "duration": 5201,
    "start_time": "2021-07-22T11:23:12.020Z"
   },
   {
    "duration": 78,
    "start_time": "2021-07-22T11:23:31.728Z"
   },
   {
    "duration": 365,
    "start_time": "2021-07-22T11:24:25.241Z"
   },
   {
    "duration": 33,
    "start_time": "2021-07-22T11:24:40.128Z"
   },
   {
    "duration": 26,
    "start_time": "2021-07-22T15:17:44.746Z"
   },
   {
    "duration": 391,
    "start_time": "2021-07-22T15:18:03.694Z"
   },
   {
    "duration": 58,
    "start_time": "2021-07-22T15:18:12.005Z"
   },
   {
    "duration": 61,
    "start_time": "2021-07-22T15:21:50.193Z"
   },
   {
    "duration": 15,
    "start_time": "2021-07-22T15:21:52.795Z"
   },
   {
    "duration": 21,
    "start_time": "2021-07-22T15:21:57.840Z"
   },
   {
    "duration": 48,
    "start_time": "2021-07-22T15:22:07.331Z"
   },
   {
    "duration": 6,
    "start_time": "2021-07-22T16:47:31.553Z"
   },
   {
    "duration": 102,
    "start_time": "2021-07-22T16:54:00.396Z"
   },
   {
    "duration": 22,
    "start_time": "2021-07-22T16:54:08.173Z"
   },
   {
    "duration": 28,
    "start_time": "2021-07-22T16:54:20.217Z"
   },
   {
    "duration": 15,
    "start_time": "2021-07-22T17:45:18.454Z"
   },
   {
    "duration": 11,
    "start_time": "2021-07-22T17:46:03.517Z"
   },
   {
    "duration": 107,
    "start_time": "2021-07-22T17:46:07.227Z"
   },
   {
    "duration": 12,
    "start_time": "2021-07-22T17:55:15.374Z"
   },
   {
    "duration": 56,
    "start_time": "2021-07-22T17:55:17.756Z"
   },
   {
    "duration": 6,
    "start_time": "2021-07-22T17:55:38.293Z"
   },
   {
    "duration": 54,
    "start_time": "2021-07-22T18:16:39.871Z"
   },
   {
    "duration": 20,
    "start_time": "2021-07-22T18:16:42.479Z"
   },
   {
    "duration": 53,
    "start_time": "2021-07-22T18:21:32.445Z"
   },
   {
    "duration": 15,
    "start_time": "2021-07-22T19:58:19.408Z"
   },
   {
    "duration": 7,
    "start_time": "2021-07-22T20:19:17.359Z"
   },
   {
    "duration": 315,
    "start_time": "2021-07-22T20:22:29.664Z"
   },
   {
    "duration": 7,
    "start_time": "2021-07-22T20:24:13.375Z"
   },
   {
    "duration": 380,
    "start_time": "2021-07-22T20:25:15.629Z"
   },
   {
    "duration": 316,
    "start_time": "2021-07-22T20:25:24.149Z"
   },
   {
    "duration": 336,
    "start_time": "2021-07-22T20:25:46.997Z"
   },
   {
    "duration": 336,
    "start_time": "2021-07-22T20:26:53.803Z"
   },
   {
    "duration": 365,
    "start_time": "2021-07-22T20:27:57.523Z"
   },
   {
    "duration": 61,
    "start_time": "2021-07-22T20:28:06.445Z"
   },
   {
    "duration": 14,
    "start_time": "2021-07-22T20:28:17.038Z"
   },
   {
    "duration": 22,
    "start_time": "2021-07-22T20:28:20.809Z"
   },
   {
    "duration": 64,
    "start_time": "2021-07-22T20:28:24.295Z"
   },
   {
    "duration": 6,
    "start_time": "2021-07-22T20:28:28.318Z"
   },
   {
    "duration": 22,
    "start_time": "2021-07-22T20:28:32.466Z"
   },
   {
    "duration": 11,
    "start_time": "2021-07-22T20:28:35.715Z"
   },
   {
    "duration": 9,
    "start_time": "2021-07-22T20:28:38.304Z"
   },
   {
    "duration": 57,
    "start_time": "2021-07-22T20:28:40.578Z"
   },
   {
    "duration": 17,
    "start_time": "2021-07-22T20:28:44.481Z"
   },
   {
    "duration": 10,
    "start_time": "2021-07-22T20:28:47.153Z"
   },
   {
    "duration": 10,
    "start_time": "2021-07-22T20:28:54.643Z"
   },
   {
    "duration": 194,
    "start_time": "2021-07-22T20:28:57.131Z"
   },
   {
    "duration": 7,
    "start_time": "2021-07-22T20:29:05.593Z"
   },
   {
    "duration": 8,
    "start_time": "2021-07-22T20:29:10.157Z"
   },
   {
    "duration": 21,
    "start_time": "2021-07-22T20:29:28.483Z"
   },
   {
    "duration": 19,
    "start_time": "2021-07-22T20:30:38.533Z"
   },
   {
    "duration": 43,
    "start_time": "2021-07-22T20:31:09.059Z"
   },
   {
    "duration": 44,
    "start_time": "2021-07-22T20:31:45.125Z"
   },
   {
    "duration": 45,
    "start_time": "2021-07-22T20:31:49.460Z"
   },
   {
    "duration": 10,
    "start_time": "2021-07-22T20:33:25.730Z"
   },
   {
    "duration": 104,
    "start_time": "2021-07-22T20:37:00.767Z"
   },
   {
    "duration": 71,
    "start_time": "2021-07-22T20:43:47.606Z"
   },
   {
    "duration": 77,
    "start_time": "2021-07-22T20:46:56.675Z"
   },
   {
    "duration": 73,
    "start_time": "2021-07-22T20:47:08.711Z"
   },
   {
    "duration": 10,
    "start_time": "2021-07-22T20:47:24.416Z"
   },
   {
    "duration": 74,
    "start_time": "2021-07-22T20:47:28.911Z"
   },
   {
    "duration": 62,
    "start_time": "2021-07-22T20:48:20.971Z"
   },
   {
    "duration": 59,
    "start_time": "2021-07-22T20:48:36.919Z"
   },
   {
    "duration": 91,
    "start_time": "2021-07-22T20:49:13.193Z"
   },
   {
    "duration": 82,
    "start_time": "2021-07-22T20:49:25.527Z"
   },
   {
    "duration": 21,
    "start_time": "2021-07-22T20:49:27.359Z"
   },
   {
    "duration": 32,
    "start_time": "2021-07-22T20:49:30.425Z"
   },
   {
    "duration": 48,
    "start_time": "2021-07-22T20:49:32.567Z"
   },
   {
    "duration": 7,
    "start_time": "2021-07-22T20:49:36.143Z"
   },
   {
    "duration": 22,
    "start_time": "2021-07-22T20:49:38.519Z"
   },
   {
    "duration": 12,
    "start_time": "2021-07-22T20:49:40.839Z"
   },
   {
    "duration": 9,
    "start_time": "2021-07-22T20:49:43.230Z"
   },
   {
    "duration": 61,
    "start_time": "2021-07-22T20:49:45.223Z"
   },
   {
    "duration": 17,
    "start_time": "2021-07-22T20:49:51.830Z"
   },
   {
    "duration": 11,
    "start_time": "2021-07-22T20:50:00.215Z"
   },
   {
    "duration": 11,
    "start_time": "2021-07-22T20:50:03.023Z"
   },
   {
    "duration": 205,
    "start_time": "2021-07-22T20:50:05.408Z"
   },
   {
    "duration": 6,
    "start_time": "2021-07-22T20:50:10.265Z"
   },
   {
    "duration": 11,
    "start_time": "2021-07-22T20:50:12.607Z"
   },
   {
    "duration": 68,
    "start_time": "2021-07-22T20:50:17.359Z"
   },
   {
    "duration": 26,
    "start_time": "2021-07-22T20:57:32.954Z"
   },
   {
    "duration": 11,
    "start_time": "2021-07-22T20:57:36.682Z"
   },
   {
    "duration": 67,
    "start_time": "2021-07-22T20:58:00.625Z"
   },
   {
    "duration": 4,
    "start_time": "2021-07-22T20:58:06.240Z"
   },
   {
    "duration": 11,
    "start_time": "2021-07-22T20:58:08.042Z"
   },
   {
    "duration": 2496,
    "start_time": "2021-07-22T20:59:42.154Z"
   },
   {
    "duration": 12140,
    "start_time": "2021-07-22T21:00:13.341Z"
   },
   {
    "duration": 3978,
    "start_time": "2021-07-22T21:00:48.852Z"
   },
   {
    "duration": 6275,
    "start_time": "2021-07-22T21:01:51.099Z"
   },
   {
    "duration": 32,
    "start_time": "2021-07-22T21:02:02.442Z"
   },
   {
    "duration": 11,
    "start_time": "2021-07-22T21:02:04.674Z"
   },
   {
    "duration": 6945,
    "start_time": "2021-07-22T21:02:07.627Z"
   },
   {
    "duration": 66,
    "start_time": "2021-07-22T21:02:25.985Z"
   },
   {
    "duration": 15,
    "start_time": "2021-07-22T21:02:28.132Z"
   },
   {
    "duration": 35,
    "start_time": "2021-07-22T21:02:30.884Z"
   },
   {
    "duration": 45,
    "start_time": "2021-07-22T21:02:33.785Z"
   },
   {
    "duration": 6,
    "start_time": "2021-07-22T21:02:37.899Z"
   },
   {
    "duration": 21,
    "start_time": "2021-07-22T21:02:40.779Z"
   },
   {
    "duration": 11,
    "start_time": "2021-07-22T21:02:43.473Z"
   },
   {
    "duration": 10,
    "start_time": "2021-07-22T21:02:45.970Z"
   },
   {
    "duration": 61,
    "start_time": "2021-07-22T21:02:48.299Z"
   },
   {
    "duration": 16,
    "start_time": "2021-07-22T21:02:51.025Z"
   },
   {
    "duration": 9,
    "start_time": "2021-07-22T21:02:53.380Z"
   },
   {
    "duration": 9,
    "start_time": "2021-07-22T21:02:55.929Z"
   },
   {
    "duration": 209,
    "start_time": "2021-07-22T21:02:58.925Z"
   },
   {
    "duration": 7,
    "start_time": "2021-07-22T21:03:03.297Z"
   },
   {
    "duration": 11,
    "start_time": "2021-07-22T21:03:07.170Z"
   },
   {
    "duration": 67,
    "start_time": "2021-07-22T21:03:10.674Z"
   },
   {
    "duration": 33,
    "start_time": "2021-07-22T21:03:14.850Z"
   },
   {
    "duration": 10,
    "start_time": "2021-07-22T21:03:17.074Z"
   },
   {
    "duration": 7280,
    "start_time": "2021-07-22T21:03:19.810Z"
   },
   {
    "duration": 34,
    "start_time": "2021-07-22T21:04:00.795Z"
   },
   {
    "duration": 8446,
    "start_time": "2021-07-22T21:04:04.937Z"
   },
   {
    "duration": 2505,
    "start_time": "2021-07-22T21:04:35.251Z"
   },
   {
    "duration": 927,
    "start_time": "2021-07-23T10:11:03.426Z"
   },
   {
    "duration": 16,
    "start_time": "2021-07-23T10:11:06.286Z"
   },
   {
    "duration": 34,
    "start_time": "2021-07-23T10:11:09.369Z"
   },
   {
    "duration": 50,
    "start_time": "2021-07-23T10:11:15.144Z"
   },
   {
    "duration": 6,
    "start_time": "2021-07-23T10:11:22.616Z"
   },
   {
    "duration": 22,
    "start_time": "2021-07-23T10:11:32.175Z"
   },
   {
    "duration": 11,
    "start_time": "2021-07-23T10:11:37.182Z"
   },
   {
    "duration": 55,
    "start_time": "2021-07-23T10:11:51.646Z"
   },
   {
    "duration": 16,
    "start_time": "2021-07-23T10:12:00.782Z"
   },
   {
    "duration": 10,
    "start_time": "2021-07-23T10:12:13.981Z"
   },
   {
    "duration": 9,
    "start_time": "2021-07-23T10:12:19.063Z"
   },
   {
    "duration": 7,
    "start_time": "2021-07-23T10:12:50.749Z"
   },
   {
    "duration": 494,
    "start_time": "2021-07-23T10:12:54.527Z"
   },
   {
    "duration": 381,
    "start_time": "2021-07-23T10:13:16.319Z"
   },
   {
    "duration": 420,
    "start_time": "2021-07-23T10:14:01.843Z"
   },
   {
    "duration": 399,
    "start_time": "2021-07-23T10:16:21.288Z"
   },
   {
    "duration": 63,
    "start_time": "2021-07-23T10:17:52.941Z"
   },
   {
    "duration": 14,
    "start_time": "2021-07-23T10:17:55.959Z"
   },
   {
    "duration": 23,
    "start_time": "2021-07-23T10:17:58.695Z"
   },
   {
    "duration": 47,
    "start_time": "2021-07-23T10:18:00.885Z"
   },
   {
    "duration": 6,
    "start_time": "2021-07-23T10:18:05.534Z"
   },
   {
    "duration": 6,
    "start_time": "2021-07-23T10:18:10.853Z"
   },
   {
    "duration": 21,
    "start_time": "2021-07-23T10:18:13.349Z"
   },
   {
    "duration": 12,
    "start_time": "2021-07-23T10:18:17.079Z"
   },
   {
    "duration": 9,
    "start_time": "2021-07-23T10:18:19.479Z"
   },
   {
    "duration": 59,
    "start_time": "2021-07-23T10:18:21.775Z"
   },
   {
    "duration": 16,
    "start_time": "2021-07-23T10:18:24.829Z"
   },
   {
    "duration": 10,
    "start_time": "2021-07-23T10:18:28.375Z"
   },
   {
    "duration": 11,
    "start_time": "2021-07-23T10:18:31.885Z"
   },
   {
    "duration": 200,
    "start_time": "2021-07-23T10:18:34.977Z"
   },
   {
    "duration": 8,
    "start_time": "2021-07-23T10:18:38.983Z"
   },
   {
    "duration": 18,
    "start_time": "2021-07-23T10:18:42.078Z"
   },
   {
    "duration": 11,
    "start_time": "2021-07-23T10:19:27.164Z"
   },
   {
    "duration": 10,
    "start_time": "2021-07-23T10:20:24.574Z"
   },
   {
    "duration": 32,
    "start_time": "2021-07-23T10:21:15.277Z"
   },
   {
    "duration": 67,
    "start_time": "2021-07-23T10:21:28.549Z"
   },
   {
    "duration": 10,
    "start_time": "2021-07-23T10:21:53.773Z"
   },
   {
    "duration": 10,
    "start_time": "2021-07-23T10:21:58.173Z"
   },
   {
    "duration": 397,
    "start_time": "2021-07-23T10:26:55.097Z"
   },
   {
    "duration": 4810,
    "start_time": "2021-07-23T10:27:27.344Z"
   },
   {
    "duration": 64,
    "start_time": "2021-07-23T10:28:51.166Z"
   },
   {
    "duration": 45,
    "start_time": "2021-07-23T10:29:23.315Z"
   },
   {
    "duration": 3772,
    "start_time": "2021-07-23T10:34:12.753Z"
   },
   {
    "duration": 3821,
    "start_time": "2021-07-23T10:34:36.841Z"
   },
   {
    "duration": 3924,
    "start_time": "2021-07-23T10:35:35.423Z"
   },
   {
    "duration": 33,
    "start_time": "2021-07-23T10:35:46.924Z"
   },
   {
    "duration": 11,
    "start_time": "2021-07-23T10:35:49.076Z"
   },
   {
    "duration": 4967,
    "start_time": "2021-07-23T10:35:53.495Z"
   },
   {
    "duration": 63,
    "start_time": "2021-07-23T10:36:06.157Z"
   },
   {
    "duration": 15,
    "start_time": "2021-07-23T10:36:08.509Z"
   },
   {
    "duration": 21,
    "start_time": "2021-07-23T10:36:11.337Z"
   },
   {
    "duration": 46,
    "start_time": "2021-07-23T10:36:14.509Z"
   },
   {
    "duration": 6,
    "start_time": "2021-07-23T10:36:21.045Z"
   },
   {
    "duration": 21,
    "start_time": "2021-07-23T10:36:24.140Z"
   },
   {
    "duration": 11,
    "start_time": "2021-07-23T10:36:37.079Z"
   },
   {
    "duration": 9,
    "start_time": "2021-07-23T10:36:41.308Z"
   },
   {
    "duration": 58,
    "start_time": "2021-07-23T10:36:45.732Z"
   },
   {
    "duration": 16,
    "start_time": "2021-07-23T10:36:50.092Z"
   },
   {
    "duration": 9,
    "start_time": "2021-07-23T10:36:54.716Z"
   },
   {
    "duration": 10,
    "start_time": "2021-07-23T10:36:57.885Z"
   },
   {
    "duration": 202,
    "start_time": "2021-07-23T10:37:02.823Z"
   },
   {
    "duration": 8,
    "start_time": "2021-07-23T10:37:07.542Z"
   },
   {
    "duration": 11,
    "start_time": "2021-07-23T10:37:12.533Z"
   },
   {
    "duration": 75,
    "start_time": "2021-07-23T10:37:19.677Z"
   },
   {
    "duration": 28,
    "start_time": "2021-07-23T10:37:23.516Z"
   },
   {
    "duration": 10,
    "start_time": "2021-07-23T10:37:27.550Z"
   },
   {
    "duration": 4861,
    "start_time": "2021-07-23T10:37:32.535Z"
   },
   {
    "duration": 10,
    "start_time": "2021-07-23T10:39:13.565Z"
   },
   {
    "duration": 3777,
    "start_time": "2021-07-23T10:40:26.796Z"
   },
   {
    "duration": 106,
    "start_time": "2021-07-23T12:06:55.119Z"
   },
   {
    "duration": 54,
    "start_time": "2021-07-23T12:08:02.070Z"
   },
   {
    "duration": 506,
    "start_time": "2021-07-23T12:09:50.936Z"
   },
   {
    "duration": 49,
    "start_time": "2021-07-23T12:09:56.719Z"
   },
   {
    "duration": 135,
    "start_time": "2021-07-23T12:56:46.605Z"
   },
   {
    "duration": 10,
    "start_time": "2021-07-23T12:56:57.842Z"
   },
   {
    "duration": 75,
    "start_time": "2021-07-23T13:32:48.115Z"
   },
   {
    "duration": 3780,
    "start_time": "2021-07-23T13:43:02.291Z"
   },
   {
    "duration": 3559,
    "start_time": "2021-07-23T13:43:20.143Z"
   },
   {
    "duration": 3663,
    "start_time": "2021-07-23T13:43:48.455Z"
   },
   {
    "duration": 3636,
    "start_time": "2021-07-23T13:44:06.990Z"
   },
   {
    "duration": 3569,
    "start_time": "2021-07-23T13:44:47.933Z"
   },
   {
    "duration": 131,
    "start_time": "2021-07-23T13:52:46.182Z"
   },
   {
    "duration": 4088,
    "start_time": "2021-07-23T14:01:09.404Z"
   },
   {
    "duration": 15,
    "start_time": "2021-07-23T14:01:22.430Z"
   },
   {
    "duration": 12,
    "start_time": "2021-07-23T14:23:13.354Z"
   },
   {
    "duration": 1026,
    "start_time": "2021-07-23T14:46:01.252Z"
   },
   {
    "duration": 1054,
    "start_time": "2021-07-23T14:52:47.573Z"
   },
   {
    "duration": 989,
    "start_time": "2021-07-23T14:53:51.915Z"
   },
   {
    "duration": 15,
    "start_time": "2021-07-23T14:54:02.187Z"
   },
   {
    "duration": 11,
    "start_time": "2021-07-23T14:54:42.023Z"
   },
   {
    "duration": 12,
    "start_time": "2021-07-23T14:54:48.665Z"
   },
   {
    "duration": 1080,
    "start_time": "2021-07-23T14:55:39.033Z"
   },
   {
    "duration": 63,
    "start_time": "2021-07-23T14:57:44.499Z"
   },
   {
    "duration": 15,
    "start_time": "2021-07-23T14:57:47.018Z"
   },
   {
    "duration": 21,
    "start_time": "2021-07-23T14:57:50.481Z"
   },
   {
    "duration": 44,
    "start_time": "2021-07-23T14:57:56.030Z"
   },
   {
    "duration": 6,
    "start_time": "2021-07-23T14:58:00.765Z"
   },
   {
    "duration": 24,
    "start_time": "2021-07-23T14:58:03.620Z"
   },
   {
    "duration": 12,
    "start_time": "2021-07-23T14:58:07.194Z"
   },
   {
    "duration": 9,
    "start_time": "2021-07-23T14:58:10.996Z"
   },
   {
    "duration": 85,
    "start_time": "2021-07-23T14:58:15.030Z"
   },
   {
    "duration": 16,
    "start_time": "2021-07-23T14:58:19.123Z"
   },
   {
    "duration": 10,
    "start_time": "2021-07-23T14:58:22.691Z"
   },
   {
    "duration": 10,
    "start_time": "2021-07-23T14:58:26.901Z"
   },
   {
    "duration": 220,
    "start_time": "2021-07-23T14:58:30.443Z"
   },
   {
    "duration": 8,
    "start_time": "2021-07-23T14:58:35.932Z"
   },
   {
    "duration": 14,
    "start_time": "2021-07-23T14:58:39.972Z"
   },
   {
    "duration": 63,
    "start_time": "2021-07-23T14:58:44.446Z"
   },
   {
    "duration": 29,
    "start_time": "2021-07-23T14:58:51.684Z"
   },
   {
    "duration": 15,
    "start_time": "2021-07-23T14:58:55.517Z"
   },
   {
    "duration": 5062,
    "start_time": "2021-07-23T14:58:59.933Z"
   },
   {
    "duration": 23,
    "start_time": "2021-07-23T14:59:09.244Z"
   },
   {
    "duration": 13,
    "start_time": "2021-07-23T14:59:15.413Z"
   },
   {
    "duration": 995,
    "start_time": "2021-07-23T14:59:55.937Z"
   },
   {
    "duration": 16,
    "start_time": "2021-07-23T16:01:22.184Z"
   },
   {
    "duration": 19,
    "start_time": "2021-07-23T16:01:48.172Z"
   },
   {
    "duration": 14,
    "start_time": "2021-07-23T16:26:34.481Z"
   },
   {
    "duration": 31,
    "start_time": "2021-07-23T17:49:53.647Z"
   },
   {
    "duration": 40,
    "start_time": "2021-07-23T17:51:22.025Z"
   },
   {
    "duration": 31,
    "start_time": "2021-07-23T17:51:37.000Z"
   },
   {
    "duration": 398,
    "start_time": "2021-07-23T17:52:11.442Z"
   },
   {
    "duration": 495,
    "start_time": "2021-07-23T17:52:20.355Z"
   },
   {
    "duration": 409,
    "start_time": "2021-07-23T17:52:24.705Z"
   },
   {
    "duration": 9225,
    "start_time": "2021-07-23T17:52:50.570Z"
   },
   {
    "duration": 9949,
    "start_time": "2021-07-23T17:53:05.496Z"
   },
   {
    "duration": 14,
    "start_time": "2021-07-23T17:53:49.344Z"
   },
   {
    "duration": 10409,
    "start_time": "2021-07-23T17:53:53.152Z"
   },
   {
    "duration": 32,
    "start_time": "2021-07-23T17:54:42.015Z"
   },
   {
    "duration": 15,
    "start_time": "2021-07-23T17:55:18.816Z"
   },
   {
    "duration": 24,
    "start_time": "2021-07-23T17:55:21.712Z"
   },
   {
    "duration": 408,
    "start_time": "2021-07-23T17:57:20.686Z"
   },
   {
    "duration": 22,
    "start_time": "2021-07-23T17:57:28.426Z"
   },
   {
    "duration": 28,
    "start_time": "2021-07-23T17:57:50.736Z"
   },
   {
    "duration": 29,
    "start_time": "2021-07-23T17:58:00.129Z"
   },
   {
    "duration": 29,
    "start_time": "2021-07-23T17:59:22.281Z"
   },
   {
    "duration": 63,
    "start_time": "2021-07-23T18:08:17.516Z"
   },
   {
    "duration": 16,
    "start_time": "2021-07-23T18:08:21.201Z"
   },
   {
    "duration": 22,
    "start_time": "2021-07-23T18:08:24.490Z"
   },
   {
    "duration": 64,
    "start_time": "2021-07-23T18:10:05.175Z"
   },
   {
    "duration": 15,
    "start_time": "2021-07-23T18:10:08.558Z"
   },
   {
    "duration": 21,
    "start_time": "2021-07-23T18:10:12.367Z"
   },
   {
    "duration": 46,
    "start_time": "2021-07-23T18:10:21.117Z"
   },
   {
    "duration": 6,
    "start_time": "2021-07-23T18:10:25.158Z"
   },
   {
    "duration": 21,
    "start_time": "2021-07-23T18:10:28.118Z"
   },
   {
    "duration": 11,
    "start_time": "2021-07-23T18:10:30.974Z"
   },
   {
    "duration": 11,
    "start_time": "2021-07-23T18:10:35.013Z"
   },
   {
    "duration": 62,
    "start_time": "2021-07-23T18:10:38.006Z"
   },
   {
    "duration": 16,
    "start_time": "2021-07-23T18:10:49.277Z"
   },
   {
    "duration": 9,
    "start_time": "2021-07-23T18:10:52.695Z"
   },
   {
    "duration": 9,
    "start_time": "2021-07-23T18:10:56.061Z"
   },
   {
    "duration": 196,
    "start_time": "2021-07-23T18:11:00.291Z"
   },
   {
    "duration": 7,
    "start_time": "2021-07-23T18:11:06.414Z"
   },
   {
    "duration": 11,
    "start_time": "2021-07-23T18:11:10.829Z"
   },
   {
    "duration": 64,
    "start_time": "2021-07-23T18:11:16.750Z"
   },
   {
    "duration": 31,
    "start_time": "2021-07-23T18:11:21.061Z"
   },
   {
    "duration": 11,
    "start_time": "2021-07-23T18:11:24.253Z"
   },
   {
    "duration": 4609,
    "start_time": "2021-07-23T18:11:28.166Z"
   },
   {
    "duration": 21,
    "start_time": "2021-07-23T18:11:32.786Z"
   },
   {
    "duration": 12,
    "start_time": "2021-07-23T18:11:44.061Z"
   },
   {
    "duration": 986,
    "start_time": "2021-07-23T18:11:48.790Z"
   },
   {
    "duration": 33,
    "start_time": "2021-07-23T18:11:55.278Z"
   },
   {
    "duration": 32,
    "start_time": "2021-07-23T18:12:27.470Z"
   },
   {
    "duration": 30,
    "start_time": "2021-07-23T18:12:38.143Z"
   },
   {
    "duration": 32,
    "start_time": "2021-07-23T18:12:46.151Z"
   },
   {
    "duration": 71,
    "start_time": "2021-07-23T19:20:32.522Z"
   },
   {
    "duration": 17,
    "start_time": "2021-07-23T19:20:35.617Z"
   },
   {
    "duration": 28,
    "start_time": "2021-07-23T19:20:40.044Z"
   },
   {
    "duration": 48,
    "start_time": "2021-07-23T19:20:47.410Z"
   },
   {
    "duration": 7,
    "start_time": "2021-07-23T19:20:52.782Z"
   },
   {
    "duration": 22,
    "start_time": "2021-07-23T19:20:55.506Z"
   },
   {
    "duration": 12,
    "start_time": "2021-07-23T19:20:59.418Z"
   },
   {
    "duration": 10,
    "start_time": "2021-07-23T19:21:03.025Z"
   },
   {
    "duration": 55,
    "start_time": "2021-07-23T19:21:06.106Z"
   },
   {
    "duration": 16,
    "start_time": "2021-07-23T19:21:10.384Z"
   },
   {
    "duration": 10,
    "start_time": "2021-07-23T19:21:14.273Z"
   },
   {
    "duration": 9,
    "start_time": "2021-07-23T19:21:17.545Z"
   },
   {
    "duration": 191,
    "start_time": "2021-07-23T19:21:21.522Z"
   },
   {
    "duration": 7,
    "start_time": "2021-07-23T19:21:26.756Z"
   },
   {
    "duration": 11,
    "start_time": "2021-07-23T19:21:29.969Z"
   },
   {
    "duration": 64,
    "start_time": "2021-07-23T19:21:34.561Z"
   },
   {
    "duration": 30,
    "start_time": "2021-07-23T19:21:38.512Z"
   },
   {
    "duration": 11,
    "start_time": "2021-07-23T19:21:41.673Z"
   },
   {
    "duration": 4369,
    "start_time": "2021-07-23T19:21:46.105Z"
   },
   {
    "duration": 22,
    "start_time": "2021-07-23T19:21:50.487Z"
   },
   {
    "duration": 14,
    "start_time": "2021-07-23T19:21:58.864Z"
   },
   {
    "duration": 973,
    "start_time": "2021-07-23T19:22:04.594Z"
   },
   {
    "duration": 46,
    "start_time": "2021-07-23T19:22:11.565Z"
   },
   {
    "duration": 619,
    "start_time": "2021-07-24T06:58:49.274Z"
   },
   {
    "duration": 12,
    "start_time": "2021-07-24T06:58:56.008Z"
   },
   {
    "duration": 21,
    "start_time": "2021-07-24T06:59:01.743Z"
   },
   {
    "duration": 31,
    "start_time": "2021-07-24T06:59:07.926Z"
   },
   {
    "duration": 5,
    "start_time": "2021-07-24T06:59:14.751Z"
   },
   {
    "duration": 17,
    "start_time": "2021-07-24T06:59:17.986Z"
   },
   {
    "duration": 8,
    "start_time": "2021-07-24T06:59:22.214Z"
   },
   {
    "duration": 8,
    "start_time": "2021-07-24T06:59:26.518Z"
   },
   {
    "duration": 39,
    "start_time": "2021-07-24T06:59:31.272Z"
   },
   {
    "duration": 12,
    "start_time": "2021-07-24T06:59:35.718Z"
   },
   {
    "duration": 7,
    "start_time": "2021-07-24T06:59:39.735Z"
   },
   {
    "duration": 8,
    "start_time": "2021-07-24T06:59:43.097Z"
   },
   {
    "duration": 130,
    "start_time": "2021-07-24T06:59:47.537Z"
   },
   {
    "duration": 6,
    "start_time": "2021-07-24T06:59:54.263Z"
   },
   {
    "duration": 9,
    "start_time": "2021-07-24T06:59:58.406Z"
   },
   {
    "duration": 45,
    "start_time": "2021-07-24T07:00:04.254Z"
   },
   {
    "duration": 5,
    "start_time": "2021-07-24T07:00:08.447Z"
   },
   {
    "duration": 7,
    "start_time": "2021-07-24T07:00:11.862Z"
   },
   {
    "duration": 3387,
    "start_time": "2021-07-24T07:00:18.168Z"
   },
   {
    "duration": 16,
    "start_time": "2021-07-24T07:00:26.073Z"
   },
   {
    "duration": 9,
    "start_time": "2021-07-24T07:00:31.559Z"
   },
   {
    "duration": 586,
    "start_time": "2021-07-24T07:00:35.799Z"
   },
   {
    "duration": 25,
    "start_time": "2021-07-24T07:17:00.221Z"
   },
   {
    "duration": 20,
    "start_time": "2021-07-24T07:17:19.698Z"
   },
   {
    "duration": 21,
    "start_time": "2021-07-24T07:18:34.695Z"
   },
   {
    "duration": 21,
    "start_time": "2021-07-24T07:18:41.151Z"
   },
   {
    "duration": 11,
    "start_time": "2021-07-24T15:19:13.966Z"
   },
   {
    "duration": 4494,
    "start_time": "2021-07-24T15:19:20.573Z"
   },
   {
    "duration": 52,
    "start_time": "2021-07-24T15:19:59.042Z"
   },
   {
    "duration": 10,
    "start_time": "2021-07-24T15:20:01.122Z"
   },
   {
    "duration": 14,
    "start_time": "2021-07-24T15:20:06.760Z"
   },
   {
    "duration": 32,
    "start_time": "2021-07-24T15:20:14.903Z"
   },
   {
    "duration": 5,
    "start_time": "2021-07-24T15:20:19.555Z"
   },
   {
    "duration": 15,
    "start_time": "2021-07-24T15:20:21.925Z"
   },
   {
    "duration": 8,
    "start_time": "2021-07-24T15:20:24.955Z"
   },
   {
    "duration": 9,
    "start_time": "2021-07-24T15:20:33.404Z"
   },
   {
    "duration": 43,
    "start_time": "2021-07-24T15:20:41.398Z"
   },
   {
    "duration": 12,
    "start_time": "2021-07-24T15:20:46.756Z"
   },
   {
    "duration": 10,
    "start_time": "2021-07-24T15:20:54.205Z"
   },
   {
    "duration": 11,
    "start_time": "2021-07-24T15:20:59.398Z"
   },
   {
    "duration": 130,
    "start_time": "2021-07-24T15:21:07.424Z"
   },
   {
    "duration": 9,
    "start_time": "2021-07-24T15:21:15.482Z"
   },
   {
    "duration": 8,
    "start_time": "2021-07-24T15:21:18.955Z"
   },
   {
    "duration": 43,
    "start_time": "2021-07-24T15:21:24.323Z"
   },
   {
    "duration": 26,
    "start_time": "2021-07-24T15:21:27.627Z"
   },
   {
    "duration": 7,
    "start_time": "2021-07-24T15:21:30.467Z"
   },
   {
    "duration": 3709,
    "start_time": "2021-07-24T15:21:35.163Z"
   },
   {
    "duration": 15,
    "start_time": "2021-07-24T15:21:45.028Z"
   },
   {
    "duration": 9,
    "start_time": "2021-07-24T15:21:55.564Z"
   },
   {
    "duration": 632,
    "start_time": "2021-07-24T15:21:58.855Z"
   },
   {
    "duration": 11,
    "start_time": "2021-07-24T15:22:28.709Z"
   },
   {
    "duration": 4309,
    "start_time": "2021-07-24T15:22:32.172Z"
   },
   {
    "duration": 22,
    "start_time": "2021-07-24T15:23:39.438Z"
   },
   {
    "duration": 10,
    "start_time": "2021-07-24T15:24:08.675Z"
   },
   {
    "duration": 4453,
    "start_time": "2021-07-24T15:24:11.645Z"
   },
   {
    "duration": 9,
    "start_time": "2021-07-24T15:24:55.148Z"
   },
   {
    "duration": 331,
    "start_time": "2021-07-24T17:51:54.740Z"
   },
   {
    "duration": 804,
    "start_time": "2021-07-24T17:52:02.097Z"
   },
   {
    "duration": 15,
    "start_time": "2021-07-24T17:52:06.119Z"
   },
   {
    "duration": 31,
    "start_time": "2021-07-24T17:52:08.632Z"
   },
   {
    "duration": 46,
    "start_time": "2021-07-24T17:52:11.631Z"
   },
   {
    "duration": 6,
    "start_time": "2021-07-24T17:52:15.678Z"
   },
   {
    "duration": 21,
    "start_time": "2021-07-24T17:52:17.877Z"
   },
   {
    "duration": 11,
    "start_time": "2021-07-24T17:52:21.079Z"
   },
   {
    "duration": 9,
    "start_time": "2021-07-24T17:52:24.159Z"
   },
   {
    "duration": 56,
    "start_time": "2021-07-24T17:52:29.263Z"
   },
   {
    "duration": 15,
    "start_time": "2021-07-24T17:52:46.167Z"
   },
   {
    "duration": 8,
    "start_time": "2021-07-24T17:52:50.951Z"
   },
   {
    "duration": 9,
    "start_time": "2021-07-24T17:52:53.429Z"
   },
   {
    "duration": 197,
    "start_time": "2021-07-24T17:52:57.304Z"
   },
   {
    "duration": 7,
    "start_time": "2021-07-24T17:53:02.007Z"
   },
   {
    "duration": 11,
    "start_time": "2021-07-24T17:53:05.277Z"
   },
   {
    "duration": 63,
    "start_time": "2021-07-24T17:53:09.159Z"
   },
   {
    "duration": 10,
    "start_time": "2021-07-24T17:53:12.581Z"
   },
   {
    "duration": 10,
    "start_time": "2021-07-24T17:53:16.398Z"
   },
   {
    "duration": 4472,
    "start_time": "2021-07-24T17:53:20.398Z"
   },
   {
    "duration": 22,
    "start_time": "2021-07-24T17:53:29.245Z"
   },
   {
    "duration": 11,
    "start_time": "2021-07-24T17:53:43.190Z"
   },
   {
    "duration": 1080,
    "start_time": "2021-07-24T17:53:46.553Z"
   },
   {
    "duration": 15,
    "start_time": "2021-07-24T17:53:53.607Z"
   },
   {
    "duration": 25,
    "start_time": "2021-07-24T17:54:22.586Z"
   },
   {
    "duration": 40,
    "start_time": "2021-07-24T18:21:27.148Z"
   },
   {
    "duration": 31,
    "start_time": "2021-07-24T18:21:31.993Z"
   },
   {
    "duration": 60,
    "start_time": "2021-07-24T19:02:55.347Z"
   },
   {
    "duration": 20,
    "start_time": "2021-07-24T19:02:57.668Z"
   },
   {
    "duration": 20,
    "start_time": "2021-07-24T19:03:00.636Z"
   },
   {
    "duration": 43,
    "start_time": "2021-07-24T19:03:03.714Z"
   },
   {
    "duration": 6,
    "start_time": "2021-07-24T19:03:08.937Z"
   },
   {
    "duration": 22,
    "start_time": "2021-07-24T19:03:11.139Z"
   },
   {
    "duration": 11,
    "start_time": "2021-07-24T19:03:13.539Z"
   },
   {
    "duration": 9,
    "start_time": "2021-07-24T19:03:15.915Z"
   },
   {
    "duration": 60,
    "start_time": "2021-07-24T19:03:19.605Z"
   },
   {
    "duration": 15,
    "start_time": "2021-07-24T19:03:22.614Z"
   },
   {
    "duration": 10,
    "start_time": "2021-07-24T19:03:25.024Z"
   },
   {
    "duration": 201,
    "start_time": "2021-07-24T19:03:29.086Z"
   },
   {
    "duration": 7,
    "start_time": "2021-07-24T19:03:33.592Z"
   },
   {
    "duration": 11,
    "start_time": "2021-07-24T19:03:36.360Z"
   },
   {
    "duration": 64,
    "start_time": "2021-07-24T19:03:39.426Z"
   },
   {
    "duration": 26,
    "start_time": "2021-07-24T19:03:42.629Z"
   },
   {
    "duration": 11,
    "start_time": "2021-07-24T19:03:45.266Z"
   },
   {
    "duration": 4504,
    "start_time": "2021-07-24T19:03:48.434Z"
   },
   {
    "duration": 21,
    "start_time": "2021-07-24T19:03:52.941Z"
   },
   {
    "duration": 13,
    "start_time": "2021-07-24T19:03:54.090Z"
   },
   {
    "duration": 1068,
    "start_time": "2021-07-24T19:03:56.761Z"
   },
   {
    "duration": 14,
    "start_time": "2021-07-24T19:04:00.898Z"
   },
   {
    "duration": 25,
    "start_time": "2021-07-24T19:04:03.842Z"
   },
   {
    "duration": 33,
    "start_time": "2021-07-24T19:04:06.322Z"
   },
   {
    "duration": 31,
    "start_time": "2021-07-24T19:04:09.434Z"
   },
   {
    "duration": 32,
    "start_time": "2021-07-24T19:04:12.074Z"
   },
   {
    "duration": 62,
    "start_time": "2021-07-24T19:20:25.780Z"
   },
   {
    "duration": 824,
    "start_time": "2021-07-24T21:29:32.213Z"
   },
   {
    "duration": 15,
    "start_time": "2021-07-24T21:29:33.040Z"
   },
   {
    "duration": 42,
    "start_time": "2021-07-24T21:29:33.059Z"
   },
   {
    "duration": 46,
    "start_time": "2021-07-24T21:29:33.103Z"
   },
   {
    "duration": 34,
    "start_time": "2021-07-24T21:29:33.151Z"
   },
   {
    "duration": 24,
    "start_time": "2021-07-24T21:29:33.188Z"
   },
   {
    "duration": 14,
    "start_time": "2021-07-24T21:29:33.215Z"
   },
   {
    "duration": 13,
    "start_time": "2021-07-24T21:29:33.231Z"
   },
   {
    "duration": 61,
    "start_time": "2021-07-24T21:29:33.285Z"
   },
   {
    "duration": 37,
    "start_time": "2021-07-24T21:29:33.349Z"
   },
   {
    "duration": 9,
    "start_time": "2021-07-24T21:29:33.388Z"
   },
   {
    "duration": 10,
    "start_time": "2021-07-24T21:29:33.399Z"
   },
   {
    "duration": 232,
    "start_time": "2021-07-24T21:29:33.412Z"
   },
   {
    "duration": 7,
    "start_time": "2021-07-24T21:29:33.647Z"
   },
   {
    "duration": 32,
    "start_time": "2021-07-24T21:29:33.657Z"
   },
   {
    "duration": 67,
    "start_time": "2021-07-24T21:29:33.691Z"
   },
   {
    "duration": 26,
    "start_time": "2021-07-24T21:29:33.760Z"
   },
   {
    "duration": 11,
    "start_time": "2021-07-24T21:29:33.790Z"
   },
   {
    "duration": 4422,
    "start_time": "2021-07-24T21:29:33.803Z"
   },
   {
    "duration": 21,
    "start_time": "2021-07-24T21:29:38.228Z"
   },
   {
    "duration": 36,
    "start_time": "2021-07-24T21:29:38.251Z"
   },
   {
    "duration": 1088,
    "start_time": "2021-07-24T21:29:38.290Z"
   },
   {
    "duration": 17,
    "start_time": "2021-07-24T21:29:39.381Z"
   },
   {
    "duration": 40,
    "start_time": "2021-07-24T21:29:39.401Z"
   },
   {
    "duration": 61,
    "start_time": "2021-07-24T21:29:39.444Z"
   },
   {
    "duration": 30,
    "start_time": "2021-07-24T21:29:39.508Z"
   },
   {
    "duration": 49,
    "start_time": "2021-07-24T21:29:39.542Z"
   },
   {
    "duration": 7,
    "start_time": "2021-07-24T21:31:59.925Z"
   },
   {
    "duration": 978,
    "start_time": "2022-06-24T19:31:21.376Z"
   },
   {
    "duration": 25,
    "start_time": "2022-06-24T19:31:22.356Z"
   },
   {
    "duration": 31,
    "start_time": "2022-06-24T19:31:22.384Z"
   },
   {
    "duration": 45,
    "start_time": "2022-06-24T19:31:22.418Z"
   },
   {
    "duration": 6,
    "start_time": "2022-06-24T19:31:22.465Z"
   },
   {
    "duration": 19,
    "start_time": "2022-06-24T19:31:22.473Z"
   },
   {
    "duration": 34,
    "start_time": "2022-06-24T19:31:22.494Z"
   },
   {
    "duration": 8,
    "start_time": "2022-06-24T19:31:22.530Z"
   },
   {
    "duration": 32,
    "start_time": "2022-06-24T19:31:22.539Z"
   },
   {
    "duration": 14,
    "start_time": "2022-06-24T19:31:22.574Z"
   },
   {
    "duration": 7,
    "start_time": "2022-06-24T19:31:22.589Z"
   },
   {
    "duration": 32,
    "start_time": "2022-06-24T19:31:22.598Z"
   },
   {
    "duration": 140,
    "start_time": "2022-06-24T19:31:22.632Z"
   },
   {
    "duration": 6,
    "start_time": "2022-06-24T19:31:22.773Z"
   },
   {
    "duration": 8,
    "start_time": "2022-06-24T19:31:22.781Z"
   },
   {
    "duration": 10,
    "start_time": "2022-06-24T19:31:22.790Z"
   },
   {
    "duration": 69,
    "start_time": "2022-06-24T19:31:22.802Z"
   },
   {
    "duration": 15,
    "start_time": "2022-06-24T19:31:22.873Z"
   },
   {
    "duration": 8,
    "start_time": "2022-06-24T19:31:22.889Z"
   },
   {
    "duration": 4134,
    "start_time": "2022-06-24T19:31:22.899Z"
   },
   {
    "duration": 12,
    "start_time": "2022-06-24T19:31:27.035Z"
   },
   {
    "duration": 14,
    "start_time": "2022-06-24T19:31:27.049Z"
   },
   {
    "duration": 180,
    "start_time": "2022-06-24T19:31:27.065Z"
   },
   {
    "duration": 10,
    "start_time": "2022-06-24T19:31:27.247Z"
   },
   {
    "duration": 31,
    "start_time": "2022-06-24T19:31:27.258Z"
   },
   {
    "duration": 20,
    "start_time": "2022-06-24T19:31:27.291Z"
   },
   {
    "duration": 27,
    "start_time": "2022-06-24T19:31:27.313Z"
   },
   {
    "duration": 19,
    "start_time": "2022-06-24T19:31:27.343Z"
   },
   {
    "duration": 482,
    "start_time": "2022-06-26T17:36:17.257Z"
   },
   {
    "duration": 16,
    "start_time": "2022-06-26T17:36:17.741Z"
   },
   {
    "duration": 30,
    "start_time": "2022-06-26T17:36:17.759Z"
   },
   {
    "duration": 24,
    "start_time": "2022-06-26T17:36:17.791Z"
   },
   {
    "duration": 12,
    "start_time": "2022-06-26T17:36:17.817Z"
   },
   {
    "duration": 16,
    "start_time": "2022-06-26T17:36:17.830Z"
   },
   {
    "duration": 10,
    "start_time": "2022-06-26T17:36:17.847Z"
   },
   {
    "duration": 7,
    "start_time": "2022-06-26T17:36:17.858Z"
   },
   {
    "duration": 31,
    "start_time": "2022-06-26T17:36:17.866Z"
   },
   {
    "duration": 16,
    "start_time": "2022-06-26T17:36:17.926Z"
   },
   {
    "duration": 7,
    "start_time": "2022-06-26T17:36:17.944Z"
   },
   {
    "duration": 13,
    "start_time": "2022-06-26T17:36:17.952Z"
   },
   {
    "duration": 143,
    "start_time": "2022-06-26T17:36:17.967Z"
   },
   {
    "duration": 5,
    "start_time": "2022-06-26T17:36:18.112Z"
   },
   {
    "duration": 5,
    "start_time": "2022-06-26T17:36:18.127Z"
   },
   {
    "duration": 9,
    "start_time": "2022-06-26T17:36:18.134Z"
   },
   {
    "duration": 45,
    "start_time": "2022-06-26T17:36:18.145Z"
   },
   {
    "duration": 4,
    "start_time": "2022-06-26T17:36:18.192Z"
   },
   {
    "duration": 31,
    "start_time": "2022-06-26T17:36:18.197Z"
   },
   {
    "duration": 3198,
    "start_time": "2022-06-26T17:36:18.230Z"
   },
   {
    "duration": 9,
    "start_time": "2022-06-26T17:36:21.430Z"
   },
   {
    "duration": 13,
    "start_time": "2022-06-26T17:36:21.441Z"
   },
   {
    "duration": 143,
    "start_time": "2022-06-26T17:36:21.455Z"
   },
   {
    "duration": 10,
    "start_time": "2022-06-26T17:36:21.599Z"
   },
   {
    "duration": 27,
    "start_time": "2022-06-26T17:36:21.610Z"
   },
   {
    "duration": 21,
    "start_time": "2022-06-26T17:36:21.639Z"
   },
   {
    "duration": 18,
    "start_time": "2022-06-26T17:36:21.661Z"
   },
   {
    "duration": 20,
    "start_time": "2022-06-26T17:36:21.682Z"
   }
  ],
  "kernelspec": {
   "display_name": "Python 3 (ipykernel)",
   "language": "python",
   "name": "python3"
  },
  "language_info": {
   "codemirror_mode": {
    "name": "ipython",
    "version": 3
   },
   "file_extension": ".py",
   "mimetype": "text/x-python",
   "name": "python",
   "nbconvert_exporter": "python",
   "pygments_lexer": "ipython3",
   "version": "3.9.7"
  },
  "toc": {
   "base_numbering": 1,
   "nav_menu": {},
   "number_sections": true,
   "sideBar": true,
   "skip_h1_title": true,
   "title_cell": "Содержание",
   "title_sidebar": "Contents",
   "toc_cell": true,
   "toc_position": {
    "height": "calc(100% - 180px)",
    "left": "10px",
    "top": "150px",
    "width": "274.188px"
   },
   "toc_section_display": true,
   "toc_window_display": false
  }
 },
 "nbformat": 4,
 "nbformat_minor": 2
}
