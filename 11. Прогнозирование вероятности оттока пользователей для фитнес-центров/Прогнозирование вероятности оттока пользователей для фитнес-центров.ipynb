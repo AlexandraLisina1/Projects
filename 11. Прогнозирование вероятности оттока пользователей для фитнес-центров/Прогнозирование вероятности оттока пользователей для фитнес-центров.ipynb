{
 "cells": [
  {
   "cell_type": "markdown",
   "metadata": {},
   "source": [
    "## Описание проекта"
   ]
  },
  {
   "cell_type": "markdown",
   "metadata": {},
   "source": [
    "Сеть фитнес-центров «Культурист-датасаентист» разрабатывает стратегию взаимодействия с клиентами на основе аналитических данных. Распространенная проблема фитнес-клубов и других сервисов — это отток клиентов. Индикаторы оттока зависят от специфики отрасли. Для фитнес-центра можно считать, что клиент попал в отток, если за последний месяц ни разу не посетил спортзал. Чтобы бороться с оттоком, отдел по работе с клиентами «Культуриста-датасаентиста» перевел в электронный вид множество анкет пользователей и обратился за помощью к нам.\n",
    "\n",
    "**Цель проекта**: провести анализ и подготовить план действий по удержанию клиентов. \n",
    "\n",
    "**Задачи**:\n",
    "\n",
    "I. научиться прогнозировать вероятность оттока (на уровне следующего месяца) для каждого клиента;\n",
    "\n",
    "II. сформировать типичные портреты клиентов: выделить несколько наиболее ярких групп и охарактеризовать их основные свойства;\n",
    "\n",
    "III. проанализировать основные признаки, наиболее сильно влияющие на отток;\n",
    "\n",
    "IV. сформулировать основные выводы и разработать рекомендации по повышению качества работы с клиентами:\n",
    "\n",
    "1. выделить целевые группы клиентов;\n",
    "\n",
    "2. предложить меры по снижению оттока;\n",
    "\n",
    "3. определить другие особенности взаимодействия с клиентами."
   ]
  },
  {
   "cell_type": "markdown",
   "metadata": {},
   "source": [
    "**Описание данных**\n",
    "\n",
    "Заказчик подготовил для нас файл, который содержит данные на месяц до оттока и факт оттока на определенный месяц. Набор данных включает следующие поля:\n",
    "\n",
    "1. Данные клиента за предыдущий до проверки факта оттока месяц:\n",
    "* gender — пол;\n",
    "* Near_Location — проживание или работа в районе, где находится фитнес-центр;\n",
    "* Partner — сотрудник компании-партнера клуба (сотрудничество с компаниями, чьи сотрудники могут получать скидки на абонемент — в таком случае фитнес-центр хранит информацию о работодателе клиента);\n",
    "* Promo_friends — факт первоначальной записи в рамках акции «приведи друга» (использовал промо-код от знакомого при оплате первого абонемента);\n",
    "* Phone — наличие контактного телефона;\n",
    "* Age — возраст;\n",
    "* Lifetime — время с момента первого обращения в фитнес-центр (в месяцах).\n",
    "\n",
    "2. Информация на основе журнала посещений, покупок и информация о текущем статусе абонемента клиента:\n",
    "* Contract_period — длительность текущего действующего абонемента (месяц, 6 месяцев, год);\n",
    "* Month_to_end_contract — срок до окончания текущего действующего абонемента (в месяцах);\n",
    "* Group_visits — факт посещения групповых занятий;\n",
    "* Avg_class_frequency_total — средняя частота посещений в неделю за все время с начала действия абонемента;\n",
    "* Avg_class_frequency_current_month — средняя частота посещений в неделю за предыдущий месяц;\n",
    "* Avg_additional_charges_total — суммарная выручка от других услуг фитнес-центра: кафе, спорттовары, косметический и массажный салон.\n",
    "* Churn — факт оттока в текущем месяце."
   ]
  },
  {
   "cell_type": "markdown",
   "metadata": {},
   "source": [
    "## Шаг 1. Загрузим данные и подготовим их к анализу"
   ]
  },
  {
   "cell_type": "markdown",
   "metadata": {},
   "source": [
    "**Импортируем необходимые библиотеки для исследования**"
   ]
  },
  {
   "cell_type": "code",
   "execution_count": 1,
   "metadata": {},
   "outputs": [],
   "source": [
    "import pandas as pd\n",
    "import numpy as np\n",
    "import math as mth\n",
    "\n",
    "import seaborn as sns\n",
    "import matplotlib.pyplot as plt\n",
    "import plotly.express as px\n",
    "\n",
    "from sklearn.preprocessing import StandardScaler\n",
    "from sklearn.model_selection import train_test_split\n",
    "from sklearn.linear_model import LogisticRegression\n",
    "from sklearn.metrics import roc_auc_score\n",
    "from sklearn.metrics import accuracy_score, precision_score, recall_score, f1_score\n",
    "from sklearn.metrics import mean_absolute_error, mean_squared_error, r2_score\n",
    "from sklearn.cluster import KMeans \n",
    "from scipy.cluster import hierarchy\n",
    "from scipy.cluster.hierarchy import dendrogram, linkage\n",
    "from sklearn.tree import DecisionTreeRegressor, DecisionTreeClassifier\n",
    "from sklearn.ensemble import RandomForestRegressor\n",
    "from sklearn.ensemble import RandomForestClassifier\n",
    "\n",
    "import warnings\n",
    "warnings.filterwarnings('ignore')"
   ]
  },
  {
   "cell_type": "markdown",
   "metadata": {},
   "source": [
    "**Прочитаем данные из файлов и сохраним их**"
   ]
  },
  {
   "cell_type": "code",
   "execution_count": 2,
   "metadata": {},
   "outputs": [],
   "source": [
    "gym_churn = pd.read_csv('/datasets/gym_churn.csv')"
   ]
  },
  {
   "cell_type": "markdown",
   "metadata": {},
   "source": [
    "**С помощью pd.option настроим вывод так, чтобы текст в ячейке отражался полностью вне зависимости от длины, числа отражались с двумя знаками после запятой**"
   ]
  },
  {
   "cell_type": "code",
   "execution_count": 3,
   "metadata": {},
   "outputs": [],
   "source": [
    "pd.options.display.max_columns = None\n",
    "pd.options.display.max_colwidth = None\n",
    "pd.options.display.float_format = '{:.2f}'.format"
   ]
  },
  {
   "cell_type": "markdown",
   "metadata": {},
   "source": [
    "**Посмотрим содержимое таблицы gym_churn, выведем общую информацию и проверим наши данные на наличие нулевых объектов, пропусков и дубликатов**"
   ]
  },
  {
   "cell_type": "code",
   "execution_count": 4,
   "metadata": {},
   "outputs": [
    {
     "name": "stdout",
     "output_type": "stream",
     "text": [
      "\u001b[1mПервые 5 строк таблицы gym_churn\u001b[0m\n"
     ]
    },
    {
     "data": {
      "text/html": [
       "<div>\n",
       "<style scoped>\n",
       "    .dataframe tbody tr th:only-of-type {\n",
       "        vertical-align: middle;\n",
       "    }\n",
       "\n",
       "    .dataframe tbody tr th {\n",
       "        vertical-align: top;\n",
       "    }\n",
       "\n",
       "    .dataframe thead th {\n",
       "        text-align: right;\n",
       "    }\n",
       "</style>\n",
       "<table border=\"1\" class=\"dataframe\">\n",
       "  <thead>\n",
       "    <tr style=\"text-align: right;\">\n",
       "      <th></th>\n",
       "      <th>gender</th>\n",
       "      <th>Near_Location</th>\n",
       "      <th>Partner</th>\n",
       "      <th>Promo_friends</th>\n",
       "      <th>Phone</th>\n",
       "      <th>Contract_period</th>\n",
       "      <th>Group_visits</th>\n",
       "      <th>Age</th>\n",
       "      <th>Avg_additional_charges_total</th>\n",
       "      <th>Month_to_end_contract</th>\n",
       "      <th>Lifetime</th>\n",
       "      <th>Avg_class_frequency_total</th>\n",
       "      <th>Avg_class_frequency_current_month</th>\n",
       "      <th>Churn</th>\n",
       "    </tr>\n",
       "  </thead>\n",
       "  <tbody>\n",
       "    <tr>\n",
       "      <th>0</th>\n",
       "      <td>1</td>\n",
       "      <td>1</td>\n",
       "      <td>1</td>\n",
       "      <td>1</td>\n",
       "      <td>0</td>\n",
       "      <td>6</td>\n",
       "      <td>1</td>\n",
       "      <td>29</td>\n",
       "      <td>14.23</td>\n",
       "      <td>5.00</td>\n",
       "      <td>3</td>\n",
       "      <td>0.02</td>\n",
       "      <td>0.00</td>\n",
       "      <td>0</td>\n",
       "    </tr>\n",
       "    <tr>\n",
       "      <th>1</th>\n",
       "      <td>0</td>\n",
       "      <td>1</td>\n",
       "      <td>0</td>\n",
       "      <td>0</td>\n",
       "      <td>1</td>\n",
       "      <td>12</td>\n",
       "      <td>1</td>\n",
       "      <td>31</td>\n",
       "      <td>113.20</td>\n",
       "      <td>12.00</td>\n",
       "      <td>7</td>\n",
       "      <td>1.92</td>\n",
       "      <td>1.91</td>\n",
       "      <td>0</td>\n",
       "    </tr>\n",
       "    <tr>\n",
       "      <th>2</th>\n",
       "      <td>0</td>\n",
       "      <td>1</td>\n",
       "      <td>1</td>\n",
       "      <td>0</td>\n",
       "      <td>1</td>\n",
       "      <td>1</td>\n",
       "      <td>0</td>\n",
       "      <td>28</td>\n",
       "      <td>129.45</td>\n",
       "      <td>1.00</td>\n",
       "      <td>2</td>\n",
       "      <td>1.86</td>\n",
       "      <td>1.74</td>\n",
       "      <td>0</td>\n",
       "    </tr>\n",
       "    <tr>\n",
       "      <th>3</th>\n",
       "      <td>0</td>\n",
       "      <td>1</td>\n",
       "      <td>1</td>\n",
       "      <td>1</td>\n",
       "      <td>1</td>\n",
       "      <td>12</td>\n",
       "      <td>1</td>\n",
       "      <td>33</td>\n",
       "      <td>62.67</td>\n",
       "      <td>12.00</td>\n",
       "      <td>2</td>\n",
       "      <td>3.21</td>\n",
       "      <td>3.36</td>\n",
       "      <td>0</td>\n",
       "    </tr>\n",
       "    <tr>\n",
       "      <th>4</th>\n",
       "      <td>1</td>\n",
       "      <td>1</td>\n",
       "      <td>1</td>\n",
       "      <td>1</td>\n",
       "      <td>1</td>\n",
       "      <td>1</td>\n",
       "      <td>0</td>\n",
       "      <td>26</td>\n",
       "      <td>198.36</td>\n",
       "      <td>1.00</td>\n",
       "      <td>3</td>\n",
       "      <td>1.11</td>\n",
       "      <td>1.12</td>\n",
       "      <td>0</td>\n",
       "    </tr>\n",
       "  </tbody>\n",
       "</table>\n",
       "</div>"
      ],
      "text/plain": [
       "   gender  Near_Location  Partner  Promo_friends  Phone  Contract_period  \\\n",
       "0       1              1        1              1      0                6   \n",
       "1       0              1        0              0      1               12   \n",
       "2       0              1        1              0      1                1   \n",
       "3       0              1        1              1      1               12   \n",
       "4       1              1        1              1      1                1   \n",
       "\n",
       "   Group_visits  Age  Avg_additional_charges_total  Month_to_end_contract  \\\n",
       "0             1   29                         14.23                   5.00   \n",
       "1             1   31                        113.20                  12.00   \n",
       "2             0   28                        129.45                   1.00   \n",
       "3             1   33                         62.67                  12.00   \n",
       "4             0   26                        198.36                   1.00   \n",
       "\n",
       "   Lifetime  Avg_class_frequency_total  Avg_class_frequency_current_month  \\\n",
       "0         3                       0.02                               0.00   \n",
       "1         7                       1.92                               1.91   \n",
       "2         2                       1.86                               1.74   \n",
       "3         2                       3.21                               3.36   \n",
       "4         3                       1.11                               1.12   \n",
       "\n",
       "   Churn  \n",
       "0      0  \n",
       "1      0  \n",
       "2      0  \n",
       "3      0  \n",
       "4      0  "
      ]
     },
     "metadata": {},
     "output_type": "display_data"
    },
    {
     "name": "stdout",
     "output_type": "stream",
     "text": [
      "\u001b[1mОбщая информация таблицы gym_churn\u001b[0m\n",
      "<class 'pandas.core.frame.DataFrame'>\n",
      "RangeIndex: 4000 entries, 0 to 3999\n",
      "Data columns (total 14 columns):\n",
      " #   Column                             Non-Null Count  Dtype  \n",
      "---  ------                             --------------  -----  \n",
      " 0   gender                             4000 non-null   int64  \n",
      " 1   Near_Location                      4000 non-null   int64  \n",
      " 2   Partner                            4000 non-null   int64  \n",
      " 3   Promo_friends                      4000 non-null   int64  \n",
      " 4   Phone                              4000 non-null   int64  \n",
      " 5   Contract_period                    4000 non-null   int64  \n",
      " 6   Group_visits                       4000 non-null   int64  \n",
      " 7   Age                                4000 non-null   int64  \n",
      " 8   Avg_additional_charges_total       4000 non-null   float64\n",
      " 9   Month_to_end_contract              4000 non-null   float64\n",
      " 10  Lifetime                           4000 non-null   int64  \n",
      " 11  Avg_class_frequency_total          4000 non-null   float64\n",
      " 12  Avg_class_frequency_current_month  4000 non-null   float64\n",
      " 13  Churn                              4000 non-null   int64  \n",
      "dtypes: float64(4), int64(10)\n",
      "memory usage: 437.6 KB\n"
     ]
    },
    {
     "data": {
      "text/plain": [
       "None"
      ]
     },
     "metadata": {},
     "output_type": "display_data"
    },
    {
     "name": "stdout",
     "output_type": "stream",
     "text": [
      "\u001b[1mНаличие пропусков в таблице gym_churn\u001b[0m\n"
     ]
    },
    {
     "data": {
      "text/plain": [
       "gender                               0\n",
       "Near_Location                        0\n",
       "Partner                              0\n",
       "Promo_friends                        0\n",
       "Phone                                0\n",
       "Contract_period                      0\n",
       "Group_visits                         0\n",
       "Age                                  0\n",
       "Avg_additional_charges_total         0\n",
       "Month_to_end_contract                0\n",
       "Lifetime                             0\n",
       "Avg_class_frequency_total            0\n",
       "Avg_class_frequency_current_month    0\n",
       "Churn                                0\n",
       "dtype: int64"
      ]
     },
     "metadata": {},
     "output_type": "display_data"
    },
    {
     "name": "stdout",
     "output_type": "stream",
     "text": [
      "\u001b[1mHаличие дубликатов в таблице gym_churn\u001b[0m\n"
     ]
    },
    {
     "data": {
      "text/plain": [
       "0"
      ]
     },
     "metadata": {},
     "output_type": "display_data"
    }
   ],
   "source": [
    "def total_info(df, name_list):\n",
    "    print('\\033[1m' + 'Первые 5 строк таблицы', name_list + '\\033[0m')\n",
    "    display(df.head(5))\n",
    "    \n",
    "    print('\\033[1m' + 'Общая информация таблицы', name_list + '\\033[0m')\n",
    "    display(df.info())\n",
    "    \n",
    "    print('\\033[1m' + 'Наличие пропусков в таблице', name_list + '\\033[0m')\n",
    "    display(df.isna().sum())\n",
    "    \n",
    "    print('\\033[1m' + 'Hаличие дубликатов в таблице', name_list + '\\033[0m')\n",
    "    display(df.duplicated().sum())\n",
    "    \n",
    "total_info(gym_churn, 'gym_churn')"
   ]
  },
  {
   "cell_type": "markdown",
   "metadata": {},
   "source": [
    "* Всего в таблице 4000 строк (наблюдений) и 14 столбцов, встречаются следующие типы данных: int64 (целые числа) и float64 (вещественные числа).\n",
    "* Пропусков и дубликатов не обнаружили. \n",
    "* Приведем столбцы к нижнему регистру, а в столбце month_to_end_contract переведем значения с плавающей точкой в целое число."
   ]
  },
  {
   "cell_type": "markdown",
   "metadata": {},
   "source": [
    "**Приведем столбцы к нижнему регистру и заменим тип данных в столбце month_to_end_contract**"
   ]
  },
  {
   "cell_type": "code",
   "execution_count": 5,
   "metadata": {},
   "outputs": [],
   "source": [
    "gym_churn.columns = gym_churn.columns.str.lower()\n",
    "gym_churn['month_to_end_contract'] = gym_churn['month_to_end_contract'].astype('int')"
   ]
  },
  {
   "cell_type": "markdown",
   "metadata": {},
   "source": [
    "Теперь данные готовы для дальнейшего анализа."
   ]
  },
  {
   "cell_type": "markdown",
   "metadata": {},
   "source": [
    "**Вывод**\n",
    "\n",
    "У нас есть данные клиентов за предыдущий до проверки факта оттока месяц, информация на основе журнала посещений, покупок, а также информация о текущем статусе абонемента.\n",
    "\n",
    "Данные представлены в виде таблицы, включающей в себя 4000 строк и 14 столбцов, в которых содержится следующая информация: пол, факт проживания или работы в районе, где находится фитнес-центр, выделение сотрудников компании-партнера клуба. факт первоначальной записи в рамках акции «приведи друга», наличие контактного телефона, информации о возрасте, времени с момента первого обращения в фитнес-центр, длительности текущего действующего абонемента, срока до окончания текущего действующего абонемента, факта посещения групповых занятий, средней частоты посещений в неделю за все время с начала действия абонемента и за предыдущий месяц, суммарной выручки от других услуг фитнес-центра и факта оттока в текущем месяце.\n",
    "\n",
    "На этапе подготовки данных названия столбцов в таблице были приведены к нижнему регистру, был изменен тип данных столбца с информацией о сроке до окончания текущего действующего абонемента. Пропусков и дубликатов в данных не обнаружено."
   ]
  },
  {
   "cell_type": "markdown",
   "metadata": {},
   "source": [
    "## Шаг 2. Проведем исследовательский анализ данных (EDA)"
   ]
  },
  {
   "cell_type": "markdown",
   "metadata": {},
   "source": [
    "### Посмотрим на датасет: есть ли в нем отсутствующие признаки, изучим средние значения и стандартные отклонения"
   ]
  },
  {
   "cell_type": "markdown",
   "metadata": {},
   "source": [
    "Вызовем метод describe() и посмотрим на  параметры загруженных данных. Для удобства отображения поменяем местами столбцы и строки.\n",
    "\n",
    "Обратим внимание на общие статистики показателей в данных:\n",
    "* count - количество значений, которые не являются пропущенными;\n",
    "* mean, std - среднее и разброс данных в соответствующем поле;\n",
    "* остальные статистики - минимальное и максимальное значения, квантили."
   ]
  },
  {
   "cell_type": "code",
   "execution_count": 6,
   "metadata": {},
   "outputs": [
    {
     "data": {
      "text/html": [
       "<div>\n",
       "<style scoped>\n",
       "    .dataframe tbody tr th:only-of-type {\n",
       "        vertical-align: middle;\n",
       "    }\n",
       "\n",
       "    .dataframe tbody tr th {\n",
       "        vertical-align: top;\n",
       "    }\n",
       "\n",
       "    .dataframe thead th {\n",
       "        text-align: right;\n",
       "    }\n",
       "</style>\n",
       "<table border=\"1\" class=\"dataframe\">\n",
       "  <thead>\n",
       "    <tr style=\"text-align: right;\">\n",
       "      <th></th>\n",
       "      <th>count</th>\n",
       "      <th>mean</th>\n",
       "      <th>std</th>\n",
       "      <th>min</th>\n",
       "      <th>25%</th>\n",
       "      <th>50%</th>\n",
       "      <th>75%</th>\n",
       "      <th>max</th>\n",
       "    </tr>\n",
       "  </thead>\n",
       "  <tbody>\n",
       "    <tr>\n",
       "      <th>gender</th>\n",
       "      <td>4000.00</td>\n",
       "      <td>0.51</td>\n",
       "      <td>0.50</td>\n",
       "      <td>0.00</td>\n",
       "      <td>0.00</td>\n",
       "      <td>1.00</td>\n",
       "      <td>1.00</td>\n",
       "      <td>1.00</td>\n",
       "    </tr>\n",
       "    <tr>\n",
       "      <th>near_location</th>\n",
       "      <td>4000.00</td>\n",
       "      <td>0.85</td>\n",
       "      <td>0.36</td>\n",
       "      <td>0.00</td>\n",
       "      <td>1.00</td>\n",
       "      <td>1.00</td>\n",
       "      <td>1.00</td>\n",
       "      <td>1.00</td>\n",
       "    </tr>\n",
       "    <tr>\n",
       "      <th>partner</th>\n",
       "      <td>4000.00</td>\n",
       "      <td>0.49</td>\n",
       "      <td>0.50</td>\n",
       "      <td>0.00</td>\n",
       "      <td>0.00</td>\n",
       "      <td>0.00</td>\n",
       "      <td>1.00</td>\n",
       "      <td>1.00</td>\n",
       "    </tr>\n",
       "    <tr>\n",
       "      <th>promo_friends</th>\n",
       "      <td>4000.00</td>\n",
       "      <td>0.31</td>\n",
       "      <td>0.46</td>\n",
       "      <td>0.00</td>\n",
       "      <td>0.00</td>\n",
       "      <td>0.00</td>\n",
       "      <td>1.00</td>\n",
       "      <td>1.00</td>\n",
       "    </tr>\n",
       "    <tr>\n",
       "      <th>phone</th>\n",
       "      <td>4000.00</td>\n",
       "      <td>0.90</td>\n",
       "      <td>0.30</td>\n",
       "      <td>0.00</td>\n",
       "      <td>1.00</td>\n",
       "      <td>1.00</td>\n",
       "      <td>1.00</td>\n",
       "      <td>1.00</td>\n",
       "    </tr>\n",
       "    <tr>\n",
       "      <th>contract_period</th>\n",
       "      <td>4000.00</td>\n",
       "      <td>4.68</td>\n",
       "      <td>4.55</td>\n",
       "      <td>1.00</td>\n",
       "      <td>1.00</td>\n",
       "      <td>1.00</td>\n",
       "      <td>6.00</td>\n",
       "      <td>12.00</td>\n",
       "    </tr>\n",
       "    <tr>\n",
       "      <th>group_visits</th>\n",
       "      <td>4000.00</td>\n",
       "      <td>0.41</td>\n",
       "      <td>0.49</td>\n",
       "      <td>0.00</td>\n",
       "      <td>0.00</td>\n",
       "      <td>0.00</td>\n",
       "      <td>1.00</td>\n",
       "      <td>1.00</td>\n",
       "    </tr>\n",
       "    <tr>\n",
       "      <th>age</th>\n",
       "      <td>4000.00</td>\n",
       "      <td>29.18</td>\n",
       "      <td>3.26</td>\n",
       "      <td>18.00</td>\n",
       "      <td>27.00</td>\n",
       "      <td>29.00</td>\n",
       "      <td>31.00</td>\n",
       "      <td>41.00</td>\n",
       "    </tr>\n",
       "    <tr>\n",
       "      <th>avg_additional_charges_total</th>\n",
       "      <td>4000.00</td>\n",
       "      <td>146.94</td>\n",
       "      <td>96.36</td>\n",
       "      <td>0.15</td>\n",
       "      <td>68.87</td>\n",
       "      <td>136.22</td>\n",
       "      <td>210.95</td>\n",
       "      <td>552.59</td>\n",
       "    </tr>\n",
       "    <tr>\n",
       "      <th>month_to_end_contract</th>\n",
       "      <td>4000.00</td>\n",
       "      <td>4.32</td>\n",
       "      <td>4.19</td>\n",
       "      <td>1.00</td>\n",
       "      <td>1.00</td>\n",
       "      <td>1.00</td>\n",
       "      <td>6.00</td>\n",
       "      <td>12.00</td>\n",
       "    </tr>\n",
       "    <tr>\n",
       "      <th>lifetime</th>\n",
       "      <td>4000.00</td>\n",
       "      <td>3.72</td>\n",
       "      <td>3.75</td>\n",
       "      <td>0.00</td>\n",
       "      <td>1.00</td>\n",
       "      <td>3.00</td>\n",
       "      <td>5.00</td>\n",
       "      <td>31.00</td>\n",
       "    </tr>\n",
       "    <tr>\n",
       "      <th>avg_class_frequency_total</th>\n",
       "      <td>4000.00</td>\n",
       "      <td>1.88</td>\n",
       "      <td>0.97</td>\n",
       "      <td>0.00</td>\n",
       "      <td>1.18</td>\n",
       "      <td>1.83</td>\n",
       "      <td>2.54</td>\n",
       "      <td>6.02</td>\n",
       "    </tr>\n",
       "    <tr>\n",
       "      <th>avg_class_frequency_current_month</th>\n",
       "      <td>4000.00</td>\n",
       "      <td>1.77</td>\n",
       "      <td>1.05</td>\n",
       "      <td>0.00</td>\n",
       "      <td>0.96</td>\n",
       "      <td>1.72</td>\n",
       "      <td>2.51</td>\n",
       "      <td>6.15</td>\n",
       "    </tr>\n",
       "    <tr>\n",
       "      <th>churn</th>\n",
       "      <td>4000.00</td>\n",
       "      <td>0.27</td>\n",
       "      <td>0.44</td>\n",
       "      <td>0.00</td>\n",
       "      <td>0.00</td>\n",
       "      <td>0.00</td>\n",
       "      <td>1.00</td>\n",
       "      <td>1.00</td>\n",
       "    </tr>\n",
       "  </tbody>\n",
       "</table>\n",
       "</div>"
      ],
      "text/plain": [
       "                                    count   mean   std   min   25%    50%  \\\n",
       "gender                            4000.00   0.51  0.50  0.00  0.00   1.00   \n",
       "near_location                     4000.00   0.85  0.36  0.00  1.00   1.00   \n",
       "partner                           4000.00   0.49  0.50  0.00  0.00   0.00   \n",
       "promo_friends                     4000.00   0.31  0.46  0.00  0.00   0.00   \n",
       "phone                             4000.00   0.90  0.30  0.00  1.00   1.00   \n",
       "contract_period                   4000.00   4.68  4.55  1.00  1.00   1.00   \n",
       "group_visits                      4000.00   0.41  0.49  0.00  0.00   0.00   \n",
       "age                               4000.00  29.18  3.26 18.00 27.00  29.00   \n",
       "avg_additional_charges_total      4000.00 146.94 96.36  0.15 68.87 136.22   \n",
       "month_to_end_contract             4000.00   4.32  4.19  1.00  1.00   1.00   \n",
       "lifetime                          4000.00   3.72  3.75  0.00  1.00   3.00   \n",
       "avg_class_frequency_total         4000.00   1.88  0.97  0.00  1.18   1.83   \n",
       "avg_class_frequency_current_month 4000.00   1.77  1.05  0.00  0.96   1.72   \n",
       "churn                             4000.00   0.27  0.44  0.00  0.00   0.00   \n",
       "\n",
       "                                     75%    max  \n",
       "gender                              1.00   1.00  \n",
       "near_location                       1.00   1.00  \n",
       "partner                             1.00   1.00  \n",
       "promo_friends                       1.00   1.00  \n",
       "phone                               1.00   1.00  \n",
       "contract_period                     6.00  12.00  \n",
       "group_visits                        1.00   1.00  \n",
       "age                                31.00  41.00  \n",
       "avg_additional_charges_total      210.95 552.59  \n",
       "month_to_end_contract               6.00  12.00  \n",
       "lifetime                            5.00  31.00  \n",
       "avg_class_frequency_total           2.54   6.02  \n",
       "avg_class_frequency_current_month   2.51   6.15  \n",
       "churn                               1.00   1.00  "
      ]
     },
     "execution_count": 6,
     "metadata": {},
     "output_type": "execute_result"
    }
   ],
   "source": [
    "gym_churn.describe().T"
   ]
  },
  {
   "cell_type": "markdown",
   "metadata": {},
   "source": [
    "* Почти одинаковое распределение по полу (gender).\n",
    "* 85% клиентов проживают или работают в районе, где находится фитнес-центр (near_location).\n",
    "* 49% клиентов являются сотрудниками компании-партнера клуба (partner).\n",
    "* 31% клиентов пришли по программе «приведи друга» (promo_friends).\n",
    "* Контактный телефон указан у 90% клиентов (phone).\n",
    "* Средняя длительность текущего действующего абонемента 4.6 месяца (contract_period).\n",
    "* 41% клиентов посещают групповые занятия (group_visits).\n",
    "* Средний возраст клиентов 29 лет (age).\n",
    "* Средняя суммарная выручка от других услуг фитнес-центра 147 у.е. (avg_additional_charges_total).\n",
    "* Средний срок до окончания текущего действующего абонемента 4.3 месяца (month_to_end_contract).\n",
    "* Среднее время с момента первого обращения в фитнес-центр 3.7 месяца (lifetime).\n",
    "* Средняя частота посещений в неделю за все время с начала действия абонемента 1.8 раз (avg_class_frequency_total).\n",
    "* Средняя частота посещений в неделю за предыдущий месяц 1.7 раз (avg_class_frequency_current_month).\n",
    "* Доля оттока 27%. Значит, в нашей выборке только 27% клиентов ушли из сети фитнес-центров (churn).\n",
    "\n",
    "В датасете нет отсутствующих признаков."
   ]
  },
  {
   "cell_type": "markdown",
   "metadata": {},
   "source": [
    "### Посмотрим на средние значения признаков в двух группах — тех, кто ушел в отток и тех, кто остался (воспользуемся методом groupby()). Оставшиеся клиенты - 0, ушли в отток - 1"
   ]
  },
  {
   "cell_type": "code",
   "execution_count": 7,
   "metadata": {},
   "outputs": [
    {
     "data": {
      "text/html": [
       "<div>\n",
       "<style scoped>\n",
       "    .dataframe tbody tr th:only-of-type {\n",
       "        vertical-align: middle;\n",
       "    }\n",
       "\n",
       "    .dataframe tbody tr th {\n",
       "        vertical-align: top;\n",
       "    }\n",
       "\n",
       "    .dataframe thead th {\n",
       "        text-align: right;\n",
       "    }\n",
       "</style>\n",
       "<table border=\"1\" class=\"dataframe\">\n",
       "  <thead>\n",
       "    <tr style=\"text-align: right;\">\n",
       "      <th>churn</th>\n",
       "      <th>0</th>\n",
       "      <th>1</th>\n",
       "    </tr>\n",
       "  </thead>\n",
       "  <tbody>\n",
       "    <tr>\n",
       "      <th>gender</th>\n",
       "      <td>0.51</td>\n",
       "      <td>0.51</td>\n",
       "    </tr>\n",
       "    <tr>\n",
       "      <th>near_location</th>\n",
       "      <td>0.87</td>\n",
       "      <td>0.77</td>\n",
       "    </tr>\n",
       "    <tr>\n",
       "      <th>partner</th>\n",
       "      <td>0.53</td>\n",
       "      <td>0.36</td>\n",
       "    </tr>\n",
       "    <tr>\n",
       "      <th>promo_friends</th>\n",
       "      <td>0.35</td>\n",
       "      <td>0.18</td>\n",
       "    </tr>\n",
       "    <tr>\n",
       "      <th>phone</th>\n",
       "      <td>0.90</td>\n",
       "      <td>0.90</td>\n",
       "    </tr>\n",
       "    <tr>\n",
       "      <th>contract_period</th>\n",
       "      <td>5.75</td>\n",
       "      <td>1.73</td>\n",
       "    </tr>\n",
       "    <tr>\n",
       "      <th>group_visits</th>\n",
       "      <td>0.46</td>\n",
       "      <td>0.27</td>\n",
       "    </tr>\n",
       "    <tr>\n",
       "      <th>age</th>\n",
       "      <td>29.98</td>\n",
       "      <td>26.99</td>\n",
       "    </tr>\n",
       "    <tr>\n",
       "      <th>avg_additional_charges_total</th>\n",
       "      <td>158.45</td>\n",
       "      <td>115.08</td>\n",
       "    </tr>\n",
       "    <tr>\n",
       "      <th>month_to_end_contract</th>\n",
       "      <td>5.28</td>\n",
       "      <td>1.66</td>\n",
       "    </tr>\n",
       "    <tr>\n",
       "      <th>lifetime</th>\n",
       "      <td>4.71</td>\n",
       "      <td>0.99</td>\n",
       "    </tr>\n",
       "    <tr>\n",
       "      <th>avg_class_frequency_total</th>\n",
       "      <td>2.02</td>\n",
       "      <td>1.47</td>\n",
       "    </tr>\n",
       "    <tr>\n",
       "      <th>avg_class_frequency_current_month</th>\n",
       "      <td>2.03</td>\n",
       "      <td>1.04</td>\n",
       "    </tr>\n",
       "  </tbody>\n",
       "</table>\n",
       "</div>"
      ],
      "text/plain": [
       "churn                                  0      1\n",
       "gender                              0.51   0.51\n",
       "near_location                       0.87   0.77\n",
       "partner                             0.53   0.36\n",
       "promo_friends                       0.35   0.18\n",
       "phone                               0.90   0.90\n",
       "contract_period                     5.75   1.73\n",
       "group_visits                        0.46   0.27\n",
       "age                                29.98  26.99\n",
       "avg_additional_charges_total      158.45 115.08\n",
       "month_to_end_contract               5.28   1.66\n",
       "lifetime                            4.71   0.99\n",
       "avg_class_frequency_total           2.02   1.47\n",
       "avg_class_frequency_current_month   2.03   1.04"
      ]
     },
     "execution_count": 7,
     "metadata": {},
     "output_type": "execute_result"
    }
   ],
   "source": [
    "gym_churn_mean = gym_churn.groupby('churn').agg('mean').T\n",
    "gym_churn_mean"
   ]
  },
  {
   "cell_type": "markdown",
   "metadata": {},
   "source": [
    "* Одинаковое распределение по полу.\n",
    "* Реже попадают в отток клиенты, которые проживают или работают ближе к фитнес-центру.\n",
    "* Сотрудники компаний-партнеров реже перестают посещать фитнес-клуб чем остальные клиенты.\n",
    "* Клиенты пришедшие по акции «приведи друга», почти в два раза реже уходят в отток.\n",
    "* Наличие контактного телефона клиента не отличается в группах.\n",
    "* Средняя длительность действующего абонемента у клиентов, которые уходят в отток, намного меньше, чем у оставшихся.\n",
    "* Клиенты, которые уходят в отток меньше посещают групповые занятия (хотя возможно, что в отток попали те, кто не успел начать ходить на них).\n",
    "* Клиенты, которые уходят в отток, младше возрастом, чем те, кто остается.\n",
    "* У клиентов, которые ушли в отток меньше значение средней суммарной выручки от других услуг фитнес-центра (кафе, спорттовары, косметический и массажный салон).\n",
    "* Средний срок до окончания текущего действующего абонемента у тех, кто ушел в отток, меньше.\n",
    "* Средняя частота посещений в неделю за предыдущий месяц и посещений в неделю за все время меньше у тех, кто ушел в отток."
   ]
  },
  {
   "cell_type": "markdown",
   "metadata": {},
   "source": [
    "### Построим столбчатые гистограммы и распределения признаков для тех, кто ушёл (отток) и тех, кто остался (не попали в отток)"
   ]
  },
  {
   "cell_type": "markdown",
   "metadata": {},
   "source": [
    "**Посмотрим, как соотносятся классы для нашего набора данных**"
   ]
  },
  {
   "cell_type": "code",
   "execution_count": 8,
   "metadata": {},
   "outputs": [
    {
     "data": {
      "text/plain": [
       "0    2939\n",
       "1    1061\n",
       "Name: churn, dtype: int64"
      ]
     },
     "execution_count": 8,
     "metadata": {},
     "output_type": "execute_result"
    }
   ],
   "source": [
    "gym_churn['churn'].value_counts()"
   ]
  },
  {
   "cell_type": "markdown",
   "metadata": {},
   "source": [
    "**Построим гистограммы и распределения признаков для тех, кто ушел (отток) и тех, кто остался (не попали в отток)**"
   ]
  },
  {
   "cell_type": "code",
   "execution_count": 9,
   "metadata": {
    "scrolled": false
   },
   "outputs": [
    {
     "data": {
      "image/png": "[encoded data removed]",
      "text/plain": [
       "<Figure size 576x360 with 1 Axes>"
      ]
     },
     "metadata": {
      "needs_background": "light"
     },
     "output_type": "display_data"
    },
    {
     "data": {
      "image/png": "[encoded data removed]",
      "text/plain": [
       "<Figure size 576x360 with 1 Axes>"
      ]
     },
     "metadata": {
      "needs_background": "light"
     },
     "output_type": "display_data"
    },
    {
     "data": {
      "image/png": "[encoded data removed]",
      "text/plain": [
       "<Figure size 576x360 with 1 Axes>"
      ]
     },
     "metadata": {
      "needs_background": "light"
     },
     "output_type": "display_data"
    },
    {
     "data": {
      "image/png": "[encoded data removed]",
      "text/plain": [
       "<Figure size 576x360 with 1 Axes>"
      ]
     },
     "metadata": {
      "needs_background": "light"
     },
     "output_type": "display_data"
    },
    {
     "data": {
      "image/png": "[encoded data removed]",
      "text/plain": [
       "<Figure size 576x360 with 1 Axes>"
      ]
     },
     "metadata": {
      "needs_background": "light"
     },
     "output_type": "display_data"
    },
    {
     "data": {
      "image/png": "[encoded data removed]",
      "text/plain": [
       "<Figure size 576x360 with 1 Axes>"
      ]
     },
     "metadata": {
      "needs_background": "light"
     },
     "output_type": "display_data"
    },
    {
     "data": {
      "image/png": "[encoded data removed]",
      "text/plain": [
       "<Figure size 576x360 with 1 Axes>"
      ]
     },
     "metadata": {
      "needs_background": "light"
     },
     "output_type": "display_data"
    },
    {
     "data": {
      "image/png": "[encoded data removed]",
      "text/plain": [
       "<Figure size 576x360 with 1 Axes>"
      ]
     },
     "metadata": {
      "needs_background": "light"
     },
     "output_type": "display_data"
    },
    {
     "data": {
      "image/png": "[encoded data removed]",
      "text/plain": [
       "<Figure size 576x360 with 1 Axes>"
      ]
     },
     "metadata": {
      "needs_background": "light"
     },
     "output_type": "display_data"
    },
    {
     "data": {
      "image/png": "[encoded data removed]",
      "text/plain": [
       "<Figure size 576x360 with 1 Axes>"
      ]
     },
     "metadata": {
      "needs_background": "light"
     },
     "output_type": "display_data"
    },
    {
     "data": {
      "image/png": "[encoded data removed]",
      "text/plain": [
       "<Figure size 576x360 with 1 Axes>"
      ]
     },
     "metadata": {
      "needs_background": "light"
     },
     "output_type": "display_data"
    },
    {
     "data": {
      "image/png": "[encoded data removed]",
      "text/plain": [
       "<Figure size 576x360 with 1 Axes>"
      ]
     },
     "metadata": {
      "needs_background": "light"
     },
     "output_type": "display_data"
    },
    {
     "data": {
      "image/png": "[encoded data removed]",
      "text/plain": [
       "<Figure size 576x360 with 1 Axes>"
      ]
     },
     "metadata": {
      "needs_background": "light"
     },
     "output_type": "display_data"
    }
   ],
   "source": [
    "# создадим два датасета с разделением по ключевому признаку сhurn, где 0 - оставшиеся клиенты; 1 - отток\n",
    "gym_churn_0 = gym_churn[gym_churn['churn']==0].reset_index(drop=True).drop('churn', axis=1)\n",
    "gym_churn_1 = gym_churn[gym_churn['churn']==1].reset_index(drop=True).drop('churn', axis=1)\n",
    "\n",
    "# напишем цикл для создания гистограмм\n",
    "for feature in gym_churn_0.columns:\n",
    "    plt.figure(figsize=(8,5))\n",
    "    plt.title(\"Распределение для признака \" + feature)\n",
    "    sns.distplot(gym_churn_0[feature], bins = 10, label=\"Оставшиеся\")\n",
    "    sns.distplot(gym_churn_1[feature], bins = 10, label=\"Отток\")\n",
    "    plt.legend()\n",
    "    plt.show()"
   ]
  },
  {
   "cell_type": "markdown",
   "metadata": {},
   "source": [
    "**Напишем цикл для построения графиков для количественных признаков**"
   ]
  },
  {
   "cell_type": "code",
   "execution_count": 10,
   "metadata": {
    "scrolled": false
   },
   "outputs": [
    {
     "data": {
      "image/png": "[encoded data removed]",
      "text/plain": [
       "<Figure size 360x360 with 1 Axes>"
      ]
     },
     "metadata": {
      "needs_background": "light"
     },
     "output_type": "display_data"
    },
    {
     "data": {
      "image/png": "[encoded data removed]",
      "text/plain": [
       "<Figure size 360x360 with 1 Axes>"
      ]
     },
     "metadata": {
      "needs_background": "light"
     },
     "output_type": "display_data"
    },
    {
     "data": {
      "image/png": "[encoded data removed]",
      "text/plain": [
       "<Figure size 360x360 with 1 Axes>"
      ]
     },
     "metadata": {
      "needs_background": "light"
     },
     "output_type": "display_data"
    },
    {
     "data": {
      "image/png": "[encoded data removed]",
      "text/plain": [
       "<Figure size 360x360 with 1 Axes>"
      ]
     },
     "metadata": {
      "needs_background": "light"
     },
     "output_type": "display_data"
    },
    {
     "data": {
      "image/png": "[encoded data removed]",
      "text/plain": [
       "<Figure size 360x360 with 1 Axes>"
      ]
     },
     "metadata": {
      "needs_background": "light"
     },
     "output_type": "display_data"
    },
    {
     "data": {
      "image/png": "[encoded data removed]",
      "text/plain": [
       "<Figure size 360x360 with 1 Axes>"
      ]
     },
     "metadata": {
      "needs_background": "light"
     },
     "output_type": "display_data"
    },
    {
     "data": {
      "image/png": "[encoded data removed]",
      "text/plain": [
       "<Figure size 360x360 with 1 Axes>"
      ]
     },
     "metadata": {
      "needs_background": "light"
     },
     "output_type": "display_data"
    }
   ],
   "source": [
    "for feature in ['age', 'lifetime', 'contract_period', 'month_to_end_contract', \\\n",
    "               'avg_class_frequency_total', 'avg_class_frequency_current_month', 'avg_additional_charges_total']:\n",
    "    plt.figure(figsize=(5,5))\n",
    "    plt.title(\"Распределение для признака \" + feature)\n",
    "    sns.boxplot(x='churn', y=gym_churn[feature], data=gym_churn)\n",
    "    plt.show()"
   ]
  },
  {
   "cell_type": "markdown",
   "metadata": {},
   "source": [
    "**Посмотрим на основные статистические показатели количественных признаков. Посчитаем среднее и медианное количество, дисперсию и стандартное отклонение для количественных признаков**"
   ]
  },
  {
   "cell_type": "code",
   "execution_count": 11,
   "metadata": {},
   "outputs": [
    {
     "data": {
      "text/html": [
       "<div>\n",
       "<style scoped>\n",
       "    .dataframe tbody tr th:only-of-type {\n",
       "        vertical-align: middle;\n",
       "    }\n",
       "\n",
       "    .dataframe tbody tr th {\n",
       "        vertical-align: top;\n",
       "    }\n",
       "\n",
       "    .dataframe thead th {\n",
       "        text-align: right;\n",
       "    }\n",
       "</style>\n",
       "<table border=\"1\" class=\"dataframe\">\n",
       "  <thead>\n",
       "    <tr style=\"text-align: right;\">\n",
       "      <th></th>\n",
       "      <th>churn</th>\n",
       "      <th>0</th>\n",
       "      <th>1</th>\n",
       "    </tr>\n",
       "  </thead>\n",
       "  <tbody>\n",
       "    <tr>\n",
       "      <th rowspan=\"4\" valign=\"top\">age</th>\n",
       "      <th>mean</th>\n",
       "      <td>29.98</td>\n",
       "      <td>26.99</td>\n",
       "    </tr>\n",
       "    <tr>\n",
       "      <th>median</th>\n",
       "      <td>30.00</td>\n",
       "      <td>27.00</td>\n",
       "    </tr>\n",
       "    <tr>\n",
       "      <th>std</th>\n",
       "      <td>3.01</td>\n",
       "      <td>2.90</td>\n",
       "    </tr>\n",
       "    <tr>\n",
       "      <th>var</th>\n",
       "      <td>9.06</td>\n",
       "      <td>8.38</td>\n",
       "    </tr>\n",
       "    <tr>\n",
       "      <th rowspan=\"4\" valign=\"top\">avg_additional_charges_total</th>\n",
       "      <th>mean</th>\n",
       "      <td>158.45</td>\n",
       "      <td>115.08</td>\n",
       "    </tr>\n",
       "    <tr>\n",
       "      <th>median</th>\n",
       "      <td>149.88</td>\n",
       "      <td>103.81</td>\n",
       "    </tr>\n",
       "    <tr>\n",
       "      <th>std</th>\n",
       "      <td>99.80</td>\n",
       "      <td>77.70</td>\n",
       "    </tr>\n",
       "    <tr>\n",
       "      <th>var</th>\n",
       "      <td>9960.36</td>\n",
       "      <td>6036.73</td>\n",
       "    </tr>\n",
       "    <tr>\n",
       "      <th rowspan=\"4\" valign=\"top\">avg_class_frequency_current_month</th>\n",
       "      <th>mean</th>\n",
       "      <td>2.03</td>\n",
       "      <td>1.04</td>\n",
       "    </tr>\n",
       "    <tr>\n",
       "      <th>median</th>\n",
       "      <td>2.05</td>\n",
       "      <td>0.98</td>\n",
       "    </tr>\n",
       "    <tr>\n",
       "      <th>std</th>\n",
       "      <td>1.02</td>\n",
       "      <td>0.77</td>\n",
       "    </tr>\n",
       "    <tr>\n",
       "      <th>var</th>\n",
       "      <td>1.04</td>\n",
       "      <td>0.59</td>\n",
       "    </tr>\n",
       "    <tr>\n",
       "      <th rowspan=\"4\" valign=\"top\">avg_class_frequency_total</th>\n",
       "      <th>mean</th>\n",
       "      <td>2.02</td>\n",
       "      <td>1.47</td>\n",
       "    </tr>\n",
       "    <tr>\n",
       "      <th>median</th>\n",
       "      <td>2.04</td>\n",
       "      <td>1.49</td>\n",
       "    </tr>\n",
       "    <tr>\n",
       "      <th>std</th>\n",
       "      <td>1.02</td>\n",
       "      <td>0.69</td>\n",
       "    </tr>\n",
       "    <tr>\n",
       "      <th>var</th>\n",
       "      <td>1.03</td>\n",
       "      <td>0.48</td>\n",
       "    </tr>\n",
       "    <tr>\n",
       "      <th rowspan=\"4\" valign=\"top\">contract_period</th>\n",
       "      <th>mean</th>\n",
       "      <td>5.75</td>\n",
       "      <td>1.73</td>\n",
       "    </tr>\n",
       "    <tr>\n",
       "      <th>median</th>\n",
       "      <td>6.00</td>\n",
       "      <td>1.00</td>\n",
       "    </tr>\n",
       "    <tr>\n",
       "      <th>std</th>\n",
       "      <td>4.72</td>\n",
       "      <td>2.13</td>\n",
       "    </tr>\n",
       "    <tr>\n",
       "      <th>var</th>\n",
       "      <td>22.25</td>\n",
       "      <td>4.55</td>\n",
       "    </tr>\n",
       "    <tr>\n",
       "      <th rowspan=\"4\" valign=\"top\">lifetime</th>\n",
       "      <th>mean</th>\n",
       "      <td>4.71</td>\n",
       "      <td>0.99</td>\n",
       "    </tr>\n",
       "    <tr>\n",
       "      <th>median</th>\n",
       "      <td>4.00</td>\n",
       "      <td>1.00</td>\n",
       "    </tr>\n",
       "    <tr>\n",
       "      <th>std</th>\n",
       "      <td>3.87</td>\n",
       "      <td>1.11</td>\n",
       "    </tr>\n",
       "    <tr>\n",
       "      <th>var</th>\n",
       "      <td>15.01</td>\n",
       "      <td>1.23</td>\n",
       "    </tr>\n",
       "    <tr>\n",
       "      <th rowspan=\"4\" valign=\"top\">month_to_end_contract</th>\n",
       "      <th>mean</th>\n",
       "      <td>5.28</td>\n",
       "      <td>1.66</td>\n",
       "    </tr>\n",
       "    <tr>\n",
       "      <th>median</th>\n",
       "      <td>6.00</td>\n",
       "      <td>1.00</td>\n",
       "    </tr>\n",
       "    <tr>\n",
       "      <th>std</th>\n",
       "      <td>4.36</td>\n",
       "      <td>1.96</td>\n",
       "    </tr>\n",
       "    <tr>\n",
       "      <th>var</th>\n",
       "      <td>19.04</td>\n",
       "      <td>3.86</td>\n",
       "    </tr>\n",
       "  </tbody>\n",
       "</table>\n",
       "</div>"
      ],
      "text/plain": [
       "churn                                          0       1\n",
       "age                               mean     29.98   26.99\n",
       "                                  median   30.00   27.00\n",
       "                                  std       3.01    2.90\n",
       "                                  var       9.06    8.38\n",
       "avg_additional_charges_total      mean    158.45  115.08\n",
       "                                  median  149.88  103.81\n",
       "                                  std      99.80   77.70\n",
       "                                  var    9960.36 6036.73\n",
       "avg_class_frequency_current_month mean      2.03    1.04\n",
       "                                  median    2.05    0.98\n",
       "                                  std       1.02    0.77\n",
       "                                  var       1.04    0.59\n",
       "avg_class_frequency_total         mean      2.02    1.47\n",
       "                                  median    2.04    1.49\n",
       "                                  std       1.02    0.69\n",
       "                                  var       1.03    0.48\n",
       "contract_period                   mean      5.75    1.73\n",
       "                                  median    6.00    1.00\n",
       "                                  std       4.72    2.13\n",
       "                                  var      22.25    4.55\n",
       "lifetime                          mean      4.71    0.99\n",
       "                                  median    4.00    1.00\n",
       "                                  std       3.87    1.11\n",
       "                                  var      15.01    1.23\n",
       "month_to_end_contract             mean      5.28    1.66\n",
       "                                  median    6.00    1.00\n",
       "                                  std       4.36    1.96\n",
       "                                  var      19.04    3.86"
      ]
     },
     "execution_count": 11,
     "metadata": {},
     "output_type": "execute_result"
    }
   ],
   "source": [
    "desc_stat_churn = gym_churn.pivot_table(index=['churn'],\n",
    "                  values=['age', 'lifetime', 'contract_period', 'month_to_end_contract', \n",
    "                          'avg_class_frequency_total', 'avg_class_frequency_current_month', 'avg_additional_charges_total'], \n",
    "                  aggfunc={'age': [np.mean, np.median, np.std, np.var], \n",
    "                           'lifetime': [np.mean, np.median, np.std, np.var], \n",
    "                           'contract_period': [np.mean, np.median, np.std, np.var],\n",
    "                           'month_to_end_contract': [np.mean, np.median, np.std, np.var],\n",
    "                           'avg_class_frequency_total': [np.mean, np.median, np.std, np.var],\n",
    "                           'avg_class_frequency_current_month': [np.mean, np.median, np.std, np.var],\n",
    "                           'avg_additional_charges_total': [np.mean, np.median, np.std, np.var]})\n",
    "desc_stat_churn.T"
   ]
  },
  {
   "cell_type": "markdown",
   "metadata": {},
   "source": [
    "Чаще уходят клиенты, которые:\n",
    "* живут или работают дальше от фитнес-центра;\n",
    "* реже являются сотрудниками компаний-партнеров;\n",
    "* реже приходят по программе «приведи друга»;\n",
    "* моложе;\n",
    "* реже посещают групповые занятия;\n",
    "* у них меньше прошло времени с первого обращения в фитнес-центр;\n",
    "* меньше длительность их текущего абонемента и меньше срок до его окончания;\n",
    "* они реже посещали фитнес-центре в неделю за предыдущий месяц и у них меньше посещений в неделю за все время;\n",
    "* тратят меньше на другие услуги фитнес-центра (кафе, спорттовары, косметический и массажный салон).\n",
    "\n",
    "Можно предположить, что к признакам, которые не влияют на отток можно отнести пол, контактный телефон.\n",
    "\n",
    "По основным статистическим показателям, у большинства количественных признаков стандартное отклонение не превышает среднего значения, это говорит о том, что серьезных аномалий или выбросов не наблюдаются. Однако, выделяются такие признаки как contract_period, lifetime и month_to_end_contract, у которых в оттоке наблюдаются незначительные выбросы, но это не критично и их присутствие не повлияет на результаты анализа."
   ]
  },
  {
   "cell_type": "markdown",
   "metadata": {},
   "source": [
    "### Построим матрицу корреляций и отобразим ее"
   ]
  },
  {
   "cell_type": "markdown",
   "metadata": {},
   "source": [
    "**Для выявления коррелирующих признаков построим матрицу корреляции с помощью метода .corr()**"
   ]
  },
  {
   "cell_type": "code",
   "execution_count": 12,
   "metadata": {
    "scrolled": false
   },
   "outputs": [
    {
     "data": {
      "image/png": "[encoded data removed]",
      "text/plain": [
       "<Figure size 1080x720 with 2 Axes>"
      ]
     },
     "metadata": {
      "needs_background": "light"
     },
     "output_type": "display_data"
    }
   ],
   "source": [
    "plt.figure(figsize=(15,10))\n",
    "sns.heatmap(data=gym_churn.corr(), annot=True, square=True, fmt='.2f')\n",
    "plt.title('Корреляционная матрица', fontsize=14)\n",
    "plt.show()"
   ]
  },
  {
   "cell_type": "markdown",
   "metadata": {},
   "source": [
    "Явной взаимозависимости факта оттока (churn целевая переменная) с признаками не обнаружено, но есть взаимозависимость фактора оттока с признаком lifetime (время с момента первого обращения в фитнес-центр), коэффициент корреляции равен -0.44, то есть чем меньше прошло времени с момента первого обращения в фитнес-центр, тем выше вероятность того, что клиент попадет в отток.\n",
    "\n",
    "Далее по значимости следуют средняя частота посещений клуба за предыдущий месяц (коэффициент корреляции равен -0.41), возраст (коэффициент корреляции равен -0.40), длительность текущего действующего абонемента (коэффициент корреляции равен -0.39) и срок до истечения текущего действующего абонемента (коэффициент корреляции равен -0.38). Для остальных признаков характерна очень слабая корреляция с целевой переменной. Пол и контактный телефон не влияют на отток.\n",
    "\n",
    "Между собой сильно коррелируют две пары признаков:\n",
    "* contract_period (длительность текущего действующего абонемента) и month_to_end_contract (срок до окончания текущего действующего абонемента), коэффициента корреляции равен 0.97);\n",
    "* аvg_class_frequency_total (средняя частота посещений в неделю за все время с начала действия абонемента) и аvg_class_frequency_current_month (средняя частота посещений в неделю за предыдущий месяц), коэффициент корреляции равен 0.95.\n",
    "\n",
    "Сильная положительная корреляция между contract_period и month_to_end_contract (97%) очевидна, так как чем длиннее изначальный срок абонемента, тем в среднем больше месяцев до окончания контракта остается у пользователей. Сильная положительная корреляция между признаками avg_class_frequency_total и avg_class_frequency_current_month (95%) объяснима тем, что эти метрики характеризует одно и то же, но за разные периоды. Скорее всего клиенты посещают фитнес-центр примерно одинаковое число раз в неделю вне зависимости от того, сколько они пользуются услугами центра.\n",
    "\n",
    "Наблюдается проблема частичной мультиколлинеарности. Мультиколлинеарность возникает, когда есть группа линейно зависимых признаков — взаимозависимых или очень сильно скоррелированных (часто коэффициент корреляции больше 0.8).\n",
    "\n",
    "Также видим заметную относительно остальных корреляцию между признаком partner (сотрудник компании-партнера клуба) и признаком promo_friends (факт первоначальной записи в рамках акции «приведи друга»), коэффициент корреляции равен 0.45. То есть, вероятно, клиенты, пришедшие в клуб по партнерской программе, решили сделать это за компанию со своими коллегами, прислав им промо-код для оплаты первого абонемента. Видим и заметную относительно остальных корреляцию между признаком contract_period (длительность текущего действующего абонемента) и partner (сотрудник компании-партнера клуба), коэффициент корреляции равен 0.31. Возможно, фитнес-центр дает таким клиентам хорошую скидку, и они покупают более длительный абонемент."
   ]
  },
  {
   "cell_type": "code",
   "execution_count": 13,
   "metadata": {},
   "outputs": [
    {
     "data": {
      "text/plain": [
       "(4000, 13)"
      ]
     },
     "execution_count": 13,
     "metadata": {},
     "output_type": "execute_result"
    }
   ],
   "source": [
    "# чтобы избавиться от мультиколлинеарности, удалим из датафрейма одну из пар:\n",
    "gym_churn.drop('month_to_end_contract', axis = 1, inplace = True)\n",
    "\n",
    "gym_churn.shape"
   ]
  },
  {
   "cell_type": "markdown",
   "metadata": {},
   "source": [
    "Можно сравнить качество моделей до и после удаления признаков и выбрать оптимальный вариант."
   ]
  },
  {
   "cell_type": "markdown",
   "metadata": {},
   "source": [
    "**Вывод**\n",
    "\n",
    "По результатам исследовательского анализа получили следующую информацию о данных:\n",
    "\n",
    "1. Портрет среднего клиента:\n",
    "* мужчина или женщина;\n",
    "* проживает или работает в районе, где находится фитнес-центр;\n",
    "* скорее не является сотрудниками компании-партнера клуба;\n",
    "* пришел не по программе «приведи друга»;\n",
    "* нам известен его контактный телефон;\n",
    "* не посещает групповые занятия;\n",
    "* средний возраст 29 лет;\n",
    "* среднее время с момента первого обращения в фитнес-центр почти 4 месяца;\n",
    "* средняя длительность текущего действующего абонемента 4 месяца\n",
    "* средний срок до окончания текущего действующего абонемента 4 месяца.\n",
    "* средняя частота посещений в неделю за все время с начала действия абонемента 2 раза.\n",
    "* средняя частота посещений в неделю за предыдущий месяц 2 раза.\n",
    "* средняя суммарная выручка, которую клиент принес финес-центру, от других услуг (кафе, спорттовары, косметический и массажный салон) равна 147 у.е.\n",
    "\n",
    "Доля оттока составляет 27%.\n",
    "\n",
    "2. Клиенты, которые чаще уходят, имеют следующие характеристики:\n",
    "* живут или работают дальше от фитнес-центра;\n",
    "* реже являются сотрудниками компаний-партнеров;\n",
    "* реже приходят по программе «приведи друга»;\n",
    "* они моложе;\n",
    "* реже посещают групповые занятия;\n",
    "* у них меньше прошло времени с первого обращения в фитнес-центр;\n",
    "* меньше длительность их текущего абонемента и меньше срок до его окончания;\n",
    "* они реже посещали фитнес-центре в неделю за предыдущий месяц и у них меньше посещений в неделю за все время;\n",
    "* тратят меньше на другие услуги фитнес-центра (кафе, спорттовары, косметический и массажный салон).\n",
    "\n",
    "3. По результатам построения корреляционной матрицы мы получили, что явной взаимозависимости факта оттока с признаками не обнаружено. Однако есть взаимозависимость фактора оттока с признаком lifetime (время с момента первого обращения в фитнес-центр), коэффициент корреляции равен -0.44, то есть чем меньше прошло времени с момента первого обращения в фитнес-центр, тем выше вероятность того, что клиент попадет в отток.\n",
    "\n",
    "Далее по значимости следуют: \n",
    "* avg_class_frequency_current_month (средняя частота посещений фитнес-центра за предыдущий месяц), коэффициент корреляции равен -0.41;\n",
    "* age (возраст), коэффициент корреляции равен -0.40;\n",
    "* contract_period (длительность текущего действующего абонемента), коэффициент корреляции равен -0.39;\n",
    "* month_to_end_contract (срок до истечения текущего действующего абонемента), коэффициент корреляции равен -0.38.\n",
    "\n",
    "\n",
    "Для остальных признаков характерна очень слабая корреляция с целевой переменной.\n",
    "\n",
    "При этом между собой сильно коррелируют две пары признаков:\n",
    "* contract_period (длительность текущего действующего абонемента) и month_to_end_contract (срок до окончания текущего действующего абонемента), коэфициент корреляции равен 0.97);\n",
    "* аvg_class_frequency_total (средняя частота посещений в неделю за все время с начала действия абонемента) и аvg_class_frequency_current_month (средняя частота посещений в неделю за предыдущий месяц), коэффициент корреляции равен 0.95.\n",
    "\n",
    "Поэтому чтобы избавиться от мультиколлинеарности мы убрали один признак из пары - month_to_end_contract (срок до окончания текущего действующего абонемента), что положительно повлияло на метрики моделей для прогнозирования оттока."
   ]
  },
  {
   "cell_type": "markdown",
   "metadata": {},
   "source": [
    "## Шаг 3. Построим модель прогнозирования оттока клиентов"
   ]
  },
  {
   "cell_type": "markdown",
   "metadata": {},
   "source": [
    "Для построения модели прогнозирования оттока клиентов будем использовать следующие модели бинарной классификации:\n",
    "* логистическая регрессия - Logistic Regression\n",
    "* модель случайного леса - Random Forest Classifier"
   ]
  },
  {
   "cell_type": "markdown",
   "metadata": {},
   "source": [
    "### Разбьем данные на обучающую и валидационную выборку функцией train_test_split()"
   ]
  },
  {
   "cell_type": "code",
   "execution_count": 14,
   "metadata": {},
   "outputs": [],
   "source": [
    "# разделим данные на признаки (матрица X) и целевую переменную (y)\n",
    "X = gym_churn.drop('churn', axis = 1)\n",
    "y = gym_churn['churn']\n",
    "\n",
    "# разделим данные на обучающую 80% train и валидационную 20% test выборку\n",
    "X_train, X_test, y_train, y_test = train_test_split(X, y, test_size=0.2, random_state=0)"
   ]
  },
  {
   "cell_type": "markdown",
   "metadata": {},
   "source": [
    "### Обучим модель на train-выборке двумя способами: логистической регрессией, случайным лесом"
   ]
  },
  {
   "cell_type": "markdown",
   "metadata": {},
   "source": [
    "**Логистическая регрессия - Logistic Regression**"
   ]
  },
  {
   "cell_type": "code",
   "execution_count": 15,
   "metadata": {},
   "outputs": [],
   "source": [
    "# обучим StandartScaler на обучающей выборке\n",
    "scaler = StandardScaler()\n",
    "scaler.fit(X_train)\n",
    "\n",
    "# преобразуем обучающий и валидационные наборы данных\n",
    "X_train_st = scaler.transform(X_train)\n",
    "X_test_st = scaler.transform(X_test)\n",
    "\n",
    "# зададим алгоритм для модели логистической регрессии\n",
    "lr_model = LogisticRegression(random_state=0)\n",
    "\n",
    "# обучим модель\n",
    "lr_model.fit(X_train_st, y_train)\n",
    "\n",
    "# воспользуемся уже обученной моделью, чтобы сделать прогнозы\n",
    "lr_predictions = lr_model.predict(X_test_st)\n",
    "lr_probabilities = lr_model.predict_proba(X_test_st)[:,1]"
   ]
  },
  {
   "cell_type": "markdown",
   "metadata": {},
   "source": [
    "**Случайный лес - Random Forest Classifier**"
   ]
  },
  {
   "cell_type": "code",
   "execution_count": 16,
   "metadata": {},
   "outputs": [],
   "source": [
    "# зададим алгоритм для новой модели на основе алгоритма случайного леса\n",
    "rf_model = RandomForestClassifier(n_estimators = 100, bootstrap = True, max_depth=12, random_state = 0) \n",
    "\n",
    "# обучим модель случайного леса\n",
    "rf_model.fit(X_train_st, y_train)\n",
    "\n",
    "# воспользуемся уже обученной моделью, чтобы сделать прогнозы\n",
    "rf_predictions = rf_model.predict(X_test_st) \n",
    "rf_probabilities = rf_model.predict_proba(X_test_st)[:,1]"
   ]
  },
  {
   "cell_type": "markdown",
   "metadata": {},
   "source": [
    "### Оценим метрики accuracy, precision и recall для обеих моделей на валидационной выборке. Сравним по ним модели. Какая модель показала себя лучше на основании метрик?"
   ]
  },
  {
   "cell_type": "markdown",
   "metadata": {},
   "source": [
    "Для оценки качества полученных прогнозов и выбора лучшей модели сравним следующие метрики:\n",
    "* Accuracy: доля правильных ответов. Чем ближе к единице, тем лучше.\n",
    "* Precision: отражает точность модели. Чем ближе к единице, тем лучше.\n",
    "* Recall: полнота модели. Чем ближе к единице, тем лучше.\n",
    "* F1-мера: сводная метрика, которая объединяет бы в себе информацию о точности и полноте нашего алгоритма. Чем ближе к единице, тем лучше.\n",
    "* ROC AUC: метрика оценки качества классификатора. Чем ближе к единице, тем лучше."
   ]
  },
  {
   "cell_type": "code",
   "execution_count": 17,
   "metadata": {},
   "outputs": [
    {
     "name": "stdout",
     "output_type": "stream",
     "text": [
      "Метрики для модели логистической регрессии:\n",
      "\tAccuracy: 0.92\n",
      "\tPrecision: 0.85\n",
      "\tRecall: 0.83\n",
      "\tF1: 0.84\n",
      "\tROC_AUC: 0.97\n",
      "Метрики для модели случайного леса:\n",
      "\tAccuracy: 0.91\n",
      "\tPrecision: 0.83\n",
      "\tRecall: 0.79\n",
      "\tF1: 0.81\n",
      "\tROC_AUC: 0.97\n"
     ]
    }
   ],
   "source": [
    "# определим функцию, которая будет выводить наши метрики\n",
    "def print_all_metrics(y_true, y_pred, y_proba, title = \"Метрики классификации\"):\n",
    "    print(title)\n",
    "    print('\\tAccuracy: {:.2f}'.format(accuracy_score(y_true, y_pred)))\n",
    "    print('\\tPrecision: {:.2f}'.format(precision_score(y_true, y_pred)))\n",
    "    print('\\tRecall: {:.2f}'.format(recall_score(y_true, y_pred)))\n",
    "    print('\\tF1: {:.2f}'.format(f1_score(y_true, y_pred)))\n",
    "    print('\\tROC_AUC: {:.2f}'.format(roc_auc_score(y_true, y_proba))) \n",
    "\n",
    "# выведем все метрики для модели логистической регрессии и модели случайного леса\n",
    "print_all_metrics(y_test, lr_predictions, lr_probabilities, title='Метрики для модели логистической регрессии:')\n",
    "print_all_metrics(y_test, rf_predictions, rf_probabilities, title='Метрики для модели случайного леса:')"
   ]
  },
  {
   "cell_type": "markdown",
   "metadata": {},
   "source": [
    "Модель логистической регрессии в нашем случае показала результаты лучше:\n",
    "* доля правильных ответов (accuracy) выше у модели логической регрессии (92% против 91%);\n",
    "* точность (precision) выше у модели логической регрессии (85% против 83%);\n",
    "* полнота (recall) выше у модели логической регрессии (83% против 79%);\n",
    "* F1-мера выше у модели логической регрессии (84% против 81%);\n",
    "* доля оценки качества классификатора (ROC AUC) одинакова для обеих моделей - 97%."
   ]
  },
  {
   "cell_type": "markdown",
   "metadata": {},
   "source": [
    "**Вывод**\n",
    "\n",
    "При построении модели мы разделили выборку на обучающую и валидационную в соотношении 80 к 20, то есть на 80% данных модель была обучена, а на 20% - проверена. После этого были построены и обучены 2 модели: алгоритмом логистической регрессии и алгоритмом случайного леса.\n",
    "\n",
    "Основные метрики полученных моделей следующие. Для модели логистической регрессии:\n",
    "* Accuracy = 0.92; \n",
    "* Precision = 0.85; \n",
    "* Recall = 0.83; \n",
    "* F1 = 0.84; \n",
    "* ROC_AUC = 0.97. \n",
    "\n",
    "\n",
    "Для модели случайного леса: \n",
    "* Accuracy = 0.91; \n",
    "* Precision = 0.83; \n",
    "* Recall = 0.79; \n",
    "* F1 = 0.81; \n",
    "* ROC_AUC = 0.97. \n",
    "\n",
    "Таким образом, обе модели достаточно хорошо способны делать прогноз. Однако, модель логистической регрессии подходит больше по всем показателям: доле правильных ответов (accuracy), точности (precision), полноте (recall), агрегирующей метрике F1 и наиболее точной метрике оценки качества классификатора ROC AUC."
   ]
  },
  {
   "cell_type": "markdown",
   "metadata": {},
   "source": [
    "## Шаг 4. Сделаем кластеризацию клиентов"
   ]
  },
  {
   "cell_type": "markdown",
   "metadata": {},
   "source": [
    "### Стандартизируем данные"
   ]
  },
  {
   "cell_type": "code",
   "execution_count": 18,
   "metadata": {},
   "outputs": [],
   "source": [
    "# создим объект класса Scaler (нормализатор)\n",
    "scaler = StandardScaler()\n",
    "\n",
    "# обучим нормализатор и преобразуем набор данных. Без churn целевой переменной\n",
    "X_st = scaler.fit_transform(X)"
   ]
  },
  {
   "cell_type": "markdown",
   "metadata": {},
   "source": [
    "### Построим матрицу расстояний функцией linkage() на стандартизованной матрице признаков и нарисуем дендрограмму. На основании полученного графика предположим какое количество кластеров можно выделить"
   ]
  },
  {
   "cell_type": "code",
   "execution_count": 19,
   "metadata": {},
   "outputs": [
    {
     "data": {
      "image/png": "[encoded data removed]",
      "text/plain": [
       "<Figure size 1080x720 with 1 Axes>"
      ]
     },
     "metadata": {
      "needs_background": "light"
     },
     "output_type": "display_data"
    }
   ],
   "source": [
    "# расчитаем матрицу расстояний с помощью метода linkage\n",
    "linked = linkage(X_st, method = 'ward')\n",
    "\n",
    "# построим дендрограмму\n",
    "plt.figure(figsize=(15, 10))  \n",
    "dendrogram(linked, orientation='top', show_leaf_counts=False, truncate_mode='lastp', p=30, leaf_rotation=90, leaf_font_size=14)\n",
    "plt.title(\"Дендрограмма клиентов сети фитнес-центров\", fontsize=14)\n",
    "plt.xlabel(\"Размер кластера\")\n",
    "plt.ylabel(\"Расстояние\")\n",
    "plt.show()"
   ]
  },
  {
   "cell_type": "markdown",
   "metadata": {},
   "source": [
    "Мы имеем 5 разных цветов на графике, предложенное оптимальное число кластеров - 5."
   ]
  },
  {
   "cell_type": "markdown",
   "metadata": {},
   "source": [
    "### Обучим модель кластеризации на основании алгоритма K-Means и спрогнозируем кластеры клиентов. За число кластеров возьмем n=5."
   ]
  },
  {
   "cell_type": "markdown",
   "metadata": {},
   "source": [
    "Алгоритм K-Means группирует пошагово все объекты. Вот принцип его работы:\n",
    "* Есть K кластеров. Алгоритм пошагово подбирает их центры и относит объекты к тому кластеру, чей центр ближе.\n",
    "* Центры корректируются (меняют свое положение) до тех пор, пока это позволяет минимизировать среднее расстояние от объектов каждого кластера до его центра.\n",
    "* Когда расстояние от объектов до центра перестает снижаться или сокращается несущественно, алгоритм останавливается и фиксирует разбиение, считая его оптимальным."
   ]
  },
  {
   "cell_type": "markdown",
   "metadata": {},
   "source": [
    "**Выполним кластеризацию по алгоритму K-Means**"
   ]
  },
  {
   "cell_type": "code",
   "execution_count": 20,
   "metadata": {},
   "outputs": [],
   "source": [
    "# зададим число кластеров равное 5\n",
    "k_means = KMeans(n_clusters = 5, random_state=1)\n",
    "\n",
    "# прогнозируем кластеры для наблюдений (алгоритм присваивает им номера от 0 до 4)\n",
    "labels = k_means.fit_predict(X_st)\n",
    "\n",
    "# присвоим каждому наблюдению в датафрейме соответствующее значение кластера \n",
    "gym_churn['cluster_km'] = labels"
   ]
  },
  {
   "cell_type": "markdown",
   "metadata": {},
   "source": [
    "### Посмотрим на средние значения признаков для кластеров. Ответим на вопрос: можно ли сразу что-то заметить?"
   ]
  },
  {
   "cell_type": "markdown",
   "metadata": {},
   "source": [
    "**Выведем статистику по средним значениям признаков по кластеру**"
   ]
  },
  {
   "cell_type": "code",
   "execution_count": 21,
   "metadata": {},
   "outputs": [
    {
     "data": {
      "text/html": [
       "<div>\n",
       "<style scoped>\n",
       "    .dataframe tbody tr th:only-of-type {\n",
       "        vertical-align: middle;\n",
       "    }\n",
       "\n",
       "    .dataframe tbody tr th {\n",
       "        vertical-align: top;\n",
       "    }\n",
       "\n",
       "    .dataframe thead th {\n",
       "        text-align: right;\n",
       "    }\n",
       "</style>\n",
       "<table border=\"1\" class=\"dataframe\">\n",
       "  <thead>\n",
       "    <tr style=\"text-align: right;\">\n",
       "      <th>cluster_km</th>\n",
       "      <th>0</th>\n",
       "      <th>1</th>\n",
       "      <th>2</th>\n",
       "      <th>3</th>\n",
       "      <th>4</th>\n",
       "    </tr>\n",
       "  </thead>\n",
       "  <tbody>\n",
       "    <tr>\n",
       "      <th>gender</th>\n",
       "      <td>0.57</td>\n",
       "      <td>0.49</td>\n",
       "      <td>0.52</td>\n",
       "      <td>0.48</td>\n",
       "      <td>0.49</td>\n",
       "    </tr>\n",
       "    <tr>\n",
       "      <th>near_location</th>\n",
       "      <td>0.97</td>\n",
       "      <td>1.00</td>\n",
       "      <td>0.86</td>\n",
       "      <td>0.99</td>\n",
       "      <td>0.00</td>\n",
       "    </tr>\n",
       "    <tr>\n",
       "      <th>partner</th>\n",
       "      <td>0.31</td>\n",
       "      <td>0.24</td>\n",
       "      <td>0.47</td>\n",
       "      <td>0.95</td>\n",
       "      <td>0.49</td>\n",
       "    </tr>\n",
       "    <tr>\n",
       "      <th>promo_friends</th>\n",
       "      <td>0.10</td>\n",
       "      <td>0.10</td>\n",
       "      <td>0.31</td>\n",
       "      <td>0.88</td>\n",
       "      <td>0.07</td>\n",
       "    </tr>\n",
       "    <tr>\n",
       "      <th>phone</th>\n",
       "      <td>1.00</td>\n",
       "      <td>1.00</td>\n",
       "      <td>0.00</td>\n",
       "      <td>1.00</td>\n",
       "      <td>1.00</td>\n",
       "    </tr>\n",
       "    <tr>\n",
       "      <th>contract_period</th>\n",
       "      <td>5.17</td>\n",
       "      <td>2.49</td>\n",
       "      <td>4.76</td>\n",
       "      <td>7.81</td>\n",
       "      <td>2.86</td>\n",
       "    </tr>\n",
       "    <tr>\n",
       "      <th>group_visits</th>\n",
       "      <td>0.49</td>\n",
       "      <td>0.33</td>\n",
       "      <td>0.43</td>\n",
       "      <td>0.54</td>\n",
       "      <td>0.23</td>\n",
       "    </tr>\n",
       "    <tr>\n",
       "      <th>age</th>\n",
       "      <td>30.28</td>\n",
       "      <td>28.22</td>\n",
       "      <td>29.28</td>\n",
       "      <td>29.63</td>\n",
       "      <td>28.57</td>\n",
       "    </tr>\n",
       "    <tr>\n",
       "      <th>avg_additional_charges_total</th>\n",
       "      <td>166.03</td>\n",
       "      <td>131.43</td>\n",
       "      <td>144.24</td>\n",
       "      <td>154.89</td>\n",
       "      <td>136.30</td>\n",
       "    </tr>\n",
       "    <tr>\n",
       "      <th>lifetime</th>\n",
       "      <td>5.00</td>\n",
       "      <td>2.44</td>\n",
       "      <td>3.92</td>\n",
       "      <td>4.46</td>\n",
       "      <td>2.91</td>\n",
       "    </tr>\n",
       "    <tr>\n",
       "      <th>avg_class_frequency_total</th>\n",
       "      <td>2.88</td>\n",
       "      <td>1.26</td>\n",
       "      <td>1.85</td>\n",
       "      <td>1.83</td>\n",
       "      <td>1.68</td>\n",
       "    </tr>\n",
       "    <tr>\n",
       "      <th>avg_class_frequency_current_month</th>\n",
       "      <td>2.88</td>\n",
       "      <td>1.03</td>\n",
       "      <td>1.72</td>\n",
       "      <td>1.79</td>\n",
       "      <td>1.50</td>\n",
       "    </tr>\n",
       "    <tr>\n",
       "      <th>churn</th>\n",
       "      <td>0.04</td>\n",
       "      <td>0.50</td>\n",
       "      <td>0.27</td>\n",
       "      <td>0.10</td>\n",
       "      <td>0.42</td>\n",
       "    </tr>\n",
       "  </tbody>\n",
       "</table>\n",
       "</div>"
      ],
      "text/plain": [
       "cluster_km                             0      1      2      3      4\n",
       "gender                              0.57   0.49   0.52   0.48   0.49\n",
       "near_location                       0.97   1.00   0.86   0.99   0.00\n",
       "partner                             0.31   0.24   0.47   0.95   0.49\n",
       "promo_friends                       0.10   0.10   0.31   0.88   0.07\n",
       "phone                               1.00   1.00   0.00   1.00   1.00\n",
       "contract_period                     5.17   2.49   4.76   7.81   2.86\n",
       "group_visits                        0.49   0.33   0.43   0.54   0.23\n",
       "age                                30.28  28.22  29.28  29.63  28.57\n",
       "avg_additional_charges_total      166.03 131.43 144.24 154.89 136.30\n",
       "lifetime                            5.00   2.44   3.92   4.46   2.91\n",
       "avg_class_frequency_total           2.88   1.26   1.85   1.83   1.68\n",
       "avg_class_frequency_current_month   2.88   1.03   1.72   1.79   1.50\n",
       "churn                               0.04   0.50   0.27   0.10   0.42"
      ]
     },
     "execution_count": 21,
     "metadata": {},
     "output_type": "execute_result"
    }
   ],
   "source": [
    "cluster_means = gym_churn.groupby(['cluster_km']).mean().T\n",
    "cluster_means"
   ]
  },
  {
   "cell_type": "markdown",
   "metadata": {},
   "source": [
    "**Кластер 0 характеризуется:**\n",
    "* чуть большим числом людей одного пола, по сравнению с другим;\n",
    "* 97% клиентов проживают или работают в районе, где находится фитнес-центр (near_location);\n",
    "* 31% клиентов являются сотрудниками компании-партнера клуба (partner);\n",
    "* 10% клиентов пришли по программе «приведи друга» (promo_friends);\n",
    "* наличие контактного телефона у 100% клиентов (phone);\n",
    "* средняя длительность текущего действующего абонемента 5 месяца (contract_period);\n",
    "* 49% клиентов посещают групповые занятия (group_visits);\n",
    "* средний возраст клиентов 30 лет (age);\n",
    "* средняя суммарная выручка от других услуг фитнес-центра 166 у.е. (avg_additional_charges_total);\n",
    "* среднее время с момента первого обращения в фитнес-центр 5 месяцев (lifetime);\n",
    "* средняя частота посещений в неделю за все время с начала действия абонемента почти 3 раза (avg_class_frequency_total);\n",
    "* средняя частота посещений в неделю за предыдущий месяц почти 3 раза (avg_class_frequency_current_month).\n",
    "\n",
    "Доля оттока 4% (самый низкий отток).\n",
    "\n",
    "\n",
    "**Кластер 1 характеризуется:**\n",
    "* приблизительно равным распределением между мужчинами и женщинами (gender);\n",
    "* 100% клиентов проживают или работают в районе, где находится фитнес-центр (near_location);\n",
    "* 24% клиентов являются сотрудниками компании-партнера клуба (partner);\n",
    "* 10% клиентов пришли по программе «приведи друга» (promo_friends);\n",
    "* наличие контактного телефона у 100% клиентов (phone);\n",
    "* средняя длительность текущего действующего абонемента 2 месяца (contract_period);\n",
    "* 33% клиентов посещают групповые занятия (group_visits);\n",
    "* средний возраст клиентов 28 лет (age);\n",
    "* средняя суммарная выручка от других услуг фитнес-центра 131 у.е. (avg_additional_charges_total);\n",
    "* среднее время с момента первого обращения в фитнес-центр 2 месяцев (lifetime);\n",
    "* средняя частота посещений в неделю за все время с начала действия абонемента 1 раз (avg_class_frequency_total);\n",
    "* средняя частота посещений в неделю за предыдущий месяц 1 раз (avg_class_frequency_current_month).\n",
    "\n",
    "Доля оттока 50% (самый высокий отток).\n",
    "\n",
    "\n",
    "**Кластер 2 характеризуется:**\n",
    "* приблизительно равным распределением между мужчинами и женщинами (gender);\n",
    "* 86% клиентов проживают или работают в районе, где находится фитнес-центр (near_location);\n",
    "* 47% клиентов являются сотрудниками компании-партнера клуба (partner);\n",
    "* 31% клиентов пришли по программе «приведи друга» (promo_friends);\n",
    "* не имеем в наличии контактные телефоны (phone);\n",
    "* средняя длительность текущего действующего абонемента 4 месяца (contract_period);\n",
    "* 43% клиентов посещают групповые занятия (group_visits);\n",
    "* средний возраст клиентов 29 лет (age);\n",
    "* средняя суммарная выручка от других услуг фитнес-центра 144 у.е. (avg_additional_charges_total);\n",
    "* среднее время с момента первого обращения в фитнес-центр 4 месяцев (lifetime);\n",
    "* средняя частота посещений в неделю за все время с начала действия абонемента почти 2 раза (avg_class_frequency_total);\n",
    "* средняя частота посещений в неделю за предыдущий месяц почти 2 раза (avg_class_frequency_current_month).\n",
    "\n",
    "Доля оттока 27%.\n",
    "\n",
    "\n",
    "**Кластер 3 характеризуется:**\n",
    "* приблизительно равным распределением между мужчинами и женщинами (gender);\n",
    "* 99% клиентов проживают или работают в районе, где находится фитнес-центр (near_location);\n",
    "* 95% клиентов являются сотрудниками компании-партнера клуба (partner);\n",
    "* 88% клиентов пришли по программе «приведи друга» (promo_friends);\n",
    "* наличие контактного телефона у 100% клиентов (phone);\n",
    "* средняя длительность текущего действующего абонемента 7 месяца (contract_period);\n",
    "* 54% клиентов посещают групповые занятия (group_visits);\n",
    "* средний возраст клиентов 29 лет (age);\n",
    "* средняя суммарная выручка от других услуг фитнес-центра 154 у.е. (avg_additional_charges_total);\n",
    "* среднее время с момента первого обращения в фитнес-центр 4 месяца (lifetime);\n",
    "* средняя частота посещений в неделю за все время с начала действия абонемента почти 2 раза (avg_class_frequency_total);\n",
    "* средняя частота посещений в неделю за предыдущий месяц почти 2 раза (avg_class_frequency_current_month).\n",
    "\n",
    "Доля оттока 10%.\n",
    "\n",
    "\n",
    "**Кластер 4 характеризуется:**\n",
    "* приблизительно равным распределением между мужчинами и женщинами (gender);\n",
    "* клиенты не проживают, не работают в районе, где находится фитнес-центр (near_location);\n",
    "* 49% клиентов являются сотрудниками компании-партнера клуба (partner);\n",
    "* 7% клиентов пришли по программе «приведи друга» (promo_friends);\n",
    "* наличие контактного телефона у 100% клиентов (phone);\n",
    "* средняя длительность текущего действующего абонемента 3 месяца (contract_period);\n",
    "* 23% клиентов посещают групповые занятия (group_visits);\n",
    "* средний возраст клиентов 28 лет (age);\n",
    "* средняя суммарная выручка от других услуг фитнес-центра 136 у.е. (avg_additional_charges_total).\n",
    "* среднее время с момента первого обращения в фитнес-центр 3 месяца (lifetime).\n",
    "* средняя частота посещений в неделю за все время с начала действия абонемента 1 раз (avg_class_frequency_total).\n",
    "* средняя частота посещений в неделю за предыдущий месяц 1 раз (avg_class_frequency_current_month).\n",
    "\n",
    "Доля оттока 42%."
   ]
  },
  {
   "cell_type": "markdown",
   "metadata": {},
   "source": [
    "### Построим распределения признаков для кластеров. Можно ли что-то заметить по ним?"
   ]
  },
  {
   "cell_type": "code",
   "execution_count": 22,
   "metadata": {
    "scrolled": false
   },
   "outputs": [
    {
     "data": {
      "image/png": "[encoded data removed]",
      "text/plain": [
       "<Figure size 720x1080 with 8 Axes>"
      ]
     },
     "metadata": {
      "needs_background": "light"
     },
     "output_type": "display_data"
    }
   ],
   "source": [
    "# список с бинарными признаками\n",
    "list_1 = ['churn', 'gender', 'near_location', 'partner', \n",
    "       'promo_friends', 'phone', 'group_visits', 'contract_period'] \n",
    "\n",
    "# цикл для построения графиков\n",
    "fig, ax = plt.subplots(4,2,figsize=(10,15))\n",
    "for axis,column in zip(ax.flat,list_1):\n",
    "    sns.countplot(x=gym_churn[column], hue=gym_churn['cluster_km'], ax=axis)"
   ]
  },
  {
   "cell_type": "code",
   "execution_count": 23,
   "metadata": {},
   "outputs": [
    {
     "data": {
      "image/png": "[encoded data removed]",
      "text/plain": [
       "<Figure size 1080x720 with 4 Axes>"
      ]
     },
     "metadata": {
      "needs_background": "light"
     },
     "output_type": "display_data"
    }
   ],
   "source": [
    "# список с количественными признаками\n",
    "list_2 = ['age', 'lifetime', 'avg_class_frequency_current_month', 'avg_additional_charges_total'] \n",
    "\n",
    "# цикл для построения графиков\n",
    "fig, ax = plt.subplots(2,2,figsize=(15,10))\n",
    "\n",
    "for axis,column in zip(ax.flat,list_2):\n",
    "    sns.boxplot(x=gym_churn['cluster_km'], y=gym_churn[column], ax=axis, showfliers=False)"
   ]
  },
  {
   "cell_type": "markdown",
   "metadata": {},
   "source": [
    "По графикам видим, что чаще всего уходят клиенты первого кластера, которые:\n",
    "* проживают или работают в районе, где находится фитнес-центр;\n",
    "* реже являются сотрудниками компании-партнера клуба;\n",
    "* реже приходят по программе «приведи друга»;\n",
    "* в основном покупают абонемент на месяц;\n",
    "* реже посещают групповые занятия;\n",
    "* средний возраст клиентов 28 лет;\n",
    "* тратят на другие услуги (кафе, спорттовары, косметический и массажный салон) меньше, чем клиенты остальных групп;\n",
    "* меньше остальных провели время в фитнес-центре;\n",
    "* реже посещают зал в неделю за все время и за предыдущий месяц (1 раз);\n",
    "\n",
    "Самые хорошие показатели у кластера 0, на них нужно ориентироваться. У них самая низкая доля оттока, они тратят больше чем другие клиенты, проводят больше времени в фитнес-центре и контрактный период у них достаточно долгий."
   ]
  },
  {
   "cell_type": "markdown",
   "metadata": {},
   "source": [
    "### Для каждого полученного кластера посчитайте долю оттока (методом groupby()). Отличаются ли они по доле оттока? Какие кластеры склонны к оттоку, а какие — надежны?"
   ]
  },
  {
   "cell_type": "code",
   "execution_count": 24,
   "metadata": {},
   "outputs": [
    {
     "data": {
      "text/html": [
       "<div>\n",
       "<style scoped>\n",
       "    .dataframe tbody tr th:only-of-type {\n",
       "        vertical-align: middle;\n",
       "    }\n",
       "\n",
       "    .dataframe tbody tr th {\n",
       "        vertical-align: top;\n",
       "    }\n",
       "\n",
       "    .dataframe thead th {\n",
       "        text-align: right;\n",
       "    }\n",
       "</style>\n",
       "<table border=\"1\" class=\"dataframe\">\n",
       "  <thead>\n",
       "    <tr style=\"text-align: right;\">\n",
       "      <th></th>\n",
       "      <th>cluster_km</th>\n",
       "      <th>ratio_churn</th>\n",
       "    </tr>\n",
       "  </thead>\n",
       "  <tbody>\n",
       "    <tr>\n",
       "      <th>1</th>\n",
       "      <td>1</td>\n",
       "      <td>50.17</td>\n",
       "    </tr>\n",
       "    <tr>\n",
       "      <th>4</th>\n",
       "      <td>4</td>\n",
       "      <td>41.95</td>\n",
       "    </tr>\n",
       "    <tr>\n",
       "      <th>2</th>\n",
       "      <td>2</td>\n",
       "      <td>26.75</td>\n",
       "    </tr>\n",
       "    <tr>\n",
       "      <th>3</th>\n",
       "      <td>3</td>\n",
       "      <td>10.18</td>\n",
       "    </tr>\n",
       "    <tr>\n",
       "      <th>0</th>\n",
       "      <td>0</td>\n",
       "      <td>4.21</td>\n",
       "    </tr>\n",
       "  </tbody>\n",
       "</table>\n",
       "</div>"
      ],
      "text/plain": [
       "   cluster_km  ratio_churn\n",
       "1           1        50.17\n",
       "4           4        41.95\n",
       "2           2        26.75\n",
       "3           3        10.18\n",
       "0           0         4.21"
      ]
     },
     "execution_count": 24,
     "metadata": {},
     "output_type": "execute_result"
    }
   ],
   "source": [
    "# для каждого полученного кластера посчитаем долю оттока\n",
    "gym_churn_grouped = gym_churn.groupby('cluster_km').mean().reset_index()[['cluster_km', 'churn']]\n",
    "gym_churn_grouped['ratio_churn'] = (gym_churn_grouped['churn'] * 100).round(2)\n",
    "gym_churn_grouped[['cluster_km', 'ratio_churn']].sort_values(by='ratio_churn', ascending=False)"
   ]
  },
  {
   "cell_type": "markdown",
   "metadata": {},
   "source": [
    "Кластеры, которые склонны к оттоку, это следующие:\n",
    "* кластер 1 с вероятностью 50%\n",
    "* кластер 4 с вероятностью 42%\n",
    "* кластер 2 с вероятностью 27%\n",
    "* кластер 3 с вероятностью 10% - является надежным\n",
    "* кластер 0 с вероятностью 4% - является самым надежным"
   ]
  },
  {
   "cell_type": "markdown",
   "metadata": {},
   "source": [
    "**Вывод**\n",
    "\n",
    "После стандартизации данных была построена матрица расстояний и дендрограмма, затем было принято решение для прогноза кластеров клиентов использовать пять кластеров в модели K-Means.\n",
    "\n",
    "Анализ средних значений и распределений признаков для кластеров показал, что выделенные нами кластеры имеют следующие характеристики.\n",
    "\n",
    "**Кластер 0 характеризуется:**\n",
    "* чуть большим числом людей одного пола, по сравнению с другим;\n",
    "* 97% клиентов проживают или работают в районе, где находится фитнес-центр (near_location);\n",
    "* 31% клиентов являются сотрудниками компании-партнера клуба (partner);\n",
    "* 10% клиентов пришли по программе «приведи друга» (promo_friends);\n",
    "* наличие контактного телефона у 100% клиентов (phone);\n",
    "* средняя длительность текущего действующего абонемента 5 месяца (contract_period);\n",
    "* 49% клиентов посещают групповые занятия (group_visits);\n",
    "* средний возраст клиентов 30 лет (age);\n",
    "* средняя суммарная выручка от других услуг фитнес-центра 166 у.е. (avg_additional_charges_total);\n",
    "* среднее время с момента первого обращения в фитнес-центр 5 месяцев (lifetime);\n",
    "* средняя частота посещений в неделю за все время с начала действия абонемента почти 3 раза (avg_class_frequency_total);\n",
    "* средняя частота посещений в неделю за предыдущий месяц почти 3 раза (avg_class_frequency_current_month).\n",
    "\n",
    "**Кластер 1 характеризуется:**\n",
    "* приблизительно равным распределением между мужчинами и женщинами;\n",
    "* 100% клиентов проживают или работают в районе, где находится фитнес-центр (near_location);\n",
    "* 24% клиентов являются сотрудниками компании-партнера клуба (partner);\n",
    "* 10% клиентов пришли по программе «приведи друга» (promo_friends);\n",
    "* наличие контактного телефона у 100% клиентов (phone);\n",
    "* средняя длительность текущего действующего абонемента 2 месяца (contract_period);\n",
    "* 33% клиентов посещают групповые занятия (group_visits);\n",
    "* средний возраст клиентов 28 лет (age);\n",
    "* средняя суммарная выручка от других услуг фитнес-центра 131 у.е. (avg_additional_charges_total);\n",
    "* среднее время с момента первого обращения в фитнес-центр 2 месяцев (lifetime);\n",
    "* средняя частота посещений в неделю за все время с начала действия абонемента 1 раз (avg_class_frequency_total);\n",
    "* средняя частота посещений в неделю за предыдущий месяц 1 раз (avg_class_frequency_current_month).\n",
    "\n",
    "**Кластер 2 характеризуется:**\n",
    "* приблизительно равным распределением между мужчинами и женщинами;\n",
    "* 86% клиентов проживают или работают в районе, где находится фитнес-центр (near_location);\n",
    "* 47% клиентов являются сотрудниками компании-партнера клуба (partner);\n",
    "* 31% клиентов пришли по программе «приведи друга» (promo_friends);\n",
    "* не имеем в наличии контактные телефоны (phone);\n",
    "* средняя длительность текущего действующего абонемента 4 месяца (contract_period);\n",
    "* 43% клиентов посещают групповые занятия (group_visits);\n",
    "* средний возраст клиентов 29 лет (age);\n",
    "* средняя суммарная выручка от других услуг фитнес-центра 144 у.е. (avg_additional_charges_total);\n",
    "* среднее время с момента первого обращения в фитнес-центр 4 месяцев (lifetime);\n",
    "* средняя частота посещений в неделю за все время с начала действия абонемента почти 2 раза (avg_class_frequency_total);\n",
    "* средняя частота посещений в неделю за предыдущий месяц почти 2 раза (avg_class_frequency_current_month).\n",
    "\n",
    "**Кластер 3 характеризуется:**\n",
    "* приблизительно равным распределением между мужчинами и женщинами;\n",
    "* 99% клиентов проживают или работают в районе, где находится фитнес-центр (near_location);\n",
    "* 95% клиентов являются сотрудниками компании-партнера клуба (partner);\n",
    "* 88% клиентов пришли по программе «приведи друга» (promo_friends);\n",
    "* наличие контактного телефона у 100% клиентов (phone);\n",
    "* средняя длительность текущего действующего абонемента 7 месяца (contract_period);\n",
    "* 54% клиентов посещают групповые занятия (group_visits);\n",
    "* средний возраст клиентов 29 лет (age);\n",
    "* средняя суммарная выручка от других услуг фитнес-центра 154 у.е. (avg_additional_charges_total);\n",
    "* среднее время с момента первого обращения в фитнес-центр 4 месяца (lifetime);\n",
    "* средняя частота посещений в неделю за все время с начала действия абонемента почти 2 раза (avg_class_frequency_total);\n",
    "* средняя частота посещений в неделю за предыдущий месяц почти 2 раза (avg_class_frequency_current_month).\n",
    "\n",
    "**Кластер 4 характеризуется:**\n",
    "* приблизительно равным распределением между мужчинами и женщинами;\n",
    "* клиенты не проживают, не работают в районе, где находится фитнес-центр (near_location);\n",
    "* 49% клиентов являются сотрудниками компании-партнера клуба (partner);\n",
    "* 7% клиентов пришли по программе «приведи друга» (promo_friends);\n",
    "* наличие контактного телефона у 100% клиентов (phone);\n",
    "* средняя длительность текущего действующего абонемента 3 месяца (contract_period);\n",
    "* 23% клиентов посещают групповые занятия (group_visits);\n",
    "* средний возраст клиентов 28 лет (age);\n",
    "* средняя суммарная выручка от других услуг фитнес-центра 136 у.е. (avg_additional_charges_total).\n",
    "* среднее время с момента первого обращения в фитнес-центр 3 месяца (lifetime).\n",
    "* средняя частота посещений в неделю за все время с начала действия абонемента 1 раз (avg_class_frequency_total).\n",
    "* средняя частота посещений в неделю за предыдущий месяц 1 раз (avg_class_frequency_current_month).\n",
    "\n",
    "Первый кластер больше всего склонен к оттоку: доля составляет 50%. Четвертый кластер характеризуется долей оттока в 42%, а второй - около 27%. Нулевой и третий кластеры (доля оттока 4% и 10% соответственно) являются самыми надежными."
   ]
  },
  {
   "cell_type": "markdown",
   "metadata": {},
   "source": [
    "## Шаг 5. Сформулируем выводы и сделаем базовые рекомендации по работе с клиентами"
   ]
  },
  {
   "cell_type": "markdown",
   "metadata": {},
   "source": [
    "### Выводы"
   ]
  },
  {
   "cell_type": "markdown",
   "metadata": {},
   "source": [
    "Заказчик подготовил для нас данные клиентов за предыдущий до проверки факта оттока месяц, информацию на основе журнала посещений, покупок, а также информация о текущем статусе абонемента. Эти данные содержат в себе информацию о 4000 клиентов и 14 показателях, один из которых (отток клиентов) был выбран в модели в качестве результирующего. \n",
    "\n",
    "В качестве показателей, которые влияют на отток, мы рассмотрели следующие характеристики клиентов: пол, проживание или работа в районе, где находится фитнес-центр, принадлежность к компании-партнеру, факт первоначальной записи в рамках акции «приведи друга», наличие контактного телефона, возраст, время с момента первого обращения в фитнес-центр, длительность текущего действующего абонемента, срок до окончания действующего абонемента, факт посещения групповых занятий, средняя частота посещений в неделю за все время с начала действия абонемента и за предыдущий месяц, суммарная выручка от других услуг фитнес-центра.\n",
    "\n",
    "**I. По результатам исследовательского анализа получили следующую информацию о данных:**\n",
    "\n",
    "**1.Портрет среднего клиента:**\n",
    "* мужчина или женщина;\n",
    "* проживает или работает в районе, где находится фитнес-центр;\n",
    "* скорее не является сотрудниками компании-партнера клуба;\n",
    "* пришел не по программе «приведи друга»;\n",
    "* нам известен его контактный телефон;\n",
    "* не посещает групповые занятия;\n",
    "* средний возраст 29 лет;\n",
    "* среднее время с момента первого обращения в фитнес-центр почти 4 месяца;\n",
    "* средняя длительность текущего действующего абонемента 4 месяца\n",
    "* средний срок до окончания текущего действующего абонемента 4 месяца.\n",
    "* средняя частота посещений в неделю за все время с начала действия абонемента 2 раза.\n",
    "* средняя частота посещений в неделю за предыдущий месяц 2 раза.\n",
    "* средняя суммарная выручка, которую клиент принес финес-центру, от других услуг (кафе, спорттовары, косметический и массажный салон) равна 147 у.е.\n",
    "\n",
    "Доля оттока составляет 27%.\n",
    "\n",
    "**2.Клиенты, которые чаще уходят, имеют следующие характеристики:**\n",
    "* живут или работают дальше от фитнес-центра;\n",
    "* реже являются сотрудниками компаний-партнеров;\n",
    "* реже приходят по программе «приведи друга»;\n",
    "* они моложе;\n",
    "* реже посещают групповые занятия;\n",
    "* у них меньше прошло времени с первого обращения в фитнес-центр;\n",
    "* меньше длительность их текущего абонемента и меньше срок до его окончания;\n",
    "* они реже посещали фитнес-центре в неделю за предыдущий месяц и у них меньше посещений в неделю за все время;\n",
    "* они тратят меньше на другие услуги фитнес-центра (кафе, спорттовары, косметический и массажный салон).\n",
    "\n",
    "**3. По результатам построения корреляционной матрицы** мы получили, что явной взаимозависимости факта оттока с признаками не обнаружено. Однако есть взаимозависимость фактора оттока с признаком lifetime (время с момента первого обращения в фитнес-центр), коэффициент корреляции равен -0.44, то есть чем меньше прошло времени с момента первого обращения в фитнес-центр, тем выше вероятность того, что клиент попадет в отток.\n",
    "\n",
    "Далее по значимости следуют: \n",
    "* avg_class_frequency_current_month (средняя частота посещений фитнес-центра за предыдущий месяц), коэффициент корреляции равен -0.41;\n",
    "* age (возраст), коэффициент корреляции равен -0.40;\n",
    "* contract_period (длительность текущего действующего абонемента), коэффициент корреляции равен -0.39;\n",
    "* month_to_end_contract (срок до истечения текущего действующего абонемента), коэффициент корреляции равен -0.38. \n",
    "\n",
    "Для остальных признаков была характерна очень слабая корреляция с целевой переменной.\n",
    "\n",
    "**II. По результатам построения модели прогнозирования оттока клиентов:**\n",
    "\n",
    "Были созданы две модели прогнозирования оттока клиентов - на основе алгоритмов логистической регрессии и случайного леса. Для оценки качества полученных прогнозов и выбора лучшей модели мы сравнили их по метрикам.\n",
    "\n",
    "Основные метрики полученных моделей следующие. **Для модели логистической регрессии:**\n",
    "* Accuracy = 0.92; \n",
    "* Precision = 0.85; \n",
    "* Recall = 0.83; \n",
    "* F1 = 0.84; \n",
    "* ROC_AUC = 0.97. \n",
    "\n",
    "\n",
    "**Для модели случайного леса:**\n",
    "* Accuracy = 0.91; \n",
    "* Precision = 0.83; \n",
    "* Recall = 0.79; \n",
    "* F1 = 0.81; \n",
    "* ROC_AUC = 0.97. \n",
    "\n",
    "Таким образом, и модель логистической регрессии, и модель случайного леса способны достаточно хорошо делать прогноз. Модель логистической регрессии подходит нам больше по всем показателям: доле правильных ответов (accuracy), точности (precision), полноте (recall), агрегирующей метрике F1 и наиболее точной метрике оценки качества классификатора ROC AUC.\n",
    "\n",
    "**III. По результатам кластеризации клиентов:**\n",
    "\n",
    "Первый кластер больше всего склонен к оттоку: доля составляет 50%. Четвертый кластер характеризуется долей оттока в 42%, а второй - около 27%. Нулевой и третий кластеры (доля оттока 4% и 10% соответственно) являются самыми надежными.\n",
    "\n",
    "**Чаще всего уходят клиенты первого кластера, которые:**\n",
    "* проживают или работают в районе, где находится фитнес-центр;\n",
    "* реже являются сотрудниками компании-партнера клуба;\n",
    "* реже приходят по программе «приведи друга»;\n",
    "* в основном покупают абонемент на месяц;\n",
    "* реже посещают групповые занятия;\n",
    "* средний возраст клиентов 28 лет;\n",
    "* тратят на другие услуги (кафе, спорттовары, косметический и массажный салон) меньше, чем клиенты остальных групп;\n",
    "* меньше остальных провели время в фитнес-центре;\n",
    "* реже посещают зал в неделю за все время и за предыдущий месяц (1 раз);\n",
    "\n",
    "Самые хорошие показатели у нулевого кластера, на них нужно ориентироваться. У них самая низкая доля оттока, они тратят больше чем другие клиенты, проводят больше времени в фитнес-центре и контрактный период у них достаточно долгий.\n",
    "\n",
    "**Кластер 0 характеризуется:**\n",
    "* чуть большим числом людей одного пола, по сравнению с другим;\n",
    "* 97% клиентов проживают или работают в районе, где находится фитнес-центр (near_location);\n",
    "* 31% клиентов являются сотрудниками компании-партнера клуба (partner);\n",
    "* 10% клиентов пришли по программе «приведи друга» (promo_friends);\n",
    "* наличие контактного телефона у 100% клиентов (phone);\n",
    "* средняя длительность текущего действующего абонемента 5 месяца (contract_period);\n",
    "* 49% клиентов посещают групповые занятия (group_visits);\n",
    "* средний возраст клиентов 30 лет (age);\n",
    "* средняя суммарная выручка от других услуг фитнес-центра 166 у.е. (avg_additional_charges_total);\n",
    "* среднее время с момента первого обращения в фитнес-центр 5 месяцев (lifetime);\n",
    "* средняя частота посещений в неделю за все время с начала действия абонемента почти 3 раза (avg_class_frequency_total);\n",
    "* средняя частота посещений в неделю за предыдущий месяц почти 3 раза (avg_class_frequency_current_month)."
   ]
  },
  {
   "cell_type": "markdown",
   "metadata": {},
   "source": [
    "### Базовые рекомендации для стратегии взаимодействия с клиентами и их удержания"
   ]
  },
  {
   "cell_type": "markdown",
   "metadata": {},
   "source": [
    "**В первую очередь следует обратить внимание на следующие признаки, влияющие на отток:**\n",
    "\n",
    "* Посещаемость в текущем месяце - это один из самых точных индикаторов того, что клиент вероятно покинет фитнес-клуб, схожий по смыслу признак - средняя частота посещений в неделю за все время также имеет значение, поэтому следует отслеживать одну из этих метрик и прикладывать усилия по ее увеличению, чтобы сократить отток, потому что у надежных кластеров (нулевой и третий) частота посещений достигает 2-3 раза в неделю, в то время как у кластеров с наибольшим оттоком (первый и четвертый) - 1 раз. Можно мотивировать не пропускать занятия или вернуться в фитнес-центр, если клиент уже их пропускает - через смс, предлагать бонусы за регулярность и частоту. Например, организовывать челленджи и дарить подарки за их прохождение, делать скидки на продолжительные абонементы/занятия с тренером, как награду за регулярное посещение фитнес-клуба. Также можно предложить \"заморозить\" действующий абонемент, если клиент устал или не может ходить сейчас по каким-либо причинам, а потом пригласить его вернуться обратно.\n",
    "\n",
    "\n",
    "* Увеличить lifetime можно за счет маркетинговых активностей. Например, подарить клиенту сертификат на массаж при покупке абонемента на следующий месяц, что может не только повлиять на отток (среднее время с момента первого обращения в фитнес-центр выше в кластерах с наименьшим оттоком), но и увеличить выручку, если клиентам понравятся услуги и они начнут больше тратить (необходимо изучить ценовую политику). Также можно запустить акцию и при покупке абонемента на 12 месяцев дарить составление программы тренировок с питанием, дать скидку в кафе или на спорт-товары (или другие услуги нашего фитнес-центра). Можно привлекать клиентов на групповые занятия (акции, пробные занятия, качественная доступная рекламная информация по каждому направлению тренировок), что улучшит среди них нетворкинг и уменьшит отток, так как в надежных кластерах (нулевой и третий) посещение групповых занятий выше. При этом регулярно мониторить и собирать данные, можно разделить пользователей на когорты и для групп, при пересечении некой \"отметки\", после которой мы уже можем считать пользователей лояльными, делать на время предложение по специальной цене, чтобы они оставались с нами. Также можно провести отдельное исследование о том сколько людей впервые посетившие фитнес-клуб покупают следующий абонемент, возможно, что часть клиентов берут абонементы \"попробовать\", тогда нужно максимально вовлечь эту аудиторию в жизнь клуба.\n",
    "\n",
    "\n",
    "* Чтобы увеличить длительность действующего абонемента клиентам можно также предлагать льготные условия по продлению абонемента, причем стремиться продлить договор на максимально возможный срок, потому что надежные кластерный (нулевой и третий) характеризуются высокими значениями длительности текущего действующего абонемента, в то время как кластеры с наибольшим оттоком (первый и четвертый) имеют наименьшие значения.\n",
    "\n",
    "\n",
    "* Наименее лояльные клиенты в группах, где средний возраст в которых ниже 30 лет, поэтому необходимо выявить является ли это общеотраслевой тенденцией, если да, то изучить решение этой проблемы в отрасли и рассмотреть возможность внедрения этих решений в нашем фитнес-клубе. Если проблема характерна для нашего клуба, то необходимо провести исследование на предмет важных факторов, которые могут влиять на отток. Например, есть ли у нашего клуба приложение, онлайн расписание и запись, оплата, предлагаем ли мы \"модные\" направления (кроссфит, йога, воркаут), делаем ли скидки студентам.\n",
    "\n",
    "\n",
    "Также можно глубже сегментировать клиентов, к каждому сегменту сделать индивидуальное предложение. Менеджеры еще могут  обзвонить людей и понять причины их редкой посещаемости, чтобы сформировать более качественное предложение или разработать новые программы для тренировок. Для наиболее перспективных кластеров (нулевого и третьего) тоже необходимо разработать стратегию, у них достаточно мотивации чтобы ходить, но можно сделать им подарки или дать бонус за приведенного друга. При этом наличие телефона и гендерная принадлежность не влияют на вероятность оттока, но наличие этих данных позволит более качественно работать с потенциальными клиентами, путем информирования о новых продуктах, скидках и акциях. Более детально следует изучить запушенные акции «приведи друга» и акции для сотрудников компании-партнера, а также есть ли у нас маркетинговые затраты на рекламу в районе фитнес-центра, чтобы скорректировать и эффективно перераспределить бюджет."
   ]
  }
 ],
 "metadata": {
  "ExecuteTimeLog": [
   {
    "duration": 3,
    "start_time": "2022-03-29T19:26:17.274Z"
   },
   {
    "duration": 2,
    "start_time": "2022-03-29T19:27:24.578Z"
   },
   {
    "duration": 2,
    "start_time": "2022-03-29T19:27:55.783Z"
   },
   {
    "duration": 56,
    "start_time": "2022-03-29T19:30:22.376Z"
   },
   {
    "duration": 1655,
    "start_time": "2022-03-29T19:36:46.826Z"
   },
   {
    "duration": 21,
    "start_time": "2022-03-29T19:36:52.218Z"
   },
   {
    "duration": 33,
    "start_time": "2022-03-29T19:37:20.976Z"
   },
   {
    "duration": 3,
    "start_time": "2022-03-29T19:39:01.359Z"
   },
   {
    "duration": 1577,
    "start_time": "2022-03-29T19:39:05.260Z"
   },
   {
    "duration": 17,
    "start_time": "2022-03-29T19:39:06.839Z"
   },
   {
    "duration": 3,
    "start_time": "2022-03-29T19:39:06.857Z"
   },
   {
    "duration": 47,
    "start_time": "2022-03-29T19:39:06.863Z"
   },
   {
    "duration": 1507,
    "start_time": "2022-03-29T19:39:23.741Z"
   },
   {
    "duration": 16,
    "start_time": "2022-03-29T19:39:25.250Z"
   },
   {
    "duration": 2,
    "start_time": "2022-03-29T19:39:25.268Z"
   },
   {
    "duration": 45,
    "start_time": "2022-03-29T19:39:25.272Z"
   },
   {
    "duration": 1474,
    "start_time": "2022-03-29T19:41:53.541Z"
   },
   {
    "duration": 15,
    "start_time": "2022-03-29T19:41:55.019Z"
   },
   {
    "duration": 3,
    "start_time": "2022-03-29T19:41:55.036Z"
   },
   {
    "duration": 42,
    "start_time": "2022-03-29T19:41:55.040Z"
   },
   {
    "duration": 65,
    "start_time": "2022-03-29T19:59:28.786Z"
   },
   {
    "duration": 2793,
    "start_time": "2022-03-29T20:00:01.151Z"
   },
   {
    "duration": 31,
    "start_time": "2022-03-29T20:00:03.948Z"
   },
   {
    "duration": 5,
    "start_time": "2022-03-29T20:00:03.982Z"
   },
   {
    "duration": 89,
    "start_time": "2022-03-29T20:00:03.991Z"
   },
   {
    "duration": 5,
    "start_time": "2022-03-29T20:00:04.083Z"
   },
   {
    "duration": 2014,
    "start_time": "2022-03-29T20:01:17.588Z"
   },
   {
    "duration": 21,
    "start_time": "2022-03-29T20:01:19.605Z"
   },
   {
    "duration": 5,
    "start_time": "2022-03-29T20:01:19.628Z"
   },
   {
    "duration": 76,
    "start_time": "2022-03-29T20:01:19.637Z"
   },
   {
    "duration": 5,
    "start_time": "2022-03-29T20:01:19.716Z"
   },
   {
    "duration": 64,
    "start_time": "2022-03-29T20:52:29.976Z"
   },
   {
    "duration": 16,
    "start_time": "2022-03-29T20:54:00.782Z"
   },
   {
    "duration": 95,
    "start_time": "2022-03-29T20:54:16.030Z"
   },
   {
    "duration": 9,
    "start_time": "2022-03-29T20:55:19.925Z"
   },
   {
    "duration": 3860,
    "start_time": "2022-03-29T20:55:45.478Z"
   },
   {
    "duration": 1281,
    "start_time": "2022-03-29T20:56:12.959Z"
   },
   {
    "duration": 76,
    "start_time": "2022-03-29T20:56:52.896Z"
   },
   {
    "duration": 2078,
    "start_time": "2022-03-29T20:57:54.934Z"
   },
   {
    "duration": 2080,
    "start_time": "2022-03-29T20:58:33.283Z"
   },
   {
    "duration": 24,
    "start_time": "2022-03-29T20:58:35.366Z"
   },
   {
    "duration": 4,
    "start_time": "2022-03-29T20:58:35.392Z"
   },
   {
    "duration": 77,
    "start_time": "2022-03-29T20:58:35.399Z"
   },
   {
    "duration": 6,
    "start_time": "2022-03-29T20:58:35.478Z"
   },
   {
    "duration": 81,
    "start_time": "2022-03-29T20:58:35.486Z"
   },
   {
    "duration": 16,
    "start_time": "2022-03-29T20:58:35.569Z"
   },
   {
    "duration": 7,
    "start_time": "2022-03-29T20:58:35.588Z"
   },
   {
    "duration": 4028,
    "start_time": "2022-03-29T20:58:35.598Z"
   },
   {
    "duration": 1258,
    "start_time": "2022-03-29T20:58:39.630Z"
   },
   {
    "duration": 88,
    "start_time": "2022-03-29T20:58:40.891Z"
   },
   {
    "duration": 2007,
    "start_time": "2022-03-29T20:58:40.981Z"
   },
   {
    "duration": 1682,
    "start_time": "2022-04-02T13:43:43.063Z"
   },
   {
    "duration": 22,
    "start_time": "2022-04-02T13:43:44.747Z"
   },
   {
    "duration": 2,
    "start_time": "2022-04-02T13:43:44.771Z"
   },
   {
    "duration": 39,
    "start_time": "2022-04-02T13:43:44.775Z"
   },
   {
    "duration": 4,
    "start_time": "2022-04-02T13:43:44.833Z"
   },
   {
    "duration": 37,
    "start_time": "2022-04-02T13:43:44.839Z"
   },
   {
    "duration": 11,
    "start_time": "2022-04-02T13:43:44.878Z"
   },
   {
    "duration": 6,
    "start_time": "2022-04-02T13:43:44.891Z"
   },
   {
    "duration": 2359,
    "start_time": "2022-04-02T13:43:44.898Z"
   },
   {
    "duration": 742,
    "start_time": "2022-04-02T13:43:47.260Z"
   },
   {
    "duration": 54,
    "start_time": "2022-04-02T13:43:48.003Z"
   },
   {
    "duration": 1270,
    "start_time": "2022-04-02T13:43:48.059Z"
   },
   {
    "duration": 67,
    "start_time": "2022-04-04T13:33:02.689Z"
   },
   {
    "duration": 2503,
    "start_time": "2022-04-04T13:33:08.014Z"
   },
   {
    "duration": 27,
    "start_time": "2022-04-04T13:33:10.520Z"
   },
   {
    "duration": 4,
    "start_time": "2022-04-04T13:33:10.550Z"
   },
   {
    "duration": 89,
    "start_time": "2022-04-04T13:33:10.557Z"
   },
   {
    "duration": 5,
    "start_time": "2022-04-04T13:33:10.649Z"
   },
   {
    "duration": 64,
    "start_time": "2022-04-04T13:33:10.656Z"
   },
   {
    "duration": 18,
    "start_time": "2022-04-04T13:33:10.742Z"
   },
   {
    "duration": 10,
    "start_time": "2022-04-04T13:33:10.762Z"
   },
   {
    "duration": 3774,
    "start_time": "2022-04-04T13:33:10.775Z"
   },
   {
    "duration": 1344,
    "start_time": "2022-04-04T13:33:14.553Z"
   },
   {
    "duration": 89,
    "start_time": "2022-04-04T13:33:15.900Z"
   },
   {
    "duration": 2076,
    "start_time": "2022-04-04T13:33:15.991Z"
   },
   {
    "duration": 8,
    "start_time": "2022-04-04T13:33:18.070Z"
   },
   {
    "duration": 9,
    "start_time": "2022-04-04T13:47:26.682Z"
   },
   {
    "duration": 145,
    "start_time": "2022-04-04T13:48:39.201Z"
   },
   {
    "duration": 487,
    "start_time": "2022-04-04T13:53:57.987Z"
   },
   {
    "duration": 25,
    "start_time": "2022-04-04T14:45:51.666Z"
   },
   {
    "duration": 2243,
    "start_time": "2022-04-04T14:53:39.999Z"
   },
   {
    "duration": 26,
    "start_time": "2022-04-04T14:53:42.245Z"
   },
   {
    "duration": 4,
    "start_time": "2022-04-04T14:53:42.273Z"
   },
   {
    "duration": 73,
    "start_time": "2022-04-04T14:53:42.279Z"
   },
   {
    "duration": 6,
    "start_time": "2022-04-04T14:53:42.354Z"
   },
   {
    "duration": 80,
    "start_time": "2022-04-04T14:53:42.362Z"
   },
   {
    "duration": 16,
    "start_time": "2022-04-04T14:53:42.444Z"
   },
   {
    "duration": 10,
    "start_time": "2022-04-04T14:53:42.462Z"
   },
   {
    "duration": 3803,
    "start_time": "2022-04-04T14:53:42.474Z"
   },
   {
    "duration": 1358,
    "start_time": "2022-04-04T14:53:46.281Z"
   },
   {
    "duration": 73,
    "start_time": "2022-04-04T14:53:47.641Z"
   },
   {
    "duration": 2184,
    "start_time": "2022-04-04T14:53:47.716Z"
   },
   {
    "duration": 7,
    "start_time": "2022-04-04T14:53:49.902Z"
   },
   {
    "duration": 19,
    "start_time": "2022-04-04T14:53:49.911Z"
   },
   {
    "duration": 121,
    "start_time": "2022-04-04T14:53:49.932Z"
   },
   {
    "duration": 614,
    "start_time": "2022-04-04T14:53:50.145Z"
   },
   {
    "duration": 26,
    "start_time": "2022-04-04T14:53:50.761Z"
   },
   {
    "duration": 2303,
    "start_time": "2022-04-04T14:56:34.031Z"
   },
   {
    "duration": 43,
    "start_time": "2022-04-04T14:56:36.337Z"
   },
   {
    "duration": 4,
    "start_time": "2022-04-04T14:56:36.382Z"
   },
   {
    "duration": 64,
    "start_time": "2022-04-04T14:56:36.389Z"
   },
   {
    "duration": 5,
    "start_time": "2022-04-04T14:56:36.455Z"
   },
   {
    "duration": 81,
    "start_time": "2022-04-04T14:56:36.462Z"
   },
   {
    "duration": 16,
    "start_time": "2022-04-04T14:56:36.545Z"
   },
   {
    "duration": 20,
    "start_time": "2022-04-04T14:56:36.563Z"
   },
   {
    "duration": 3796,
    "start_time": "2022-04-04T14:56:36.585Z"
   },
   {
    "duration": 1358,
    "start_time": "2022-04-04T14:56:40.385Z"
   },
   {
    "duration": 74,
    "start_time": "2022-04-04T14:56:41.745Z"
   },
   {
    "duration": 2022,
    "start_time": "2022-04-04T14:56:41.822Z"
   },
   {
    "duration": 10,
    "start_time": "2022-04-04T14:56:43.846Z"
   },
   {
    "duration": 13,
    "start_time": "2022-04-04T14:56:43.859Z"
   },
   {
    "duration": 276,
    "start_time": "2022-04-04T14:56:43.874Z"
   },
   {
    "duration": 583,
    "start_time": "2022-04-04T14:56:44.243Z"
   },
   {
    "duration": 29,
    "start_time": "2022-04-04T14:56:44.829Z"
   },
   {
    "duration": 952,
    "start_time": "2022-04-04T15:19:58.099Z"
   },
   {
    "duration": 26,
    "start_time": "2022-04-04T15:19:59.899Z"
   },
   {
    "duration": 481,
    "start_time": "2022-04-04T15:20:15.516Z"
   },
   {
    "duration": 26,
    "start_time": "2022-04-04T15:20:17.211Z"
   },
   {
    "duration": 168,
    "start_time": "2022-04-04T15:46:20.144Z"
   },
   {
    "duration": 2137,
    "start_time": "2022-04-04T15:46:45.263Z"
   },
   {
    "duration": 38,
    "start_time": "2022-04-04T15:46:47.403Z"
   },
   {
    "duration": 5,
    "start_time": "2022-04-04T15:46:47.443Z"
   },
   {
    "duration": 57,
    "start_time": "2022-04-04T15:46:47.450Z"
   },
   {
    "duration": 7,
    "start_time": "2022-04-04T15:46:47.542Z"
   },
   {
    "duration": 59,
    "start_time": "2022-04-04T15:46:47.551Z"
   },
   {
    "duration": 43,
    "start_time": "2022-04-04T15:46:47.613Z"
   },
   {
    "duration": 7,
    "start_time": "2022-04-04T15:46:47.659Z"
   },
   {
    "duration": 3759,
    "start_time": "2022-04-04T15:46:47.669Z"
   },
   {
    "duration": 1336,
    "start_time": "2022-04-04T15:46:51.432Z"
   },
   {
    "duration": 87,
    "start_time": "2022-04-04T15:46:52.771Z"
   },
   {
    "duration": 1963,
    "start_time": "2022-04-04T15:46:52.860Z"
   },
   {
    "duration": 7,
    "start_time": "2022-04-04T15:46:54.826Z"
   },
   {
    "duration": 10,
    "start_time": "2022-04-04T15:46:54.836Z"
   },
   {
    "duration": 200,
    "start_time": "2022-04-04T15:46:54.848Z"
   },
   {
    "duration": 666,
    "start_time": "2022-04-04T15:46:55.052Z"
   },
   {
    "duration": 37,
    "start_time": "2022-04-04T15:46:55.720Z"
   },
   {
    "duration": 168,
    "start_time": "2022-04-04T15:46:55.759Z"
   },
   {
    "duration": 12,
    "start_time": "2022-04-04T15:47:51.441Z"
   },
   {
    "duration": 1297,
    "start_time": "2022-04-04T15:49:12.283Z"
   },
   {
    "duration": 1805,
    "start_time": "2022-04-04T15:52:11.051Z"
   },
   {
    "duration": 19,
    "start_time": "2022-04-04T15:54:31.289Z"
   },
   {
    "duration": 1876,
    "start_time": "2022-04-04T17:44:37.877Z"
   },
   {
    "duration": 1585,
    "start_time": "2022-04-04T17:44:45.462Z"
   },
   {
    "duration": 791,
    "start_time": "2022-04-04T17:45:10.204Z"
   },
   {
    "duration": 20,
    "start_time": "2022-04-04T18:26:49.187Z"
   },
   {
    "duration": 2255,
    "start_time": "2022-04-04T18:28:10.606Z"
   },
   {
    "duration": 27,
    "start_time": "2022-04-04T18:28:12.865Z"
   },
   {
    "duration": 4,
    "start_time": "2022-04-04T18:28:12.895Z"
   },
   {
    "duration": 65,
    "start_time": "2022-04-04T18:28:12.902Z"
   },
   {
    "duration": 6,
    "start_time": "2022-04-04T18:28:12.969Z"
   },
   {
    "duration": 90,
    "start_time": "2022-04-04T18:28:12.976Z"
   },
   {
    "duration": 15,
    "start_time": "2022-04-04T18:28:13.068Z"
   },
   {
    "duration": 8,
    "start_time": "2022-04-04T18:28:13.085Z"
   },
   {
    "duration": 3886,
    "start_time": "2022-04-04T18:28:13.095Z"
   },
   {
    "duration": 1436,
    "start_time": "2022-04-04T18:28:16.986Z"
   },
   {
    "duration": 119,
    "start_time": "2022-04-04T18:28:18.424Z"
   },
   {
    "duration": 3019,
    "start_time": "2022-04-04T18:28:18.545Z"
   },
   {
    "duration": 8,
    "start_time": "2022-04-04T18:28:21.566Z"
   },
   {
    "duration": 10,
    "start_time": "2022-04-04T18:28:21.576Z"
   },
   {
    "duration": 160,
    "start_time": "2022-04-04T18:28:21.588Z"
   },
   {
    "duration": 805,
    "start_time": "2022-04-04T18:28:21.751Z"
   },
   {
    "duration": 27,
    "start_time": "2022-04-04T18:28:22.558Z"
   },
   {
    "duration": 11,
    "start_time": "2022-04-04T18:28:22.587Z"
   },
   {
    "duration": 1414,
    "start_time": "2022-04-04T18:28:22.600Z"
   },
   {
    "duration": 1836,
    "start_time": "2022-04-04T18:28:24.016Z"
   },
   {
    "duration": 18,
    "start_time": "2022-04-04T18:28:25.854Z"
   },
   {
    "duration": 1689,
    "start_time": "2022-04-04T18:28:25.875Z"
   },
   {
    "duration": 857,
    "start_time": "2022-04-04T18:28:27.566Z"
   },
   {
    "duration": 24,
    "start_time": "2022-04-04T18:28:28.425Z"
   },
   {
    "duration": 2402,
    "start_time": "2022-04-04T19:33:46.484Z"
   },
   {
    "duration": 115,
    "start_time": "2022-04-04T19:33:48.889Z"
   },
   {
    "duration": 4,
    "start_time": "2022-04-04T19:33:49.006Z"
   },
   {
    "duration": 69,
    "start_time": "2022-04-04T19:33:49.013Z"
   },
   {
    "duration": 7,
    "start_time": "2022-04-04T19:33:49.085Z"
   },
   {
    "duration": 100,
    "start_time": "2022-04-04T19:33:49.094Z"
   },
   {
    "duration": 15,
    "start_time": "2022-04-04T19:33:49.196Z"
   },
   {
    "duration": 7,
    "start_time": "2022-04-04T19:33:49.213Z"
   },
   {
    "duration": 3865,
    "start_time": "2022-04-04T19:33:49.222Z"
   },
   {
    "duration": 1392,
    "start_time": "2022-04-04T19:33:53.093Z"
   },
   {
    "duration": 86,
    "start_time": "2022-04-04T19:33:54.487Z"
   },
   {
    "duration": 2028,
    "start_time": "2022-04-04T19:33:54.575Z"
   },
   {
    "duration": 7,
    "start_time": "2022-04-04T19:33:56.605Z"
   },
   {
    "duration": 10,
    "start_time": "2022-04-04T19:33:56.615Z"
   },
   {
    "duration": 320,
    "start_time": "2022-04-04T19:33:56.628Z"
   },
   {
    "duration": 687,
    "start_time": "2022-04-04T19:33:56.951Z"
   },
   {
    "duration": 28,
    "start_time": "2022-04-04T19:33:57.642Z"
   },
   {
    "duration": 15,
    "start_time": "2022-04-04T19:33:57.673Z"
   },
   {
    "duration": 2040,
    "start_time": "2022-04-04T19:33:57.691Z"
   },
   {
    "duration": 1818,
    "start_time": "2022-04-04T19:33:59.734Z"
   },
   {
    "duration": 21,
    "start_time": "2022-04-04T19:34:01.555Z"
   },
   {
    "duration": 1703,
    "start_time": "2022-04-04T19:34:01.579Z"
   },
   {
    "duration": 865,
    "start_time": "2022-04-04T19:34:03.285Z"
   },
   {
    "duration": 28,
    "start_time": "2022-04-04T19:34:04.153Z"
   },
   {
    "duration": 4310,
    "start_time": "2022-04-04T19:35:27.598Z"
   },
   {
    "duration": 4499,
    "start_time": "2022-04-04T19:36:30.480Z"
   },
   {
    "duration": 4514,
    "start_time": "2022-04-04T19:39:49.033Z"
   },
   {
    "duration": 4055,
    "start_time": "2022-04-04T19:39:54.607Z"
   },
   {
    "duration": 5004,
    "start_time": "2022-04-04T19:40:02.865Z"
   },
   {
    "duration": 2496,
    "start_time": "2022-04-04T19:40:15.458Z"
   },
   {
    "duration": 28,
    "start_time": "2022-04-04T19:40:17.957Z"
   },
   {
    "duration": 5,
    "start_time": "2022-04-04T19:40:17.987Z"
   },
   {
    "duration": 83,
    "start_time": "2022-04-04T19:40:17.996Z"
   },
   {
    "duration": 7,
    "start_time": "2022-04-04T19:40:18.082Z"
   },
   {
    "duration": 96,
    "start_time": "2022-04-04T19:40:18.092Z"
   },
   {
    "duration": 17,
    "start_time": "2022-04-04T19:40:18.190Z"
   },
   {
    "duration": 7,
    "start_time": "2022-04-04T19:40:18.209Z"
   },
   {
    "duration": 4782,
    "start_time": "2022-04-04T19:40:18.243Z"
   },
   {
    "duration": 1335,
    "start_time": "2022-04-04T19:40:23.028Z"
   },
   {
    "duration": 86,
    "start_time": "2022-04-04T19:40:24.366Z"
   },
   {
    "duration": 2053,
    "start_time": "2022-04-04T19:40:24.455Z"
   },
   {
    "duration": 7,
    "start_time": "2022-04-04T19:40:26.510Z"
   },
   {
    "duration": 24,
    "start_time": "2022-04-04T19:40:26.519Z"
   },
   {
    "duration": 204,
    "start_time": "2022-04-04T19:40:26.545Z"
   },
   {
    "duration": 909,
    "start_time": "2022-04-04T19:40:26.842Z"
   },
   {
    "duration": 25,
    "start_time": "2022-04-04T19:40:27.753Z"
   },
   {
    "duration": 10,
    "start_time": "2022-04-04T19:40:27.780Z"
   },
   {
    "duration": 1393,
    "start_time": "2022-04-04T19:40:27.792Z"
   },
   {
    "duration": 1865,
    "start_time": "2022-04-04T19:40:29.187Z"
   },
   {
    "duration": 18,
    "start_time": "2022-04-04T19:40:31.055Z"
   },
   {
    "duration": 1708,
    "start_time": "2022-04-04T19:40:31.075Z"
   },
   {
    "duration": 1007,
    "start_time": "2022-04-04T19:40:32.785Z"
   },
   {
    "duration": 19,
    "start_time": "2022-04-04T19:40:33.794Z"
   },
   {
    "duration": 1464,
    "start_time": "2022-04-04T19:40:49.664Z"
   },
   {
    "duration": 896,
    "start_time": "2022-04-04T19:40:56.680Z"
   },
   {
    "duration": 4316,
    "start_time": "2022-04-04T19:44:35.151Z"
   },
   {
    "duration": 318,
    "start_time": "2022-04-04T19:52:06.599Z"
   },
   {
    "duration": 2437,
    "start_time": "2022-04-04T19:56:35.190Z"
   },
   {
    "duration": 2159,
    "start_time": "2022-04-04T19:57:00.630Z"
   },
   {
    "duration": 218,
    "start_time": "2022-04-04T19:57:11.382Z"
   },
   {
    "duration": 1274,
    "start_time": "2022-04-04T19:57:19.013Z"
   },
   {
    "duration": 1481,
    "start_time": "2022-04-04T19:57:28.862Z"
   },
   {
    "duration": 1651,
    "start_time": "2022-04-04T19:58:30.877Z"
   },
   {
    "duration": 822,
    "start_time": "2022-04-04T19:59:16.725Z"
   },
   {
    "duration": 2219,
    "start_time": "2022-04-04T19:59:58.247Z"
   },
   {
    "duration": 28,
    "start_time": "2022-04-04T20:00:00.469Z"
   },
   {
    "duration": 8,
    "start_time": "2022-04-04T20:00:00.499Z"
   },
   {
    "duration": 95,
    "start_time": "2022-04-04T20:00:00.510Z"
   },
   {
    "duration": 5,
    "start_time": "2022-04-04T20:00:00.607Z"
   },
   {
    "duration": 79,
    "start_time": "2022-04-04T20:00:00.614Z"
   },
   {
    "duration": 15,
    "start_time": "2022-04-04T20:00:00.695Z"
   },
   {
    "duration": 12,
    "start_time": "2022-04-04T20:00:00.712Z"
   },
   {
    "duration": 4514,
    "start_time": "2022-04-04T20:00:00.743Z"
   },
   {
    "duration": 1353,
    "start_time": "2022-04-04T20:00:05.261Z"
   },
   {
    "duration": 86,
    "start_time": "2022-04-04T20:00:06.616Z"
   },
   {
    "duration": 2180,
    "start_time": "2022-04-04T20:00:06.704Z"
   },
   {
    "duration": 8,
    "start_time": "2022-04-04T20:00:08.886Z"
   },
   {
    "duration": 24,
    "start_time": "2022-04-04T20:00:08.897Z"
   },
   {
    "duration": 219,
    "start_time": "2022-04-04T20:00:08.924Z"
   },
   {
    "duration": 596,
    "start_time": "2022-04-04T20:00:09.147Z"
   },
   {
    "duration": 24,
    "start_time": "2022-04-04T20:00:09.746Z"
   },
   {
    "duration": 11,
    "start_time": "2022-04-04T20:00:09.773Z"
   },
   {
    "duration": 1328,
    "start_time": "2022-04-04T20:00:09.786Z"
   },
   {
    "duration": 1936,
    "start_time": "2022-04-04T20:00:11.116Z"
   },
   {
    "duration": 17,
    "start_time": "2022-04-04T20:00:13.054Z"
   },
   {
    "duration": 1629,
    "start_time": "2022-04-04T20:00:13.073Z"
   },
   {
    "duration": 919,
    "start_time": "2022-04-04T20:00:14.704Z"
   },
   {
    "duration": 28,
    "start_time": "2022-04-04T20:00:15.625Z"
   },
   {
    "duration": 819,
    "start_time": "2022-04-04T20:00:34.780Z"
   },
   {
    "duration": 1304,
    "start_time": "2022-04-04T20:08:11.092Z"
   },
   {
    "duration": 12,
    "start_time": "2022-04-04T20:11:29.252Z"
   },
   {
    "duration": 1005,
    "start_time": "2022-04-04T20:11:37.522Z"
   },
   {
    "duration": 2204,
    "start_time": "2022-04-04T20:12:03.602Z"
   },
   {
    "duration": 27,
    "start_time": "2022-04-04T20:12:05.808Z"
   },
   {
    "duration": 38,
    "start_time": "2022-04-04T20:12:05.837Z"
   },
   {
    "duration": 61,
    "start_time": "2022-04-04T20:12:05.878Z"
   },
   {
    "duration": 6,
    "start_time": "2022-04-04T20:12:05.941Z"
   },
   {
    "duration": 57,
    "start_time": "2022-04-04T20:12:05.948Z"
   },
   {
    "duration": 15,
    "start_time": "2022-04-04T20:12:06.007Z"
   },
   {
    "duration": 7,
    "start_time": "2022-04-04T20:12:06.044Z"
   },
   {
    "duration": 4674,
    "start_time": "2022-04-04T20:12:06.053Z"
   },
   {
    "duration": 1351,
    "start_time": "2022-04-04T20:12:10.731Z"
   },
   {
    "duration": 90,
    "start_time": "2022-04-04T20:12:12.084Z"
   },
   {
    "duration": 2023,
    "start_time": "2022-04-04T20:12:12.176Z"
   },
   {
    "duration": 7,
    "start_time": "2022-04-04T20:12:14.201Z"
   },
   {
    "duration": 21,
    "start_time": "2022-04-04T20:12:14.210Z"
   },
   {
    "duration": 119,
    "start_time": "2022-04-04T20:12:14.233Z"
   },
   {
    "duration": 583,
    "start_time": "2022-04-04T20:12:14.445Z"
   },
   {
    "duration": 29,
    "start_time": "2022-04-04T20:12:15.030Z"
   },
   {
    "duration": 26,
    "start_time": "2022-04-04T20:12:15.061Z"
   },
   {
    "duration": 1423,
    "start_time": "2022-04-04T20:12:15.089Z"
   },
   {
    "duration": 1741,
    "start_time": "2022-04-04T20:12:16.515Z"
   },
   {
    "duration": 25,
    "start_time": "2022-04-04T20:12:18.259Z"
   },
   {
    "duration": 2637,
    "start_time": "2022-04-04T20:12:18.288Z"
   },
   {
    "duration": 1009,
    "start_time": "2022-04-04T20:12:20.943Z"
   },
   {
    "duration": 19,
    "start_time": "2022-04-04T20:12:21.954Z"
   },
   {
    "duration": 1584,
    "start_time": "2022-04-04T20:12:40.816Z"
   },
   {
    "duration": 1728,
    "start_time": "2022-04-04T20:12:56.702Z"
   },
   {
    "duration": 1537,
    "start_time": "2022-04-04T20:15:33.014Z"
   },
   {
    "duration": 1680,
    "start_time": "2022-04-04T20:16:38.102Z"
   },
   {
    "duration": 1545,
    "start_time": "2022-04-04T20:16:50.023Z"
   },
   {
    "duration": 1540,
    "start_time": "2022-04-04T20:16:55.454Z"
   },
   {
    "duration": 1685,
    "start_time": "2022-04-04T20:17:01.878Z"
   },
   {
    "duration": 1709,
    "start_time": "2022-04-04T20:20:02.086Z"
   },
   {
    "duration": 2061,
    "start_time": "2022-04-05T10:16:24.376Z"
   },
   {
    "duration": 112,
    "start_time": "2022-04-05T10:16:26.439Z"
   },
   {
    "duration": 3,
    "start_time": "2022-04-05T10:16:26.552Z"
   },
   {
    "duration": 56,
    "start_time": "2022-04-05T10:16:26.557Z"
   },
   {
    "duration": 5,
    "start_time": "2022-04-05T10:16:26.615Z"
   },
   {
    "duration": 42,
    "start_time": "2022-04-05T10:16:26.621Z"
   },
   {
    "duration": 10,
    "start_time": "2022-04-05T10:16:26.665Z"
   },
   {
    "duration": 34,
    "start_time": "2022-04-05T10:16:26.677Z"
   },
   {
    "duration": 2718,
    "start_time": "2022-04-05T10:16:26.712Z"
   },
   {
    "duration": 985,
    "start_time": "2022-04-05T10:16:29.432Z"
   },
   {
    "duration": 49,
    "start_time": "2022-04-05T10:16:30.419Z"
   },
   {
    "duration": 1427,
    "start_time": "2022-04-05T10:16:30.470Z"
   },
   {
    "duration": 6,
    "start_time": "2022-04-05T10:16:31.900Z"
   },
   {
    "duration": 22,
    "start_time": "2022-04-05T10:16:31.908Z"
   },
   {
    "duration": 379,
    "start_time": "2022-04-05T10:16:31.931Z"
   },
   {
    "duration": 553,
    "start_time": "2022-04-05T10:16:32.312Z"
   },
   {
    "duration": 16,
    "start_time": "2022-04-05T10:16:32.866Z"
   },
   {
    "duration": 7,
    "start_time": "2022-04-05T10:16:32.883Z"
   },
   {
    "duration": 1038,
    "start_time": "2022-04-05T10:16:32.891Z"
   },
   {
    "duration": 1399,
    "start_time": "2022-04-05T10:16:33.931Z"
   },
   {
    "duration": 21,
    "start_time": "2022-04-05T10:16:35.401Z"
   },
   {
    "duration": 1427,
    "start_time": "2022-04-05T10:16:35.423Z"
   },
   {
    "duration": 750,
    "start_time": "2022-04-05T10:16:36.852Z"
   },
   {
    "duration": 17,
    "start_time": "2022-04-05T10:16:37.604Z"
   },
   {
    "duration": 1908,
    "start_time": "2022-04-05T11:22:03.891Z"
   },
   {
    "duration": 26,
    "start_time": "2022-04-05T11:22:05.802Z"
   },
   {
    "duration": 3,
    "start_time": "2022-04-05T11:22:05.831Z"
   },
   {
    "duration": 42,
    "start_time": "2022-04-05T11:22:05.837Z"
   },
   {
    "duration": 21,
    "start_time": "2022-04-05T11:22:05.880Z"
   },
   {
    "duration": 40,
    "start_time": "2022-04-05T11:22:05.903Z"
   },
   {
    "duration": 12,
    "start_time": "2022-04-05T11:22:05.945Z"
   },
   {
    "duration": 7,
    "start_time": "2022-04-05T11:22:05.958Z"
   },
   {
    "duration": 158,
    "start_time": "2022-04-05T11:22:05.967Z"
   },
   {
    "duration": 0,
    "start_time": "2022-04-05T11:22:06.127Z"
   },
   {
    "duration": 0,
    "start_time": "2022-04-05T11:22:06.129Z"
   },
   {
    "duration": 0,
    "start_time": "2022-04-05T11:22:06.130Z"
   },
   {
    "duration": 0,
    "start_time": "2022-04-05T11:22:06.131Z"
   },
   {
    "duration": 0,
    "start_time": "2022-04-05T11:22:06.132Z"
   },
   {
    "duration": 0,
    "start_time": "2022-04-05T11:22:06.133Z"
   },
   {
    "duration": 0,
    "start_time": "2022-04-05T11:22:06.134Z"
   },
   {
    "duration": 0,
    "start_time": "2022-04-05T11:22:06.135Z"
   },
   {
    "duration": 0,
    "start_time": "2022-04-05T11:22:06.136Z"
   },
   {
    "duration": 0,
    "start_time": "2022-04-05T11:22:06.137Z"
   },
   {
    "duration": 0,
    "start_time": "2022-04-05T11:22:06.138Z"
   },
   {
    "duration": 0,
    "start_time": "2022-04-05T11:22:06.139Z"
   },
   {
    "duration": 0,
    "start_time": "2022-04-05T11:22:06.140Z"
   },
   {
    "duration": 0,
    "start_time": "2022-04-05T11:22:06.142Z"
   },
   {
    "duration": 0,
    "start_time": "2022-04-05T11:22:06.143Z"
   },
   {
    "duration": 1728,
    "start_time": "2022-04-05T11:22:39.392Z"
   },
   {
    "duration": 21,
    "start_time": "2022-04-05T11:22:41.122Z"
   },
   {
    "duration": 4,
    "start_time": "2022-04-05T11:22:41.144Z"
   },
   {
    "duration": 54,
    "start_time": "2022-04-05T11:22:41.150Z"
   },
   {
    "duration": 4,
    "start_time": "2022-04-05T11:22:41.206Z"
   },
   {
    "duration": 37,
    "start_time": "2022-04-05T11:22:41.212Z"
   },
   {
    "duration": 11,
    "start_time": "2022-04-05T11:22:41.251Z"
   },
   {
    "duration": 4,
    "start_time": "2022-04-05T11:22:41.264Z"
   },
   {
    "duration": 2639,
    "start_time": "2022-04-05T11:22:41.302Z"
   },
   {
    "duration": 831,
    "start_time": "2022-04-05T11:22:43.943Z"
   },
   {
    "duration": 58,
    "start_time": "2022-04-05T11:22:44.775Z"
   },
   {
    "duration": 1251,
    "start_time": "2022-04-05T11:22:44.835Z"
   },
   {
    "duration": 5,
    "start_time": "2022-04-05T11:22:46.088Z"
   },
   {
    "duration": 11,
    "start_time": "2022-04-05T11:22:46.095Z"
   },
   {
    "duration": 102,
    "start_time": "2022-04-05T11:22:46.108Z"
   },
   {
    "duration": 455,
    "start_time": "2022-04-05T11:22:46.303Z"
   },
   {
    "duration": 17,
    "start_time": "2022-04-05T11:22:46.760Z"
   },
   {
    "duration": 22,
    "start_time": "2022-04-05T11:22:46.779Z"
   },
   {
    "duration": 811,
    "start_time": "2022-04-05T11:22:46.803Z"
   },
   {
    "duration": 1494,
    "start_time": "2022-04-05T11:22:47.616Z"
   },
   {
    "duration": 89,
    "start_time": "2022-04-05T11:22:49.112Z"
   },
   {
    "duration": 1213,
    "start_time": "2022-04-05T11:22:49.203Z"
   },
   {
    "duration": 480,
    "start_time": "2022-04-05T11:22:50.417Z"
   },
   {
    "duration": 14,
    "start_time": "2022-04-05T11:22:50.902Z"
   },
   {
    "duration": 37,
    "start_time": "2022-04-05T11:29:19.266Z"
   },
   {
    "duration": 2001,
    "start_time": "2022-04-05T11:32:24.743Z"
   },
   {
    "duration": 31,
    "start_time": "2022-04-05T11:32:26.746Z"
   },
   {
    "duration": 3,
    "start_time": "2022-04-05T11:32:26.778Z"
   },
   {
    "duration": 48,
    "start_time": "2022-04-05T11:32:26.783Z"
   },
   {
    "duration": 4,
    "start_time": "2022-04-05T11:32:26.833Z"
   },
   {
    "duration": 52,
    "start_time": "2022-04-05T11:32:26.838Z"
   },
   {
    "duration": 17,
    "start_time": "2022-04-05T11:32:26.891Z"
   },
   {
    "duration": 15,
    "start_time": "2022-04-05T11:32:26.910Z"
   },
   {
    "duration": 2759,
    "start_time": "2022-04-05T11:32:26.926Z"
   },
   {
    "duration": 829,
    "start_time": "2022-04-05T11:32:29.687Z"
   },
   {
    "duration": 47,
    "start_time": "2022-04-05T11:32:30.517Z"
   },
   {
    "duration": 1340,
    "start_time": "2022-04-05T11:32:30.565Z"
   },
   {
    "duration": 5,
    "start_time": "2022-04-05T11:32:31.907Z"
   },
   {
    "duration": 10,
    "start_time": "2022-04-05T11:32:31.914Z"
   },
   {
    "duration": 85,
    "start_time": "2022-04-05T11:32:31.925Z"
   },
   {
    "duration": 437,
    "start_time": "2022-04-05T11:32:32.103Z"
   },
   {
    "duration": 19,
    "start_time": "2022-04-05T11:32:32.541Z"
   },
   {
    "duration": 8,
    "start_time": "2022-04-05T11:32:32.561Z"
   },
   {
    "duration": 864,
    "start_time": "2022-04-05T11:32:32.570Z"
   },
   {
    "duration": 1466,
    "start_time": "2022-04-05T11:32:33.435Z"
   },
   {
    "duration": 13,
    "start_time": "2022-04-05T11:32:34.903Z"
   },
   {
    "duration": 722,
    "start_time": "2022-04-05T11:32:34.917Z"
   },
   {
    "duration": 0,
    "start_time": "2022-04-05T11:32:35.641Z"
   },
   {
    "duration": 0,
    "start_time": "2022-04-05T11:32:35.643Z"
   },
   {
    "duration": 1938,
    "start_time": "2022-04-05T11:50:53.176Z"
   },
   {
    "duration": 20,
    "start_time": "2022-04-05T11:50:55.117Z"
   },
   {
    "duration": 3,
    "start_time": "2022-04-05T11:50:55.141Z"
   },
   {
    "duration": 33,
    "start_time": "2022-04-05T11:50:55.145Z"
   },
   {
    "duration": 21,
    "start_time": "2022-04-05T11:50:55.180Z"
   },
   {
    "duration": 35,
    "start_time": "2022-04-05T11:50:55.202Z"
   },
   {
    "duration": 10,
    "start_time": "2022-04-05T11:50:55.239Z"
   },
   {
    "duration": 4,
    "start_time": "2022-04-05T11:50:55.250Z"
   },
   {
    "duration": 2574,
    "start_time": "2022-04-05T11:50:55.256Z"
   },
   {
    "duration": 857,
    "start_time": "2022-04-05T11:50:57.832Z"
   },
   {
    "duration": 50,
    "start_time": "2022-04-05T11:50:58.690Z"
   },
   {
    "duration": 1281,
    "start_time": "2022-04-05T11:50:58.741Z"
   },
   {
    "duration": 6,
    "start_time": "2022-04-05T11:51:00.023Z"
   },
   {
    "duration": 10,
    "start_time": "2022-04-05T11:51:00.031Z"
   },
   {
    "duration": 166,
    "start_time": "2022-04-05T11:51:00.043Z"
   },
   {
    "duration": 534,
    "start_time": "2022-04-05T11:51:00.211Z"
   },
   {
    "duration": 19,
    "start_time": "2022-04-05T11:51:00.746Z"
   },
   {
    "duration": 17,
    "start_time": "2022-04-05T11:51:00.766Z"
   },
   {
    "duration": 862,
    "start_time": "2022-04-05T11:51:00.785Z"
   },
   {
    "duration": 1352,
    "start_time": "2022-04-05T11:51:01.649Z"
   },
   {
    "duration": 13,
    "start_time": "2022-04-05T11:51:03.003Z"
   },
   {
    "duration": 771,
    "start_time": "2022-04-05T11:51:03.017Z"
   },
   {
    "duration": 0,
    "start_time": "2022-04-05T11:51:03.790Z"
   },
   {
    "duration": 0,
    "start_time": "2022-04-05T11:51:03.790Z"
   },
   {
    "duration": 1895,
    "start_time": "2022-04-05T11:51:20.511Z"
   },
   {
    "duration": 22,
    "start_time": "2022-04-05T11:51:22.408Z"
   },
   {
    "duration": 4,
    "start_time": "2022-04-05T11:51:22.432Z"
   },
   {
    "duration": 63,
    "start_time": "2022-04-05T11:51:22.439Z"
   },
   {
    "duration": 5,
    "start_time": "2022-04-05T11:51:22.504Z"
   },
   {
    "duration": 46,
    "start_time": "2022-04-05T11:51:22.510Z"
   },
   {
    "duration": 11,
    "start_time": "2022-04-05T11:51:22.557Z"
   },
   {
    "duration": 4,
    "start_time": "2022-04-05T11:51:22.570Z"
   },
   {
    "duration": 2756,
    "start_time": "2022-04-05T11:51:22.576Z"
   },
   {
    "duration": 836,
    "start_time": "2022-04-05T11:51:25.335Z"
   },
   {
    "duration": 54,
    "start_time": "2022-04-05T11:51:26.172Z"
   },
   {
    "duration": 1306,
    "start_time": "2022-04-05T11:51:26.228Z"
   },
   {
    "duration": 5,
    "start_time": "2022-04-05T11:51:27.535Z"
   },
   {
    "duration": 8,
    "start_time": "2022-04-05T11:51:27.542Z"
   },
   {
    "duration": 59,
    "start_time": "2022-04-05T11:51:27.551Z"
   },
   {
    "duration": 434,
    "start_time": "2022-04-05T11:51:27.707Z"
   },
   {
    "duration": 17,
    "start_time": "2022-04-05T11:51:28.143Z"
   },
   {
    "duration": 8,
    "start_time": "2022-04-05T11:51:28.162Z"
   },
   {
    "duration": 844,
    "start_time": "2022-04-05T11:51:28.172Z"
   },
   {
    "duration": 1492,
    "start_time": "2022-04-05T11:51:29.018Z"
   },
   {
    "duration": 13,
    "start_time": "2022-04-05T11:51:30.602Z"
   },
   {
    "duration": 1027,
    "start_time": "2022-04-05T11:51:30.616Z"
   },
   {
    "duration": 490,
    "start_time": "2022-04-05T11:51:31.644Z"
   },
   {
    "duration": 12,
    "start_time": "2022-04-05T11:51:32.135Z"
   },
   {
    "duration": 2272,
    "start_time": "2022-04-05T12:06:11.240Z"
   },
   {
    "duration": 23,
    "start_time": "2022-04-05T12:06:13.514Z"
   },
   {
    "duration": 3,
    "start_time": "2022-04-05T12:06:13.538Z"
   },
   {
    "duration": 58,
    "start_time": "2022-04-05T12:06:13.543Z"
   },
   {
    "duration": 4,
    "start_time": "2022-04-05T12:06:13.603Z"
   },
   {
    "duration": 44,
    "start_time": "2022-04-05T12:06:13.609Z"
   },
   {
    "duration": 11,
    "start_time": "2022-04-05T12:06:13.654Z"
   },
   {
    "duration": 5,
    "start_time": "2022-04-05T12:06:13.666Z"
   },
   {
    "duration": 2788,
    "start_time": "2022-04-05T12:06:13.673Z"
   },
   {
    "duration": 895,
    "start_time": "2022-04-05T12:06:16.464Z"
   },
   {
    "duration": 57,
    "start_time": "2022-04-05T12:06:17.361Z"
   },
   {
    "duration": 1435,
    "start_time": "2022-04-05T12:06:17.419Z"
   },
   {
    "duration": 5,
    "start_time": "2022-04-05T12:06:18.855Z"
   },
   {
    "duration": 19,
    "start_time": "2022-04-05T12:06:18.861Z"
   },
   {
    "duration": 31,
    "start_time": "2022-04-05T12:06:18.882Z"
   },
   {
    "duration": 450,
    "start_time": "2022-04-05T12:06:19.003Z"
   },
   {
    "duration": 20,
    "start_time": "2022-04-05T12:06:19.454Z"
   },
   {
    "duration": 6,
    "start_time": "2022-04-05T12:06:19.476Z"
   },
   {
    "duration": 854,
    "start_time": "2022-04-05T12:06:19.484Z"
   },
   {
    "duration": 1469,
    "start_time": "2022-04-05T12:06:20.339Z"
   },
   {
    "duration": 11,
    "start_time": "2022-04-05T12:06:21.810Z"
   },
   {
    "duration": 970,
    "start_time": "2022-04-05T12:06:21.822Z"
   },
   {
    "duration": 464,
    "start_time": "2022-04-05T12:06:22.794Z"
   },
   {
    "duration": 13,
    "start_time": "2022-04-05T12:06:23.259Z"
   },
   {
    "duration": 1697,
    "start_time": "2022-04-06T08:50:48.504Z"
   },
   {
    "duration": 17,
    "start_time": "2022-04-06T08:50:50.203Z"
   },
   {
    "duration": 4,
    "start_time": "2022-04-06T08:50:50.222Z"
   },
   {
    "duration": 43,
    "start_time": "2022-04-06T08:50:50.228Z"
   },
   {
    "duration": 37,
    "start_time": "2022-04-06T08:50:50.273Z"
   },
   {
    "duration": 41,
    "start_time": "2022-04-06T08:50:50.311Z"
   },
   {
    "duration": 10,
    "start_time": "2022-04-06T08:50:50.354Z"
   },
   {
    "duration": 8,
    "start_time": "2022-04-06T08:50:50.366Z"
   },
   {
    "duration": 3011,
    "start_time": "2022-04-06T08:50:50.376Z"
   },
   {
    "duration": 947,
    "start_time": "2022-04-06T08:50:53.390Z"
   },
   {
    "duration": 49,
    "start_time": "2022-04-06T08:50:54.338Z"
   },
   {
    "duration": 1533,
    "start_time": "2022-04-06T08:50:54.388Z"
   },
   {
    "duration": 5,
    "start_time": "2022-04-06T08:50:55.923Z"
   },
   {
    "duration": 6,
    "start_time": "2022-04-06T08:50:55.930Z"
   },
   {
    "duration": 180,
    "start_time": "2022-04-06T08:50:55.938Z"
   },
   {
    "duration": 458,
    "start_time": "2022-04-06T08:50:56.210Z"
   },
   {
    "duration": 17,
    "start_time": "2022-04-06T08:50:56.670Z"
   },
   {
    "duration": 7,
    "start_time": "2022-04-06T08:50:56.688Z"
   },
   {
    "duration": 926,
    "start_time": "2022-04-06T08:50:56.709Z"
   },
   {
    "duration": 1589,
    "start_time": "2022-04-06T08:50:57.637Z"
   },
   {
    "duration": 91,
    "start_time": "2022-04-06T08:50:59.228Z"
   },
   {
    "duration": 1115,
    "start_time": "2022-04-06T08:50:59.320Z"
   },
   {
    "duration": 537,
    "start_time": "2022-04-06T08:51:00.436Z"
   },
   {
    "duration": 14,
    "start_time": "2022-04-06T08:51:00.975Z"
   },
   {
    "duration": 1521,
    "start_time": "2022-04-06T09:55:46.573Z"
   },
   {
    "duration": 20,
    "start_time": "2022-04-06T09:55:48.096Z"
   },
   {
    "duration": 3,
    "start_time": "2022-04-06T09:55:48.118Z"
   },
   {
    "duration": 34,
    "start_time": "2022-04-06T09:55:48.123Z"
   },
   {
    "duration": 3,
    "start_time": "2022-04-06T09:55:48.159Z"
   },
   {
    "duration": 67,
    "start_time": "2022-04-06T09:55:48.164Z"
   },
   {
    "duration": 11,
    "start_time": "2022-04-06T09:55:48.233Z"
   },
   {
    "duration": 5,
    "start_time": "2022-04-06T09:55:48.245Z"
   },
   {
    "duration": 2960,
    "start_time": "2022-04-06T09:55:48.251Z"
   },
   {
    "duration": 937,
    "start_time": "2022-04-06T09:55:51.213Z"
   },
   {
    "duration": 60,
    "start_time": "2022-04-06T09:55:52.152Z"
   },
   {
    "duration": 1463,
    "start_time": "2022-04-06T09:55:52.214Z"
   },
   {
    "duration": 5,
    "start_time": "2022-04-06T09:55:53.679Z"
   },
   {
    "duration": 8,
    "start_time": "2022-04-06T09:55:53.685Z"
   },
   {
    "duration": 23,
    "start_time": "2022-04-06T09:55:53.694Z"
   },
   {
    "duration": 551,
    "start_time": "2022-04-06T09:55:53.719Z"
   },
   {
    "duration": 20,
    "start_time": "2022-04-06T09:55:54.272Z"
   },
   {
    "duration": 19,
    "start_time": "2022-04-06T09:55:54.293Z"
   },
   {
    "duration": 867,
    "start_time": "2022-04-06T09:55:54.314Z"
   },
   {
    "duration": 1632,
    "start_time": "2022-04-06T09:55:55.183Z"
   },
   {
    "duration": 13,
    "start_time": "2022-04-06T09:55:56.817Z"
   },
   {
    "duration": 1133,
    "start_time": "2022-04-06T09:55:56.831Z"
   },
   {
    "duration": 520,
    "start_time": "2022-04-06T09:55:57.965Z"
   },
   {
    "duration": 23,
    "start_time": "2022-04-06T09:55:58.486Z"
   },
   {
    "duration": 2859,
    "start_time": "2022-04-06T10:45:23.815Z"
   },
   {
    "duration": 1777,
    "start_time": "2022-04-06T10:45:33.424Z"
   },
   {
    "duration": 16,
    "start_time": "2022-04-06T10:45:35.203Z"
   },
   {
    "duration": 3,
    "start_time": "2022-04-06T10:45:35.220Z"
   },
   {
    "duration": 37,
    "start_time": "2022-04-06T10:45:35.225Z"
   },
   {
    "duration": 4,
    "start_time": "2022-04-06T10:45:35.264Z"
   },
   {
    "duration": 66,
    "start_time": "2022-04-06T10:45:35.269Z"
   },
   {
    "duration": 10,
    "start_time": "2022-04-06T10:45:35.337Z"
   },
   {
    "duration": 4,
    "start_time": "2022-04-06T10:45:35.349Z"
   },
   {
    "duration": 2869,
    "start_time": "2022-04-06T10:45:35.355Z"
   },
   {
    "duration": 913,
    "start_time": "2022-04-06T10:45:38.227Z"
   },
   {
    "duration": 48,
    "start_time": "2022-04-06T10:45:39.142Z"
   },
   {
    "duration": 1458,
    "start_time": "2022-04-06T10:45:39.191Z"
   },
   {
    "duration": 6,
    "start_time": "2022-04-06T10:45:40.650Z"
   },
   {
    "duration": 7,
    "start_time": "2022-04-06T10:45:40.657Z"
   },
   {
    "duration": 144,
    "start_time": "2022-04-06T10:45:40.666Z"
   },
   {
    "duration": 555,
    "start_time": "2022-04-06T10:45:40.813Z"
   },
   {
    "duration": 18,
    "start_time": "2022-04-06T10:45:41.369Z"
   },
   {
    "duration": 20,
    "start_time": "2022-04-06T10:45:41.389Z"
   },
   {
    "duration": 826,
    "start_time": "2022-04-06T10:45:41.410Z"
   },
   {
    "duration": 1576,
    "start_time": "2022-04-06T10:45:42.237Z"
   },
   {
    "duration": 12,
    "start_time": "2022-04-06T10:45:43.814Z"
   },
   {
    "duration": 1099,
    "start_time": "2022-04-06T10:45:43.828Z"
   },
   {
    "duration": 550,
    "start_time": "2022-04-06T10:45:44.929Z"
   },
   {
    "duration": 14,
    "start_time": "2022-04-06T10:45:45.481Z"
   },
   {
    "duration": 1598,
    "start_time": "2022-04-06T10:46:33.167Z"
   },
   {
    "duration": 1624,
    "start_time": "2022-04-06T10:46:37.183Z"
   },
   {
    "duration": 1534,
    "start_time": "2022-04-06T10:47:04.809Z"
   },
   {
    "duration": 17,
    "start_time": "2022-04-06T10:47:06.348Z"
   },
   {
    "duration": 3,
    "start_time": "2022-04-06T10:47:06.368Z"
   },
   {
    "duration": 51,
    "start_time": "2022-04-06T10:47:06.373Z"
   },
   {
    "duration": 4,
    "start_time": "2022-04-06T10:47:06.426Z"
   },
   {
    "duration": 59,
    "start_time": "2022-04-06T10:47:06.432Z"
   },
   {
    "duration": 26,
    "start_time": "2022-04-06T10:47:06.493Z"
   },
   {
    "duration": 10,
    "start_time": "2022-04-06T10:47:06.521Z"
   },
   {
    "duration": 3044,
    "start_time": "2022-04-06T10:47:06.534Z"
   },
   {
    "duration": 941,
    "start_time": "2022-04-06T10:47:09.579Z"
   },
   {
    "duration": 52,
    "start_time": "2022-04-06T10:47:10.521Z"
   },
   {
    "duration": 1538,
    "start_time": "2022-04-06T10:47:10.575Z"
   },
   {
    "duration": 6,
    "start_time": "2022-04-06T10:47:12.115Z"
   },
   {
    "duration": 7,
    "start_time": "2022-04-06T10:47:12.123Z"
   },
   {
    "duration": 179,
    "start_time": "2022-04-06T10:47:12.132Z"
   },
   {
    "duration": 576,
    "start_time": "2022-04-06T10:47:12.313Z"
   },
   {
    "duration": 25,
    "start_time": "2022-04-06T10:47:12.890Z"
   },
   {
    "duration": 7,
    "start_time": "2022-04-06T10:47:12.917Z"
   },
   {
    "duration": 907,
    "start_time": "2022-04-06T10:47:12.926Z"
   },
   {
    "duration": 1587,
    "start_time": "2022-04-06T10:47:13.835Z"
   },
   {
    "duration": 14,
    "start_time": "2022-04-06T10:47:15.424Z"
   },
   {
    "duration": 1181,
    "start_time": "2022-04-06T10:47:15.440Z"
   },
   {
    "duration": 552,
    "start_time": "2022-04-06T10:47:16.623Z"
   },
   {
    "duration": 16,
    "start_time": "2022-04-06T10:47:17.177Z"
   },
   {
    "duration": 1435,
    "start_time": "2022-04-06T14:06:40.195Z"
   },
   {
    "duration": 2382,
    "start_time": "2022-04-06T19:48:04.356Z"
   },
   {
    "duration": 38,
    "start_time": "2022-04-06T19:48:06.741Z"
   },
   {
    "duration": 4,
    "start_time": "2022-04-06T19:48:06.781Z"
   },
   {
    "duration": 61,
    "start_time": "2022-04-06T19:48:06.787Z"
   },
   {
    "duration": 5,
    "start_time": "2022-04-06T19:48:06.850Z"
   },
   {
    "duration": 63,
    "start_time": "2022-04-06T19:48:06.857Z"
   },
   {
    "duration": 34,
    "start_time": "2022-04-06T19:48:06.922Z"
   },
   {
    "duration": 6,
    "start_time": "2022-04-06T19:48:06.958Z"
   },
   {
    "duration": 4306,
    "start_time": "2022-04-06T19:48:06.966Z"
   },
   {
    "duration": 1365,
    "start_time": "2022-04-06T19:48:11.278Z"
   },
   {
    "duration": 75,
    "start_time": "2022-04-06T19:48:12.645Z"
   },
   {
    "duration": 2033,
    "start_time": "2022-04-06T19:48:12.723Z"
   },
   {
    "duration": 9,
    "start_time": "2022-04-06T19:48:14.758Z"
   },
   {
    "duration": 16,
    "start_time": "2022-04-06T19:48:14.770Z"
   },
   {
    "duration": 355,
    "start_time": "2022-04-06T19:48:14.788Z"
   },
   {
    "duration": 581,
    "start_time": "2022-04-06T19:48:15.147Z"
   },
   {
    "duration": 30,
    "start_time": "2022-04-06T19:48:15.730Z"
   },
   {
    "duration": 11,
    "start_time": "2022-04-06T19:48:15.762Z"
   },
   {
    "duration": 1241,
    "start_time": "2022-04-06T19:48:15.775Z"
   },
   {
    "duration": 1836,
    "start_time": "2022-04-06T19:48:17.018Z"
   },
   {
    "duration": 18,
    "start_time": "2022-04-06T19:48:18.856Z"
   },
   {
    "duration": 1614,
    "start_time": "2022-04-06T19:48:18.876Z"
   },
   {
    "duration": 826,
    "start_time": "2022-04-06T19:48:20.492Z"
   },
   {
    "duration": 32,
    "start_time": "2022-04-06T19:48:21.321Z"
   },
   {
    "duration": 49,
    "start_time": "2022-04-06T23:11:01.086Z"
   },
   {
    "duration": 1691,
    "start_time": "2022-04-06T23:11:12.596Z"
   },
   {
    "duration": 17,
    "start_time": "2022-04-06T23:11:14.289Z"
   },
   {
    "duration": 3,
    "start_time": "2022-04-06T23:11:14.308Z"
   },
   {
    "duration": 37,
    "start_time": "2022-04-06T23:11:14.313Z"
   },
   {
    "duration": 4,
    "start_time": "2022-04-06T23:11:14.352Z"
   },
   {
    "duration": 42,
    "start_time": "2022-04-06T23:11:14.358Z"
   },
   {
    "duration": 38,
    "start_time": "2022-04-06T23:11:14.401Z"
   },
   {
    "duration": 6,
    "start_time": "2022-04-06T23:11:14.440Z"
   },
   {
    "duration": 2744,
    "start_time": "2022-04-06T23:11:14.447Z"
   },
   {
    "duration": 904,
    "start_time": "2022-04-06T23:11:17.194Z"
   },
   {
    "duration": 57,
    "start_time": "2022-04-06T23:11:18.100Z"
   },
   {
    "duration": 1368,
    "start_time": "2022-04-06T23:11:18.158Z"
   },
   {
    "duration": 6,
    "start_time": "2022-04-06T23:11:19.528Z"
   },
   {
    "duration": 10,
    "start_time": "2022-04-06T23:11:19.536Z"
   },
   {
    "duration": 96,
    "start_time": "2022-04-06T23:11:19.548Z"
   },
   {
    "duration": 537,
    "start_time": "2022-04-06T23:11:19.647Z"
   },
   {
    "duration": 16,
    "start_time": "2022-04-06T23:11:20.185Z"
   },
   {
    "duration": 7,
    "start_time": "2022-04-06T23:11:20.203Z"
   },
   {
    "duration": 942,
    "start_time": "2022-04-06T23:11:20.211Z"
   },
   {
    "duration": 1486,
    "start_time": "2022-04-06T23:11:21.155Z"
   },
   {
    "duration": 13,
    "start_time": "2022-04-06T23:11:22.643Z"
   },
   {
    "duration": 1065,
    "start_time": "2022-04-06T23:11:22.657Z"
   },
   {
    "duration": 478,
    "start_time": "2022-04-06T23:11:23.724Z"
   },
   {
    "duration": 15,
    "start_time": "2022-04-06T23:11:24.204Z"
   },
   {
    "duration": 1529,
    "start_time": "2022-04-06T23:24:31.011Z"
   },
   {
    "duration": 22,
    "start_time": "2022-04-06T23:24:32.542Z"
   },
   {
    "duration": 4,
    "start_time": "2022-04-06T23:24:32.565Z"
   },
   {
    "duration": 36,
    "start_time": "2022-04-06T23:24:32.571Z"
   },
   {
    "duration": 5,
    "start_time": "2022-04-06T23:24:32.609Z"
   },
   {
    "duration": 39,
    "start_time": "2022-04-06T23:24:32.637Z"
   },
   {
    "duration": 11,
    "start_time": "2022-04-06T23:24:32.678Z"
   },
   {
    "duration": 37,
    "start_time": "2022-04-06T23:24:32.690Z"
   },
   {
    "duration": 2677,
    "start_time": "2022-04-06T23:24:32.729Z"
   },
   {
    "duration": 871,
    "start_time": "2022-04-06T23:24:35.410Z"
   },
   {
    "duration": 56,
    "start_time": "2022-04-06T23:24:36.283Z"
   },
   {
    "duration": 1289,
    "start_time": "2022-04-06T23:24:36.341Z"
   },
   {
    "duration": 5,
    "start_time": "2022-04-06T23:24:37.631Z"
   },
   {
    "duration": 8,
    "start_time": "2022-04-06T23:24:37.638Z"
   },
   {
    "duration": 190,
    "start_time": "2022-04-06T23:24:37.648Z"
   },
   {
    "duration": 435,
    "start_time": "2022-04-06T23:24:37.840Z"
   },
   {
    "duration": 16,
    "start_time": "2022-04-06T23:24:38.277Z"
   },
   {
    "duration": 7,
    "start_time": "2022-04-06T23:24:38.294Z"
   },
   {
    "duration": 928,
    "start_time": "2022-04-06T23:24:38.303Z"
   },
   {
    "duration": 1503,
    "start_time": "2022-04-06T23:24:39.237Z"
   },
   {
    "duration": 12,
    "start_time": "2022-04-06T23:24:40.742Z"
   },
   {
    "duration": 1034,
    "start_time": "2022-04-06T23:24:40.756Z"
   },
   {
    "duration": 476,
    "start_time": "2022-04-06T23:24:41.792Z"
   },
   {
    "duration": 16,
    "start_time": "2022-04-06T23:24:42.270Z"
   },
   {
    "duration": 1500,
    "start_time": "2022-04-06T23:37:26.768Z"
   },
   {
    "duration": 17,
    "start_time": "2022-04-06T23:37:28.270Z"
   },
   {
    "duration": 3,
    "start_time": "2022-04-06T23:37:28.289Z"
   },
   {
    "duration": 44,
    "start_time": "2022-04-06T23:37:28.294Z"
   },
   {
    "duration": 4,
    "start_time": "2022-04-06T23:37:28.340Z"
   },
   {
    "duration": 47,
    "start_time": "2022-04-06T23:37:28.345Z"
   },
   {
    "duration": 12,
    "start_time": "2022-04-06T23:37:28.393Z"
   },
   {
    "duration": 5,
    "start_time": "2022-04-06T23:37:28.406Z"
   },
   {
    "duration": 2799,
    "start_time": "2022-04-06T23:37:28.413Z"
   },
   {
    "duration": 914,
    "start_time": "2022-04-06T23:37:31.215Z"
   },
   {
    "duration": 47,
    "start_time": "2022-04-06T23:37:32.137Z"
   },
   {
    "duration": 1320,
    "start_time": "2022-04-06T23:37:32.186Z"
   },
   {
    "duration": 6,
    "start_time": "2022-04-06T23:37:33.507Z"
   },
   {
    "duration": 9,
    "start_time": "2022-04-06T23:37:33.514Z"
   },
   {
    "duration": 118,
    "start_time": "2022-04-06T23:37:33.525Z"
   },
   {
    "duration": 517,
    "start_time": "2022-04-06T23:37:33.646Z"
   },
   {
    "duration": 17,
    "start_time": "2022-04-06T23:37:34.164Z"
   },
   {
    "duration": 8,
    "start_time": "2022-04-06T23:37:34.183Z"
   },
   {
    "duration": 97235,
    "start_time": "2022-04-06T23:37:34.192Z"
   },
   {
    "duration": 1502,
    "start_time": "2022-04-06T23:39:11.437Z"
   },
   {
    "duration": 12,
    "start_time": "2022-04-06T23:39:12.941Z"
   },
   {
    "duration": 934,
    "start_time": "2022-04-06T23:39:12.955Z"
   },
   {
    "duration": 483,
    "start_time": "2022-04-06T23:39:13.891Z"
   },
   {
    "duration": 14,
    "start_time": "2022-04-06T23:39:14.375Z"
   },
   {
    "duration": 1459,
    "start_time": "2022-04-06T23:39:49.472Z"
   },
   {
    "duration": 17,
    "start_time": "2022-04-06T23:39:50.933Z"
   },
   {
    "duration": 3,
    "start_time": "2022-04-06T23:39:50.951Z"
   },
   {
    "duration": 46,
    "start_time": "2022-04-06T23:39:50.956Z"
   },
   {
    "duration": 5,
    "start_time": "2022-04-06T23:39:51.003Z"
   },
   {
    "duration": 52,
    "start_time": "2022-04-06T23:39:51.009Z"
   },
   {
    "duration": 10,
    "start_time": "2022-04-06T23:39:51.063Z"
   },
   {
    "duration": 5,
    "start_time": "2022-04-06T23:39:51.074Z"
   },
   {
    "duration": 2751,
    "start_time": "2022-04-06T23:39:51.080Z"
   },
   {
    "duration": 885,
    "start_time": "2022-04-06T23:39:53.838Z"
   },
   {
    "duration": 53,
    "start_time": "2022-04-06T23:39:54.724Z"
   },
   {
    "duration": 1311,
    "start_time": "2022-04-06T23:39:54.779Z"
   },
   {
    "duration": 5,
    "start_time": "2022-04-06T23:39:56.092Z"
   },
   {
    "duration": 28,
    "start_time": "2022-04-06T23:39:56.098Z"
   },
   {
    "duration": 115,
    "start_time": "2022-04-06T23:39:56.127Z"
   },
   {
    "duration": 522,
    "start_time": "2022-04-06T23:39:56.245Z"
   },
   {
    "duration": 18,
    "start_time": "2022-04-06T23:39:56.768Z"
   },
   {
    "duration": 7,
    "start_time": "2022-04-06T23:39:56.788Z"
   },
   {
    "duration": 951,
    "start_time": "2022-04-06T23:39:56.797Z"
   },
   {
    "duration": 1492,
    "start_time": "2022-04-06T23:39:57.750Z"
   },
   {
    "duration": 12,
    "start_time": "2022-04-06T23:39:59.244Z"
   },
   {
    "duration": 1047,
    "start_time": "2022-04-06T23:39:59.257Z"
   },
   {
    "duration": 489,
    "start_time": "2022-04-06T23:40:00.306Z"
   },
   {
    "duration": 14,
    "start_time": "2022-04-06T23:40:00.797Z"
   },
   {
    "duration": 47,
    "start_time": "2022-04-07T09:30:15.504Z"
   },
   {
    "duration": 5,
    "start_time": "2022-04-07T09:42:54.592Z"
   },
   {
    "duration": 2039,
    "start_time": "2022-04-07T09:42:59.681Z"
   },
   {
    "duration": 23,
    "start_time": "2022-04-07T09:43:01.722Z"
   },
   {
    "duration": 2,
    "start_time": "2022-04-07T09:43:01.747Z"
   },
   {
    "duration": 33,
    "start_time": "2022-04-07T09:43:01.751Z"
   },
   {
    "duration": 16,
    "start_time": "2022-04-07T09:43:01.786Z"
   },
   {
    "duration": 38,
    "start_time": "2022-04-07T09:43:01.803Z"
   },
   {
    "duration": 9,
    "start_time": "2022-04-07T09:43:01.843Z"
   },
   {
    "duration": 12,
    "start_time": "2022-04-07T09:43:01.853Z"
   },
   {
    "duration": 3082,
    "start_time": "2022-04-07T09:43:01.866Z"
   },
   {
    "duration": 1006,
    "start_time": "2022-04-07T09:43:04.951Z"
   },
   {
    "duration": 64,
    "start_time": "2022-04-07T09:43:05.959Z"
   },
   {
    "duration": 1553,
    "start_time": "2022-04-07T09:43:06.025Z"
   },
   {
    "duration": 6,
    "start_time": "2022-04-07T09:43:07.580Z"
   },
   {
    "duration": 14,
    "start_time": "2022-04-07T09:43:07.588Z"
   },
   {
    "duration": 200,
    "start_time": "2022-04-07T09:43:07.604Z"
   },
   {
    "duration": 553,
    "start_time": "2022-04-07T09:43:07.807Z"
   },
   {
    "duration": 16,
    "start_time": "2022-04-07T09:43:08.361Z"
   },
   {
    "duration": 123,
    "start_time": "2022-04-07T09:43:08.379Z"
   },
   {
    "duration": 0,
    "start_time": "2022-04-07T09:43:08.503Z"
   },
   {
    "duration": 0,
    "start_time": "2022-04-07T09:43:08.505Z"
   },
   {
    "duration": 0,
    "start_time": "2022-04-07T09:43:08.506Z"
   },
   {
    "duration": 0,
    "start_time": "2022-04-07T09:43:08.507Z"
   },
   {
    "duration": 0,
    "start_time": "2022-04-07T09:43:08.508Z"
   },
   {
    "duration": 0,
    "start_time": "2022-04-07T09:43:08.510Z"
   },
   {
    "duration": 0,
    "start_time": "2022-04-07T09:43:08.511Z"
   },
   {
    "duration": 9,
    "start_time": "2022-04-07T09:44:25.125Z"
   },
   {
    "duration": 14,
    "start_time": "2022-04-07T09:45:33.269Z"
   },
   {
    "duration": 1817,
    "start_time": "2022-04-07T09:45:43.715Z"
   },
   {
    "duration": 24,
    "start_time": "2022-04-07T09:45:45.534Z"
   },
   {
    "duration": 3,
    "start_time": "2022-04-07T09:45:45.559Z"
   },
   {
    "duration": 60,
    "start_time": "2022-04-07T09:45:45.564Z"
   },
   {
    "duration": 16,
    "start_time": "2022-04-07T09:45:45.626Z"
   },
   {
    "duration": 65,
    "start_time": "2022-04-07T09:45:45.644Z"
   },
   {
    "duration": 11,
    "start_time": "2022-04-07T09:45:45.711Z"
   },
   {
    "duration": 20,
    "start_time": "2022-04-07T09:45:45.724Z"
   },
   {
    "duration": 2789,
    "start_time": "2022-04-07T09:45:45.745Z"
   },
   {
    "duration": 843,
    "start_time": "2022-04-07T09:45:48.537Z"
   },
   {
    "duration": 51,
    "start_time": "2022-04-07T09:45:49.381Z"
   },
   {
    "duration": 1396,
    "start_time": "2022-04-07T09:45:49.434Z"
   },
   {
    "duration": 6,
    "start_time": "2022-04-07T09:45:50.831Z"
   },
   {
    "duration": 7,
    "start_time": "2022-04-07T09:45:50.838Z"
   },
   {
    "duration": 159,
    "start_time": "2022-04-07T09:45:50.846Z"
   },
   {
    "duration": 521,
    "start_time": "2022-04-07T09:45:51.008Z"
   },
   {
    "duration": 16,
    "start_time": "2022-04-07T09:45:51.530Z"
   },
   {
    "duration": 118,
    "start_time": "2022-04-07T09:45:51.548Z"
   },
   {
    "duration": 0,
    "start_time": "2022-04-07T09:45:51.669Z"
   },
   {
    "duration": 0,
    "start_time": "2022-04-07T09:45:51.670Z"
   },
   {
    "duration": 0,
    "start_time": "2022-04-07T09:45:51.671Z"
   },
   {
    "duration": 1,
    "start_time": "2022-04-07T09:45:51.672Z"
   },
   {
    "duration": 0,
    "start_time": "2022-04-07T09:45:51.674Z"
   },
   {
    "duration": 0,
    "start_time": "2022-04-07T09:45:51.676Z"
   },
   {
    "duration": 0,
    "start_time": "2022-04-07T09:45:51.677Z"
   },
   {
    "duration": 1787,
    "start_time": "2022-04-07T09:47:20.976Z"
   },
   {
    "duration": 23,
    "start_time": "2022-04-07T09:47:22.765Z"
   },
   {
    "duration": 3,
    "start_time": "2022-04-07T09:47:22.790Z"
   },
   {
    "duration": 37,
    "start_time": "2022-04-07T09:47:22.795Z"
   },
   {
    "duration": 5,
    "start_time": "2022-04-07T09:47:22.833Z"
   },
   {
    "duration": 61,
    "start_time": "2022-04-07T09:47:22.840Z"
   },
   {
    "duration": 11,
    "start_time": "2022-04-07T09:47:22.903Z"
   },
   {
    "duration": 6,
    "start_time": "2022-04-07T09:47:22.915Z"
   },
   {
    "duration": 2751,
    "start_time": "2022-04-07T09:47:22.922Z"
   },
   {
    "duration": 849,
    "start_time": "2022-04-07T09:47:25.677Z"
   },
   {
    "duration": 49,
    "start_time": "2022-04-07T09:47:26.528Z"
   },
   {
    "duration": 1299,
    "start_time": "2022-04-07T09:47:26.579Z"
   },
   {
    "duration": 6,
    "start_time": "2022-04-07T09:47:27.880Z"
   },
   {
    "duration": 14,
    "start_time": "2022-04-07T09:47:27.888Z"
   },
   {
    "duration": 107,
    "start_time": "2022-04-07T09:47:27.904Z"
   },
   {
    "duration": 534,
    "start_time": "2022-04-07T09:47:28.013Z"
   },
   {
    "duration": 18,
    "start_time": "2022-04-07T09:47:28.549Z"
   },
   {
    "duration": 7,
    "start_time": "2022-04-07T09:47:28.568Z"
   },
   {
    "duration": 942,
    "start_time": "2022-04-07T09:47:28.577Z"
   },
   {
    "duration": 1290,
    "start_time": "2022-04-07T09:47:29.521Z"
   },
   {
    "duration": 97,
    "start_time": "2022-04-07T09:47:30.814Z"
   },
   {
    "duration": 977,
    "start_time": "2022-04-07T09:47:30.913Z"
   },
   {
    "duration": 460,
    "start_time": "2022-04-07T09:47:31.891Z"
   },
   {
    "duration": 14,
    "start_time": "2022-04-07T09:47:32.353Z"
   },
   {
    "duration": 3022,
    "start_time": "2022-04-08T08:30:01.164Z"
   },
   {
    "duration": 31,
    "start_time": "2022-04-08T08:30:04.190Z"
   },
   {
    "duration": 5,
    "start_time": "2022-04-08T08:30:04.223Z"
   },
   {
    "duration": 160,
    "start_time": "2022-04-08T08:30:04.231Z"
   },
   {
    "duration": 7,
    "start_time": "2022-04-08T08:30:04.394Z"
   },
   {
    "duration": 117,
    "start_time": "2022-04-08T08:30:04.403Z"
   },
   {
    "duration": 29,
    "start_time": "2022-04-08T08:30:04.523Z"
   },
   {
    "duration": 21,
    "start_time": "2022-04-08T08:30:04.554Z"
   },
   {
    "duration": 5317,
    "start_time": "2022-04-08T08:30:04.577Z"
   },
   {
    "duration": 1568,
    "start_time": "2022-04-08T08:30:09.898Z"
   },
   {
    "duration": 106,
    "start_time": "2022-04-08T08:30:11.470Z"
   },
   {
    "duration": 2277,
    "start_time": "2022-04-08T08:30:11.579Z"
   },
   {
    "duration": 9,
    "start_time": "2022-04-08T08:30:13.859Z"
   },
   {
    "duration": 13,
    "start_time": "2022-04-08T08:30:13.871Z"
   },
   {
    "duration": 275,
    "start_time": "2022-04-08T08:30:13.886Z"
   },
   {
    "duration": 728,
    "start_time": "2022-04-08T08:30:14.166Z"
   },
   {
    "duration": 27,
    "start_time": "2022-04-08T08:30:14.897Z"
   },
   {
    "duration": 27,
    "start_time": "2022-04-08T08:30:14.927Z"
   },
   {
    "duration": 1373,
    "start_time": "2022-04-08T08:30:14.957Z"
   },
   {
    "duration": 1835,
    "start_time": "2022-04-08T08:30:16.332Z"
   },
   {
    "duration": 23,
    "start_time": "2022-04-08T08:30:18.169Z"
   },
   {
    "duration": 1876,
    "start_time": "2022-04-08T08:30:18.194Z"
   },
   {
    "duration": 1013,
    "start_time": "2022-04-08T08:30:20.072Z"
   },
   {
    "duration": 21,
    "start_time": "2022-04-08T08:30:21.088Z"
   },
   {
    "duration": 2725,
    "start_time": "2022-04-08T11:18:43.650Z"
   },
   {
    "duration": 137,
    "start_time": "2022-04-08T11:18:46.378Z"
   },
   {
    "duration": 6,
    "start_time": "2022-04-08T11:18:46.517Z"
   },
   {
    "duration": 57,
    "start_time": "2022-04-08T11:18:46.527Z"
   },
   {
    "duration": 6,
    "start_time": "2022-04-08T11:18:46.587Z"
   },
   {
    "duration": 97,
    "start_time": "2022-04-08T11:18:46.595Z"
   },
   {
    "duration": 17,
    "start_time": "2022-04-08T11:18:46.695Z"
   },
   {
    "duration": 34,
    "start_time": "2022-04-08T11:18:46.714Z"
   },
   {
    "duration": 4859,
    "start_time": "2022-04-08T11:18:46.753Z"
   },
   {
    "duration": 1483,
    "start_time": "2022-04-08T11:18:51.618Z"
   },
   {
    "duration": 107,
    "start_time": "2022-04-08T11:18:53.104Z"
   },
   {
    "duration": 2535,
    "start_time": "2022-04-08T11:18:53.214Z"
   },
   {
    "duration": 10,
    "start_time": "2022-04-08T11:18:55.751Z"
   },
   {
    "duration": 14,
    "start_time": "2022-04-08T11:18:55.768Z"
   },
   {
    "duration": 294,
    "start_time": "2022-04-08T11:18:55.784Z"
   },
   {
    "duration": 665,
    "start_time": "2022-04-08T11:18:56.082Z"
   },
   {
    "duration": 28,
    "start_time": "2022-04-08T11:18:56.749Z"
   },
   {
    "duration": 18,
    "start_time": "2022-04-08T11:18:56.780Z"
   },
   {
    "duration": 1381,
    "start_time": "2022-04-08T11:18:56.800Z"
   },
   {
    "duration": 1797,
    "start_time": "2022-04-08T11:18:58.184Z"
   },
   {
    "duration": 21,
    "start_time": "2022-04-08T11:18:59.985Z"
   },
   {
    "duration": 1815,
    "start_time": "2022-04-08T11:19:00.009Z"
   },
   {
    "duration": 888,
    "start_time": "2022-04-08T11:19:01.827Z"
   },
   {
    "duration": 43,
    "start_time": "2022-04-08T11:19:02.718Z"
   },
   {
    "duration": 212,
    "start_time": "2022-04-08T11:19:02.766Z"
   },
   {
    "duration": 2434,
    "start_time": "2022-04-08T11:19:57.922Z"
   },
   {
    "duration": 26,
    "start_time": "2022-04-08T11:20:00.361Z"
   },
   {
    "duration": 26,
    "start_time": "2022-04-08T11:20:00.389Z"
   },
   {
    "duration": 2179,
    "start_time": "2022-04-08T11:24:33.875Z"
   },
   {
    "duration": 25,
    "start_time": "2022-04-08T11:24:36.057Z"
   },
   {
    "duration": 4,
    "start_time": "2022-04-08T11:24:36.085Z"
   },
   {
    "duration": 70,
    "start_time": "2022-04-08T11:24:36.091Z"
   },
   {
    "duration": 5,
    "start_time": "2022-04-08T11:24:36.163Z"
   },
   {
    "duration": 77,
    "start_time": "2022-04-08T11:24:36.170Z"
   },
   {
    "duration": 19,
    "start_time": "2022-04-08T11:24:36.248Z"
   },
   {
    "duration": 9,
    "start_time": "2022-04-08T11:24:36.270Z"
   },
   {
    "duration": 4565,
    "start_time": "2022-04-08T11:24:36.281Z"
   },
   {
    "duration": 1495,
    "start_time": "2022-04-08T11:24:40.851Z"
   },
   {
    "duration": 79,
    "start_time": "2022-04-08T11:24:42.349Z"
   },
   {
    "duration": 2166,
    "start_time": "2022-04-08T11:24:42.430Z"
   },
   {
    "duration": 9,
    "start_time": "2022-04-08T11:24:44.599Z"
   },
   {
    "duration": 10,
    "start_time": "2022-04-08T11:24:44.611Z"
   },
   {
    "duration": 143,
    "start_time": "2022-04-08T11:24:44.623Z"
   },
   {
    "duration": 633,
    "start_time": "2022-04-08T11:24:44.848Z"
   },
   {
    "duration": 29,
    "start_time": "2022-04-08T11:24:45.483Z"
   },
   {
    "duration": 32,
    "start_time": "2022-04-08T11:24:45.515Z"
   },
   {
    "duration": 1369,
    "start_time": "2022-04-08T11:24:45.553Z"
   },
   {
    "duration": 1529,
    "start_time": "2022-04-08T11:24:46.925Z"
   },
   {
    "duration": 18,
    "start_time": "2022-04-08T11:24:48.458Z"
   },
   {
    "duration": 1672,
    "start_time": "2022-04-08T11:24:48.479Z"
   },
   {
    "duration": 861,
    "start_time": "2022-04-08T11:24:50.154Z"
   },
   {
    "duration": 32,
    "start_time": "2022-04-08T11:24:51.017Z"
   },
   {
    "duration": 16,
    "start_time": "2022-04-08T12:16:20.869Z"
   },
   {
    "duration": 9,
    "start_time": "2022-04-08T12:17:51.280Z"
   },
   {
    "duration": 22,
    "start_time": "2022-04-08T12:18:07.733Z"
   },
   {
    "duration": 21,
    "start_time": "2022-04-08T12:19:42.414Z"
   },
   {
    "duration": 20,
    "start_time": "2022-04-08T12:19:59.862Z"
   },
   {
    "duration": 2293,
    "start_time": "2022-04-08T15:01:18.889Z"
   },
   {
    "duration": 27,
    "start_time": "2022-04-08T15:01:21.185Z"
   },
   {
    "duration": 3,
    "start_time": "2022-04-08T15:01:21.217Z"
   },
   {
    "duration": 60,
    "start_time": "2022-04-08T15:01:21.223Z"
   },
   {
    "duration": 6,
    "start_time": "2022-04-08T15:01:21.286Z"
   },
   {
    "duration": 111,
    "start_time": "2022-04-08T15:01:21.294Z"
   },
   {
    "duration": 20,
    "start_time": "2022-04-08T15:01:21.407Z"
   },
   {
    "duration": 8,
    "start_time": "2022-04-08T15:01:21.443Z"
   },
   {
    "duration": 6271,
    "start_time": "2022-04-08T15:01:21.454Z"
   },
   {
    "duration": 1393,
    "start_time": "2022-04-08T15:01:27.730Z"
   },
   {
    "duration": 83,
    "start_time": "2022-04-08T15:01:29.126Z"
   },
   {
    "duration": 2128,
    "start_time": "2022-04-08T15:01:29.212Z"
   },
   {
    "duration": 7,
    "start_time": "2022-04-08T15:01:31.342Z"
   },
   {
    "duration": 16,
    "start_time": "2022-04-08T15:01:31.351Z"
   },
   {
    "duration": 676,
    "start_time": "2022-04-08T15:01:31.369Z"
   },
   {
    "duration": 934,
    "start_time": "2022-04-08T15:01:32.050Z"
   },
   {
    "duration": 37,
    "start_time": "2022-04-08T15:01:32.988Z"
   },
   {
    "duration": 14,
    "start_time": "2022-04-08T15:01:33.042Z"
   },
   {
    "duration": 1463,
    "start_time": "2022-04-08T15:01:33.059Z"
   },
   {
    "duration": 1837,
    "start_time": "2022-04-08T15:01:34.524Z"
   },
   {
    "duration": 18,
    "start_time": "2022-04-08T15:01:36.364Z"
   },
   {
    "duration": 1654,
    "start_time": "2022-04-08T15:01:36.384Z"
   },
   {
    "duration": 826,
    "start_time": "2022-04-08T15:01:38.044Z"
   },
   {
    "duration": 21,
    "start_time": "2022-04-08T15:01:38.873Z"
   },
   {
    "duration": 842,
    "start_time": "2022-04-08T15:48:24.423Z"
   },
   {
    "duration": 2145,
    "start_time": "2022-04-08T15:48:35.670Z"
   },
   {
    "duration": 28,
    "start_time": "2022-04-08T15:48:37.818Z"
   },
   {
    "duration": 4,
    "start_time": "2022-04-08T15:48:37.848Z"
   },
   {
    "duration": 93,
    "start_time": "2022-04-08T15:48:37.857Z"
   },
   {
    "duration": 7,
    "start_time": "2022-04-08T15:48:37.952Z"
   },
   {
    "duration": 82,
    "start_time": "2022-04-08T15:48:37.961Z"
   },
   {
    "duration": 18,
    "start_time": "2022-04-08T15:48:38.045Z"
   },
   {
    "duration": 9,
    "start_time": "2022-04-08T15:48:38.065Z"
   },
   {
    "duration": 4552,
    "start_time": "2022-04-08T15:48:38.077Z"
   },
   {
    "duration": 1367,
    "start_time": "2022-04-08T15:48:42.643Z"
   },
   {
    "duration": 87,
    "start_time": "2022-04-08T15:48:44.012Z"
   },
   {
    "duration": 2099,
    "start_time": "2022-04-08T15:48:44.101Z"
   },
   {
    "duration": 7,
    "start_time": "2022-04-08T15:48:46.202Z"
   },
   {
    "duration": 10,
    "start_time": "2022-04-08T15:48:46.211Z"
   },
   {
    "duration": 130,
    "start_time": "2022-04-08T15:48:46.223Z"
   },
   {
    "duration": 591,
    "start_time": "2022-04-08T15:48:46.446Z"
   },
   {
    "duration": 27,
    "start_time": "2022-04-08T15:48:47.039Z"
   },
   {
    "duration": 11,
    "start_time": "2022-04-08T15:48:47.068Z"
   },
   {
    "duration": 1460,
    "start_time": "2022-04-08T15:48:47.082Z"
   },
   {
    "duration": 1909,
    "start_time": "2022-04-08T15:48:48.544Z"
   },
   {
    "duration": 19,
    "start_time": "2022-04-08T15:48:50.455Z"
   },
   {
    "duration": 1653,
    "start_time": "2022-04-08T15:48:50.476Z"
   },
   {
    "duration": 830,
    "start_time": "2022-04-08T15:48:52.131Z"
   },
   {
    "duration": 20,
    "start_time": "2022-04-08T15:48:52.963Z"
   },
   {
    "duration": 814,
    "start_time": "2022-04-08T15:49:06.096Z"
   },
   {
    "duration": 2330,
    "start_time": "2022-04-08T15:49:12.857Z"
   },
   {
    "duration": 29,
    "start_time": "2022-04-08T15:49:15.190Z"
   },
   {
    "duration": 4,
    "start_time": "2022-04-08T15:49:15.221Z"
   },
   {
    "duration": 60,
    "start_time": "2022-04-08T15:49:15.228Z"
   },
   {
    "duration": 6,
    "start_time": "2022-04-08T15:49:15.290Z"
   },
   {
    "duration": 91,
    "start_time": "2022-04-08T15:49:15.298Z"
   },
   {
    "duration": 15,
    "start_time": "2022-04-08T15:49:15.392Z"
   },
   {
    "duration": 18,
    "start_time": "2022-04-08T15:49:15.409Z"
   },
   {
    "duration": 4941,
    "start_time": "2022-04-08T15:49:15.442Z"
   },
   {
    "duration": 1729,
    "start_time": "2022-04-08T15:49:20.388Z"
   },
   {
    "duration": 90,
    "start_time": "2022-04-08T15:49:22.120Z"
   },
   {
    "duration": 2220,
    "start_time": "2022-04-08T15:49:22.212Z"
   },
   {
    "duration": 8,
    "start_time": "2022-04-08T15:49:24.434Z"
   },
   {
    "duration": 33,
    "start_time": "2022-04-08T15:49:24.445Z"
   },
   {
    "duration": 170,
    "start_time": "2022-04-08T15:49:24.480Z"
   },
   {
    "duration": 730,
    "start_time": "2022-04-08T15:49:24.653Z"
   },
   {
    "duration": 30,
    "start_time": "2022-04-08T15:49:25.385Z"
   },
   {
    "duration": 36,
    "start_time": "2022-04-08T15:49:25.417Z"
   },
   {
    "duration": 1494,
    "start_time": "2022-04-08T15:49:25.456Z"
   },
   {
    "duration": 1900,
    "start_time": "2022-04-08T15:49:26.952Z"
   },
   {
    "duration": 19,
    "start_time": "2022-04-08T15:49:28.854Z"
   },
   {
    "duration": 1618,
    "start_time": "2022-04-08T15:49:28.875Z"
   },
   {
    "duration": 860,
    "start_time": "2022-04-08T15:49:30.495Z"
   },
   {
    "duration": 21,
    "start_time": "2022-04-08T15:49:31.358Z"
   },
   {
    "duration": 410,
    "start_time": "2022-04-08T15:50:29.414Z"
   },
   {
    "duration": 2191,
    "start_time": "2022-04-08T15:50:46.707Z"
   },
   {
    "duration": 27,
    "start_time": "2022-04-08T15:50:48.900Z"
   },
   {
    "duration": 4,
    "start_time": "2022-04-08T15:50:48.930Z"
   },
   {
    "duration": 63,
    "start_time": "2022-04-08T15:50:48.937Z"
   },
   {
    "duration": 7,
    "start_time": "2022-04-08T15:50:49.002Z"
   },
   {
    "duration": 84,
    "start_time": "2022-04-08T15:50:49.012Z"
   },
   {
    "duration": 18,
    "start_time": "2022-04-08T15:50:49.099Z"
   },
   {
    "duration": 28,
    "start_time": "2022-04-08T15:50:49.120Z"
   },
   {
    "duration": 4417,
    "start_time": "2022-04-08T15:50:49.150Z"
   },
   {
    "duration": 1351,
    "start_time": "2022-04-08T15:50:53.571Z"
   },
   {
    "duration": 84,
    "start_time": "2022-04-08T15:50:54.924Z"
   },
   {
    "duration": 1993,
    "start_time": "2022-04-08T15:50:55.011Z"
   },
   {
    "duration": 8,
    "start_time": "2022-04-08T15:50:57.006Z"
   },
   {
    "duration": 17,
    "start_time": "2022-04-08T15:50:57.017Z"
   },
   {
    "duration": 207,
    "start_time": "2022-04-08T15:50:57.037Z"
   },
   {
    "duration": 585,
    "start_time": "2022-04-08T15:50:57.248Z"
   },
   {
    "duration": 29,
    "start_time": "2022-04-08T15:50:57.835Z"
   },
   {
    "duration": 38,
    "start_time": "2022-04-08T15:50:57.866Z"
   },
   {
    "duration": 1316,
    "start_time": "2022-04-08T15:50:57.906Z"
   },
   {
    "duration": 1927,
    "start_time": "2022-04-08T15:50:59.224Z"
   },
   {
    "duration": 17,
    "start_time": "2022-04-08T15:51:01.154Z"
   },
   {
    "duration": 1713,
    "start_time": "2022-04-08T15:51:01.173Z"
   },
   {
    "duration": 821,
    "start_time": "2022-04-08T15:51:02.889Z"
   },
   {
    "duration": 32,
    "start_time": "2022-04-08T15:51:03.713Z"
   },
   {
    "duration": 164,
    "start_time": "2022-04-08T19:32:44.931Z"
   },
   {
    "duration": 52,
    "start_time": "2022-04-21T16:43:41.158Z"
   },
   {
    "duration": 7,
    "start_time": "2022-04-21T16:43:48.233Z"
   },
   {
    "duration": 7,
    "start_time": "2022-04-21T16:45:29.568Z"
   },
   {
    "duration": 2224,
    "start_time": "2022-04-23T22:41:08.636Z"
   },
   {
    "duration": 27,
    "start_time": "2022-04-23T22:41:10.863Z"
   },
   {
    "duration": 4,
    "start_time": "2022-04-23T22:41:10.893Z"
   },
   {
    "duration": 51,
    "start_time": "2022-04-23T22:41:10.900Z"
   },
   {
    "duration": 42,
    "start_time": "2022-04-23T22:41:10.953Z"
   },
   {
    "duration": 60,
    "start_time": "2022-04-23T22:41:10.997Z"
   },
   {
    "duration": 38,
    "start_time": "2022-04-23T22:41:11.059Z"
   },
   {
    "duration": 10,
    "start_time": "2022-04-23T22:41:11.100Z"
   },
   {
    "duration": 5597,
    "start_time": "2022-04-23T22:41:11.114Z"
   },
   {
    "duration": 1503,
    "start_time": "2022-04-23T22:41:16.715Z"
   },
   {
    "duration": 100,
    "start_time": "2022-04-23T22:41:18.220Z"
   },
   {
    "duration": 2427,
    "start_time": "2022-04-23T22:41:18.323Z"
   },
   {
    "duration": 10,
    "start_time": "2022-04-23T22:41:20.753Z"
   },
   {
    "duration": 50,
    "start_time": "2022-04-23T22:41:20.765Z"
   },
   {
    "duration": 389,
    "start_time": "2022-04-23T22:41:20.817Z"
   },
   {
    "duration": 721,
    "start_time": "2022-04-23T22:41:21.208Z"
   },
   {
    "duration": 25,
    "start_time": "2022-04-23T22:41:21.932Z"
   },
   {
    "duration": 36,
    "start_time": "2022-04-23T22:41:21.960Z"
   },
   {
    "duration": 1700,
    "start_time": "2022-04-23T22:41:21.999Z"
   },
   {
    "duration": 1194,
    "start_time": "2022-04-23T22:41:23.705Z"
   },
   {
    "duration": 20,
    "start_time": "2022-04-23T22:41:24.901Z"
   },
   {
    "duration": 1901,
    "start_time": "2022-04-23T22:41:24.924Z"
   },
   {
    "duration": 1393,
    "start_time": "2022-04-23T22:41:26.828Z"
   },
   {
    "duration": 21,
    "start_time": "2022-04-23T22:41:28.225Z"
   },
   {
    "duration": 1550,
    "start_time": "2022-06-27T09:05:21.814Z"
   },
   {
    "duration": 41,
    "start_time": "2022-06-27T09:05:23.366Z"
   },
   {
    "duration": 3,
    "start_time": "2022-06-27T09:05:23.409Z"
   },
   {
    "duration": 47,
    "start_time": "2022-06-27T09:05:23.414Z"
   },
   {
    "duration": 9,
    "start_time": "2022-06-27T09:05:23.463Z"
   },
   {
    "duration": 61,
    "start_time": "2022-06-27T09:05:23.474Z"
   },
   {
    "duration": 10,
    "start_time": "2022-06-27T09:05:23.537Z"
   },
   {
    "duration": 22,
    "start_time": "2022-06-27T09:05:23.548Z"
   },
   {
    "duration": 2934,
    "start_time": "2022-06-27T09:05:23.571Z"
   },
   {
    "duration": 977,
    "start_time": "2022-06-27T09:05:26.507Z"
   },
   {
    "duration": 61,
    "start_time": "2022-06-27T09:05:27.486Z"
   },
   {
    "duration": 1507,
    "start_time": "2022-06-27T09:05:27.549Z"
   },
   {
    "duration": 5,
    "start_time": "2022-06-27T09:05:29.057Z"
   },
   {
    "duration": 11,
    "start_time": "2022-06-27T09:05:29.064Z"
   },
   {
    "duration": 355,
    "start_time": "2022-06-27T09:05:29.077Z"
   },
   {
    "duration": 575,
    "start_time": "2022-06-27T09:05:29.435Z"
   },
   {
    "duration": 26,
    "start_time": "2022-06-27T09:05:30.012Z"
   },
   {
    "duration": 15,
    "start_time": "2022-06-27T09:05:30.040Z"
   },
   {
    "duration": 910,
    "start_time": "2022-06-27T09:05:30.057Z"
   },
   {
    "duration": 1458,
    "start_time": "2022-06-27T09:05:30.969Z"
   },
   {
    "duration": 17,
    "start_time": "2022-06-27T09:05:32.429Z"
   },
   {
    "duration": 1139,
    "start_time": "2022-06-27T09:05:32.448Z"
   },
   {
    "duration": 531,
    "start_time": "2022-06-27T09:05:33.589Z"
   },
   {
    "duration": 14,
    "start_time": "2022-06-27T09:05:34.122Z"
   }
  ],
  "kernelspec": {
   "display_name": "Python 3 (ipykernel)",
   "language": "python",
   "name": "python3"
  },
  "language_info": {
   "codemirror_mode": {
    "name": "ipython",
    "version": 3
   },
   "file_extension": ".py",
   "mimetype": "text/x-python",
   "name": "python",
   "nbconvert_exporter": "python",
   "pygments_lexer": "ipython3",
   "version": "3.9.7"
  },
  "toc": {
   "base_numbering": 1,
   "nav_menu": {},
   "number_sections": true,
   "sideBar": true,
   "skip_h1_title": true,
   "title_cell": "Содержание",
   "title_sidebar": "Contents",
   "toc_cell": true,
   "toc_position": {
    "height": "calc(100% - 180px)",
    "left": "10px",
    "top": "150px",
    "width": "366.391px"
   },
   "toc_section_display": true,
   "toc_window_display": false
  }
 },
 "nbformat": 4,
 "nbformat_minor": 2
}
